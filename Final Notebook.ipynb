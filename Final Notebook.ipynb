{
 "cells": [
  {
   "cell_type": "markdown",
   "metadata": {},
   "source": [
    "# GOURMET GURU RESTAURANT RECOMMENDER SYSTEM\n",
    "***\n",
    "\n",
    "## 1. BUSINESS UNDERSTANDING\n",
    "***\n",
    "\n",
    "### 1.1 Overview\n",
    "\n",
    "The U.S. dining industry is rich and varied, yet locals and tourists often find it difficult to discover restaurants that meet their specific preferences. The abundance of options, without a centralized platform for personalized recommendations, complicates the decision-making process. Our system addresses this by offering tailored dining suggestions, enhancing user experience and supporting local businesses.\n",
    "\n",
    "### 1.2 Stakeholder Definition\n",
    "\n",
    "- The main stakeholder in this project is Gourmet Guru, a start up aiming to venture into the restaurant recommendation business.\n",
    "\n",
    "They have contracted us, Digital Delight to come up with a solution.\n",
    "\n",
    "### 1.3 Problem Statement\n",
    "As the dining industry expands, consumers are overwhelmed by the numerous restaurant options, making it difficult to find establishments that match their preferences. The absence of a centralized platform for personalized recommendations complicates decision-making, especially for those in unfamiliar areas. Existing solutions are too generalized and lack real-time, location-based suggestions. As the dining scene diversifies, there's an urgent need for an intelligent recommender system to provide tailored, real-time dining suggestions, enhancing the overall experience.\n",
    "\n",
    "### 1.4 Objectives\n",
    "\n",
    "#### 1.4.1 Main Objective\n",
    "\n",
    "Develop a user-friendly restaurant recommender system that provides personalized, real-time suggestions based on user location and cuisine preferences. The system will utilize various data sources to ensure accurate and relevant recommendations.\n",
    "\n",
    "#### 1.4.2 Specific Objectives\n",
    "\n",
    "- Identifying and evaluating the key attributes and factors that significantly influence restaurant ratings and customer preferences.\n",
    "- To develop a content based recommendation system that can generate personalized restaurant recommendation based on restaurant attributes.\n",
    "- To develop a collaborative based recommendation system that would generate recommendations based on prior restaurant ratings.\n",
    "- Create an intuitive, responsive web and mobile application that recommends based on content or collaborative filtering.\n",
    "\n",
    "### 1.5 Metrics of Success\n",
    "\n",
    "Metrics of Success will include:\n",
    "\n",
    "- RMSE : This will  measure the average magnitude of the errors between predicted values and actual values, providing an indication of how well a model performs. \n",
    "\n",
    "- Recommendation Accuracy: Evaluated through user feedback and satisfaction scores, focusing on how well the recommendations match user preferences."
   ]
  },
  {
   "cell_type": "markdown",
   "metadata": {},
   "source": [
    "***\n",
    "## 2. DATA UNDERSTANDING\n",
    "***\n",
    "The data used in this project was sourced by the stakeholders from [YELP](https://www.yelp.com/dataset/download). It is a collective dataset of various businesses and user information gotten from Yelp's website. It contains 6,990,280 reviews, 150,346 businesses, 200,100 pictures across 11 metropolitan areas and 19 states. \n",
    "The original data was filtered by concentrating only on restaurant businesses and on reviews made within the year and split into two datasets as shown \n",
    "[here](Preliminary_notebook.ipynb).\n",
    "\n",
    "The two datasets have information on \n",
    "> 1. Restaurant Informational Data\n",
    "> 2. User Review Data\n",
    "\n",
    "Further to the Data Understanding, the following checks on the data were performed\n",
    "\n",
    "> i. Consistency Checks\n",
    "\n",
    "> ii. Completeness Checks\n",
    "\n",
    "> iii. Validity Checks\n",
    "\n",
    "Data Understanding on the two datasets are as follows:"
   ]
  },
  {
   "cell_type": "code",
   "execution_count": 1,
   "metadata": {},
   "outputs": [],
   "source": [
    "# importing libraries\n",
    "import os\n",
    "import re\n",
    "import sys\n",
    "import pickle\n",
    "import numpy as np\n",
    "import pandas as pd\n",
    "from classes.understanding import DataLoader, DataChecks, DataInfo\n",
    "from classes.EDA import UnivariateAnalysis, BivariateAnalysis, ComprehensiveEDA, UserEDA\n",
    "\n",
    "# Suppressing warnings\n",
    "import warnings\n",
    "warnings.filterwarnings('ignore')\n",
    "\n",
    "# Text processing \n",
    "from sklearn.feature_extraction.text import TfidfVectorizer\n",
    "\n",
    "# Machine learning and model selection\n",
    "from sklearn.metrics.pairwise import cosine_similarity\n",
    "from sklearn.model_selection import train_test_split\n",
    "from sklearn.preprocessing import LabelEncoder\n",
    "from surprise import Dataset, Reader, SVD, accuracy, NormalPredictor,NMF\n",
    "from surprise.model_selection import GridSearchCV, cross_validate, train_test_split \n",
    "\n",
    "# Deep learning with TensorFlow\n",
    "from tensorflow.keras import models, layers, regularizers, metrics\n"
   ]
  },
  {
   "cell_type": "markdown",
   "metadata": {},
   "source": [
    "#### i) Restaurant Informational Data"
   ]
  },
  {
   "cell_type": "code",
   "execution_count": 2,
   "metadata": {},
   "outputs": [],
   "source": [
    "# Instantiate the DataLoader class\n",
    "loader= DataLoader()\n",
    "\n",
    "# Instantiate the DataInfo class\n",
    "summary= DataInfo()"
   ]
  },
  {
   "cell_type": "code",
   "execution_count": 3,
   "metadata": {},
   "outputs": [
    {
     "name": "stdout",
     "output_type": "stream",
     "text": [
      "\n",
      "RESTAURANT DATASET INFORMATION\n",
      "========================================\n",
      "\n",
      "========================================\n",
      "Shape of the dataset : (52286, 14) \n",
      "========================================\n",
      "\n",
      "========================================\n",
      "Column Names\n",
      "========================================\n",
      "Index(['business_id', 'name', 'address', 'city', 'state', 'postal_code',\n",
      "       'latitude', 'longitude', 'stars', 'review_count', 'is_open',\n",
      "       'attributes', 'categories', 'hours'],\n",
      "      dtype='object') \n",
      " \n",
      "\n",
      "========================================\n",
      "Data Summary\n",
      "========================================\n",
      "<class 'pandas.core.frame.DataFrame'>\n",
      "RangeIndex: 52286 entries, 0 to 52285\n",
      "Data columns (total 14 columns):\n",
      " #   Column        Non-Null Count  Dtype  \n",
      "---  ------        --------------  -----  \n",
      " 0   business_id   52286 non-null  object \n",
      " 1   name          52286 non-null  object \n",
      " 2   address       51843 non-null  object \n",
      " 3   city          52286 non-null  object \n",
      " 4   state         52286 non-null  object \n",
      " 5   postal_code   52265 non-null  object \n",
      " 6   latitude      52286 non-null  float64\n",
      " 7   longitude     52286 non-null  float64\n",
      " 8   stars         52286 non-null  float64\n",
      " 9   review_count  52286 non-null  int64  \n",
      " 10  is_open       52286 non-null  int64  \n",
      " 11  attributes    51720 non-null  object \n",
      " 12  categories    52286 non-null  object \n",
      " 13  hours         45007 non-null  object \n",
      "dtypes: float64(3), int64(2), object(9)\n",
      "memory usage: 5.6+ MB\n",
      "========================================\n",
      "\n",
      "========================================\n",
      "Descriptive Statistics\n",
      "========================================\n"
     ]
    },
    {
     "data": {
      "text/html": [
       "<div>\n",
       "<style scoped>\n",
       "    .dataframe tbody tr th:only-of-type {\n",
       "        vertical-align: middle;\n",
       "    }\n",
       "\n",
       "    .dataframe tbody tr th {\n",
       "        vertical-align: top;\n",
       "    }\n",
       "\n",
       "    .dataframe thead th {\n",
       "        text-align: right;\n",
       "    }\n",
       "</style>\n",
       "<table border=\"1\" class=\"dataframe\">\n",
       "  <thead>\n",
       "    <tr style=\"text-align: right;\">\n",
       "      <th></th>\n",
       "      <th>latitude</th>\n",
       "      <th>longitude</th>\n",
       "      <th>stars</th>\n",
       "      <th>review_count</th>\n",
       "      <th>is_open</th>\n",
       "    </tr>\n",
       "  </thead>\n",
       "  <tbody>\n",
       "    <tr>\n",
       "      <th>count</th>\n",
       "      <td>52286.000000</td>\n",
       "      <td>52286.000000</td>\n",
       "      <td>52286.000000</td>\n",
       "      <td>52286.000000</td>\n",
       "      <td>52286.000000</td>\n",
       "    </tr>\n",
       "    <tr>\n",
       "      <th>mean</th>\n",
       "      <td>36.997663</td>\n",
       "      <td>-87.845038</td>\n",
       "      <td>3.515234</td>\n",
       "      <td>87.241078</td>\n",
       "      <td>0.669472</td>\n",
       "    </tr>\n",
       "    <tr>\n",
       "      <th>std</th>\n",
       "      <td>6.010943</td>\n",
       "      <td>13.813532</td>\n",
       "      <td>0.829585</td>\n",
       "      <td>188.912445</td>\n",
       "      <td>0.470408</td>\n",
       "    </tr>\n",
       "    <tr>\n",
       "      <th>min</th>\n",
       "      <td>27.564457</td>\n",
       "      <td>-120.083748</td>\n",
       "      <td>1.000000</td>\n",
       "      <td>5.000000</td>\n",
       "      <td>0.000000</td>\n",
       "    </tr>\n",
       "    <tr>\n",
       "      <th>25%</th>\n",
       "      <td>32.217586</td>\n",
       "      <td>-90.233506</td>\n",
       "      <td>3.000000</td>\n",
       "      <td>13.000000</td>\n",
       "      <td>0.000000</td>\n",
       "    </tr>\n",
       "    <tr>\n",
       "      <th>50%</th>\n",
       "      <td>39.484140</td>\n",
       "      <td>-86.035621</td>\n",
       "      <td>3.500000</td>\n",
       "      <td>33.000000</td>\n",
       "      <td>1.000000</td>\n",
       "    </tr>\n",
       "    <tr>\n",
       "      <th>75%</th>\n",
       "      <td>39.958370</td>\n",
       "      <td>-75.337533</td>\n",
       "      <td>4.000000</td>\n",
       "      <td>89.000000</td>\n",
       "      <td>1.000000</td>\n",
       "    </tr>\n",
       "    <tr>\n",
       "      <th>max</th>\n",
       "      <td>53.679197</td>\n",
       "      <td>-74.664459</td>\n",
       "      <td>5.000000</td>\n",
       "      <td>7568.000000</td>\n",
       "      <td>1.000000</td>\n",
       "    </tr>\n",
       "  </tbody>\n",
       "</table>\n",
       "</div>"
      ],
      "text/plain": [
       "           latitude     longitude         stars  review_count       is_open\n",
       "count  52286.000000  52286.000000  52286.000000  52286.000000  52286.000000\n",
       "mean      36.997663    -87.845038      3.515234     87.241078      0.669472\n",
       "std        6.010943     13.813532      0.829585    188.912445      0.470408\n",
       "min       27.564457   -120.083748      1.000000      5.000000      0.000000\n",
       "25%       32.217586    -90.233506      3.000000     13.000000      0.000000\n",
       "50%       39.484140    -86.035621      3.500000     33.000000      1.000000\n",
       "75%       39.958370    -75.337533      4.000000     89.000000      1.000000\n",
       "max       53.679197    -74.664459      5.000000   7568.000000      1.000000"
      ]
     },
     "metadata": {},
     "output_type": "display_data"
    },
    {
     "name": "stdout",
     "output_type": "stream",
     "text": [
      "========================================\n",
      "Dataset Overview\n",
      "========================================\n"
     ]
    },
    {
     "data": {
      "text/html": [
       "<div>\n",
       "<style scoped>\n",
       "    .dataframe tbody tr th:only-of-type {\n",
       "        vertical-align: middle;\n",
       "    }\n",
       "\n",
       "    .dataframe tbody tr th {\n",
       "        vertical-align: top;\n",
       "    }\n",
       "\n",
       "    .dataframe thead th {\n",
       "        text-align: right;\n",
       "    }\n",
       "</style>\n",
       "<table border=\"1\" class=\"dataframe\">\n",
       "  <thead>\n",
       "    <tr style=\"text-align: right;\">\n",
       "      <th></th>\n",
       "      <th>business_id</th>\n",
       "      <th>name</th>\n",
       "      <th>address</th>\n",
       "      <th>city</th>\n",
       "      <th>state</th>\n",
       "      <th>postal_code</th>\n",
       "      <th>latitude</th>\n",
       "      <th>longitude</th>\n",
       "      <th>stars</th>\n",
       "      <th>review_count</th>\n",
       "      <th>is_open</th>\n",
       "      <th>attributes</th>\n",
       "      <th>categories</th>\n",
       "      <th>hours</th>\n",
       "    </tr>\n",
       "  </thead>\n",
       "  <tbody>\n",
       "    <tr>\n",
       "      <th>0</th>\n",
       "      <td>MTSW4McQd7CbVtyjqoe9mw</td>\n",
       "      <td>St Honore Pastries</td>\n",
       "      <td>935 Race St</td>\n",
       "      <td>Philadelphia</td>\n",
       "      <td>PA</td>\n",
       "      <td>19107</td>\n",
       "      <td>39.955505</td>\n",
       "      <td>-75.155564</td>\n",
       "      <td>4.0</td>\n",
       "      <td>80</td>\n",
       "      <td>1</td>\n",
       "      <td>{'RestaurantsDelivery': 'False', 'OutdoorSeati...</td>\n",
       "      <td>Restaurants, Food, Bubble Tea, Coffee &amp; Tea, B...</td>\n",
       "      <td>{'Monday': '7:0-20:0', 'Tuesday': '7:0-20:0', ...</td>\n",
       "    </tr>\n",
       "    <tr>\n",
       "      <th>1</th>\n",
       "      <td>CF33F8-E6oudUQ46HnavjQ</td>\n",
       "      <td>Sonic Drive-In</td>\n",
       "      <td>615 S Main St</td>\n",
       "      <td>Ashland City</td>\n",
       "      <td>TN</td>\n",
       "      <td>37015</td>\n",
       "      <td>36.269593</td>\n",
       "      <td>-87.058943</td>\n",
       "      <td>2.0</td>\n",
       "      <td>6</td>\n",
       "      <td>1</td>\n",
       "      <td>{'BusinessParking': 'None', 'BusinessAcceptsCr...</td>\n",
       "      <td>Burgers, Fast Food, Sandwiches, Food, Ice Crea...</td>\n",
       "      <td>{'Monday': '0:0-0:0', 'Tuesday': '6:0-22:0', '...</td>\n",
       "    </tr>\n",
       "    <tr>\n",
       "      <th>2</th>\n",
       "      <td>k0hlBqXX-Bt0vf1op7Jr1w</td>\n",
       "      <td>Tsevi's Pub And Grill</td>\n",
       "      <td>8025 Mackenzie Rd</td>\n",
       "      <td>Affton</td>\n",
       "      <td>MO</td>\n",
       "      <td>63123</td>\n",
       "      <td>38.565165</td>\n",
       "      <td>-90.321087</td>\n",
       "      <td>3.0</td>\n",
       "      <td>19</td>\n",
       "      <td>0</td>\n",
       "      <td>{'Caters': 'True', 'Alcohol': \"u'full_bar'\", '...</td>\n",
       "      <td>Pubs, Restaurants, Italian, Bars, American (Tr...</td>\n",
       "      <td>NaN</td>\n",
       "    </tr>\n",
       "  </tbody>\n",
       "</table>\n",
       "</div>"
      ],
      "text/plain": [
       "              business_id                   name            address  \\\n",
       "0  MTSW4McQd7CbVtyjqoe9mw     St Honore Pastries        935 Race St   \n",
       "1  CF33F8-E6oudUQ46HnavjQ         Sonic Drive-In      615 S Main St   \n",
       "2  k0hlBqXX-Bt0vf1op7Jr1w  Tsevi's Pub And Grill  8025 Mackenzie Rd   \n",
       "\n",
       "           city state postal_code   latitude  longitude  stars  review_count  \\\n",
       "0  Philadelphia    PA       19107  39.955505 -75.155564    4.0            80   \n",
       "1  Ashland City    TN       37015  36.269593 -87.058943    2.0             6   \n",
       "2        Affton    MO       63123  38.565165 -90.321087    3.0            19   \n",
       "\n",
       "   is_open                                         attributes  \\\n",
       "0        1  {'RestaurantsDelivery': 'False', 'OutdoorSeati...   \n",
       "1        1  {'BusinessParking': 'None', 'BusinessAcceptsCr...   \n",
       "2        0  {'Caters': 'True', 'Alcohol': \"u'full_bar'\", '...   \n",
       "\n",
       "                                          categories  \\\n",
       "0  Restaurants, Food, Bubble Tea, Coffee & Tea, B...   \n",
       "1  Burgers, Fast Food, Sandwiches, Food, Ice Crea...   \n",
       "2  Pubs, Restaurants, Italian, Bars, American (Tr...   \n",
       "\n",
       "                                               hours  \n",
       "0  {'Monday': '7:0-20:0', 'Tuesday': '7:0-20:0', ...  \n",
       "1  {'Monday': '0:0-0:0', 'Tuesday': '6:0-22:0', '...  \n",
       "2                                                NaN  "
      ]
     },
     "execution_count": 3,
     "metadata": {},
     "output_type": "execute_result"
    }
   ],
   "source": [
    "# Reading the restaurants csv file\n",
    "restaurant_data= loader.read_data(\"data/restaurants.csv\")\n",
    "\n",
    "# Summary information on the restaurant df\n",
    "print(f'\\nRESTAURANT DATASET INFORMATION\\n' + '=='*20 + '\\n')\n",
    "summary.info(restaurant_data)"
   ]
  },
  {
   "cell_type": "markdown",
   "metadata": {},
   "source": [
    "### Restaurant Dataset Column Descriptions\n",
    "***\n",
    "\n",
    "| Column Name     | Description                                                                 |\n",
    "|-----------------|-----------------------------------------------------------------------------|\n",
    "| business_id     | Unique identifier for the business.                                         |\n",
    "| name            | Name of the business.                                                       |\n",
    "| address         | Street address of the business.                                             |\n",
    "| city            | City where the business is located.                                         |\n",
    "| state           | State where the business is located.                                        |\n",
    "| postal_code     | Postal code (ZIP code) of the business location.                            |\n",
    "| latitude        | Latitude coordinate of the business location.                               |\n",
    "| longitude       | Longitude coordinate of the business location.                              |\n",
    "| stars           | Average star rating of the (typically on a scale of 1 to 5).       |\n",
    "| review_count    | Number of reviews the business has received.                                |\n",
    "| is_open         | Indicator of whether the business is currently open (1 = open, 0 = closed). |\n",
    "| attributes      | Additional attributes of the business (e.g., \"WiFi: free\", \"HasTV: true\").  |\n",
    "| categories      | List of categories the business belongs to (e.g., \"Restaurants\", \"Bars\").   |\n",
    "| hours           | Business hours (e.g., \"Monday: 8am-5pm, Tuesday: 8am-5pm\").                 |\n"
   ]
  },
  {
   "cell_type": "markdown",
   "metadata": {},
   "source": [
    "i. Consistency Check\n",
    "***"
   ]
  },
  {
   "cell_type": "code",
   "execution_count": 4,
   "metadata": {},
   "outputs": [
    {
     "name": "stdout",
     "output_type": "stream",
     "text": [
      "NO DUPLICATES FOUND\n"
     ]
    }
   ],
   "source": [
    "# Instantiating Datachecks for restaurant df\n",
    "checks= DataChecks(restaurant_data)\n",
    "\n",
    "# Checking for duplicates\n",
    "checks.check_duplicates()"
   ]
  },
  {
   "cell_type": "markdown",
   "metadata": {},
   "source": [
    "ii. Completeness Check\n",
    "***"
   ]
  },
  {
   "cell_type": "code",
   "execution_count": 5,
   "metadata": {},
   "outputs": [
    {
     "data": {
      "text/html": [
       "<div>\n",
       "<style scoped>\n",
       "    .dataframe tbody tr th:only-of-type {\n",
       "        vertical-align: middle;\n",
       "    }\n",
       "\n",
       "    .dataframe tbody tr th {\n",
       "        vertical-align: top;\n",
       "    }\n",
       "\n",
       "    .dataframe thead th {\n",
       "        text-align: right;\n",
       "    }\n",
       "</style>\n",
       "<table border=\"1\" class=\"dataframe\">\n",
       "  <thead>\n",
       "    <tr style=\"text-align: right;\">\n",
       "      <th></th>\n",
       "      <th>Column Names</th>\n",
       "      <th>Missing Values</th>\n",
       "      <th>Percentage Missing</th>\n",
       "    </tr>\n",
       "  </thead>\n",
       "  <tbody>\n",
       "    <tr>\n",
       "      <th>0</th>\n",
       "      <td>address</td>\n",
       "      <td>443</td>\n",
       "      <td>0.847263</td>\n",
       "    </tr>\n",
       "    <tr>\n",
       "      <th>1</th>\n",
       "      <td>postal_code</td>\n",
       "      <td>21</td>\n",
       "      <td>0.040164</td>\n",
       "    </tr>\n",
       "    <tr>\n",
       "      <th>2</th>\n",
       "      <td>attributes</td>\n",
       "      <td>566</td>\n",
       "      <td>1.082508</td>\n",
       "    </tr>\n",
       "    <tr>\n",
       "      <th>3</th>\n",
       "      <td>hours</td>\n",
       "      <td>7279</td>\n",
       "      <td>13.921509</td>\n",
       "    </tr>\n",
       "  </tbody>\n",
       "</table>\n",
       "</div>"
      ],
      "text/plain": [
       "  Column Names  Missing Values  Percentage Missing\n",
       "0      address             443            0.847263\n",
       "1  postal_code              21            0.040164\n",
       "2   attributes             566            1.082508\n",
       "3        hours            7279           13.921509"
      ]
     },
     "metadata": {},
     "output_type": "display_data"
    }
   ],
   "source": [
    "# Checking for null values in restaurant dataset\n",
    "checks.check_missing()"
   ]
  },
  {
   "cell_type": "markdown",
   "metadata": {},
   "source": [
    "iii. Validity Check\n",
    "***"
   ]
  },
  {
   "cell_type": "code",
   "execution_count": 6,
   "metadata": {},
   "outputs": [
    {
     "data": {
      "image/png": "[encoded data removed]",
      "text/plain": [
       "<Figure size 2000x800 with 4 Axes>"
      ]
     },
     "metadata": {},
     "output_type": "display_data"
    }
   ],
   "source": [
    "# check for outliers in restaurant dataset\n",
    "checks.check_outliers_and_plot()"
   ]
  },
  {
   "cell_type": "markdown",
   "metadata": {},
   "source": [
    "***\n",
    "**Initial Observations on restaurant information data**\n",
    "***\n",
    "- > Restaurant information dataset has 52286 rows and 14 columns.\n",
    "- > All business locations are in the North West hemisphere i.e. USA based on min and max latitude and longitude.\n",
    "- > The address, \tpostalcode, attributes and hours columns contain missing values and will be addressed.\n",
    "- > There are no duplicated rows.\n",
    "- > Majority of the businesses receive between 3-4 stars on average.\n",
    "- > No significant outliers can be seen.urs"
   ]
  },
  {
   "cell_type": "markdown",
   "metadata": {},
   "source": [
    "#### ii) User Review Data"
   ]
  },
  {
   "cell_type": "code",
   "execution_count": 7,
   "metadata": {},
   "outputs": [
    {
     "name": "stdout",
     "output_type": "stream",
     "text": [
      "\n",
      "USER DATASET INFORMATION\n",
      "========================================\n",
      "\n",
      "========================================\n",
      "Shape of the dataset : (2559586, 4) \n",
      "========================================\n",
      "\n",
      "========================================\n",
      "Column Names\n",
      "========================================\n",
      "Index(['user_id', 'business_id', 'stars', 'date'], dtype='object') \n",
      " \n",
      "\n",
      "========================================\n",
      "Data Summary\n",
      "========================================\n",
      "<class 'pandas.core.frame.DataFrame'>\n",
      "RangeIndex: 2559586 entries, 0 to 2559585\n",
      "Data columns (total 4 columns):\n",
      " #   Column       Dtype \n",
      "---  ------       ----- \n",
      " 0   user_id      object\n",
      " 1   business_id  object\n",
      " 2   stars        int64 \n",
      " 3   date         object\n",
      "dtypes: int64(1), object(3)\n",
      "memory usage: 78.1+ MB\n",
      "========================================\n",
      "\n",
      "========================================\n",
      "Descriptive Statistics\n",
      "========================================\n"
     ]
    },
    {
     "data": {
      "text/html": [
       "<div>\n",
       "<style scoped>\n",
       "    .dataframe tbody tr th:only-of-type {\n",
       "        vertical-align: middle;\n",
       "    }\n",
       "\n",
       "    .dataframe tbody tr th {\n",
       "        vertical-align: top;\n",
       "    }\n",
       "\n",
       "    .dataframe thead th {\n",
       "        text-align: right;\n",
       "    }\n",
       "</style>\n",
       "<table border=\"1\" class=\"dataframe\">\n",
       "  <thead>\n",
       "    <tr style=\"text-align: right;\">\n",
       "      <th></th>\n",
       "      <th>stars</th>\n",
       "    </tr>\n",
       "  </thead>\n",
       "  <tbody>\n",
       "    <tr>\n",
       "      <th>count</th>\n",
       "      <td>2.559586e+06</td>\n",
       "    </tr>\n",
       "    <tr>\n",
       "      <th>mean</th>\n",
       "      <td>3.837496e+00</td>\n",
       "    </tr>\n",
       "    <tr>\n",
       "      <th>std</th>\n",
       "      <td>1.450423e+00</td>\n",
       "    </tr>\n",
       "    <tr>\n",
       "      <th>min</th>\n",
       "      <td>1.000000e+00</td>\n",
       "    </tr>\n",
       "    <tr>\n",
       "      <th>25%</th>\n",
       "      <td>3.000000e+00</td>\n",
       "    </tr>\n",
       "    <tr>\n",
       "      <th>50%</th>\n",
       "      <td>4.000000e+00</td>\n",
       "    </tr>\n",
       "    <tr>\n",
       "      <th>75%</th>\n",
       "      <td>5.000000e+00</td>\n",
       "    </tr>\n",
       "    <tr>\n",
       "      <th>max</th>\n",
       "      <td>5.000000e+00</td>\n",
       "    </tr>\n",
       "  </tbody>\n",
       "</table>\n",
       "</div>"
      ],
      "text/plain": [
       "              stars\n",
       "count  2.559586e+06\n",
       "mean   3.837496e+00\n",
       "std    1.450423e+00\n",
       "min    1.000000e+00\n",
       "25%    3.000000e+00\n",
       "50%    4.000000e+00\n",
       "75%    5.000000e+00\n",
       "max    5.000000e+00"
      ]
     },
     "metadata": {},
     "output_type": "display_data"
    },
    {
     "name": "stdout",
     "output_type": "stream",
     "text": [
      "========================================\n",
      "Dataset Overview\n",
      "========================================\n"
     ]
    },
    {
     "data": {
      "text/html": [
       "<div>\n",
       "<style scoped>\n",
       "    .dataframe tbody tr th:only-of-type {\n",
       "        vertical-align: middle;\n",
       "    }\n",
       "\n",
       "    .dataframe tbody tr th {\n",
       "        vertical-align: top;\n",
       "    }\n",
       "\n",
       "    .dataframe thead th {\n",
       "        text-align: right;\n",
       "    }\n",
       "</style>\n",
       "<table border=\"1\" class=\"dataframe\">\n",
       "  <thead>\n",
       "    <tr style=\"text-align: right;\">\n",
       "      <th></th>\n",
       "      <th>user_id</th>\n",
       "      <th>business_id</th>\n",
       "      <th>stars</th>\n",
       "      <th>date</th>\n",
       "    </tr>\n",
       "  </thead>\n",
       "  <tbody>\n",
       "    <tr>\n",
       "      <th>0</th>\n",
       "      <td>mh_-eMZ6K5RLWhZyISBhwA</td>\n",
       "      <td>XQfwVwDr-v0ZS3_CbbE5Xw</td>\n",
       "      <td>3</td>\n",
       "      <td>2018-07-07 22:09:11</td>\n",
       "    </tr>\n",
       "    <tr>\n",
       "      <th>1</th>\n",
       "      <td>bcjbaE6dDog4jkNY91ncLQ</td>\n",
       "      <td>e4Vwtrqf-wpJfwesgvdgxQ</td>\n",
       "      <td>4</td>\n",
       "      <td>2017-01-14 20:54:15</td>\n",
       "    </tr>\n",
       "    <tr>\n",
       "      <th>2</th>\n",
       "      <td>RreNy--tOmXMl1en0wiBOg</td>\n",
       "      <td>cPepkJeRMtHapc_b2Oe_dw</td>\n",
       "      <td>4</td>\n",
       "      <td>2018-07-17 03:30:07</td>\n",
       "    </tr>\n",
       "  </tbody>\n",
       "</table>\n",
       "</div>"
      ],
      "text/plain": [
       "                  user_id             business_id  stars                 date\n",
       "0  mh_-eMZ6K5RLWhZyISBhwA  XQfwVwDr-v0ZS3_CbbE5Xw      3  2018-07-07 22:09:11\n",
       "1  bcjbaE6dDog4jkNY91ncLQ  e4Vwtrqf-wpJfwesgvdgxQ      4  2017-01-14 20:54:15\n",
       "2  RreNy--tOmXMl1en0wiBOg  cPepkJeRMtHapc_b2Oe_dw      4  2018-07-17 03:30:07"
      ]
     },
     "execution_count": 7,
     "metadata": {},
     "output_type": "execute_result"
    }
   ],
   "source": [
    "# Loading the users csv file\n",
    "users_data= loader.read_data(\"data/users.csv\")\n",
    "\n",
    "# Summary information on the user review data\n",
    "print(f'\\nUSER DATASET INFORMATION\\n' + '=='*20 + '\\n')\n",
    "summary.info(users_data)"
   ]
  },
  {
   "cell_type": "markdown",
   "metadata": {},
   "source": [
    "### Users Reviews Dataset Column Descriptions\n",
    "***\n",
    "| Column Name  | Description                                                                 |\n",
    "|--------------|-----------------------------------------------------------------------------|\n",
    "| user_id      | Unique identifier for the user who wrote the review.                        |\n",
    "| business_id  | Unique identifier for the business that the review is associated with.      |\n",
    "| stars        | Star rating given by the user in the review (on a scale of 1 to 5).         |\n",
    "| date         | Date when the review was written.                                           |\n"
   ]
  },
  {
   "cell_type": "markdown",
   "metadata": {},
   "source": [
    "i. Consistency Check\n",
    "***"
   ]
  },
  {
   "cell_type": "code",
   "execution_count": 8,
   "metadata": {},
   "outputs": [
    {
     "data": {
      "text/html": [
       "<table border=\"1\" class=\"dataframe\">\n",
       "  <thead>\n",
       "    <tr style=\"text-align: right;\">\n",
       "      <th></th>\n",
       "      <th>user_id</th>\n",
       "      <th>business_id</th>\n",
       "      <th>stars</th>\n",
       "      <th>date</th>\n",
       "    </tr>\n",
       "  </thead>\n",
       "  <tbody>\n",
       "    <tr>\n",
       "      <th>988470</th>\n",
       "      <td>wAph_egpAXr9ic-A2vnINQ</td>\n",
       "      <td>fiGh8ctcvIRm4Ii2GOtoHQ</td>\n",
       "      <td>2</td>\n",
       "      <td>2018-07-23 21:43:33</td>\n",
       "    </tr>\n",
       "    <tr>\n",
       "      <th>997259</th>\n",
       "      <td>wAph_egpAXr9ic-A2vnINQ</td>\n",
       "      <td>fiGh8ctcvIRm4Ii2GOtoHQ</td>\n",
       "      <td>2</td>\n",
       "      <td>2018-07-23 21:43:33</td>\n",
       "    </tr>\n",
       "    <tr>\n",
       "      <th>1980862</th>\n",
       "      <td>xZ0ioQJ0Jyo_Uc0FzmyFQQ</td>\n",
       "      <td>O_kAd89gPls-dXda40NWzA</td>\n",
       "      <td>5</td>\n",
       "      <td>2019-11-22 07:18:46</td>\n",
       "    </tr>\n",
       "    <tr>\n",
       "      <th>2005725</th>\n",
       "      <td>xZ0ioQJ0Jyo_Uc0FzmyFQQ</td>\n",
       "      <td>O_kAd89gPls-dXda40NWzA</td>\n",
       "      <td>5</td>\n",
       "      <td>2019-11-22 07:18:46</td>\n",
       "    </tr>\n",
       "  </tbody>\n",
       "</table>"
      ],
      "text/plain": [
       "<IPython.core.display.HTML object>"
      ]
     },
     "metadata": {},
     "output_type": "display_data"
    }
   ],
   "source": [
    "# Instantiating Datachecks for users df\n",
    "checks= DataChecks(users_data)\n",
    "\n",
    "# Checking for duplicates for users df\n",
    "checks.check_duplicates()\n"
   ]
  },
  {
   "cell_type": "markdown",
   "metadata": {},
   "source": [
    "ii. Completeness Check\n",
    "***"
   ]
  },
  {
   "cell_type": "code",
   "execution_count": 9,
   "metadata": {},
   "outputs": [
    {
     "name": "stdout",
     "output_type": "stream",
     "text": [
      "NO NULL VALUES FOUND\n"
     ]
    }
   ],
   "source": [
    "# Checking for null values in users df\n",
    "checks.check_missing()"
   ]
  },
  {
   "cell_type": "markdown",
   "metadata": {},
   "source": [
    "iii. Validity Check\n",
    "***"
   ]
  },
  {
   "cell_type": "code",
   "execution_count": 10,
   "metadata": {},
   "outputs": [
    {
     "name": "stdout",
     "output_type": "stream",
     "text": [
      "NO OUTLIERS FOUND\n"
     ]
    }
   ],
   "source": [
    "# check for outliers in users df\n",
    "checks.check_outliers_and_plot()"
   ]
  },
  {
   "cell_type": "markdown",
   "metadata": {},
   "source": [
    "***\n",
    "**Initial Observations on user review data**\n",
    "***\n",
    "> The user review dataset contains 2559586 rows and 4 columns\n",
    "\n",
    "> There is evidence of duplicated data and would require cleaning\n",
    "\n",
    "> There are no null values in the dataset.\n",
    "\n",
    "> Majority of users rate restaurants between 3 and 4 stars\n",
    "\n",
    "> useful, funny and cool columns do not seem to show any relevant information"
   ]
  },
  {
   "cell_type": "markdown",
   "metadata": {},
   "source": [
    "***\n",
    "## Exploratory Data Analysis Using `EDA.py` Classes\n",
    "***\n",
    "\n",
    "In this section of the notebook, we will initiate the exploratory data analysis by instantiating the classes defined in our `EDA.py` script. These classes are designed to facilitate the visualization of various features within the `restaurants.csv` dataset, aiding in our understanding of the data's structure and trends.\n",
    "\n",
    "The analysis is split between:\n",
    "\n",
    "    i)  Univartiate Analysis of restaurant data\n",
    "    \n",
    "    ii) Bivariate analysis  of restaurant data\n",
    "\n",
    "    iii) Analysis on User Reviews data"
   ]
  },
  {
   "cell_type": "code",
   "execution_count": 11,
   "metadata": {},
   "outputs": [],
   "source": [
    "# Append the path where the EDA modules are located to sys.path\n",
    "sys.path.append(os.path.abspath('EDA'))"
   ]
  },
  {
   "cell_type": "markdown",
   "metadata": {},
   "source": [
    "\n",
    "### i) Univariate Analysis of Restaurant data\n",
    "***\n",
    "\n",
    "We first perform our univariate EDA on the `restaurants.csv` dataset to examine each variable independently. \n",
    "\n",
    "\n",
    "- **Star Ratings (`stars`)**: Histogram of star ratings offer insights into the overall quality as perceived by customers, helping identify general satisfaction levels.\n",
    "- **State Distribution (`state`)**: Bar charts showing the number of restaurants per state reveal geographical market saturation and potential areas for business expansion.\n",
    "- **Operational Status (`is_open`)**: Pie charts of open vs closed status provide a snapshot of the business landscape, indicating the proportion of actively operating restaurants.\n"
   ]
  },
  {
   "cell_type": "code",
   "execution_count": 12,
   "metadata": {},
   "outputs": [
    {
     "data": {
      "image/png": "[encoded data removed]",
      "text/plain": [
       "<Figure size 1000x600 with 1 Axes>"
      ]
     },
     "metadata": {},
     "output_type": "display_data"
    }
   ],
   "source": [
    "# Instantiate the UnivariateAnalysis class with the DataFrame\n",
    "uni_analysis = UnivariateAnalysis(restaurant_data)\n",
    "\n",
    "# Plotting the histogram of review counts\n",
    "uni_analysis.plot_histogram('stars', 'Distribution of Star Ratings')"
   ]
  },
  {
   "cell_type": "markdown",
   "metadata": {},
   "source": [
    "**Observations**\n",
    "***\n",
    "\n",
    "Most common ratings are 4.0 and 3.5 stars, indicating general satisfaction.\n",
    "\n",
    "Ratings below 2.5 stars are uncommon, showing few very poor experiences."
   ]
  },
  {
   "cell_type": "code",
   "execution_count": 13,
   "metadata": {},
   "outputs": [
    {
     "data": {
      "image/png": "[encoded data removed]",
      "text/plain": [
       "<Figure size 1000x600 with 1 Axes>"
      ]
     },
     "metadata": {},
     "output_type": "display_data"
    }
   ],
   "source": [
    "# Plotting the bar chart for the number of restaurants by state\n",
    "uni_analysis.plot_bar_chart('state', 'Number of Restaurants by State', horizontal=True, descending=False)"
   ]
  },
  {
   "cell_type": "markdown",
   "metadata": {},
   "source": [
    "**Observations**\n",
    "***\n",
    "\n",
    "Pennsylvania (PA), Florida (FL) and Tennessee (TN) boast the highest numbers of restaurants among the states, highlighting them as major markets for the restaurant industry. \n",
    "\n",
    "Conversely, there is a noticeable decrease in restaurant counts moving from left to right in the graph. States like North Carolina (NC), Colorado (CO), Hawaii (HI), and Montana (MT) demonstrate lack of a complete dataset in these regions. \n",
    "\n",
    "Understanding these patterns can help tailor location-based strategies in the restaurant recommendation system to optimize user experiences and business growth."
   ]
  },
  {
   "cell_type": "code",
   "execution_count": 14,
   "metadata": {},
   "outputs": [
    {
     "data": {
      "image/png": "[encoded data removed]",
      "text/plain": [
       "<Figure size 1000x600 with 1 Axes>"
      ]
     },
     "metadata": {},
     "output_type": "display_data"
    }
   ],
   "source": [
    "# Plotting the pie chart for the proportion of open vs closed restaurants\n",
    "uni_analysis.plot_bar_chart('is_open', 'Proportion of Open vs Closed Restaurants')"
   ]
  },
  {
   "cell_type": "markdown",
   "metadata": {},
   "source": [
    "**Observations**\n",
    "***\n",
    "\n",
    "- **66.9% Open Restaurants**: A significant majority of the restaurants in our dataset are currently operational. This proportion suggests a robust industry where the majority of listed entities are active, presenting numerous options for recommendations.\n",
    "\n",
    "- **33.1% Closed Restaurants**: A substantial portion of the restaurants are no longer in operation. This data is crucial for ensuring accuracy in our recommendation system by filtering out closed establishments, thereby improving user experience and system reliability.\n",
    "\n",
    "**Strategic Recommendations:**\n",
    "***\n",
    " Regular updates and verification processes are necessary to maintain the accuracy of the system, ensuring that closed restaurants are removed from active recommendation lists.\n"
   ]
  },
  {
   "cell_type": "code",
   "execution_count": 15,
   "metadata": {},
   "outputs": [
    {
     "data": {
      "image/png": "[encoded data removed]",
      "text/plain": [
       "<Figure size 1000x600 with 1 Axes>"
      ]
     },
     "metadata": {},
     "output_type": "display_data"
    }
   ],
   "source": [
    "# Plot on most common restaurant names in dataset\n",
    "uni_analysis.plot_bar_chart('name', 'Frequency of Restaurant Names', limit=20, horizontal=True, descending=True)"
   ]
  },
  {
   "cell_type": "markdown",
   "metadata": {},
   "source": [
    "**Observations**\n",
    "***\n",
    "\n",
    "McDonald's, Subway, and Taco Bell lead in frequency, indicating a high presence of these chains within the dataset. This suggests a dominance of fast-food chains in the restaurant landscape.\n",
    "\n",
    "The frequency of well-known names like Wendy's, Domino's Pizza, and Pizza Hut reflects their popularity, which can be leveraged in recommending familiar choices to users of the recommendation system.\n",
    "\n",
    "**Strategic Implications**: \n",
    "***\n",
    "\n",
    "Understanding which brands are most common can help tailor marketing strategies within the recommendation system, highlighting promotions, deals, or new menu items from these popular chains."
   ]
  },
  {
   "cell_type": "markdown",
   "metadata": {},
   "source": [
    "\n",
    "### ii) Bivariate Analysis of the Restaurant Data\n",
    "***\n",
    "\n",
    "In this section, we use the `BivariateAnalysis` class to explore relationships between pairs of variables in the `restaurants.csv` dataset. By examining these relationships, we aim to uncover patterns and correlations that can inform better decision-making for restaurant recommendations and business strategies.\n",
    "\n"
   ]
  },
  {
   "cell_type": "code",
   "execution_count": 16,
   "metadata": {},
   "outputs": [
    {
     "data": {
      "image/png": "[encoded data removed]",
      "text/plain": [
       "<Figure size 1000x600 with 1 Axes>"
      ]
     },
     "metadata": {},
     "output_type": "display_data"
    }
   ],
   "source": [
    "# Instantiate the BivariateAnalysis class with the DataFrame\n",
    "bi_analysis = BivariateAnalysis(restaurant_data)\n",
    "\n",
    "# Plotting the scatter plot to explore correlations between review counts and star ratings\n",
    "bi_analysis.plot_scatter('review_count', 'stars', 'Review Count vs Star Rating')"
   ]
  },
  {
   "cell_type": "markdown",
   "metadata": {},
   "source": [
    "**Observations**\n",
    "***\n",
    "\n",
    " Higher review counts are more commonly associated with mid to high ratings (3.0 to 5.0 stars).\n",
    "\n",
    "The highest review counts appear at 4.0 and 5.0 star ratings, suggesting high customer engagement with top-rated restaurants.\n",
    "\n",
    "Restaurants with ratings between 1.0 and 2.5 stars tend to have fewer reviews, indicating less engagement or fewer customers.\n",
    "\n",
    "The vertical spread at each rating level, especially at high ratings, indicates variability in the popularity of restaurants with similar ratings.\n"
   ]
  },
  {
   "cell_type": "code",
   "execution_count": 17,
   "metadata": {},
   "outputs": [
    {
     "data": {
      "image/png": "[encoded data removed]",
      "text/plain": [
       "<Figure size 1000x600 with 1 Axes>"
      ]
     },
     "metadata": {},
     "output_type": "display_data"
    }
   ],
   "source": [
    "# Plotting the boxplot to analyze how star ratings vary across different states\n",
    "bi_analysis.plot_boxplot('state', 'stars', 'Star Rating Distribution by State')"
   ]
  },
  {
   "cell_type": "markdown",
   "metadata": {},
   "source": [
    "### Observations \n",
    "\n",
    " The majority of states have a median star rating around 4.0, indicating generally positive reviews. States like Pennsylvania (PA), Florida (FL), and California (CA) show consistent ratings with narrow interquartile ranges (IQR), suggesting stable restaurant quality.\n",
    "\n",
    " Some states, such as Illinois (IL) and Delaware (DE), exhibit a wider IQR, indicating greater variability in restaurant ratings. \n",
    "\n",
    "### Implications for the Recommendation System\n",
    "\n",
    "- **Consistency**: States with consistent ratings are more likely to provide reliable recommendations, as users can expect a certain level of quality across restaurants.\n",
    "- **High Variation**: In states with high variability, additional filters or more personalized recommendations may be necessary to better match users with restaurants that meet their expectations.\n",
    "\n"
   ]
  },
  {
   "cell_type": "markdown",
   "metadata": {},
   "source": [
    "\n",
    "### iii) Analysis on User Reviews data\n",
    "***\n",
    "\n",
    "Next, we'll perform EDA on the users.csv dataset. The analysis will help in enhancing our understanding of the user dynamics within our platform, guiding strategic decisions and improvements.\n",
    "This analysis centered on the distribution of ratings across users and a trend analysis on frequency of reviews"
   ]
  },
  {
   "cell_type": "code",
   "execution_count": 18,
   "metadata": {},
   "outputs": [],
   "source": [
    "# Instantiate the ComprehensiveEDA class with the users DataFrame\n",
    "eda_users = ComprehensiveEDA(users_data)\n",
    "\n",
    "# Instantiate the UserEDA class specifically designed for user-related data analysis\n",
    "user_eda = UserEDA(users_data)"
   ]
  },
  {
   "cell_type": "code",
   "execution_count": 19,
   "metadata": {},
   "outputs": [
    {
     "data": {
      "image/png": "[encoded data removed]",
      "text/plain": [
       "<Figure size 1000x600 with 1 Axes>"
      ]
     },
     "metadata": {},
     "output_type": "display_data"
    }
   ],
   "source": [
    "# plotting the rating distribution\n",
    "user_eda.plot_rating_distribution()"
   ]
  },
  {
   "cell_type": "markdown",
   "metadata": {},
   "source": [
    "**Observations**\n",
    "***\n",
    "The distribution of ratings from the users.csv dataset reveals a notable preference for higher ratings, with 5-star ratings significantly more frequent than others. "
   ]
  },
  {
   "cell_type": "code",
   "execution_count": 20,
   "metadata": {},
   "outputs": [
    {
     "data": {
      "image/png": "[encoded data removed]",
      "text/plain": [
       "<Figure size 1200x600 with 1 Axes>"
      ]
     },
     "metadata": {},
     "output_type": "display_data"
    }
   ],
   "source": [
    "# Plotting reviews over time\n",
    "user_eda.plot_reviews_over_time()"
   ]
  },
  {
   "cell_type": "markdown",
   "metadata": {},
   "source": [
    "### Observations\n",
    "\n",
    "1. **2017-2019 Trends**:\n",
    "   - The number of reviews generally increased with noticeable seasonal peaks typically between April and July, reflecting periods of higher customer engagement, possibly due to holidays or promotions.\n",
    "\n",
    "2. **Sharp Decline in 2020**:\n",
    "   - A dramatic drop in review counts occurred in early 2020, coinciding with the COVID-19 pandemic. The pandemic led to widespread lockdowns and restaurant closures, drastically reducing customer activity and the number of reviews.\n",
    "\n",
    "3. **Slow Recovery in 2021**:\n",
    "   - The recovery in review counts during 2021 was slow and inconsistent, not reaching pre-pandemic levels. This gradual rebound may be due to ongoing restrictions, changes in consumer behavior, and the permanent closure of some restaurants.\n",
    "\n",
    "4. **Implications**:\n",
    "   - The plot highlights the significant impact of the COVID-19 pandemic on the restaurant industry, with lasting effects that may alter consumer behavior and delay a full return to previous levels of dining activity.\n"
   ]
  },
  {
   "cell_type": "markdown",
   "metadata": {},
   "source": [
    "***\n",
    "## 3.DATA PREPARATION\n",
    "***\n",
    "\n",
    "We will clean, and transform diverse data sources, including restaurant attributes, cuisine, and historical interactions. Ensuring data quality and consistency is essential for accurate model training. The prepared dataset forms the foundation for building a robust and personalized recommendation engine.\"\n",
    "\n"
   ]
  },
  {
   "cell_type": "markdown",
   "metadata": {},
   "source": [
    "\n",
    "#### i) User Review Data\n",
    "***\n"
   ]
  },
  {
   "cell_type": "code",
   "execution_count": 21,
   "metadata": {},
   "outputs": [
    {
     "data": {
      "text/html": [
       "<table border=\"1\" class=\"dataframe\">\n",
       "  <thead>\n",
       "    <tr style=\"text-align: right;\">\n",
       "      <th></th>\n",
       "      <th>user_id</th>\n",
       "      <th>business_id</th>\n",
       "      <th>stars</th>\n",
       "      <th>date</th>\n",
       "    </tr>\n",
       "  </thead>\n",
       "  <tbody>\n",
       "    <tr>\n",
       "      <th>988470</th>\n",
       "      <td>wAph_egpAXr9ic-A2vnINQ</td>\n",
       "      <td>fiGh8ctcvIRm4Ii2GOtoHQ</td>\n",
       "      <td>2</td>\n",
       "      <td>2018-07-23 21:43:33</td>\n",
       "    </tr>\n",
       "    <tr>\n",
       "      <th>997259</th>\n",
       "      <td>wAph_egpAXr9ic-A2vnINQ</td>\n",
       "      <td>fiGh8ctcvIRm4Ii2GOtoHQ</td>\n",
       "      <td>2</td>\n",
       "      <td>2018-07-23 21:43:33</td>\n",
       "    </tr>\n",
       "    <tr>\n",
       "      <th>1980862</th>\n",
       "      <td>xZ0ioQJ0Jyo_Uc0FzmyFQQ</td>\n",
       "      <td>O_kAd89gPls-dXda40NWzA</td>\n",
       "      <td>5</td>\n",
       "      <td>2019-11-22 07:18:46</td>\n",
       "    </tr>\n",
       "    <tr>\n",
       "      <th>2005725</th>\n",
       "      <td>xZ0ioQJ0Jyo_Uc0FzmyFQQ</td>\n",
       "      <td>O_kAd89gPls-dXda40NWzA</td>\n",
       "      <td>5</td>\n",
       "      <td>2019-11-22 07:18:46</td>\n",
       "    </tr>\n",
       "  </tbody>\n",
       "</table>"
      ],
      "text/plain": [
       "<IPython.core.display.HTML object>"
      ]
     },
     "metadata": {},
     "output_type": "display_data"
    }
   ],
   "source": [
    "# Checking the duplicates in the user data\n",
    "checks= DataChecks(users_data)\n",
    "checks.check_duplicates()"
   ]
  },
  {
   "cell_type": "code",
   "execution_count": 22,
   "metadata": {},
   "outputs": [
    {
     "name": "stdout",
     "output_type": "stream",
     "text": [
      "NO DUPLICATES FOUND\n"
     ]
    }
   ],
   "source": [
    "# Dropping the duplicates\n",
    "users_data_cleaned= users_data.drop_duplicates()\n",
    "\n",
    "# Confirming the duplicates have been dropped\n",
    "checks= DataChecks(users_data_cleaned)\n",
    "checks.check_duplicates()"
   ]
  },
  {
   "cell_type": "code",
   "execution_count": 23,
   "metadata": {},
   "outputs": [
    {
     "data": {
      "text/html": [
       "<div>\n",
       "<style scoped>\n",
       "    .dataframe tbody tr th:only-of-type {\n",
       "        vertical-align: middle;\n",
       "    }\n",
       "\n",
       "    .dataframe tbody tr th {\n",
       "        vertical-align: top;\n",
       "    }\n",
       "\n",
       "    .dataframe thead th {\n",
       "        text-align: right;\n",
       "    }\n",
       "</style>\n",
       "<table border=\"1\" class=\"dataframe\">\n",
       "  <thead>\n",
       "    <tr style=\"text-align: right;\">\n",
       "      <th></th>\n",
       "      <th>user_id</th>\n",
       "      <th>business_id</th>\n",
       "      <th>stars</th>\n",
       "      <th>date</th>\n",
       "    </tr>\n",
       "  </thead>\n",
       "  <tbody>\n",
       "    <tr>\n",
       "      <th>0</th>\n",
       "      <td>mh_-eMZ6K5RLWhZyISBhwA</td>\n",
       "      <td>XQfwVwDr-v0ZS3_CbbE5Xw</td>\n",
       "      <td>3</td>\n",
       "      <td>2018-07-07 22:09:11</td>\n",
       "    </tr>\n",
       "    <tr>\n",
       "      <th>1</th>\n",
       "      <td>bcjbaE6dDog4jkNY91ncLQ</td>\n",
       "      <td>e4Vwtrqf-wpJfwesgvdgxQ</td>\n",
       "      <td>4</td>\n",
       "      <td>2017-01-14 20:54:15</td>\n",
       "    </tr>\n",
       "    <tr>\n",
       "      <th>2</th>\n",
       "      <td>RreNy--tOmXMl1en0wiBOg</td>\n",
       "      <td>cPepkJeRMtHapc_b2Oe_dw</td>\n",
       "      <td>4</td>\n",
       "      <td>2018-07-17 03:30:07</td>\n",
       "    </tr>\n",
       "    <tr>\n",
       "      <th>3</th>\n",
       "      <td>Jha0USGDMefGFRLik_xFQg</td>\n",
       "      <td>bMratNjTG5ZFEA6hVyr-xQ</td>\n",
       "      <td>5</td>\n",
       "      <td>2017-02-19 13:32:05</td>\n",
       "    </tr>\n",
       "    <tr>\n",
       "      <th>4</th>\n",
       "      <td>4hBhtCSgoxkrFgHa4YAD-w</td>\n",
       "      <td>bbEXAEFr4RYHLlZ-HFssTA</td>\n",
       "      <td>5</td>\n",
       "      <td>2017-01-02 03:17:34</td>\n",
       "    </tr>\n",
       "  </tbody>\n",
       "</table>\n",
       "</div>"
      ],
      "text/plain": [
       "                  user_id             business_id  stars                date\n",
       "0  mh_-eMZ6K5RLWhZyISBhwA  XQfwVwDr-v0ZS3_CbbE5Xw      3 2018-07-07 22:09:11\n",
       "1  bcjbaE6dDog4jkNY91ncLQ  e4Vwtrqf-wpJfwesgvdgxQ      4 2017-01-14 20:54:15\n",
       "2  RreNy--tOmXMl1en0wiBOg  cPepkJeRMtHapc_b2Oe_dw      4 2018-07-17 03:30:07\n",
       "3  Jha0USGDMefGFRLik_xFQg  bMratNjTG5ZFEA6hVyr-xQ      5 2017-02-19 13:32:05\n",
       "4  4hBhtCSgoxkrFgHa4YAD-w  bbEXAEFr4RYHLlZ-HFssTA      5 2017-01-02 03:17:34"
      ]
     },
     "execution_count": 23,
     "metadata": {},
     "output_type": "execute_result"
    }
   ],
   "source": [
    "#Checking the first five rows fot the user_data\n",
    "users_data_cleaned.head()"
   ]
  },
  {
   "cell_type": "code",
   "execution_count": 24,
   "metadata": {},
   "outputs": [
    {
     "name": "stdout",
     "output_type": "stream",
     "text": [
      "<class 'pandas.core.frame.DataFrame'>\n",
      "Index: 2559584 entries, 0 to 2559585\n",
      "Data columns (total 4 columns):\n",
      " #   Column       Dtype         \n",
      "---  ------       -----         \n",
      " 0   user_id      object        \n",
      " 1   business_id  object        \n",
      " 2   stars        int64         \n",
      " 3   date         datetime64[ns]\n",
      "dtypes: datetime64[ns](1), int64(1), object(2)\n",
      "memory usage: 97.6+ MB\n"
     ]
    }
   ],
   "source": [
    "# Checking information\n",
    "users_data_cleaned.info()"
   ]
  },
  {
   "cell_type": "markdown",
   "metadata": {},
   "source": [
    " **Observations**\n",
    " ***\n",
    " \n",
    "> The duplicated rows were dropped in preparation for modelling.\n",
    "\n",
    "> The data has 2,559,584 rows and 4 columns."
   ]
  },
  {
   "cell_type": "markdown",
   "metadata": {},
   "source": [
    "#### ii) Restaurant Informational Data\n",
    "***"
   ]
  },
  {
   "cell_type": "code",
   "execution_count": 25,
   "metadata": {},
   "outputs": [
    {
     "data": {
      "text/html": [
       "<div>\n",
       "<style scoped>\n",
       "    .dataframe tbody tr th:only-of-type {\n",
       "        vertical-align: middle;\n",
       "    }\n",
       "\n",
       "    .dataframe tbody tr th {\n",
       "        vertical-align: top;\n",
       "    }\n",
       "\n",
       "    .dataframe thead th {\n",
       "        text-align: right;\n",
       "    }\n",
       "</style>\n",
       "<table border=\"1\" class=\"dataframe\">\n",
       "  <thead>\n",
       "    <tr style=\"text-align: right;\">\n",
       "      <th></th>\n",
       "      <th>business_id</th>\n",
       "      <th>name</th>\n",
       "      <th>address</th>\n",
       "      <th>city</th>\n",
       "      <th>state</th>\n",
       "      <th>postal_code</th>\n",
       "      <th>latitude</th>\n",
       "      <th>longitude</th>\n",
       "      <th>stars</th>\n",
       "      <th>review_count</th>\n",
       "      <th>is_open</th>\n",
       "      <th>attributes</th>\n",
       "      <th>categories</th>\n",
       "      <th>hours</th>\n",
       "    </tr>\n",
       "  </thead>\n",
       "  <tbody>\n",
       "    <tr>\n",
       "      <th>0</th>\n",
       "      <td>MTSW4McQd7CbVtyjqoe9mw</td>\n",
       "      <td>St Honore Pastries</td>\n",
       "      <td>935 Race St</td>\n",
       "      <td>Philadelphia</td>\n",
       "      <td>PA</td>\n",
       "      <td>19107</td>\n",
       "      <td>39.955505</td>\n",
       "      <td>-75.155564</td>\n",
       "      <td>4.0</td>\n",
       "      <td>80</td>\n",
       "      <td>1</td>\n",
       "      <td>{'RestaurantsDelivery': 'False', 'OutdoorSeati...</td>\n",
       "      <td>Restaurants, Food, Bubble Tea, Coffee &amp; Tea, B...</td>\n",
       "      <td>{'Monday': '7:0-20:0', 'Tuesday': '7:0-20:0', ...</td>\n",
       "    </tr>\n",
       "    <tr>\n",
       "      <th>1</th>\n",
       "      <td>CF33F8-E6oudUQ46HnavjQ</td>\n",
       "      <td>Sonic Drive-In</td>\n",
       "      <td>615 S Main St</td>\n",
       "      <td>Ashland City</td>\n",
       "      <td>TN</td>\n",
       "      <td>37015</td>\n",
       "      <td>36.269593</td>\n",
       "      <td>-87.058943</td>\n",
       "      <td>2.0</td>\n",
       "      <td>6</td>\n",
       "      <td>1</td>\n",
       "      <td>{'BusinessParking': 'None', 'BusinessAcceptsCr...</td>\n",
       "      <td>Burgers, Fast Food, Sandwiches, Food, Ice Crea...</td>\n",
       "      <td>{'Monday': '0:0-0:0', 'Tuesday': '6:0-22:0', '...</td>\n",
       "    </tr>\n",
       "    <tr>\n",
       "      <th>2</th>\n",
       "      <td>k0hlBqXX-Bt0vf1op7Jr1w</td>\n",
       "      <td>Tsevi's Pub And Grill</td>\n",
       "      <td>8025 Mackenzie Rd</td>\n",
       "      <td>Affton</td>\n",
       "      <td>MO</td>\n",
       "      <td>63123</td>\n",
       "      <td>38.565165</td>\n",
       "      <td>-90.321087</td>\n",
       "      <td>3.0</td>\n",
       "      <td>19</td>\n",
       "      <td>0</td>\n",
       "      <td>{'Caters': 'True', 'Alcohol': \"u'full_bar'\", '...</td>\n",
       "      <td>Pubs, Restaurants, Italian, Bars, American (Tr...</td>\n",
       "      <td>NaN</td>\n",
       "    </tr>\n",
       "    <tr>\n",
       "      <th>3</th>\n",
       "      <td>bBDDEgkFA1Otx9Lfe7BZUQ</td>\n",
       "      <td>Sonic Drive-In</td>\n",
       "      <td>2312 Dickerson Pike</td>\n",
       "      <td>Nashville</td>\n",
       "      <td>TN</td>\n",
       "      <td>37207</td>\n",
       "      <td>36.208102</td>\n",
       "      <td>-86.768170</td>\n",
       "      <td>1.5</td>\n",
       "      <td>10</td>\n",
       "      <td>1</td>\n",
       "      <td>{'RestaurantsAttire': \"'casual'\", 'Restaurants...</td>\n",
       "      <td>Ice Cream &amp; Frozen Yogurt, Fast Food, Burgers,...</td>\n",
       "      <td>{'Monday': '0:0-0:0', 'Tuesday': '6:0-21:0', '...</td>\n",
       "    </tr>\n",
       "    <tr>\n",
       "      <th>4</th>\n",
       "      <td>eEOYSgkmpB90uNA7lDOMRA</td>\n",
       "      <td>Vietnamese Food Truck</td>\n",
       "      <td>NaN</td>\n",
       "      <td>Tampa Bay</td>\n",
       "      <td>FL</td>\n",
       "      <td>33602</td>\n",
       "      <td>27.955269</td>\n",
       "      <td>-82.456320</td>\n",
       "      <td>4.0</td>\n",
       "      <td>10</td>\n",
       "      <td>1</td>\n",
       "      <td>{'Alcohol': \"'none'\", 'OutdoorSeating': 'None'...</td>\n",
       "      <td>Vietnamese, Food, Restaurants, Food Trucks</td>\n",
       "      <td>{'Monday': '11:0-14:0', 'Tuesday': '11:0-14:0'...</td>\n",
       "    </tr>\n",
       "  </tbody>\n",
       "</table>\n",
       "</div>"
      ],
      "text/plain": [
       "              business_id                   name              address  \\\n",
       "0  MTSW4McQd7CbVtyjqoe9mw     St Honore Pastries          935 Race St   \n",
       "1  CF33F8-E6oudUQ46HnavjQ         Sonic Drive-In        615 S Main St   \n",
       "2  k0hlBqXX-Bt0vf1op7Jr1w  Tsevi's Pub And Grill    8025 Mackenzie Rd   \n",
       "3  bBDDEgkFA1Otx9Lfe7BZUQ         Sonic Drive-In  2312 Dickerson Pike   \n",
       "4  eEOYSgkmpB90uNA7lDOMRA  Vietnamese Food Truck                  NaN   \n",
       "\n",
       "           city state postal_code   latitude  longitude  stars  review_count  \\\n",
       "0  Philadelphia    PA       19107  39.955505 -75.155564    4.0            80   \n",
       "1  Ashland City    TN       37015  36.269593 -87.058943    2.0             6   \n",
       "2        Affton    MO       63123  38.565165 -90.321087    3.0            19   \n",
       "3     Nashville    TN       37207  36.208102 -86.768170    1.5            10   \n",
       "4     Tampa Bay    FL       33602  27.955269 -82.456320    4.0            10   \n",
       "\n",
       "   is_open                                         attributes  \\\n",
       "0        1  {'RestaurantsDelivery': 'False', 'OutdoorSeati...   \n",
       "1        1  {'BusinessParking': 'None', 'BusinessAcceptsCr...   \n",
       "2        0  {'Caters': 'True', 'Alcohol': \"u'full_bar'\", '...   \n",
       "3        1  {'RestaurantsAttire': \"'casual'\", 'Restaurants...   \n",
       "4        1  {'Alcohol': \"'none'\", 'OutdoorSeating': 'None'...   \n",
       "\n",
       "                                          categories  \\\n",
       "0  Restaurants, Food, Bubble Tea, Coffee & Tea, B...   \n",
       "1  Burgers, Fast Food, Sandwiches, Food, Ice Crea...   \n",
       "2  Pubs, Restaurants, Italian, Bars, American (Tr...   \n",
       "3  Ice Cream & Frozen Yogurt, Fast Food, Burgers,...   \n",
       "4         Vietnamese, Food, Restaurants, Food Trucks   \n",
       "\n",
       "                                               hours  \n",
       "0  {'Monday': '7:0-20:0', 'Tuesday': '7:0-20:0', ...  \n",
       "1  {'Monday': '0:0-0:0', 'Tuesday': '6:0-22:0', '...  \n",
       "2                                                NaN  \n",
       "3  {'Monday': '0:0-0:0', 'Tuesday': '6:0-21:0', '...  \n",
       "4  {'Monday': '11:0-14:0', 'Tuesday': '11:0-14:0'...  "
      ]
     },
     "execution_count": 25,
     "metadata": {},
     "output_type": "execute_result"
    }
   ],
   "source": [
    "# Looking into the first five rows of the data frame\n",
    "restaurant_data.head()"
   ]
  },
  {
   "cell_type": "code",
   "execution_count": 26,
   "metadata": {},
   "outputs": [
    {
     "data": {
      "text/plain": [
       "business_id        0\n",
       "name               0\n",
       "address          443\n",
       "city               0\n",
       "state              0\n",
       "postal_code       21\n",
       "latitude           0\n",
       "longitude          0\n",
       "stars              0\n",
       "review_count       0\n",
       "is_open            0\n",
       "attributes       566\n",
       "categories         0\n",
       "hours           7279\n",
       "dtype: int64"
      ]
     },
     "execution_count": 26,
     "metadata": {},
     "output_type": "execute_result"
    }
   ],
   "source": [
    "# Checking for null values in the dataset\n",
    "restaurant_data.isna().sum()"
   ]
  },
  {
   "cell_type": "markdown",
   "metadata": {},
   "source": [
    "**Observation**\n",
    "***\n",
    "\n",
    "The dataset contains null values in the columns: address, postal code, attributes and hours"
   ]
  },
  {
   "cell_type": "code",
   "execution_count": 27,
   "metadata": {},
   "outputs": [],
   "source": [
    "# Dropping null values\n",
    "restaurant_data = restaurant_data.dropna(subset=['attributes'])"
   ]
  },
  {
   "cell_type": "code",
   "execution_count": 28,
   "metadata": {},
   "outputs": [
    {
     "data": {
      "text/plain": [
       "business_id     0\n",
       "name            0\n",
       "address         0\n",
       "city            0\n",
       "state           0\n",
       "postal_code     0\n",
       "latitude        0\n",
       "longitude       0\n",
       "stars           0\n",
       "review_count    0\n",
       "is_open         0\n",
       "attributes      0\n",
       "categories      0\n",
       "hours           0\n",
       "dtype: int64"
      ]
     },
     "execution_count": 28,
     "metadata": {},
     "output_type": "execute_result"
    }
   ],
   "source": [
    "# Filling missing values in the 'attributes' column with 'Unknown'\n",
    "restaurant_data[['address','postal_code','hours']]=restaurant_data[['address','postal_code','hours']].fillna('Unknown')\n",
    "\n",
    "# Verifying that all missing values have been handled\n",
    "restaurant_data.isnull().sum()\n"
   ]
  },
  {
   "cell_type": "markdown",
   "metadata": {},
   "source": [
    "**Observations**\n",
    "***\n",
    " There were some missing values in the `attributes`, `address`, `postal_code`, and `hours` columns.\n",
    " \n",
    " We handled the missing data in two ways:\n",
    " \n",
    " 1) **Dropping the records with null values**\n",
    "\n",
    "- Rows with missing `attributes` were removed as this column is critical for analysis.\n",
    "\n",
    "2) **Imputation**\n",
    "\n",
    "- Missing values in `address`, `postal_code`, and `hours` were imputed  with 'Unknown' to maintain data integrity."
   ]
  },
  {
   "cell_type": "code",
   "execution_count": 29,
   "metadata": {},
   "outputs": [
    {
     "data": {
      "text/plain": [
       "state\n",
       "PA     12538\n",
       "FL      8632\n",
       "TN      4297\n",
       "MO      4219\n",
       "IN      4119\n",
       "LA      3596\n",
       "NJ      3302\n",
       "AZ      2635\n",
       "AB      2355\n",
       "NV      1657\n",
       "ID      1290\n",
       "CA      1151\n",
       "IL       975\n",
       "DE       949\n",
       "NC         1\n",
       "CO         1\n",
       "HI         1\n",
       "MT         1\n",
       "XMS        1\n",
       "Name: count, dtype: int64"
      ]
     },
     "execution_count": 29,
     "metadata": {},
     "output_type": "execute_result"
    }
   ],
   "source": [
    "# Checking the value counts for the states\n",
    "restaurant_data.state.value_counts()"
   ]
  },
  {
   "cell_type": "code",
   "execution_count": 30,
   "metadata": {},
   "outputs": [],
   "source": [
    "# States labeled `XMS` will be filtered out, as they do not seem valid\n",
    "valid_states = ['XMS','MT','NC','HI','CO',]\n",
    "restaurant_data_filtered = restaurant_data[~restaurant_data['state'].isin(valid_states)]\n"
   ]
  },
  {
   "cell_type": "code",
   "execution_count": 31,
   "metadata": {},
   "outputs": [],
   "source": [
    "# Map state abbreviations to full state names\n",
    "state_abbreviations = {\n",
    "    'AB': 'Alberta', 'AZ': 'Arizona', 'CA': 'California', 'DE': 'Delaware', 'FL': 'Florida', 'ID': 'Idaho','IL': 'Illinois',\n",
    "    'IN': 'Indiana','LA': 'Louisiana',  'MO': 'Missouri','NV': 'Nevada', 'NJ': 'New Jersey','PA': 'Pennsylvania',  'TN': 'Tennessee', \n",
    "}\n",
    "# Replace state initials with full names\n",
    "restaurant_data_filtered['state'] = restaurant_data_filtered['state'].map(state_abbreviations)\n",
    "\n"
   ]
  },
  {
   "cell_type": "markdown",
   "metadata": {},
   "source": [
    "**Observation**\n",
    "***\n",
    "\n",
    "- States labeled XMS,MT,NC,HI and Co were noted in the EDA for having unusually small restaurant counts, upon confirmation, they have been filtered  out as they contain only a value of one restaurant per state therefore not statistically relevant to our project.\n",
    "\n",
    "- The state abbreviations have been successfully mapped to their corresponding full state names, providing more clarity,simplicity,coherence and consistency in the data."
   ]
  },
  {
   "cell_type": "markdown",
   "metadata": {},
   "source": [
    "### FEATURE ENGINEERING\n",
    "***"
   ]
  },
  {
   "cell_type": "markdown",
   "metadata": {},
   "source": [
    "We will continue with feature engineering with the following steps\n",
    "1. Exploding the categories to refine out cuisine list.\n",
    "2. Elimiating spaces that arise from the splits.\n",
    "3. Engineering a Location column that is a combination of various features.\n",
    "4. Filtering the attributes column to keep only attributes that are true.\n",
    " "
   ]
  },
  {
   "cell_type": "code",
   "execution_count": 32,
   "metadata": {},
   "outputs": [
    {
     "data": {
      "text/html": [
       "<div>\n",
       "<style scoped>\n",
       "    .dataframe tbody tr th:only-of-type {\n",
       "        vertical-align: middle;\n",
       "    }\n",
       "\n",
       "    .dataframe tbody tr th {\n",
       "        vertical-align: top;\n",
       "    }\n",
       "\n",
       "    .dataframe thead th {\n",
       "        text-align: right;\n",
       "    }\n",
       "</style>\n",
       "<table border=\"1\" class=\"dataframe\">\n",
       "  <thead>\n",
       "    <tr style=\"text-align: right;\">\n",
       "      <th></th>\n",
       "      <th>business_id</th>\n",
       "      <th>name</th>\n",
       "      <th>address</th>\n",
       "      <th>city</th>\n",
       "      <th>state</th>\n",
       "      <th>postal_code</th>\n",
       "      <th>latitude</th>\n",
       "      <th>longitude</th>\n",
       "      <th>stars</th>\n",
       "      <th>review_count</th>\n",
       "      <th>is_open</th>\n",
       "      <th>attributes</th>\n",
       "      <th>categories</th>\n",
       "      <th>hours</th>\n",
       "    </tr>\n",
       "  </thead>\n",
       "  <tbody>\n",
       "    <tr>\n",
       "      <th>0</th>\n",
       "      <td>MTSW4McQd7CbVtyjqoe9mw</td>\n",
       "      <td>St Honore Pastries</td>\n",
       "      <td>935 Race St</td>\n",
       "      <td>Philadelphia</td>\n",
       "      <td>Pennsylvania</td>\n",
       "      <td>19107</td>\n",
       "      <td>39.955505</td>\n",
       "      <td>-75.155564</td>\n",
       "      <td>4.0</td>\n",
       "      <td>80</td>\n",
       "      <td>1</td>\n",
       "      <td>{'RestaurantsDelivery': 'False', 'OutdoorSeati...</td>\n",
       "      <td>Restaurants</td>\n",
       "      <td>{'Monday': '7:0-20:0', 'Tuesday': '7:0-20:0', ...</td>\n",
       "    </tr>\n",
       "    <tr>\n",
       "      <th>0</th>\n",
       "      <td>MTSW4McQd7CbVtyjqoe9mw</td>\n",
       "      <td>St Honore Pastries</td>\n",
       "      <td>935 Race St</td>\n",
       "      <td>Philadelphia</td>\n",
       "      <td>Pennsylvania</td>\n",
       "      <td>19107</td>\n",
       "      <td>39.955505</td>\n",
       "      <td>-75.155564</td>\n",
       "      <td>4.0</td>\n",
       "      <td>80</td>\n",
       "      <td>1</td>\n",
       "      <td>{'RestaurantsDelivery': 'False', 'OutdoorSeati...</td>\n",
       "      <td>Food</td>\n",
       "      <td>{'Monday': '7:0-20:0', 'Tuesday': '7:0-20:0', ...</td>\n",
       "    </tr>\n",
       "    <tr>\n",
       "      <th>0</th>\n",
       "      <td>MTSW4McQd7CbVtyjqoe9mw</td>\n",
       "      <td>St Honore Pastries</td>\n",
       "      <td>935 Race St</td>\n",
       "      <td>Philadelphia</td>\n",
       "      <td>Pennsylvania</td>\n",
       "      <td>19107</td>\n",
       "      <td>39.955505</td>\n",
       "      <td>-75.155564</td>\n",
       "      <td>4.0</td>\n",
       "      <td>80</td>\n",
       "      <td>1</td>\n",
       "      <td>{'RestaurantsDelivery': 'False', 'OutdoorSeati...</td>\n",
       "      <td>Bubble Tea</td>\n",
       "      <td>{'Monday': '7:0-20:0', 'Tuesday': '7:0-20:0', ...</td>\n",
       "    </tr>\n",
       "    <tr>\n",
       "      <th>0</th>\n",
       "      <td>MTSW4McQd7CbVtyjqoe9mw</td>\n",
       "      <td>St Honore Pastries</td>\n",
       "      <td>935 Race St</td>\n",
       "      <td>Philadelphia</td>\n",
       "      <td>Pennsylvania</td>\n",
       "      <td>19107</td>\n",
       "      <td>39.955505</td>\n",
       "      <td>-75.155564</td>\n",
       "      <td>4.0</td>\n",
       "      <td>80</td>\n",
       "      <td>1</td>\n",
       "      <td>{'RestaurantsDelivery': 'False', 'OutdoorSeati...</td>\n",
       "      <td>Coffee &amp; Tea</td>\n",
       "      <td>{'Monday': '7:0-20:0', 'Tuesday': '7:0-20:0', ...</td>\n",
       "    </tr>\n",
       "    <tr>\n",
       "      <th>0</th>\n",
       "      <td>MTSW4McQd7CbVtyjqoe9mw</td>\n",
       "      <td>St Honore Pastries</td>\n",
       "      <td>935 Race St</td>\n",
       "      <td>Philadelphia</td>\n",
       "      <td>Pennsylvania</td>\n",
       "      <td>19107</td>\n",
       "      <td>39.955505</td>\n",
       "      <td>-75.155564</td>\n",
       "      <td>4.0</td>\n",
       "      <td>80</td>\n",
       "      <td>1</td>\n",
       "      <td>{'RestaurantsDelivery': 'False', 'OutdoorSeati...</td>\n",
       "      <td>Bakeries</td>\n",
       "      <td>{'Monday': '7:0-20:0', 'Tuesday': '7:0-20:0', ...</td>\n",
       "    </tr>\n",
       "  </tbody>\n",
       "</table>\n",
       "</div>"
      ],
      "text/plain": [
       "              business_id                name      address          city  \\\n",
       "0  MTSW4McQd7CbVtyjqoe9mw  St Honore Pastries  935 Race St  Philadelphia   \n",
       "0  MTSW4McQd7CbVtyjqoe9mw  St Honore Pastries  935 Race St  Philadelphia   \n",
       "0  MTSW4McQd7CbVtyjqoe9mw  St Honore Pastries  935 Race St  Philadelphia   \n",
       "0  MTSW4McQd7CbVtyjqoe9mw  St Honore Pastries  935 Race St  Philadelphia   \n",
       "0  MTSW4McQd7CbVtyjqoe9mw  St Honore Pastries  935 Race St  Philadelphia   \n",
       "\n",
       "          state postal_code   latitude  longitude  stars  review_count  \\\n",
       "0  Pennsylvania       19107  39.955505 -75.155564    4.0            80   \n",
       "0  Pennsylvania       19107  39.955505 -75.155564    4.0            80   \n",
       "0  Pennsylvania       19107  39.955505 -75.155564    4.0            80   \n",
       "0  Pennsylvania       19107  39.955505 -75.155564    4.0            80   \n",
       "0  Pennsylvania       19107  39.955505 -75.155564    4.0            80   \n",
       "\n",
       "   is_open                                         attributes     categories  \\\n",
       "0        1  {'RestaurantsDelivery': 'False', 'OutdoorSeati...    Restaurants   \n",
       "0        1  {'RestaurantsDelivery': 'False', 'OutdoorSeati...           Food   \n",
       "0        1  {'RestaurantsDelivery': 'False', 'OutdoorSeati...     Bubble Tea   \n",
       "0        1  {'RestaurantsDelivery': 'False', 'OutdoorSeati...   Coffee & Tea   \n",
       "0        1  {'RestaurantsDelivery': 'False', 'OutdoorSeati...       Bakeries   \n",
       "\n",
       "                                               hours  \n",
       "0  {'Monday': '7:0-20:0', 'Tuesday': '7:0-20:0', ...  \n",
       "0  {'Monday': '7:0-20:0', 'Tuesday': '7:0-20:0', ...  \n",
       "0  {'Monday': '7:0-20:0', 'Tuesday': '7:0-20:0', ...  \n",
       "0  {'Monday': '7:0-20:0', 'Tuesday': '7:0-20:0', ...  \n",
       "0  {'Monday': '7:0-20:0', 'Tuesday': '7:0-20:0', ...  "
      ]
     },
     "execution_count": 32,
     "metadata": {},
     "output_type": "execute_result"
    }
   ],
   "source": [
    "# Exploding the categories column to ensure each category is handled separately\n",
    "df_exploded = restaurant_data_filtered.assign(categories=restaurant_data_filtered['categories'].str.split(',')).explode('categories')\n",
    "\n",
    "df_exploded.head()"
   ]
  },
  {
   "cell_type": "code",
   "execution_count": 33,
   "metadata": {},
   "outputs": [],
   "source": [
    "# Function to standardize spacing\n",
    "def standardize_spacing(x):\n",
    "    if isinstance(x, str):\n",
    "        return re.sub(r'\\s+', ' ', x.strip())\n",
    "    return x\n",
    "\n",
    "# Apply the function to all elements in the DataFrame\n",
    "df_exploded = df_exploded.applymap(standardize_spacing)"
   ]
  },
  {
   "cell_type": "code",
   "execution_count": 34,
   "metadata": {},
   "outputs": [],
   "source": [
    "# List of all the Cuisine in the categories\n",
    "cuisine=[\"American(New)\", \"Mexican\",'American (Traditional)','Italian','Chinese',\n",
    "         'Japanese','Asian Fusion','Mediterranean','Southern','Cajun/Creole','Tex-Mex',\n",
    "         'Thai','Latin American','Indian','Vietnamese','Greek','Caribbean','Middle Eastern',\n",
    "         'French','Korean','Halal','Spanish','Canadian (New)','Irish','Pakistani','Hawaiian',\n",
    "         'Soul Food','German','Szechuan','African','Filipino','Lebanese','Puerto Rican','Turkish',\n",
    "         'Cantonese','British','Peruvian','Kosher','Brazilian','Pan Asian','Taiwanese','Cuban','Colombian',\n",
    "         'Ethiopian','Venezuelan','Salvadoran','Laotian','Polish','Dominican','Russian','Persian/Iranian',\n",
    "         'Afghan','Moroccan','Arabic','Portuguese','Mongolian','Argentine','Malaysian','Belgian',\n",
    "         'Honduran','Himalayan/Nepalese','Armenian','Trinidadian','Ukrainian','Australian','Egyptian']\n",
    "\n",
    "# Filtering to get restaurants with cuisine\n",
    "restaurant_exploded = df_exploded[df_exploded.categories.isin(cuisine)]"
   ]
  },
  {
   "cell_type": "code",
   "execution_count": 35,
   "metadata": {},
   "outputs": [
    {
     "data": {
      "text/html": [
       "<div>\n",
       "<style scoped>\n",
       "    .dataframe tbody tr th:only-of-type {\n",
       "        vertical-align: middle;\n",
       "    }\n",
       "\n",
       "    .dataframe tbody tr th {\n",
       "        vertical-align: top;\n",
       "    }\n",
       "\n",
       "    .dataframe thead th {\n",
       "        text-align: right;\n",
       "    }\n",
       "</style>\n",
       "<table border=\"1\" class=\"dataframe\">\n",
       "  <thead>\n",
       "    <tr style=\"text-align: right;\">\n",
       "      <th></th>\n",
       "      <th>business_id</th>\n",
       "      <th>name</th>\n",
       "      <th>address</th>\n",
       "      <th>city</th>\n",
       "      <th>state</th>\n",
       "      <th>postal_code</th>\n",
       "      <th>latitude</th>\n",
       "      <th>longitude</th>\n",
       "      <th>stars</th>\n",
       "      <th>review_count</th>\n",
       "      <th>is_open</th>\n",
       "      <th>attributes</th>\n",
       "      <th>categories</th>\n",
       "      <th>hours</th>\n",
       "    </tr>\n",
       "  </thead>\n",
       "  <tbody>\n",
       "    <tr>\n",
       "      <th>2</th>\n",
       "      <td>k0hlBqXX-Bt0vf1op7Jr1w</td>\n",
       "      <td>Tsevi's Pub And Grill</td>\n",
       "      <td>8025 Mackenzie Rd</td>\n",
       "      <td>Affton</td>\n",
       "      <td>Missouri</td>\n",
       "      <td>63123</td>\n",
       "      <td>38.565165</td>\n",
       "      <td>-90.321087</td>\n",
       "      <td>3.0</td>\n",
       "      <td>19</td>\n",
       "      <td>0</td>\n",
       "      <td>{'Caters': 'True', 'Alcohol': \"u'full_bar'\", '...</td>\n",
       "      <td>Italian</td>\n",
       "      <td>Unknown</td>\n",
       "    </tr>\n",
       "    <tr>\n",
       "      <th>2</th>\n",
       "      <td>k0hlBqXX-Bt0vf1op7Jr1w</td>\n",
       "      <td>Tsevi's Pub And Grill</td>\n",
       "      <td>8025 Mackenzie Rd</td>\n",
       "      <td>Affton</td>\n",
       "      <td>Missouri</td>\n",
       "      <td>63123</td>\n",
       "      <td>38.565165</td>\n",
       "      <td>-90.321087</td>\n",
       "      <td>3.0</td>\n",
       "      <td>19</td>\n",
       "      <td>0</td>\n",
       "      <td>{'Caters': 'True', 'Alcohol': \"u'full_bar'\", '...</td>\n",
       "      <td>American (Traditional)</td>\n",
       "      <td>Unknown</td>\n",
       "    </tr>\n",
       "    <tr>\n",
       "      <th>2</th>\n",
       "      <td>k0hlBqXX-Bt0vf1op7Jr1w</td>\n",
       "      <td>Tsevi's Pub And Grill</td>\n",
       "      <td>8025 Mackenzie Rd</td>\n",
       "      <td>Affton</td>\n",
       "      <td>Missouri</td>\n",
       "      <td>63123</td>\n",
       "      <td>38.565165</td>\n",
       "      <td>-90.321087</td>\n",
       "      <td>3.0</td>\n",
       "      <td>19</td>\n",
       "      <td>0</td>\n",
       "      <td>{'Caters': 'True', 'Alcohol': \"u'full_bar'\", '...</td>\n",
       "      <td>Greek</td>\n",
       "      <td>Unknown</td>\n",
       "    </tr>\n",
       "    <tr>\n",
       "      <th>4</th>\n",
       "      <td>eEOYSgkmpB90uNA7lDOMRA</td>\n",
       "      <td>Vietnamese Food Truck</td>\n",
       "      <td>Unknown</td>\n",
       "      <td>Tampa Bay</td>\n",
       "      <td>Florida</td>\n",
       "      <td>33602</td>\n",
       "      <td>27.955269</td>\n",
       "      <td>-82.456320</td>\n",
       "      <td>4.0</td>\n",
       "      <td>10</td>\n",
       "      <td>1</td>\n",
       "      <td>{'Alcohol': \"'none'\", 'OutdoorSeating': 'None'...</td>\n",
       "      <td>Vietnamese</td>\n",
       "      <td>{'Monday': '11:0-14:0', 'Tuesday': '11:0-14:0'...</td>\n",
       "    </tr>\n",
       "    <tr>\n",
       "      <th>5</th>\n",
       "      <td>il_Ro8jwPlHresjw9EGmBg</td>\n",
       "      <td>Denny's</td>\n",
       "      <td>8901 US 31 S</td>\n",
       "      <td>Indianapolis</td>\n",
       "      <td>Indiana</td>\n",
       "      <td>46227</td>\n",
       "      <td>39.637133</td>\n",
       "      <td>-86.127217</td>\n",
       "      <td>2.5</td>\n",
       "      <td>28</td>\n",
       "      <td>1</td>\n",
       "      <td>{'RestaurantsReservations': 'False', 'Restaura...</td>\n",
       "      <td>American (Traditional)</td>\n",
       "      <td>{'Monday': '6:0-22:0', 'Tuesday': '6:0-22:0', ...</td>\n",
       "    </tr>\n",
       "  </tbody>\n",
       "</table>\n",
       "</div>"
      ],
      "text/plain": [
       "              business_id                   name            address  \\\n",
       "2  k0hlBqXX-Bt0vf1op7Jr1w  Tsevi's Pub And Grill  8025 Mackenzie Rd   \n",
       "2  k0hlBqXX-Bt0vf1op7Jr1w  Tsevi's Pub And Grill  8025 Mackenzie Rd   \n",
       "2  k0hlBqXX-Bt0vf1op7Jr1w  Tsevi's Pub And Grill  8025 Mackenzie Rd   \n",
       "4  eEOYSgkmpB90uNA7lDOMRA  Vietnamese Food Truck            Unknown   \n",
       "5  il_Ro8jwPlHresjw9EGmBg                Denny's       8901 US 31 S   \n",
       "\n",
       "           city     state postal_code   latitude  longitude  stars  \\\n",
       "2        Affton  Missouri       63123  38.565165 -90.321087    3.0   \n",
       "2        Affton  Missouri       63123  38.565165 -90.321087    3.0   \n",
       "2        Affton  Missouri       63123  38.565165 -90.321087    3.0   \n",
       "4     Tampa Bay   Florida       33602  27.955269 -82.456320    4.0   \n",
       "5  Indianapolis   Indiana       46227  39.637133 -86.127217    2.5   \n",
       "\n",
       "   review_count  is_open                                         attributes  \\\n",
       "2            19        0  {'Caters': 'True', 'Alcohol': \"u'full_bar'\", '...   \n",
       "2            19        0  {'Caters': 'True', 'Alcohol': \"u'full_bar'\", '...   \n",
       "2            19        0  {'Caters': 'True', 'Alcohol': \"u'full_bar'\", '...   \n",
       "4            10        1  {'Alcohol': \"'none'\", 'OutdoorSeating': 'None'...   \n",
       "5            28        1  {'RestaurantsReservations': 'False', 'Restaura...   \n",
       "\n",
       "               categories                                              hours  \n",
       "2                 Italian                                            Unknown  \n",
       "2  American (Traditional)                                            Unknown  \n",
       "2                   Greek                                            Unknown  \n",
       "4              Vietnamese  {'Monday': '11:0-14:0', 'Tuesday': '11:0-14:0'...  \n",
       "5  American (Traditional)  {'Monday': '6:0-22:0', 'Tuesday': '6:0-22:0', ...  "
      ]
     },
     "execution_count": 35,
     "metadata": {},
     "output_type": "execute_result"
    }
   ],
   "source": [
    "# Display the 'location' column to check the combined addresses\n",
    "restaurant_exploded.head()"
   ]
  },
  {
   "cell_type": "code",
   "execution_count": 36,
   "metadata": {},
   "outputs": [
    {
     "name": "stdout",
     "output_type": "stream",
     "text": [
      "<class 'pandas.core.frame.DataFrame'>\n",
      "Index: 38528 entries, 2 to 52285\n",
      "Data columns (total 15 columns):\n",
      " #   Column        Non-Null Count  Dtype  \n",
      "---  ------        --------------  -----  \n",
      " 0   business_id   38528 non-null  object \n",
      " 1   name          38528 non-null  object \n",
      " 2   address       38528 non-null  object \n",
      " 3   city          38528 non-null  object \n",
      " 4   state         38528 non-null  object \n",
      " 5   postal_code   38528 non-null  object \n",
      " 6   latitude      38528 non-null  float64\n",
      " 7   longitude     38528 non-null  float64\n",
      " 8   stars         38528 non-null  float64\n",
      " 9   review_count  38528 non-null  int64  \n",
      " 10  is_open       38528 non-null  int64  \n",
      " 11  attributes    38528 non-null  object \n",
      " 12  categories    38528 non-null  object \n",
      " 13  hours         38528 non-null  object \n",
      " 14  location      38528 non-null  object \n",
      "dtypes: float64(3), int64(2), object(10)\n",
      "memory usage: 4.7+ MB\n"
     ]
    }
   ],
   "source": [
    "# combining the address columns into a location column\n",
    "restaurant_exploded['location']=restaurant_exploded[['city','state','address']]\\\n",
    "            .apply( lambda x: f\"State:{x['state']}, City:{x['city']}, Address:{x['address']} \", axis=1)\n",
    "\n",
    "\n",
    "# viewing the restaurant_exploded dataset information\n",
    "restaurant_exploded.info()"
   ]
  },
  {
   "cell_type": "markdown",
   "metadata": {},
   "source": [
    "**Observations**\n",
    "***\n",
    " \n",
    "- The `categories` column have been standardized and exploded to handle multiple categories per restaurant. This transformation is necessary to accurately categorize each restaurant's offerings, which is essential for matching user preferences with the right restaurants.\n",
    "\n",
    "- The exploded DataFrame has been filtered to include only rows with specified cuisines. By narrowing down to specific cuisines, we ensure that the recommender system focuses on the most relevant restaurant types. This helps in improving precision\n",
    "\n",
    "- Combining the `state`, `city`, and `address` columns is vital for geographic-based recommendations, enabling the system to suggest restaurants within a user’s preferred or current location.\n",
    "\n",
    "- This results in a dataset with 38,528 rows of restaurants with their cuisine types and 15 columns"
   ]
  },
  {
   "cell_type": "code",
   "execution_count": 37,
   "metadata": {},
   "outputs": [],
   "source": [
    "def decompress(x):\n",
    "    \"\"\"\n",
    "    The function takes in a dictionary and returns only the keys that have their values not being False   \n",
    "    \"\"\"\n",
    "      \n",
    "    list_ = []\n",
    "    \n",
    "    # Check if x is a string\n",
    "    if not isinstance(x, str):\n",
    "        return ' '\n",
    "    \n",
    "    # evaluate the attributes column to convert it from a string to a dictionary\n",
    "    try:\n",
    "        data_dict = eval(x)\n",
    "    except Exception as e:\n",
    "        print(f\"Error evaluating {x}: {str(e)}\")\n",
    "        return ' '\n",
    "    \n",
    "    # iterate through the key-value pairs in the dictionary\n",
    "    for key, val in data_dict.items():\n",
    "        # check if the key is in the specified categories and if the value is not \"None\"\n",
    "        if (key in ['Ambience', 'GoodForMeal', 'BusinessParking']) and (val != \"None\"):\n",
    "            # if conditions are met, further iterate through sub-dictionary\n",
    "            try:\n",
    "                sub_dict = eval(val)\n",
    "                for key_, val_ in sub_dict.items():\n",
    "                    # if the sub-dictionary value is true, append it to the list\n",
    "                    if val_:\n",
    "                        list_.append(f'{key}{key}')\n",
    "            except Exception as e:\n",
    "                print(f\"Error evaluating {val}: {str(e)}\")\n",
    "        else:\n",
    "            # if the value is not false, append the key to the list\n",
    "            if val != 'False':\n",
    "                list_.append(key)\n",
    "    \n",
    "    # join the list of selected attribute names into a space-separated string\n",
    "    return \" \".join(list_)\n",
    "\n",
    "# create a new column 'attributes_true' in the df by applying the decompress function\n",
    "# include a condition to handle cases where attributes is 'Not-Available'\n",
    "restaurant_exploded['attributes_true'] = restaurant_exploded.attributes.apply(lambda x: decompress(x) if x != 'Not-Available' else ' ')"
   ]
  },
  {
   "cell_type": "code",
   "execution_count": 38,
   "metadata": {},
   "outputs": [
    {
     "name": "stdout",
     "output_type": "stream",
     "text": [
      "Original Attributes Column 2    {'Caters': 'True', 'Alcohol': \"u'full_bar'\", 'RestaurantsAttire': \"u'casual'\", 'RestaurantsDelivery': 'False', 'RestaurantsTakeOut': 'True', 'HasTV': 'True', 'NoiseLevel': \"u'average'\", 'BusinessAcceptsCreditCards': 'True', 'OutdoorSeating': 'True', 'BusinessParking': \"{'garage': False, 'street': False, 'validated': False, 'lot': True, 'valet': False}\", 'Ambience': \"{'romantic': False, 'intimate': False, 'touristy': False, 'hipster': False, 'divey': False, 'classy': False, 'trendy': False, 'upscale': False, 'casual': False}\", 'RestaurantsPriceRange2': '1', 'GoodForKids': 'True', 'WiFi': \"u'free'\", 'RestaurantsReservations': 'False', 'RestaurantsGoodForGroups': 'True'}\n",
      "Name: attributes, dtype: object\n",
      "Attributes_true Column 2    Caters Alcohol RestaurantsAttire RestaurantsTakeOut HasTV NoiseLevel BusinessAcceptsCreditCards OutdoorSeating BusinessParkingBusinessParking RestaurantsPriceRange2 GoodForKids WiFi RestaurantsGoodForGroups\n",
      "Name: attributes_true, dtype: object\n"
     ]
    }
   ],
   "source": [
    "# Example to show the new column generated using a sample business_id\n",
    "# Temporarily set display options\n",
    "pd.set_option('display.max_colwidth', None)  \n",
    "\n",
    "# Display the attributes sections\n",
    "print(\"Original Attributes Column\",restaurant_data[restaurant_data.business_id=='k0hlBqXX-Bt0vf1op7Jr1w'].attributes[:1])\n",
    "print(\"Attributes_true Column\",restaurant_exploded[restaurant_exploded.business_id=='k0hlBqXX-Bt0vf1op7Jr1w'].attributes_true[:1])\n",
    "\n",
    "# Reset display options to default after viewing\n",
    "pd.reset_option('display.max_colwidth')\n"
   ]
  },
  {
   "cell_type": "code",
   "execution_count": 39,
   "metadata": {},
   "outputs": [
    {
     "data": {
      "text/plain": [
       "(38528, 16)"
      ]
     },
     "execution_count": 39,
     "metadata": {},
     "output_type": "execute_result"
    }
   ],
   "source": [
    "# Checking the shape of the dataset\n",
    "restaurant_exploded.shape"
   ]
  },
  {
   "cell_type": "markdown",
   "metadata": {},
   "source": [
    "**Observations:**\n",
    "***\n",
    "- By using the compress function, the attributes column was stripped of any attributes that were False and a new column attributes true was created that only had the true attributes of each restaurant\n",
    "\n",
    "- This results in a dataset with 38,528 rows of restaurants with their cuisine types and 16 columns"
   ]
  },
  {
   "cell_type": "code",
   "execution_count": 69,
   "metadata": {},
   "outputs": [
    {
     "data": {
      "image/png": "[encoded data removed]",
      "text/plain": [
       "<Figure size 1000x600 with 1 Axes>"
      ]
     },
     "metadata": {},
     "output_type": "display_data"
    }
   ],
   "source": [
    "# Instantiate the UnivariateAnalysis class with the DataFrame\n",
    "uni_analysis = UnivariateAnalysis(restaurant_exploded)\n",
    "uni_analysis.plot_bar_chart('categories', 'Number of Cuisine Counts', limit=20, horizontal=True, descending=True)"
   ]
  },
  {
   "cell_type": "markdown",
   "metadata": {},
   "source": [
    "**Observations:**\n",
    "***\n",
    "\n",
    "- The majority of the restaurants mainly fall within American(Traditional), Italian, Mexican, Chinese, Japanese\n",
    "- American(Traditional) was largely dominant in the dataset after splitting\n"
   ]
  },
  {
   "cell_type": "code",
   "execution_count": 41,
   "metadata": {},
   "outputs": [],
   "source": [
    "# Save the cleaned user review data to a new CSV file\n",
    "users_data_cleaned.to_csv('data/cleaned_users_data.csv', index=False)"
   ]
  },
  {
   "cell_type": "code",
   "execution_count": 42,
   "metadata": {},
   "outputs": [],
   "source": [
    "\n",
    "# Save the filtered and transformed restaurant data to a new CSV file\n",
    "with open('Pickled_files/restaurants_data.pkl','wb')as file:\n",
    "    pickle.dump(restaurant_exploded, file)\n"
   ]
  },
  {
   "cell_type": "markdown",
   "metadata": {},
   "source": [
    "***\n",
    "## 4. MODELLING\n",
    "***\n",
    "\n",
    "In this section we will create a recommendation system using the datasets to solve our main problem.\n",
    "There are different types of recomentation models, in this project we will focus on three types of recommentation systems\n",
    "\n",
    "* 1. Content-Based Recommender systems\n",
    "* 2. Collaborative Filtering Systems\n",
    "* 3. Deep Neural Networks\n",
    "\n",
    "Now, in each of these categories we will compare the different models and see which ones perform best. For validation and comparison we will use the RMSE (root mean squared error) metric, that is how far is the prediction from the true value."
   ]
  },
  {
   "cell_type": "markdown",
   "metadata": {},
   "source": [
    "***\n",
    "##### 1. CONTENT BASED FILTERING\n",
    "***\n",
    "To perfrom the content based filtering, we utilized the restaurant data dataset.\n",
    "\n",
    "The restaurant's features such as types of cuisine they offer and attribues such as WiFi, Alcohol, Happy Hour, Noise Level, Restaurants Attire, Wheelchair Accessible, Restaurants TableService etc, were able to provide information to use cosine similarity to recommend the restaurants with the closest similarity."
   ]
  },
  {
   "cell_type": "code",
   "execution_count": 43,
   "metadata": {},
   "outputs": [
    {
     "name": "stdout",
     "output_type": "stream",
     "text": [
      "<class 'pandas.core.frame.DataFrame'>\n",
      "Index: 38528 entries, 2 to 52285\n",
      "Data columns (total 16 columns):\n",
      " #   Column           Non-Null Count  Dtype  \n",
      "---  ------           --------------  -----  \n",
      " 0   business_id      38528 non-null  object \n",
      " 1   name             38528 non-null  object \n",
      " 2   address          38528 non-null  object \n",
      " 3   city             38528 non-null  object \n",
      " 4   state            38528 non-null  object \n",
      " 5   postal_code      38528 non-null  object \n",
      " 6   latitude         38528 non-null  float64\n",
      " 7   longitude        38528 non-null  float64\n",
      " 8   stars            38528 non-null  float64\n",
      " 9   review_count     38528 non-null  int64  \n",
      " 10  is_open          38528 non-null  int64  \n",
      " 11  attributes       38528 non-null  object \n",
      " 12  categories       38528 non-null  object \n",
      " 13  hours            38528 non-null  object \n",
      " 14  location         38528 non-null  object \n",
      " 15  attributes_true  38528 non-null  object \n",
      "dtypes: float64(3), int64(2), object(11)\n",
      "memory usage: 5.0+ MB\n"
     ]
    }
   ],
   "source": [
    "# Loading the restaurant data from the pickled file\n",
    "df = pd.read_pickle('pickled_files/restaurants_data.pkl')\n",
    "\n",
    "# Overview of dataset information to understand the features we require\n",
    "df.info()"
   ]
  },
  {
   "cell_type": "code",
   "execution_count": 44,
   "metadata": {},
   "outputs": [],
   "source": [
    "# Preprocessing function\n",
    "def preprocess(df):\n",
    "    \"\"\"\n",
    "    Function to preprocess the data to combine the needed features into one column\n",
    "    Returns a dataframe with the combined_features columns\n",
    "    \"\"\"\n",
    "    filtered_df=df.copy()\n",
    "    # Combining the features into one column\n",
    "    filtered_df['combined_features'] = (\n",
    "                                        filtered_df['categories'] + \" \" +\n",
    "                                        filtered_df['attributes_true'] \n",
    "                                        )\n",
    "    # resetting the index\n",
    "    filtered_df = filtered_df.reset_index(drop=True)\n",
    "\n",
    "    # Return turns the filtered df\n",
    "    return filtered_df"
   ]
  },
  {
   "cell_type": "code",
   "execution_count": 45,
   "metadata": {},
   "outputs": [],
   "source": [
    "# Vectorization function\n",
    "def create_feature_vectors(df):\n",
    "    \"\"\"\n",
    "    Performing vectorization of the preprocessed categorical features \n",
    "    and combining with the numerical features\n",
    "    \"\"\"\n",
    "    # Vectorize the combined text features\n",
    "    tfidf = TfidfVectorizer(stop_words='english')\n",
    "    tfidf_matrix = tfidf.fit_transform(df['combined_features'])\n",
    "    \n",
    "    # Combine the TF-IDF matrix with numerical columns\n",
    "    numerical_features = df[['stars']].values\n",
    "    combined_features = np.hstack((tfidf_matrix.toarray(), numerical_features))\n",
    "    \n",
    "    return combined_features"
   ]
  },
  {
   "cell_type": "markdown",
   "metadata": {},
   "source": [
    "\n",
    "Using the cosine similarity matrix we will now create a content-based recommendation system that offers recommendations to users based on the restaurant names or text words representing the specifications of their desired restaurant and attributes.\n",
    "\n",
    "We use the cosine similarity matrix to compare similarities between different restaurants and the customer's preferences, then pick the top n similar restaurants to recommend based on his/her input."
   ]
  },
  {
   "cell_type": "code",
   "execution_count": 46,
   "metadata": {},
   "outputs": [],
   "source": [
    "# Recommendation function\n",
    "def recommendation(df, state, name=None, category=None):\n",
    "    \"\"\"\n",
    "    Creates recommendation based on name or category/cuisine using cosine similarity and filtering\n",
    "    Returns a dataframe containing name, state, city, address, stars and categories\n",
    "    \"\"\"\n",
    "    preprocessed = preprocess(df)\n",
    "    \n",
    "    def cuisines(cuisine=None, state=state):\n",
    "        \"\"\"\n",
    "        Function to filter to get the recommendations based on cuisine input\n",
    "        \"\"\"\n",
    "        preprocessed=df[df[\"state\"]==state]\n",
    "        cuisine_df = preprocessed[preprocessed['categories'] == cuisine]\n",
    "        cuisine_df_sorted = cuisine_df.sort_values(by=[\"stars\", \"city\"], ascending=False)\n",
    "        return cuisine_df_sorted[['name', 'state', 'city', 'stars', 'address', 'categories']]\n",
    "    \n",
    "    if name:\n",
    "        if name not in preprocessed['name'].values:\n",
    "            raise ValueError(f\"Restaurant with name '{name}' not found in the filtered data.\")\n",
    "\n",
    "        # Finding the index of the restaurant name\n",
    "        idx = preprocessed[preprocessed['name'] == name].index[0]\n",
    "        exclude_names = [name]\n",
    "\n",
    "        # Locating the restaurant row in the preprocessed df \n",
    "        row_to_add = preprocessed.iloc[idx]\n",
    "        \n",
    "        # convering it to a df\n",
    "        row_to_add_df = pd.DataFrame([row_to_add])     \n",
    "        \n",
    "        #generating a df for only the state i want to recommend in\n",
    "        specific_state= preprocessed[preprocessed[\"state\"] == state]\n",
    "        \n",
    "        # concatinating it to the specific state df and reseting the index\n",
    "        specific_state = pd.concat([specific_state, row_to_add_df]).reset_index(drop=True)\n",
    "        \n",
    "        # Finding the new index for the restaurant name\n",
    "        idx = specific_state[specific_state['name'] == name].index[0]\n",
    "        \n",
    "        # Creating feature vectors\n",
    "        combined_features = create_feature_vectors(specific_state)\n",
    "\n",
    "        # Finding the cosine similarity\n",
    "        cosine_sim = cosine_similarity(combined_features, combined_features)\n",
    "\n",
    "        # Finding the top indices of the restaurants to recommend\n",
    "        sim_scores = list(enumerate(cosine_sim[idx]))\n",
    "        sim_scores = sorted(sim_scores, key=lambda x: x[1], reverse=True)\n",
    "        top_indices = [i[0] for i in sim_scores]  \n",
    "\n",
    "        # Finding the rows of the top recommended restaurants\n",
    "        recommended_restaurants = specific_state.iloc[top_indices]\n",
    "        recommended_restaurants = recommended_restaurants[~recommended_restaurants['name'].isin(exclude_names)]        \n",
    "\n",
    "        # Return a df with the required features\n",
    "        return recommended_restaurants[['name', 'state', 'city', 'stars', 'address','categories']].drop_duplicates(subset='name')[:20]\n",
    "    \n",
    "    elif category:\n",
    "        # Filter based on cuisine/cateogry\n",
    "        return cuisines(category)"
   ]
  },
  {
   "cell_type": "markdown",
   "metadata": {},
   "source": [
    "The content_based function uses content-based recommendation techniques to provide restaurant recommendations based on user input preferences, restaurant names, or cuisine choice. "
   ]
  },
  {
   "cell_type": "code",
   "execution_count": 47,
   "metadata": {},
   "outputs": [
    {
     "name": "stdout",
     "output_type": "stream",
     "text": [
      "Random Restaurant Name: Flor Fina\n"
     ]
    },
    {
     "data": {
      "text/html": [
       "<div>\n",
       "<style scoped>\n",
       "    .dataframe tbody tr th:only-of-type {\n",
       "        vertical-align: middle;\n",
       "    }\n",
       "\n",
       "    .dataframe tbody tr th {\n",
       "        vertical-align: top;\n",
       "    }\n",
       "\n",
       "    .dataframe thead th {\n",
       "        text-align: right;\n",
       "    }\n",
       "</style>\n",
       "<table border=\"1\" class=\"dataframe\">\n",
       "  <thead>\n",
       "    <tr style=\"text-align: right;\">\n",
       "      <th></th>\n",
       "      <th>business_id</th>\n",
       "      <th>name</th>\n",
       "      <th>address</th>\n",
       "      <th>city</th>\n",
       "      <th>state</th>\n",
       "      <th>postal_code</th>\n",
       "      <th>latitude</th>\n",
       "      <th>longitude</th>\n",
       "      <th>stars</th>\n",
       "      <th>review_count</th>\n",
       "      <th>is_open</th>\n",
       "      <th>attributes</th>\n",
       "      <th>categories</th>\n",
       "      <th>hours</th>\n",
       "      <th>location</th>\n",
       "      <th>attributes_true</th>\n",
       "    </tr>\n",
       "  </thead>\n",
       "  <tbody>\n",
       "    <tr>\n",
       "      <th>43698</th>\n",
       "      <td>e4A1XPyEEMcfXxzDQhMrDQ</td>\n",
       "      <td>Flor Fina</td>\n",
       "      <td>1412 E 7th Ave</td>\n",
       "      <td>Tampa</td>\n",
       "      <td>Florida</td>\n",
       "      <td>33605</td>\n",
       "      <td>27.960766</td>\n",
       "      <td>-82.443715</td>\n",
       "      <td>4.0</td>\n",
       "      <td>72</td>\n",
       "      <td>1</td>\n",
       "      <td>{'Alcohol': \"u'full_bar'\", 'RestaurantsReserva...</td>\n",
       "      <td>Mediterranean</td>\n",
       "      <td>{'Monday': '11:0-23:0', 'Tuesday': '11:0-23:0'...</td>\n",
       "      <td>State:Florida, City:Tampa, Address:1412 E 7th ...</td>\n",
       "      <td>Alcohol RestaurantsReservations BusinessAccept...</td>\n",
       "    </tr>\n",
       "    <tr>\n",
       "      <th>43698</th>\n",
       "      <td>e4A1XPyEEMcfXxzDQhMrDQ</td>\n",
       "      <td>Flor Fina</td>\n",
       "      <td>1412 E 7th Ave</td>\n",
       "      <td>Tampa</td>\n",
       "      <td>Florida</td>\n",
       "      <td>33605</td>\n",
       "      <td>27.960766</td>\n",
       "      <td>-82.443715</td>\n",
       "      <td>4.0</td>\n",
       "      <td>72</td>\n",
       "      <td>1</td>\n",
       "      <td>{'Alcohol': \"u'full_bar'\", 'RestaurantsReserva...</td>\n",
       "      <td>Latin American</td>\n",
       "      <td>{'Monday': '11:0-23:0', 'Tuesday': '11:0-23:0'...</td>\n",
       "      <td>State:Florida, City:Tampa, Address:1412 E 7th ...</td>\n",
       "      <td>Alcohol RestaurantsReservations BusinessAccept...</td>\n",
       "    </tr>\n",
       "  </tbody>\n",
       "</table>\n",
       "</div>"
      ],
      "text/plain": [
       "                  business_id       name         address   city    state  \\\n",
       "43698  e4A1XPyEEMcfXxzDQhMrDQ  Flor Fina  1412 E 7th Ave  Tampa  Florida   \n",
       "43698  e4A1XPyEEMcfXxzDQhMrDQ  Flor Fina  1412 E 7th Ave  Tampa  Florida   \n",
       "\n",
       "      postal_code   latitude  longitude  stars  review_count  is_open  \\\n",
       "43698       33605  27.960766 -82.443715    4.0            72        1   \n",
       "43698       33605  27.960766 -82.443715    4.0            72        1   \n",
       "\n",
       "                                              attributes      categories  \\\n",
       "43698  {'Alcohol': \"u'full_bar'\", 'RestaurantsReserva...   Mediterranean   \n",
       "43698  {'Alcohol': \"u'full_bar'\", 'RestaurantsReserva...  Latin American   \n",
       "\n",
       "                                                   hours  \\\n",
       "43698  {'Monday': '11:0-23:0', 'Tuesday': '11:0-23:0'...   \n",
       "43698  {'Monday': '11:0-23:0', 'Tuesday': '11:0-23:0'...   \n",
       "\n",
       "                                                location  \\\n",
       "43698  State:Florida, City:Tampa, Address:1412 E 7th ...   \n",
       "43698  State:Florida, City:Tampa, Address:1412 E 7th ...   \n",
       "\n",
       "                                         attributes_true  \n",
       "43698  Alcohol RestaurantsReservations BusinessAccept...  \n",
       "43698  Alcohol RestaurantsReservations BusinessAccept...  "
      ]
     },
     "execution_count": 47,
     "metadata": {},
     "output_type": "execute_result"
    }
   ],
   "source": [
    "# Getting a random restaurant name\n",
    "random_name = df['name'].sample(n=1).values[0]\n",
    "print(\"Random Restaurant Name:\", random_name)\n",
    "\n",
    "# Information on sampled restaurant\n",
    "df[df.name==random_name]"
   ]
  },
  {
   "cell_type": "code",
   "execution_count": 48,
   "metadata": {},
   "outputs": [
    {
     "name": "stdout",
     "output_type": "stream",
     "text": [
      "Random State: Idaho\n"
     ]
    },
    {
     "data": {
      "text/html": [
       "<div>\n",
       "<style scoped>\n",
       "    .dataframe tbody tr th:only-of-type {\n",
       "        vertical-align: middle;\n",
       "    }\n",
       "\n",
       "    .dataframe tbody tr th {\n",
       "        vertical-align: top;\n",
       "    }\n",
       "\n",
       "    .dataframe thead th {\n",
       "        text-align: right;\n",
       "    }\n",
       "</style>\n",
       "<table border=\"1\" class=\"dataframe\">\n",
       "  <thead>\n",
       "    <tr style=\"text-align: right;\">\n",
       "      <th></th>\n",
       "      <th>name</th>\n",
       "      <th>state</th>\n",
       "      <th>city</th>\n",
       "      <th>stars</th>\n",
       "      <th>address</th>\n",
       "      <th>categories</th>\n",
       "    </tr>\n",
       "  </thead>\n",
       "  <tbody>\n",
       "    <tr>\n",
       "      <th>661</th>\n",
       "      <td>Café Vicino</td>\n",
       "      <td>Idaho</td>\n",
       "      <td>Boise</td>\n",
       "      <td>4.5</td>\n",
       "      <td>808 W Fort St</td>\n",
       "      <td>Mediterranean</td>\n",
       "    </tr>\n",
       "    <tr>\n",
       "      <th>702</th>\n",
       "      <td>Tazah Kabob</td>\n",
       "      <td>Idaho</td>\n",
       "      <td>Boise</td>\n",
       "      <td>5.0</td>\n",
       "      <td>5755 W Overland Rd</td>\n",
       "      <td>Mediterranean</td>\n",
       "    </tr>\n",
       "    <tr>\n",
       "      <th>42</th>\n",
       "      <td>Kabob House</td>\n",
       "      <td>Idaho</td>\n",
       "      <td>Boise</td>\n",
       "      <td>4.5</td>\n",
       "      <td>9140 W Emerald St</td>\n",
       "      <td>Mediterranean</td>\n",
       "    </tr>\n",
       "    <tr>\n",
       "      <th>601</th>\n",
       "      <td>Rendezvous</td>\n",
       "      <td>Idaho</td>\n",
       "      <td>Eagle</td>\n",
       "      <td>4.5</td>\n",
       "      <td>1117 E Winding Creek Dr</td>\n",
       "      <td>Mediterranean</td>\n",
       "    </tr>\n",
       "    <tr>\n",
       "      <th>517</th>\n",
       "      <td>Aladdin Egyptian Cuisine</td>\n",
       "      <td>Idaho</td>\n",
       "      <td>Boise</td>\n",
       "      <td>4.0</td>\n",
       "      <td>350 N Milwaukee St</td>\n",
       "      <td>Mediterranean</td>\n",
       "    </tr>\n",
       "    <tr>\n",
       "      <th>104</th>\n",
       "      <td>Cazba</td>\n",
       "      <td>Idaho</td>\n",
       "      <td>Boise</td>\n",
       "      <td>4.0</td>\n",
       "      <td>211 N 8th St</td>\n",
       "      <td>Mediterranean</td>\n",
       "    </tr>\n",
       "    <tr>\n",
       "      <th>99</th>\n",
       "      <td>Le Coq d'Or</td>\n",
       "      <td>Idaho</td>\n",
       "      <td>Eagle</td>\n",
       "      <td>4.0</td>\n",
       "      <td>176 S Rosebud Ln</td>\n",
       "      <td>Mediterranean</td>\n",
       "    </tr>\n",
       "    <tr>\n",
       "      <th>295</th>\n",
       "      <td>Food Land Market</td>\n",
       "      <td>Idaho</td>\n",
       "      <td>Boise</td>\n",
       "      <td>5.0</td>\n",
       "      <td>710 N Orchard St</td>\n",
       "      <td>Mediterranean</td>\n",
       "    </tr>\n",
       "    <tr>\n",
       "      <th>56</th>\n",
       "      <td>Richard's</td>\n",
       "      <td>Idaho</td>\n",
       "      <td>Boise</td>\n",
       "      <td>4.0</td>\n",
       "      <td>500 S Capitol Blvd, Ste 100</td>\n",
       "      <td>Mediterranean</td>\n",
       "    </tr>\n",
       "    <tr>\n",
       "      <th>832</th>\n",
       "      <td>Bosnia Express Boex</td>\n",
       "      <td>Idaho</td>\n",
       "      <td>Boise</td>\n",
       "      <td>4.5</td>\n",
       "      <td>4846 Emerald St</td>\n",
       "      <td>Mediterranean</td>\n",
       "    </tr>\n",
       "  </tbody>\n",
       "</table>\n",
       "</div>"
      ],
      "text/plain": [
       "                         name  state   city  stars  \\\n",
       "661               Café Vicino  Idaho  Boise    4.5   \n",
       "702               Tazah Kabob  Idaho  Boise    5.0   \n",
       "42                Kabob House  Idaho  Boise    4.5   \n",
       "601                Rendezvous  Idaho  Eagle    4.5   \n",
       "517  Aladdin Egyptian Cuisine  Idaho  Boise    4.0   \n",
       "104                     Cazba  Idaho  Boise    4.0   \n",
       "99                Le Coq d'Or  Idaho  Eagle    4.0   \n",
       "295          Food Land Market  Idaho  Boise    5.0   \n",
       "56                  Richard's  Idaho  Boise    4.0   \n",
       "832       Bosnia Express Boex  Idaho  Boise    4.5   \n",
       "\n",
       "                         address     categories  \n",
       "661                808 W Fort St  Mediterranean  \n",
       "702           5755 W Overland Rd  Mediterranean  \n",
       "42             9140 W Emerald St  Mediterranean  \n",
       "601      1117 E Winding Creek Dr  Mediterranean  \n",
       "517           350 N Milwaukee St  Mediterranean  \n",
       "104                 211 N 8th St  Mediterranean  \n",
       "99              176 S Rosebud Ln  Mediterranean  \n",
       "295             710 N Orchard St  Mediterranean  \n",
       "56   500 S Capitol Blvd, Ste 100  Mediterranean  \n",
       "832              4846 Emerald St  Mediterranean  "
      ]
     },
     "execution_count": 48,
     "metadata": {},
     "output_type": "execute_result"
    }
   ],
   "source": [
    "# Randomly chosen state\n",
    "random_state = df['state'].sample(n=1).values[0]\n",
    "print(\"Random State:\", random_state)\n",
    "\n",
    "# recommendations based on random state and random restaurant name\n",
    "restaurants = recommendation(df, state=random_state,  name=random_name)\n",
    "restaurants.head(10)"
   ]
  },
  {
   "cell_type": "code",
   "execution_count": 49,
   "metadata": {},
   "outputs": [
    {
     "name": "stdout",
     "output_type": "stream",
     "text": [
      "Random State: Tennessee\n"
     ]
    },
    {
     "data": {
      "text/html": [
       "<div>\n",
       "<style scoped>\n",
       "    .dataframe tbody tr th:only-of-type {\n",
       "        vertical-align: middle;\n",
       "    }\n",
       "\n",
       "    .dataframe tbody tr th {\n",
       "        vertical-align: top;\n",
       "    }\n",
       "\n",
       "    .dataframe thead th {\n",
       "        text-align: right;\n",
       "    }\n",
       "</style>\n",
       "<table border=\"1\" class=\"dataframe\">\n",
       "  <thead>\n",
       "    <tr style=\"text-align: right;\">\n",
       "      <th></th>\n",
       "      <th>name</th>\n",
       "      <th>state</th>\n",
       "      <th>city</th>\n",
       "      <th>stars</th>\n",
       "      <th>address</th>\n",
       "      <th>categories</th>\n",
       "    </tr>\n",
       "  </thead>\n",
       "  <tbody>\n",
       "    <tr>\n",
       "      <th>3351</th>\n",
       "      <td>Margot Cafe &amp; Bar</td>\n",
       "      <td>Tennessee</td>\n",
       "      <td>Nashville</td>\n",
       "      <td>4.5</td>\n",
       "      <td>1017 Woodland St</td>\n",
       "      <td>Mediterranean</td>\n",
       "    </tr>\n",
       "    <tr>\n",
       "      <th>2789</th>\n",
       "      <td>Epice</td>\n",
       "      <td>Tennessee</td>\n",
       "      <td>Nashville</td>\n",
       "      <td>4.5</td>\n",
       "      <td>2902 12th Ave S</td>\n",
       "      <td>Mediterranean</td>\n",
       "    </tr>\n",
       "    <tr>\n",
       "      <th>2132</th>\n",
       "      <td>Sadie's</td>\n",
       "      <td>Tennessee</td>\n",
       "      <td>Nashville</td>\n",
       "      <td>4.5</td>\n",
       "      <td>1200 Villa Pl</td>\n",
       "      <td>Mediterranean</td>\n",
       "    </tr>\n",
       "    <tr>\n",
       "      <th>171</th>\n",
       "      <td>North Italia</td>\n",
       "      <td>Tennessee</td>\n",
       "      <td>Franklin</td>\n",
       "      <td>4.0</td>\n",
       "      <td>4041 Aspen Grove Dr, Ste 100</td>\n",
       "      <td>Italian</td>\n",
       "    </tr>\n",
       "    <tr>\n",
       "      <th>3000</th>\n",
       "      <td>Rolf and Daughters</td>\n",
       "      <td>Tennessee</td>\n",
       "      <td>Nashville</td>\n",
       "      <td>4.5</td>\n",
       "      <td>700 Taylor St</td>\n",
       "      <td>Mediterranean</td>\n",
       "    </tr>\n",
       "    <tr>\n",
       "      <th>3129</th>\n",
       "      <td>Le Skewer</td>\n",
       "      <td>Tennessee</td>\n",
       "      <td>Brentwood</td>\n",
       "      <td>4.5</td>\n",
       "      <td>330 Franklin Rd</td>\n",
       "      <td>Mediterranean</td>\n",
       "    </tr>\n",
       "    <tr>\n",
       "      <th>194</th>\n",
       "      <td>Aladdin's Hookah Lounge and Bar</td>\n",
       "      <td>Tennessee</td>\n",
       "      <td>Nashville</td>\n",
       "      <td>3.5</td>\n",
       "      <td>2206 Elliston Pl</td>\n",
       "      <td>Mediterranean</td>\n",
       "    </tr>\n",
       "    <tr>\n",
       "      <th>2542</th>\n",
       "      <td>Aladdin's Hookah Lounge &amp; Bar</td>\n",
       "      <td>Tennessee</td>\n",
       "      <td>Nashville</td>\n",
       "      <td>3.0</td>\n",
       "      <td>2000 Belcourt Ave</td>\n",
       "      <td>Mediterranean</td>\n",
       "    </tr>\n",
       "    <tr>\n",
       "      <th>163</th>\n",
       "      <td>Inchin's Bamboo Garden</td>\n",
       "      <td>Tennessee</td>\n",
       "      <td>Nashville</td>\n",
       "      <td>4.0</td>\n",
       "      <td>1800 West End Ave</td>\n",
       "      <td>Chinese</td>\n",
       "    </tr>\n",
       "    <tr>\n",
       "      <th>113</th>\n",
       "      <td>Greko Greek Street Food</td>\n",
       "      <td>Tennessee</td>\n",
       "      <td>Nashville</td>\n",
       "      <td>4.0</td>\n",
       "      <td>704 Main St</td>\n",
       "      <td>Mediterranean</td>\n",
       "    </tr>\n",
       "  </tbody>\n",
       "</table>\n",
       "</div>"
      ],
      "text/plain": [
       "                                 name      state       city  stars  \\\n",
       "3351                Margot Cafe & Bar  Tennessee  Nashville    4.5   \n",
       "2789                            Epice  Tennessee  Nashville    4.5   \n",
       "2132                          Sadie's  Tennessee  Nashville    4.5   \n",
       "171                      North Italia  Tennessee   Franklin    4.0   \n",
       "3000               Rolf and Daughters  Tennessee  Nashville    4.5   \n",
       "3129                        Le Skewer  Tennessee  Brentwood    4.5   \n",
       "194   Aladdin's Hookah Lounge and Bar  Tennessee  Nashville    3.5   \n",
       "2542    Aladdin's Hookah Lounge & Bar  Tennessee  Nashville    3.0   \n",
       "163            Inchin's Bamboo Garden  Tennessee  Nashville    4.0   \n",
       "113           Greko Greek Street Food  Tennessee  Nashville    4.0   \n",
       "\n",
       "                           address     categories  \n",
       "3351              1017 Woodland St  Mediterranean  \n",
       "2789               2902 12th Ave S  Mediterranean  \n",
       "2132                 1200 Villa Pl  Mediterranean  \n",
       "171   4041 Aspen Grove Dr, Ste 100        Italian  \n",
       "3000                 700 Taylor St  Mediterranean  \n",
       "3129               330 Franklin Rd  Mediterranean  \n",
       "194               2206 Elliston Pl  Mediterranean  \n",
       "2542             2000 Belcourt Ave  Mediterranean  \n",
       "163              1800 West End Ave        Chinese  \n",
       "113                    704 Main St  Mediterranean  "
      ]
     },
     "execution_count": 49,
     "metadata": {},
     "output_type": "execute_result"
    }
   ],
   "source": [
    "# Randomly chosen state\n",
    "random_state = df['state'].sample(n=1).values[0]\n",
    "print(\"Random State:\", random_state)\n",
    "\n",
    "# recommendations based on random state and random restaurant name\n",
    "restaurants = recommendation(df, state=random_state,  name=random_name)\n",
    "restaurants.head(10)"
   ]
  },
  {
   "cell_type": "markdown",
   "metadata": {},
   "source": [
    "**Observations**\n",
    "***\n",
    "\n",
    "- A randomly sampled restaurant name and a randomly sampled state were chosen for demostrational purposes.\n",
    "- It can be noted that, recommendation locations are accurate in that the restaurant may not be from that state but recommendations are given for the state in question.\n",
    "- We can also see that majority of the cuisines/categories match the restaurant in question.\n",
    "- Other attributes_true features contribute to the recommendations\n"
   ]
  },
  {
   "cell_type": "code",
   "execution_count": 50,
   "metadata": {},
   "outputs": [
    {
     "name": "stdout",
     "output_type": "stream",
     "text": [
      "Random State: California\n",
      "Random Cuisine: American (Traditional)\n"
     ]
    },
    {
     "data": {
      "text/html": [
       "<div>\n",
       "<style scoped>\n",
       "    .dataframe tbody tr th:only-of-type {\n",
       "        vertical-align: middle;\n",
       "    }\n",
       "\n",
       "    .dataframe tbody tr th {\n",
       "        vertical-align: top;\n",
       "    }\n",
       "\n",
       "    .dataframe thead th {\n",
       "        text-align: right;\n",
       "    }\n",
       "</style>\n",
       "<table border=\"1\" class=\"dataframe\">\n",
       "  <thead>\n",
       "    <tr style=\"text-align: right;\">\n",
       "      <th></th>\n",
       "      <th>name</th>\n",
       "      <th>state</th>\n",
       "      <th>city</th>\n",
       "      <th>stars</th>\n",
       "      <th>address</th>\n",
       "      <th>categories</th>\n",
       "    </tr>\n",
       "  </thead>\n",
       "  <tbody>\n",
       "    <tr>\n",
       "      <th>6633</th>\n",
       "      <td>Venus in Furs</td>\n",
       "      <td>California</td>\n",
       "      <td>Santa Barbara</td>\n",
       "      <td>5.0</td>\n",
       "      <td>18 E Cota St</td>\n",
       "      <td>American (Traditional)</td>\n",
       "    </tr>\n",
       "    <tr>\n",
       "      <th>46020</th>\n",
       "      <td>Uncorked Wine Tasting and Kitchen</td>\n",
       "      <td>California</td>\n",
       "      <td>Santa Barbara</td>\n",
       "      <td>5.0</td>\n",
       "      <td>432 E Haley St</td>\n",
       "      <td>American (Traditional)</td>\n",
       "    </tr>\n",
       "    <tr>\n",
       "      <th>46828</th>\n",
       "      <td>Corner Tap Room</td>\n",
       "      <td>California</td>\n",
       "      <td>Santa Barbara</td>\n",
       "      <td>5.0</td>\n",
       "      <td>1905 Cliff Dr</td>\n",
       "      <td>American (Traditional)</td>\n",
       "    </tr>\n",
       "    <tr>\n",
       "      <th>2215</th>\n",
       "      <td>Oliver's</td>\n",
       "      <td>California</td>\n",
       "      <td>Santa Barbara</td>\n",
       "      <td>4.5</td>\n",
       "      <td>1198 Coast Village Rd</td>\n",
       "      <td>American (Traditional)</td>\n",
       "    </tr>\n",
       "    <tr>\n",
       "      <th>2793</th>\n",
       "      <td>Cold Spring Tavern</td>\n",
       "      <td>California</td>\n",
       "      <td>Santa Barbara</td>\n",
       "      <td>4.5</td>\n",
       "      <td>5995 Stagecoach Rd</td>\n",
       "      <td>American (Traditional)</td>\n",
       "    </tr>\n",
       "  </tbody>\n",
       "</table>\n",
       "</div>"
      ],
      "text/plain": [
       "                                    name       state           city  stars  \\\n",
       "6633                       Venus in Furs  California  Santa Barbara    5.0   \n",
       "46020  Uncorked Wine Tasting and Kitchen  California  Santa Barbara    5.0   \n",
       "46828                    Corner Tap Room  California  Santa Barbara    5.0   \n",
       "2215                            Oliver's  California  Santa Barbara    4.5   \n",
       "2793                  Cold Spring Tavern  California  Santa Barbara    4.5   \n",
       "\n",
       "                     address              categories  \n",
       "6633            18 E Cota St  American (Traditional)  \n",
       "46020         432 E Haley St  American (Traditional)  \n",
       "46828          1905 Cliff Dr  American (Traditional)  \n",
       "2215   1198 Coast Village Rd  American (Traditional)  \n",
       "2793      5995 Stagecoach Rd  American (Traditional)  "
      ]
     },
     "execution_count": 50,
     "metadata": {},
     "output_type": "execute_result"
    }
   ],
   "source": [
    "random_state = df['state'].sample(n=1).values[0]\n",
    "print(\"Random State:\", random_state)\n",
    "\n",
    "random_cuisine = df['categories'].sample(n=1).values[0]\n",
    "print(\"Random Cuisine:\", random_cuisine)\n",
    "\n",
    "# Example recommendations based on state, category/cuisine\n",
    "cuisines = recommendation(df, state=random_state,  category=random_cuisine)\n",
    "cuisines.head()"
   ]
  },
  {
   "cell_type": "markdown",
   "metadata": {},
   "source": [
    "**Observations**\n",
    "***\n",
    "- A randomly sampled state and a randomly sampled cuisine was used for demostration puposes\n",
    "- It can be seen that the system recommends the cuisine desired \n",
    "- As well as recommending specifically in the state desired."
   ]
  },
  {
   "cell_type": "markdown",
   "metadata": {},
   "source": [
    "***\n",
    "##### 2. COLLABORATIVE FILTERING MODELS\n",
    "***\n",
    "\n",
    "Here the tasks related to building a collaborative filtering recommendation system using the Surprise library are undertaken for collaborative filtering by selecting the relevant columns, importing the Surprise library, initializing a Reader object to specify the data format, and then loading the data into a Surprise Dataset object for further analysis and model building."
   ]
  },
  {
   "cell_type": "code",
   "execution_count": 51,
   "metadata": {},
   "outputs": [
    {
     "name": "stdout",
     "output_type": "stream",
     "text": [
      "<class 'pandas.core.frame.DataFrame'>\n",
      "RangeIndex: 2559584 entries, 0 to 2559583\n",
      "Data columns (total 4 columns):\n",
      " #   Column       Dtype \n",
      "---  ------       ----- \n",
      " 0   user_id      object\n",
      " 1   business_id  object\n",
      " 2   stars        int64 \n",
      " 3   date         object\n",
      "dtypes: int64(1), object(3)\n",
      "memory usage: 78.1+ MB\n"
     ]
    }
   ],
   "source": [
    "# Loading the users csv file\n",
    "users_data= pd.read_csv(\"data/cleaned_users_data.csv\")\n",
    "\n",
    "# summary information on data\n",
    "users_data.info()"
   ]
  },
  {
   "cell_type": "code",
   "execution_count": 52,
   "metadata": {},
   "outputs": [
    {
     "data": {
      "text/html": [
       "<div>\n",
       "<style scoped>\n",
       "    .dataframe tbody tr th:only-of-type {\n",
       "        vertical-align: middle;\n",
       "    }\n",
       "\n",
       "    .dataframe tbody tr th {\n",
       "        vertical-align: top;\n",
       "    }\n",
       "\n",
       "    .dataframe thead th {\n",
       "        text-align: right;\n",
       "    }\n",
       "</style>\n",
       "<table border=\"1\" class=\"dataframe\">\n",
       "  <thead>\n",
       "    <tr style=\"text-align: right;\">\n",
       "      <th></th>\n",
       "      <th>user_id</th>\n",
       "      <th>business_id</th>\n",
       "      <th>stars_x</th>\n",
       "      <th>date</th>\n",
       "      <th>name</th>\n",
       "      <th>address</th>\n",
       "      <th>city</th>\n",
       "      <th>state</th>\n",
       "      <th>postal_code</th>\n",
       "      <th>latitude</th>\n",
       "      <th>longitude</th>\n",
       "      <th>stars_y</th>\n",
       "      <th>review_count</th>\n",
       "      <th>is_open</th>\n",
       "      <th>attributes</th>\n",
       "      <th>categories</th>\n",
       "      <th>hours</th>\n",
       "      <th>location</th>\n",
       "      <th>attributes_true</th>\n",
       "    </tr>\n",
       "  </thead>\n",
       "  <tbody>\n",
       "    <tr>\n",
       "      <th>0</th>\n",
       "      <td>bcjbaE6dDog4jkNY91ncLQ</td>\n",
       "      <td>e4Vwtrqf-wpJfwesgvdgxQ</td>\n",
       "      <td>4</td>\n",
       "      <td>2017-01-14 20:54:15</td>\n",
       "      <td>Melt</td>\n",
       "      <td>2549 Banks St</td>\n",
       "      <td>New Orleans</td>\n",
       "      <td>Louisiana</td>\n",
       "      <td>70119</td>\n",
       "      <td>29.962102</td>\n",
       "      <td>-90.087958</td>\n",
       "      <td>4.0</td>\n",
       "      <td>32</td>\n",
       "      <td>0</td>\n",
       "      <td>{'BusinessParking': \"{'garage': False, 'street...</td>\n",
       "      <td>American (Traditional)</td>\n",
       "      <td>{'Monday': '0:0-0:0', 'Friday': '11:0-17:0', '...</td>\n",
       "      <td>State:Louisiana, City:New Orleans, Address:254...</td>\n",
       "      <td>BusinessParkingBusinessParking GoodForMealGood...</td>\n",
       "    </tr>\n",
       "    <tr>\n",
       "      <th>1</th>\n",
       "      <td>RreNy--tOmXMl1en0wiBOg</td>\n",
       "      <td>cPepkJeRMtHapc_b2Oe_dw</td>\n",
       "      <td>4</td>\n",
       "      <td>2018-07-17 03:30:07</td>\n",
       "      <td>Naked Tchopstix Express</td>\n",
       "      <td>2902 W 86th St, Ste 70</td>\n",
       "      <td>Indianapolis</td>\n",
       "      <td>Indiana</td>\n",
       "      <td>46268</td>\n",
       "      <td>39.912505</td>\n",
       "      <td>-86.211285</td>\n",
       "      <td>3.5</td>\n",
       "      <td>33</td>\n",
       "      <td>0</td>\n",
       "      <td>{'GoodForMeal': \"{'dessert': False, 'latenight...</td>\n",
       "      <td>Hawaiian</td>\n",
       "      <td>{'Monday': '11:0-21:0', 'Tuesday': '11:0-21:0'...</td>\n",
       "      <td>State:Indiana, City:Indianapolis, Address:2902...</td>\n",
       "      <td>OutdoorSeating RestaurantsTakeOut RestaurantsG...</td>\n",
       "    </tr>\n",
       "    <tr>\n",
       "      <th>2</th>\n",
       "      <td>Jha0USGDMefGFRLik_xFQg</td>\n",
       "      <td>bMratNjTG5ZFEA6hVyr-xQ</td>\n",
       "      <td>5</td>\n",
       "      <td>2017-02-19 13:32:05</td>\n",
       "      <td>Portobello Cafe</td>\n",
       "      <td>1423 Chester Pike</td>\n",
       "      <td>Eddystone</td>\n",
       "      <td>Pennsylvania</td>\n",
       "      <td>19022</td>\n",
       "      <td>39.865032</td>\n",
       "      <td>-75.344051</td>\n",
       "      <td>4.0</td>\n",
       "      <td>137</td>\n",
       "      <td>1</td>\n",
       "      <td>{'BikeParking': 'True', 'RestaurantsReservatio...</td>\n",
       "      <td>Italian</td>\n",
       "      <td>{'Monday': '16:30-21:0', 'Tuesday': '16:30-21:...</td>\n",
       "      <td>State:Pennsylvania, City:Eddystone, Address:14...</td>\n",
       "      <td>BikeParking RestaurantsReservations HasTV Rest...</td>\n",
       "    </tr>\n",
       "    <tr>\n",
       "      <th>3</th>\n",
       "      <td>iYY5Ii1LGpZCpXFkHlMefw</td>\n",
       "      <td>Zx7n8mdt8OzLRXVzolXNhQ</td>\n",
       "      <td>5</td>\n",
       "      <td>2018-04-27 23:03:21</td>\n",
       "      <td>Milk and Honey Nashville</td>\n",
       "      <td>214 11th Ave S</td>\n",
       "      <td>Nashville</td>\n",
       "      <td>Tennessee</td>\n",
       "      <td>37203</td>\n",
       "      <td>36.154702</td>\n",
       "      <td>-86.784541</td>\n",
       "      <td>4.0</td>\n",
       "      <td>1725</td>\n",
       "      <td>1</td>\n",
       "      <td>{'WheelchairAccessible': 'True', 'RestaurantsP...</td>\n",
       "      <td>American (Traditional)</td>\n",
       "      <td>{'Monday': '0:0-0:0', 'Thursday': '6:30-15:0',...</td>\n",
       "      <td>State:Tennessee, City:Nashville, Address:214 1...</td>\n",
       "      <td>WheelchairAccessible RestaurantsPriceRange2 Bu...</td>\n",
       "    </tr>\n",
       "    <tr>\n",
       "      <th>4</th>\n",
       "      <td>S7bjj-L07JuRr-tpX1UZLw</td>\n",
       "      <td>I6L0Zxi5Ww0zEWSAVgngeQ</td>\n",
       "      <td>4</td>\n",
       "      <td>2018-07-07 20:50:12</td>\n",
       "      <td>Cafe Beignet on Bourbon Street</td>\n",
       "      <td>311 Bourbon St</td>\n",
       "      <td>New Orleans</td>\n",
       "      <td>Louisiana</td>\n",
       "      <td>70130</td>\n",
       "      <td>29.955845</td>\n",
       "      <td>-90.068436</td>\n",
       "      <td>3.5</td>\n",
       "      <td>1066</td>\n",
       "      <td>1</td>\n",
       "      <td>{'GoodForKids': 'True', 'OutdoorSeating': 'Tru...</td>\n",
       "      <td>Cajun/Creole</td>\n",
       "      <td>{'Monday': '0:0-0:0', 'Tuesday': '8:0-15:0', '...</td>\n",
       "      <td>State:Louisiana, City:New Orleans, Address:311...</td>\n",
       "      <td>GoodForKids OutdoorSeating BusinessAcceptsCred...</td>\n",
       "    </tr>\n",
       "  </tbody>\n",
       "</table>\n",
       "</div>"
      ],
      "text/plain": [
       "                  user_id             business_id  stars_x  \\\n",
       "0  bcjbaE6dDog4jkNY91ncLQ  e4Vwtrqf-wpJfwesgvdgxQ        4   \n",
       "1  RreNy--tOmXMl1en0wiBOg  cPepkJeRMtHapc_b2Oe_dw        4   \n",
       "2  Jha0USGDMefGFRLik_xFQg  bMratNjTG5ZFEA6hVyr-xQ        5   \n",
       "3  iYY5Ii1LGpZCpXFkHlMefw  Zx7n8mdt8OzLRXVzolXNhQ        5   \n",
       "4  S7bjj-L07JuRr-tpX1UZLw  I6L0Zxi5Ww0zEWSAVgngeQ        4   \n",
       "\n",
       "                  date                            name  \\\n",
       "0  2017-01-14 20:54:15                            Melt   \n",
       "1  2018-07-17 03:30:07         Naked Tchopstix Express   \n",
       "2  2017-02-19 13:32:05                 Portobello Cafe   \n",
       "3  2018-04-27 23:03:21        Milk and Honey Nashville   \n",
       "4  2018-07-07 20:50:12  Cafe Beignet on Bourbon Street   \n",
       "\n",
       "                  address          city         state postal_code   latitude  \\\n",
       "0           2549 Banks St   New Orleans     Louisiana       70119  29.962102   \n",
       "1  2902 W 86th St, Ste 70  Indianapolis       Indiana       46268  39.912505   \n",
       "2       1423 Chester Pike     Eddystone  Pennsylvania       19022  39.865032   \n",
       "3          214 11th Ave S     Nashville     Tennessee       37203  36.154702   \n",
       "4          311 Bourbon St   New Orleans     Louisiana       70130  29.955845   \n",
       "\n",
       "   longitude  stars_y  review_count  is_open  \\\n",
       "0 -90.087958      4.0            32        0   \n",
       "1 -86.211285      3.5            33        0   \n",
       "2 -75.344051      4.0           137        1   \n",
       "3 -86.784541      4.0          1725        1   \n",
       "4 -90.068436      3.5          1066        1   \n",
       "\n",
       "                                          attributes              categories  \\\n",
       "0  {'BusinessParking': \"{'garage': False, 'street...  American (Traditional)   \n",
       "1  {'GoodForMeal': \"{'dessert': False, 'latenight...                Hawaiian   \n",
       "2  {'BikeParking': 'True', 'RestaurantsReservatio...                 Italian   \n",
       "3  {'WheelchairAccessible': 'True', 'RestaurantsP...  American (Traditional)   \n",
       "4  {'GoodForKids': 'True', 'OutdoorSeating': 'Tru...            Cajun/Creole   \n",
       "\n",
       "                                               hours  \\\n",
       "0  {'Monday': '0:0-0:0', 'Friday': '11:0-17:0', '...   \n",
       "1  {'Monday': '11:0-21:0', 'Tuesday': '11:0-21:0'...   \n",
       "2  {'Monday': '16:30-21:0', 'Tuesday': '16:30-21:...   \n",
       "3  {'Monday': '0:0-0:0', 'Thursday': '6:30-15:0',...   \n",
       "4  {'Monday': '0:0-0:0', 'Tuesday': '8:0-15:0', '...   \n",
       "\n",
       "                                            location  \\\n",
       "0  State:Louisiana, City:New Orleans, Address:254...   \n",
       "1  State:Indiana, City:Indianapolis, Address:2902...   \n",
       "2  State:Pennsylvania, City:Eddystone, Address:14...   \n",
       "3  State:Tennessee, City:Nashville, Address:214 1...   \n",
       "4  State:Louisiana, City:New Orleans, Address:311...   \n",
       "\n",
       "                                     attributes_true  \n",
       "0  BusinessParkingBusinessParking GoodForMealGood...  \n",
       "1  OutdoorSeating RestaurantsTakeOut RestaurantsG...  \n",
       "2  BikeParking RestaurantsReservations HasTV Rest...  \n",
       "3  WheelchairAccessible RestaurantsPriceRange2 Bu...  \n",
       "4  GoodForKids OutdoorSeating BusinessAcceptsCred...  "
      ]
     },
     "execution_count": 52,
     "metadata": {},
     "output_type": "execute_result"
    }
   ],
   "source": [
    "# merging the two datasets into one using the business_id primary key\n",
    "data=pd.merge(left=users_data, right=df, how='inner', on='business_id')\n",
    "\n",
    "# previewing the new merge dataset\n",
    "data.head()"
   ]
  },
  {
   "cell_type": "code",
   "execution_count": 53,
   "metadata": {},
   "outputs": [
    {
     "name": "stdout",
     "output_type": "stream",
     "text": [
      "<class 'pandas.core.frame.DataFrame'>\n",
      "RangeIndex: 2386717 entries, 0 to 2386716\n",
      "Data columns (total 19 columns):\n",
      " #   Column           Dtype  \n",
      "---  ------           -----  \n",
      " 0   user_id          object \n",
      " 1   business_id      object \n",
      " 2   b/s_rating       int64  \n",
      " 3   date             object \n",
      " 4   name             object \n",
      " 5   address          object \n",
      " 6   city             object \n",
      " 7   state            object \n",
      " 8   postal_code      object \n",
      " 9   latitude         float64\n",
      " 10  longitude        float64\n",
      " 11  rating           float64\n",
      " 12  review_count     int64  \n",
      " 13  is_open          int64  \n",
      " 14  attributes       object \n",
      " 15  categories       object \n",
      " 16  hours            object \n",
      " 17  location         object \n",
      " 18  attributes_true  object \n",
      "dtypes: float64(3), int64(3), object(13)\n",
      "memory usage: 346.0+ MB\n"
     ]
    }
   ],
   "source": [
    "# Renaming the **stars_x** and **stars_y** columns into **rating** and **b/s_rating** columns for better understanding\n",
    "data.rename(columns={'stars_x':'b/s_rating', 'stars_y':'rating'}, inplace=True)\n",
    "\n",
    "# previewing the data information\n",
    "data.info()"
   ]
  },
  {
   "cell_type": "markdown",
   "metadata": {},
   "source": [
    "#### **Preprocessing Data For Modeling**\n",
    "***"
   ]
  },
  {
   "cell_type": "code",
   "execution_count": 54,
   "metadata": {},
   "outputs": [
    {
     "name": "stdout",
     "output_type": "stream",
     "text": [
      "Number of users:  738495 \n",
      "\n",
      "Number of Restaurants:  24835\n"
     ]
    }
   ],
   "source": [
    "\n",
    "#selecting specific columns that are relevant for collaborative filtering models\n",
    "new_df = data[['user_id', 'business_id', 'rating']]\n",
    "\n",
    "# using Reader() from surprise module to convert dataframe into surprise dataformat\n",
    "# instantiating a reader object\n",
    "reader = Reader(rating_scale=(1, 5))\n",
    "\n",
    "# using the reader to read the trainset\n",
    "data_2 = Dataset.load_from_df(new_df,reader)\n",
    "\n",
    "# Creating a train set with all available data\n",
    "dataset = data_2.build_full_trainset()\n",
    "\n",
    "# Split the data into training and test sets\n",
    "trainset, testset = train_test_split(data_2, test_size=0.25)\n",
    "\n",
    "print('Number of users: ', dataset.n_users, '\\n')\n",
    "print('Number of Restaurants: ', dataset.n_items)"
   ]
  },
  {
   "cell_type": "code",
   "execution_count": 55,
   "metadata": {},
   "outputs": [],
   "source": [
    "# saving the data as a pickle\n",
    "\n",
    "with open('pickled_files/new_df.pkl','wb') as file:\n",
    "    pickle.dump(new_df, file)\n"
   ]
  },
  {
   "cell_type": "markdown",
   "metadata": {},
   "source": [
    "### **Baseline Model Using Normal Predictor**\n",
    "***"
   ]
  },
  {
   "cell_type": "code",
   "execution_count": 56,
   "metadata": {},
   "outputs": [
    {
     "name": "stdout",
     "output_type": "stream",
     "text": [
      "RMSE: 0.8185\n"
     ]
    },
    {
     "data": {
      "text/plain": [
       "0.8185080955430073"
      ]
     },
     "execution_count": 56,
     "metadata": {},
     "output_type": "execute_result"
    }
   ],
   "source": [
    "# Initialize the Normal Predictor algorithm\n",
    "model_1 = NormalPredictor()\n",
    "\n",
    "# Train the model on the training set\n",
    "model_1.fit(trainset)\n",
    "\n",
    "# Predict ratings for the test set\n",
    "predictions = model_1.test(testset)\n",
    "\n",
    "# Compute rmse\n",
    "accuracy.rmse(predictions)"
   ]
  },
  {
   "cell_type": "markdown",
   "metadata": {},
   "source": [
    "**Observations:**\n",
    "***\n",
    "- A normal predictor model from the surpise library was used as the initial dummy prediction model\n",
    "- The model was able to achieve an RMSE of 0.82"
   ]
  },
  {
   "cell_type": "markdown",
   "metadata": {},
   "source": [
    "### **NMF Model With Default Parameters**\n",
    "***"
   ]
  },
  {
   "cell_type": "code",
   "execution_count": 57,
   "metadata": {},
   "outputs": [
    {
     "name": "stdout",
     "output_type": "stream",
     "text": [
      "RMSE: 0.3492\n"
     ]
    },
    {
     "data": {
      "text/plain": [
       "0.34923950933089953"
      ]
     },
     "execution_count": 57,
     "metadata": {},
     "output_type": "execute_result"
    }
   ],
   "source": [
    "# Initialize the NMF algorithm\n",
    "model_2 = NMF(random_state=42)\n",
    "\n",
    "# Train the model on the training set\n",
    "model_2.fit(trainset)\n",
    "\n",
    "# Predict ratings for the test set\n",
    "predictions = model_2.test(testset)\n",
    "\n",
    "# Compute RMSE\n",
    "accuracy.rmse(predictions)"
   ]
  },
  {
   "cell_type": "markdown",
   "metadata": {},
   "source": [
    "**Observations:**\n",
    "***\n",
    "- A Non-Negative Matrix Factorization(NMF) model was used as it is ideal when ratings are non-negative (i.e., ratings from 1 to 5).\n",
    "- The model was able to achieve an RMSE of 0.3479 which was a great improvement on the Normal Predictor."
   ]
  },
  {
   "cell_type": "markdown",
   "metadata": {},
   "source": [
    "### **SVD Model With Default Parameters**\n",
    "***"
   ]
  },
  {
   "cell_type": "code",
   "execution_count": 58,
   "metadata": {},
   "outputs": [
    {
     "name": "stdout",
     "output_type": "stream",
     "text": [
      "RMSE: 0.1177\n"
     ]
    },
    {
     "data": {
      "text/plain": [
       "0.11767655205211427"
      ]
     },
     "execution_count": 58,
     "metadata": {},
     "output_type": "execute_result"
    }
   ],
   "source": [
    "# Initialize the SVD algorithm\n",
    "model_3 = SVD(random_state=42)\n",
    "\n",
    "# Train the model on the training set\n",
    "model_3.fit(trainset)\n",
    "\n",
    "# Predict ratings for the test set\n",
    "predictions = model_3.test(testset)\n",
    "\n",
    "# Compute RMSE\n",
    "accuracy.rmse(predictions)"
   ]
  },
  {
   "cell_type": "code",
   "execution_count": 59,
   "metadata": {},
   "outputs": [
    {
     "name": "stdout",
     "output_type": "stream",
     "text": [
      "('test_rmse', array([0.11421767, 0.11203492, 0.11429362, 0.11313845, 0.11369016]))\n",
      "('test_mae', array([0.0543723 , 0.05407876, 0.05449346, 0.05422711, 0.05422642]))\n",
      "('fit_time', (58.86489272117615, 59.03896999359131, 56.809136390686035, 52.078330278396606, 57.26115536689758))\n",
      "('test_time', (11.661788702011108, 10.65920901298523, 9.922400951385498, 16.127597093582153, 17.293368816375732))\n",
      "-------------------------\n",
      "Mean RMSE:  0.11347496418141394\n"
     ]
    }
   ],
   "source": [
    "# using cross-validate to get the test rmse scores for 5 splits\n",
    "results=cross_validate(model_3, data_2, cv=5, n_jobs=-1)\n",
    "\n",
    "\n",
    "for values in results.items():\n",
    "    print(values)\n",
    "print(\"-------------------------\")\n",
    "print(\"Mean RMSE: \",results['test_rmse'].mean())"
   ]
  },
  {
   "cell_type": "markdown",
   "metadata": {},
   "source": [
    "**Observations:**\n",
    "***\n",
    "- A Singe value Decomposition(SVD) model was used as it works well with explicit feedback (i.e. ratings)\n",
    "- The model was able to achieve an RMSE of 0.119 which further improved the RMSE\n",
    "- The model was then cross validated and ahcieved an RMSE mean of 0.113"
   ]
  },
  {
   "cell_type": "markdown",
   "metadata": {},
   "source": [
    "## "
   ]
  },
  {
   "cell_type": "markdown",
   "metadata": {},
   "source": [
    "### **Hyperparameter Tuning SVD model**\n",
    "***\n",
    "Hyperparameter tuning was carried out using grid search and cross-validation. It tests different values of the number of latent factors (n_factors),regularization term (reg_all) and the number of epochs (n_epochs) to find the combination that results in the best model performance. The final best hyperparameters can be accessed from the g_s_svd object for use in the model."
   ]
  },
  {
   "cell_type": "code",
   "execution_count": 60,
   "metadata": {},
   "outputs": [],
   "source": [
    "# define a dictionary params with hyperparameter values to be tested\n",
    "params = {'n_factors': [20, 50, 100], \n",
    "         'reg_all': [00.01, .02, 0.05],\n",
    "         'n_epochs':[20,30,40]} \n",
    "\n",
    "# create a GridSearchCV object 'g_s_svd' for hyperparameter tuning\n",
    "g_s_svd = GridSearchCV(SVD,param_grid=params,n_jobs=-1) \n",
    "\n",
    "# fit the GridSearchCV object to the data to find the best hyperparameters\n",
    "g_s_svd.fit(data_2)"
   ]
  },
  {
   "cell_type": "code",
   "execution_count": 61,
   "metadata": {},
   "outputs": [
    {
     "name": "stdout",
     "output_type": "stream",
     "text": [
      "{'rmse': 0.06569255672542271, 'mae': 0.02687813158008088}\n",
      "{'rmse': {'n_factors': 20, 'reg_all': 0.01, 'n_epochs': 40}, 'mae': {'n_factors': 20, 'reg_all': 0.01, 'n_epochs': 40}}\n"
     ]
    }
   ],
   "source": [
    "print(g_s_svd.best_score)\n",
    "print(g_s_svd.best_params)"
   ]
  },
  {
   "cell_type": "code",
   "execution_count": 62,
   "metadata": {},
   "outputs": [
    {
     "name": "stdout",
     "output_type": "stream",
     "text": [
      "RMSE: 0.0684\n"
     ]
    },
    {
     "data": {
      "text/plain": [
       "0.06842456225531673"
      ]
     },
     "execution_count": 62,
     "metadata": {},
     "output_type": "execute_result"
    }
   ],
   "source": [
    "# Fitting optimal parameters\n",
    "\n",
    "# Initialize the SVD algorithm\n",
    "model_4 = SVD(n_factors= 20, reg_all=0.01, n_epochs = 40,random_state=0)\n",
    "\n",
    "# Train the model on the training set\n",
    "model_4.fit(trainset)\n",
    "\n",
    "# Predict ratings for the test set\n",
    "predictions = model_4.test(testset)\n",
    "\n",
    "# Compute RMSE\n",
    "accuracy.rmse(predictions)"
   ]
  },
  {
   "cell_type": "code",
   "execution_count": 63,
   "metadata": {},
   "outputs": [
    {
     "name": "stdout",
     "output_type": "stream",
     "text": [
      "('test_rmse', array([0.06577581, 0.0645017 , 0.06589523, 0.06686514, 0.06527982]))\n",
      "('test_mae', array([0.02677181, 0.02681044, 0.02675453, 0.02696926, 0.02687886]))\n",
      "('fit_time', (48.65043520927429, 44.267767667770386, 41.27116274833679, 40.543596506118774, 37.63088870048523))\n",
      "('test_time', (8.27979850769043, 8.373634576797485, 8.25153660774231, 7.737122535705566, 9.878244876861572))\n",
      "-------------------------\n",
      "Mean RMSE:  0.06566353751416934\n"
     ]
    }
   ],
   "source": [
    "# using cross-validate to get the test rmse scores for 5 splits\n",
    "results=cross_validate(model_4, data_2, cv=5, n_jobs=-1)\n",
    "\n",
    "\n",
    "for values in results.items():\n",
    "    print(values)\n",
    "print(\"-------------------------\")\n",
    "print(\"Mean RMSE: \",results['test_rmse'].mean())"
   ]
  },
  {
   "cell_type": "code",
   "execution_count": 64,
   "metadata": {},
   "outputs": [],
   "source": [
    "# Saving the model into a pickle\n",
    "with open('pickled_files/svd.pkl', 'wb') as file:\n",
    "    pickle.dump(model_4, file)"
   ]
  },
  {
   "cell_type": "markdown",
   "metadata": {},
   "source": [
    "**Observations:**\n",
    "***\n",
    "\n",
    "The RMSE value for the optimized SVD model is approximately 0.07, indicating the model's average prediction error in terms of user ratings. Lower RMSE values are desirable as they signify better predictive accuracy.                              \n",
    "                                           \n",
    "The best-performing hyperparameter values are as follows:                       \n",
    "For optimal RMSE, the optimal hyperparameters are 'n_factors' = 20,'reg_all' = 0.01 and 'n_epochs': 40.\n",
    "  \n",
    "These results indicate that the SVD collaborative filtering model, when configured with these hyperparameters, provides a relatively low prediction error and is well-suited for making personalized recommendations based on user ratings.\n",
    "\n",
    "This model was then saved in a pickle file for deployment"
   ]
  },
  {
   "cell_type": "markdown",
   "metadata": {},
   "source": [
    "**Collaborative filtering Intergration**\n",
    "***\n",
    "\n",
    "\n",
    "This below  allows a user to interactively rate restaurants by providing their ratings for a specified number of restaurants, and it collects this information in a list for further analysis or use in a recommendation system. The code also considers the restaurant category for selecting restaurants to rate if a category is provided."
   ]
  },
  {
   "cell_type": "code",
   "execution_count": 65,
   "metadata": {},
   "outputs": [],
   "source": [
    "def collect_ratings(df, state, num_samples=5, max_ratings=3):\n",
    "    \"\"\"\n",
    "    Function to collect ratings for a number of randomly sampled restaurants.\n",
    "    Allows users to skip restaurants they have never been to and limits the total number of final ratings to a specified maximum.\n",
    "    \"\"\"\n",
    "    ratings = []\n",
    "\n",
    "    while len(ratings) < max_ratings:\n",
    "        # Sampling the specified number of restaurants\n",
    "        filtered_df=df[df.state==state]\n",
    "\n",
    "        sampled_restaurants = filtered_df.sample(n=num_samples)\n",
    "        \n",
    "        for _, row in sampled_restaurants.iterrows():\n",
    "            restaurant_id = row['business_id']\n",
    "            restaurant_name = row['name']\n",
    "            restaurant_state=row[\"state\"]\n",
    "            restaurant_city =row[\"city\"]\n",
    "\n",
    "            while True:\n",
    "                # Ask if the user has been to the restaurant\n",
    "                been_to_restaurant = input(f\"Have you been to {restaurant_name}, {restaurant_state},{restaurant_city}? (y/n): \").strip().lower()\n",
    "                \n",
    "                if been_to_restaurant == 'n':\n",
    "                    print(f\"Skipping {restaurant_name}.\")\n",
    "                    break  \n",
    "                \n",
    "                elif been_to_restaurant == 'y':\n",
    "                    while True:\n",
    "                        try:\n",
    "                            # Prompt user for rating\n",
    "                            print(f\"Please rate {restaurant_name} on a scale of 1 to 5:\")\n",
    "                            rating = int(input())\n",
    "                            \n",
    "                            # Check if the rating is within the valid range\n",
    "                            if 1 <= rating <= 5:\n",
    "                                print(f\"Rating for {restaurant_name}: {rating}\")\n",
    "                                ratings.append((restaurant_id, rating))\n",
    "                                \n",
    "                                # Check if we have reached the maximum number of ratings\n",
    "                                if len(ratings) >= max_ratings:\n",
    "                                    print(\"Maximum number of ratings collected.\")\n",
    "                                    return ratings\n",
    "                                \n",
    "                                break  \n",
    "                            else:\n",
    "                                print(\"Rating must be between 1 and 5. Please try again.\")\n",
    "                        except ValueError:\n",
    "                            print(\"Invalid input. Please enter a number between 1 and 5.\")\n",
    "                    break  \n",
    "                \n",
    "                else:\n",
    "                    print(\"Please answer 'yes' or 'no'.\")\n",
    "                \n",
    "        # If not enough ratings are collected, continue sampling\n",
    "        print(f\"Collected {len(ratings)} ratings so far. Collecting more samples.\")\n",
    "\n",
    "    return ratings\n"
   ]
  },
  {
   "cell_type": "code",
   "execution_count": 66,
   "metadata": {},
   "outputs": [],
   "source": [
    "def recommend_restaurants(user_id, rated_restaurants, all_restaurants_df=df, state=None):\n",
    "\n",
    "    \"\"\"\n",
    "    Function to recommend restaurants based on state. the rated restaurnats are concatenated to the new_df dataframe, a model is created\n",
    "    the rated restaurants are filtered from the unrated restaurants and prediction is performed. the resulting dataframe is sorted by highest \n",
    "    predicted ratings \n",
    "    \"\"\"\n",
    "    # Filter by state if provided\n",
    "    all_restaurants_df = all_restaurants_df[all_restaurants_df[\"state\"] == state]\n",
    "\n",
    "    # Get all restaurant IDs\n",
    "    all_restaurant_ids = all_restaurants_df['business_id'].unique()\n",
    "\n",
    "    # Prepare the data for training the model\n",
    "    # Create DataFrame for the user's ratings\n",
    "    user_ratings_df = pd.DataFrame(rated_restaurants, columns=['business_id', 'rating'])\n",
    "    user_ratings_df['user_id'] = user_id  \n",
    "\n",
    "    # Combine user-specific ratings with the full dataset\n",
    "    combined_df = pd.concat([new_df, user_ratings_df])\n",
    "\n",
    "    # Filter combined_df to include only relevant restaurants\n",
    "    filtered_df = combined_df[combined_df['business_id'].isin(all_restaurant_ids)]\n",
    "\n",
    "    # Define the Reader and Dataset\n",
    "    reader = Reader(rating_scale=(1, 5))\n",
    "    data = Dataset.load_from_df(filtered_df[['user_id', 'business_id', 'rating']], reader)\n",
    "\n",
    "    # trainset, testset = train_test_split(data, test_size=0.2, random_state=42)\n",
    "    trainset = data.build_full_trainset()\n",
    "\n",
    "    # Retrain the model\n",
    "    model_4 = SVD(n_factors= 20, reg_all=0.01, n_epochs = 40, random_state=42)\n",
    "    model_4.fit(trainset)\n",
    "\n",
    "    # Filter out the restaurants that the user has already rated\n",
    "    rated_restaurant_ids = [rid for rid, _ in rated_restaurants]\n",
    "    unrated_restaurants = [rid for rid in all_restaurant_ids if rid not in rated_restaurant_ids]\n",
    "\n",
    "    # Predict ratings for all unrated restaurants\n",
    "    predictions = [model_4.predict(user_id, rid) for rid in unrated_restaurants]\n",
    "\n",
    "    # Create a DataFrame for the predictions\n",
    "    pred_df = pd.DataFrame({\n",
    "        'business_id': [pred.iid for pred in predictions],\n",
    "        'predicted_rating': [pred.est for pred in predictions]\n",
    "    })\n",
    "\n",
    "    # Merge with the original restaurants DataFrame to get more information\n",
    "    recommendations = pred_df.merge(all_restaurants_df, on='business_id', how='left')\n",
    "\n",
    "    # Sort by predicted rating and get top recommendations\n",
    "    recommendations = recommendations.sort_values(by='predicted_rating', ascending=False)\n",
    "\n",
    "    return recommendations"
   ]
  },
  {
   "cell_type": "code",
   "execution_count": 67,
   "metadata": {},
   "outputs": [
    {
     "name": "stdout",
     "output_type": "stream",
     "text": [
      "You will be asked to rate 5 random restaurants.\n",
      "Skipping Tilted Kilt Pub & Eatery.\n",
      "Please rate Munk & Nunn on a scale of 1 to 5:\n",
      "Rating for Munk & Nunn: 3\n",
      "Skipping Sandman's Hookah Lounge.\n",
      "Please rate Mamoun's Falafel - Philadelphia, PA on a scale of 1 to 5:\n",
      "Rating for Mamoun's Falafel - Philadelphia, PA: 5\n",
      "Please rate Swiss Haus Cafe & Pastry Bar on a scale of 1 to 5:\n",
      "Rating for Swiss Haus Cafe & Pastry Bar: 5\n",
      "Maximum number of ratings collected.\n",
      "[('OaTNoQOXH6JW4lK9pITYGg', 3), ('AfM_dYO_LTqQz33qHbT45A', 5), ('vCHNWdW-ys-nWUx3Cpvk8Q', 5)]\n"
     ]
    }
   ],
   "source": [
    "# Collect ratings from the user\n",
    "print(\"You will be asked to rate 5 random restaurants.\")\n",
    "user_ratings = collect_ratings(df, state=\"Pennsylvania\")\n",
    "print(user_ratings)\n",
    "\n"
   ]
  },
  {
   "cell_type": "code",
   "execution_count": 68,
   "metadata": {},
   "outputs": [
    {
     "data": {
      "text/html": [
       "<div>\n",
       "<style scoped>\n",
       "    .dataframe tbody tr th:only-of-type {\n",
       "        vertical-align: middle;\n",
       "    }\n",
       "\n",
       "    .dataframe tbody tr th {\n",
       "        vertical-align: top;\n",
       "    }\n",
       "\n",
       "    .dataframe thead th {\n",
       "        text-align: right;\n",
       "    }\n",
       "</style>\n",
       "<table border=\"1\" class=\"dataframe\">\n",
       "  <thead>\n",
       "    <tr style=\"text-align: right;\">\n",
       "      <th></th>\n",
       "      <th>business_id</th>\n",
       "      <th>predicted_rating</th>\n",
       "      <th>name</th>\n",
       "      <th>address</th>\n",
       "      <th>city</th>\n",
       "      <th>state</th>\n",
       "      <th>postal_code</th>\n",
       "      <th>latitude</th>\n",
       "      <th>longitude</th>\n",
       "      <th>stars</th>\n",
       "      <th>review_count</th>\n",
       "      <th>is_open</th>\n",
       "      <th>attributes</th>\n",
       "      <th>categories</th>\n",
       "      <th>hours</th>\n",
       "      <th>location</th>\n",
       "      <th>attributes_true</th>\n",
       "    </tr>\n",
       "  </thead>\n",
       "  <tbody>\n",
       "    <tr>\n",
       "      <th>1058</th>\n",
       "      <td>qQGoc6H4l1YqEem0sBwFHQ</td>\n",
       "      <td>5.0</td>\n",
       "      <td>Poke Bros</td>\n",
       "      <td>124 E Market St, Unit B</td>\n",
       "      <td>West Chester</td>\n",
       "      <td>Pennsylvania</td>\n",
       "      <td>19382</td>\n",
       "      <td>39.960352</td>\n",
       "      <td>-75.602836</td>\n",
       "      <td>5.0</td>\n",
       "      <td>36</td>\n",
       "      <td>1</td>\n",
       "      <td>{'RestaurantsTakeOut': 'True', 'Ambience': \"{'...</td>\n",
       "      <td>Japanese</td>\n",
       "      <td>{'Monday': '0:0-0:0', 'Tuesday': '11:0-21:0', ...</td>\n",
       "      <td>State:Pennsylvania, City:West Chester, Address...</td>\n",
       "      <td>RestaurantsTakeOut RestaurantsDelivery</td>\n",
       "    </tr>\n",
       "    <tr>\n",
       "      <th>555</th>\n",
       "      <td>YA4OQvZFowHG4_78xis7sg</td>\n",
       "      <td>5.0</td>\n",
       "      <td>Boricua Restaurant</td>\n",
       "      <td>1149 N 3rd St</td>\n",
       "      <td>Philadelphia</td>\n",
       "      <td>Pennsylvania</td>\n",
       "      <td>19123</td>\n",
       "      <td>39.968903</td>\n",
       "      <td>-75.141464</td>\n",
       "      <td>5.0</td>\n",
       "      <td>31</td>\n",
       "      <td>1</td>\n",
       "      <td>{'BusinessParking': \"{'garage': False, 'street...</td>\n",
       "      <td>Puerto Rican</td>\n",
       "      <td>{'Monday': '11:0-19:30', 'Tuesday': '11:0-19:3...</td>\n",
       "      <td>State:Pennsylvania, City:Philadelphia, Address...</td>\n",
       "      <td>BusinessParkingBusinessParking Caters Alcohol ...</td>\n",
       "    </tr>\n",
       "    <tr>\n",
       "      <th>7816</th>\n",
       "      <td>k3CN4-QImUeSTWpS1Qd6IQ</td>\n",
       "      <td>5.0</td>\n",
       "      <td>Karla's Kitchen</td>\n",
       "      <td>1666 Bethlehem Pike</td>\n",
       "      <td>Flourtown</td>\n",
       "      <td>Pennsylvania</td>\n",
       "      <td>19031</td>\n",
       "      <td>40.107447</td>\n",
       "      <td>-75.212677</td>\n",
       "      <td>5.0</td>\n",
       "      <td>23</td>\n",
       "      <td>1</td>\n",
       "      <td>{'RestaurantsDelivery': 'False', 'RestaurantsP...</td>\n",
       "      <td>Latin American</td>\n",
       "      <td>{'Monday': '11:0-19:0', 'Tuesday': '10:0-19:0'...</td>\n",
       "      <td>State:Pennsylvania, City:Flourtown, Address:16...</td>\n",
       "      <td>RestaurantsPriceRange2 WiFi RestaurantsGoodFor...</td>\n",
       "    </tr>\n",
       "    <tr>\n",
       "      <th>7850</th>\n",
       "      <td>prWF6l3ukkw0zLl3tl-V-g</td>\n",
       "      <td>5.0</td>\n",
       "      <td>Pupuseria Sabor Latino II</td>\n",
       "      <td>1446 E Hunting Park Ave</td>\n",
       "      <td>Philadelphia</td>\n",
       "      <td>Pennsylvania</td>\n",
       "      <td>19124</td>\n",
       "      <td>40.010016</td>\n",
       "      <td>-75.098324</td>\n",
       "      <td>5.0</td>\n",
       "      <td>14</td>\n",
       "      <td>1</td>\n",
       "      <td>{'OutdoorSeating': 'True', 'BusinessAcceptsCre...</td>\n",
       "      <td>Latin American</td>\n",
       "      <td>{'Monday': '9:0-20:0', 'Tuesday': '9:0-20:0', ...</td>\n",
       "      <td>State:Pennsylvania, City:Philadelphia, Address...</td>\n",
       "      <td>OutdoorSeating BusinessAcceptsCreditCards Rest...</td>\n",
       "    </tr>\n",
       "    <tr>\n",
       "      <th>7886</th>\n",
       "      <td>FX9CL_-hBxRDq6c4uiLCrQ</td>\n",
       "      <td>5.0</td>\n",
       "      <td>Napoletano Brothers</td>\n",
       "      <td>186 Saxer Ave</td>\n",
       "      <td>Springfield</td>\n",
       "      <td>Pennsylvania</td>\n",
       "      <td>19064</td>\n",
       "      <td>39.927174</td>\n",
       "      <td>-75.333539</td>\n",
       "      <td>5.0</td>\n",
       "      <td>30</td>\n",
       "      <td>1</td>\n",
       "      <td>{'BusinessParking': \"{'garage': False, 'street...</td>\n",
       "      <td>Italian</td>\n",
       "      <td>{'Monday': '7:0-18:0', 'Tuesday': '7:0-18:0', ...</td>\n",
       "      <td>State:Pennsylvania, City:Springfield, Address:...</td>\n",
       "      <td>BusinessParkingBusinessParking Alcohol Restaur...</td>\n",
       "    </tr>\n",
       "  </tbody>\n",
       "</table>\n",
       "</div>"
      ],
      "text/plain": [
       "                 business_id  predicted_rating                       name  \\\n",
       "1058  qQGoc6H4l1YqEem0sBwFHQ               5.0                  Poke Bros   \n",
       "555   YA4OQvZFowHG4_78xis7sg               5.0         Boricua Restaurant   \n",
       "7816  k3CN4-QImUeSTWpS1Qd6IQ               5.0            Karla's Kitchen   \n",
       "7850  prWF6l3ukkw0zLl3tl-V-g               5.0  Pupuseria Sabor Latino II   \n",
       "7886  FX9CL_-hBxRDq6c4uiLCrQ               5.0        Napoletano Brothers   \n",
       "\n",
       "                      address          city         state postal_code  \\\n",
       "1058  124 E Market St, Unit B  West Chester  Pennsylvania       19382   \n",
       "555             1149 N 3rd St  Philadelphia  Pennsylvania       19123   \n",
       "7816      1666 Bethlehem Pike     Flourtown  Pennsylvania       19031   \n",
       "7850  1446 E Hunting Park Ave  Philadelphia  Pennsylvania       19124   \n",
       "7886            186 Saxer Ave   Springfield  Pennsylvania       19064   \n",
       "\n",
       "       latitude  longitude  stars  review_count  is_open  \\\n",
       "1058  39.960352 -75.602836    5.0            36        1   \n",
       "555   39.968903 -75.141464    5.0            31        1   \n",
       "7816  40.107447 -75.212677    5.0            23        1   \n",
       "7850  40.010016 -75.098324    5.0            14        1   \n",
       "7886  39.927174 -75.333539    5.0            30        1   \n",
       "\n",
       "                                             attributes      categories  \\\n",
       "1058  {'RestaurantsTakeOut': 'True', 'Ambience': \"{'...        Japanese   \n",
       "555   {'BusinessParking': \"{'garage': False, 'street...    Puerto Rican   \n",
       "7816  {'RestaurantsDelivery': 'False', 'RestaurantsP...  Latin American   \n",
       "7850  {'OutdoorSeating': 'True', 'BusinessAcceptsCre...  Latin American   \n",
       "7886  {'BusinessParking': \"{'garage': False, 'street...         Italian   \n",
       "\n",
       "                                                  hours  \\\n",
       "1058  {'Monday': '0:0-0:0', 'Tuesday': '11:0-21:0', ...   \n",
       "555   {'Monday': '11:0-19:30', 'Tuesday': '11:0-19:3...   \n",
       "7816  {'Monday': '11:0-19:0', 'Tuesday': '10:0-19:0'...   \n",
       "7850  {'Monday': '9:0-20:0', 'Tuesday': '9:0-20:0', ...   \n",
       "7886  {'Monday': '7:0-18:0', 'Tuesday': '7:0-18:0', ...   \n",
       "\n",
       "                                               location  \\\n",
       "1058  State:Pennsylvania, City:West Chester, Address...   \n",
       "555   State:Pennsylvania, City:Philadelphia, Address...   \n",
       "7816  State:Pennsylvania, City:Flourtown, Address:16...   \n",
       "7850  State:Pennsylvania, City:Philadelphia, Address...   \n",
       "7886  State:Pennsylvania, City:Springfield, Address:...   \n",
       "\n",
       "                                        attributes_true  \n",
       "1058             RestaurantsTakeOut RestaurantsDelivery  \n",
       "555   BusinessParkingBusinessParking Caters Alcohol ...  \n",
       "7816  RestaurantsPriceRange2 WiFi RestaurantsGoodFor...  \n",
       "7850  OutdoorSeating BusinessAcceptsCreditCards Rest...  \n",
       "7886  BusinessParkingBusinessParking Alcohol Restaur...  "
      ]
     },
     "execution_count": 68,
     "metadata": {},
     "output_type": "execute_result"
    }
   ],
   "source": [
    "# Entering user_id\n",
    "user_id = 'uu1651'\n",
    "\n",
    "# Recommendation based on state and ratings\n",
    "recommended_restaurants = recommend_restaurants(user_id=user_id, rated_restaurants=user_ratings, state= \"Pennsylvania\").drop_duplicates(subset='name')\n",
    "\n",
    "# Viewing the top 5 entries\n",
    "recommended_restaurants.head()\n"
   ]
  },
  {
   "cell_type": "markdown",
   "metadata": {},
   "source": [
    "**Observations:**\n",
    "***"
   ]
  },
  {
   "cell_type": "markdown",
   "metadata": {},
   "source": [
    "\n",
    "For the implementaion of collaborative filtering to be effective, it is highly dependent on the state from which you would choose to rate th restaurants. This is shown using the example above\n",
    "\n",
    "If you are from Pennsylvania state, Philadelphia city, you would receive rating requests for the state of Pennsylvania. It is possible to skip to only rate restaurants in Philadelphia city only.\n",
    "\n",
    "The user would have to rate at least 3 restaurants to be able to get recommendations\n",
    "\n",
    "These ratings would then be passed through an SVD model to predict all the unrated restaurants giving a predicted rating\n",
    "\n",
    "This predicted rating is then sorted in descending order and used to give a list of all recommendations"
   ]
  },
  {
   "cell_type": "markdown",
   "metadata": {},
   "source": [
    "***\n",
    "##### 3. NEURAL NETWORKS MODEL\n",
    "***"
   ]
  },
  {
   "cell_type": "markdown",
   "metadata": {},
   "source": [
    "We will run a Keras deep neural network to implement a recommendation system and try to improve our RMSE scores by using neural networks."
   ]
  },
  {
   "cell_type": "markdown",
   "metadata": {},
   "source": [
    "> We are going to encode the user_id and business_id features into numeric integers in preparation for the deep learning model."
   ]
  },
  {
   "cell_type": "code",
   "execution_count": 37,
   "metadata": {},
   "outputs": [
    {
     "name": "stdout",
     "output_type": "stream",
     "text": [
      "Number of Users:  220872\n",
      "Number of Restaurants:  31834\n"
     ]
    }
   ],
   "source": [
    "# Encoding the user_id column\n",
    "user_encoder = LabelEncoder()                                    # instantiating the encoder\n",
    "data['userId'] = user_encoder.fit_transform(data.user_id.values) # fitting and transforming the encoder to our column\n",
    "n_users=data['userId'].nunique()                                 # assigning the number of users to n_user vaiable\n",
    "print(\"Number of Users: \",n_users)\n",
    "\n",
    "# Encoding the business_id column\n",
    "item_encoder = LabelEncoder()                                          # instantiating the encoder\n",
    "data['restId'] = user_encoder.fit_transform(data.business_id.values)   # fitting and transforming the encoder to our column\n",
    "n_rests = data['restId'].nunique()                                  # assigning the number of restaurants to n_rests vaiable\n",
    "print(\"Number of Restaurants: \",n_rests)"
   ]
  },
  {
   "cell_type": "markdown",
   "metadata": {},
   "source": [
    "> Splitting the data into training and testing sets for model evaluation."
   ]
  },
  {
   "cell_type": "code",
   "execution_count": 38,
   "metadata": {},
   "outputs": [
    {
     "name": "stdout",
     "output_type": "stream",
     "text": [
      "(428157, 2) (428157,)\n",
      "(107040, 2) (107040,)\n"
     ]
    }
   ],
   "source": [
    "# subsetting the x variable\n",
    "X = data[['userId', 'restId']].values\n",
    "# subsetting the y variable\n",
    "y = data['rating'].values\n",
    "\n",
    "# creating the train test splits and stratifying on basis of the y values \n",
    "# because of the uneven nature of the rating counts\n",
    "X_train, X_test, y_train, y_test = train_test_split(X, y, test_size=0.2, random_state=42, stratify=y)\n",
    "\n",
    "print(X_train.shape, y_train.shape)\n",
    "print(X_test.shape, y_test.shape)"
   ]
  },
  {
   "cell_type": "markdown",
   "metadata": {},
   "source": [
    "> Calculate the minimum and maximum ratings, which will be used to scale the output of the neural network later."
   ]
  },
  {
   "cell_type": "code",
   "execution_count": 39,
   "metadata": {},
   "outputs": [],
   "source": [
    "# Find the minimum and maximum rating\n",
    "min_rating = min(data['rating'])\n",
    "max_rating = max(data['rating'])"
   ]
  },
  {
   "cell_type": "markdown",
   "metadata": {},
   "source": [
    "> The predicted ratings is calculated by multiplying the user and restaurant embeddings, then adding the user and restaurant bias. Therefore were are going to create user and restaurant embeddings together with bias."
   ]
  },
  {
   "cell_type": "code",
   "execution_count": 40,
   "metadata": {},
   "outputs": [],
   "source": [
    "# Number of latent factors\n",
    "embedding_size = 50"
   ]
  },
  {
   "cell_type": "markdown",
   "metadata": {},
   "source": [
    "> Defining user embedding"
   ]
  },
  {
   "cell_type": "code",
   "execution_count": 41,
   "metadata": {},
   "outputs": [],
   "source": [
    "# User embeddings\n",
    "\n",
    "# user input layer\n",
    "user = layers.Input(shape=(1,))\n",
    "\n",
    "# Embedding layer for calculating user latent factors of size 50\n",
    "user_emb = layers.Embedding(n_users, embedding_size, embeddings_regularizer=regularizers.l2(1e-6))(user)\n",
    "\n",
    "# Reshaping the layer to flatten the embedding vector.\n",
    "user_emb = layers.Reshape((embedding_size,))(user_emb)"
   ]
  },
  {
   "cell_type": "markdown",
   "metadata": {},
   "source": [
    "> Defining user bias, and reshape it."
   ]
  },
  {
   "cell_type": "code",
   "execution_count": 42,
   "metadata": {},
   "outputs": [],
   "source": [
    "# User bias\n",
    "\n",
    "# Embedding layer\n",
    "user_bias = layers.Embedding(n_users, 1, embeddings_regularizer=regularizers.l2(1e-6))(user)\n",
    "\n",
    "# Reshapin the user bias layer\n",
    "user_bias = layers.Reshape((1,))(user_bias)"
   ]
  },
  {
   "cell_type": "markdown",
   "metadata": {},
   "source": [
    "> Defining restaurants embeddings"
   ]
  },
  {
   "cell_type": "code",
   "execution_count": 43,
   "metadata": {},
   "outputs": [],
   "source": [
    "# restaurant embeddings\n",
    "\n",
    "# Input layer\n",
    "restaurant= layers.Input(shape=(1,))\n",
    "\n",
    "# Embedding layer\n",
    "rest_emb = layers.Embedding(n_rests, embedding_size, embeddings_regularizer=regularizers.l2(1e-6))(restaurant)\n",
    "\n",
    "# Reshape layer\n",
    "rest_emb = layers.Reshape((embedding_size,))(rest_emb)"
   ]
  },
  {
   "cell_type": "markdown",
   "metadata": {},
   "source": [
    "> Defining restaurant bias, and reshape it."
   ]
  },
  {
   "cell_type": "code",
   "execution_count": 44,
   "metadata": {},
   "outputs": [],
   "source": [
    "# Restaurant bias\n",
    "\n",
    "# Embedding layer\n",
    "rest_bias = layers.Embedding(n_rests, 1, embeddings_regularizer=regularizers.l2(1e-6))(restaurant)\n",
    "\n",
    "# Reshape layer\n",
    "rest_bias = layers.Reshape((1,))(rest_bias)"
   ]
  },
  {
   "cell_type": "markdown",
   "metadata": {},
   "source": [
    "> After defining the embedding and bias layers, the predicted rating is calculated by dot product of the user and restaurant embeddings and then adding the bias values in order to get more accurate ratings."
   ]
  },
  {
   "cell_type": "code",
   "execution_count": 45,
   "metadata": {},
   "outputs": [],
   "source": [
    "# Dot product of the user and restaurant embeddings\n",
    "rating = layers.Concatenate()([user_emb, rest_emb])\n",
    "\n",
    "# Add biases to the ratings\n",
    "# Adding the user and restaurant bias to the predicted rating\n",
    "rating = layers.Add()([rating, user_bias, rest_bias])"
   ]
  },
  {
   "cell_type": "markdown",
   "metadata": {},
   "source": [
    "> We move on to pass the calculated rating to layers of dense networks and finally converting the rating score from binary values into a range of 1-5. \n",
    "\n",
    "We create our baseline model."
   ]
  },
  {
   "cell_type": "code",
   "execution_count": 48,
   "metadata": {},
   "outputs": [
    {
     "name": "stdout",
     "output_type": "stream",
     "text": [
      "Epoch 1/10\n",
      "\u001b[1m1673/1673\u001b[0m \u001b[32m━━━━━━━━━━━━━━━━━━━━\u001b[0m\u001b[37m\u001b[0m \u001b[1m246s\u001b[0m 146ms/step - loss: 2.2653 - root_mean_squared_error: 1.5015 - val_loss: 2.2630 - val_root_mean_squared_error: 1.5007\n",
      "Epoch 2/10\n",
      "\u001b[1m1673/1673\u001b[0m \u001b[32m━━━━━━━━━━━━━━━━━━━━\u001b[0m\u001b[37m\u001b[0m \u001b[1m248s\u001b[0m 148ms/step - loss: 2.2557 - root_mean_squared_error: 1.4983 - val_loss: 2.2616 - val_root_mean_squared_error: 1.5003\n",
      "Epoch 3/10\n",
      "\u001b[1m1673/1673\u001b[0m \u001b[32m━━━━━━━━━━━━━━━━━━━━\u001b[0m\u001b[37m\u001b[0m \u001b[1m245s\u001b[0m 138ms/step - loss: 2.2602 - root_mean_squared_error: 1.4998 - val_loss: 2.2623 - val_root_mean_squared_error: 1.5005\n",
      "Epoch 4/10\n",
      "\u001b[1m1673/1673\u001b[0m \u001b[32m━━━━━━━━━━━━━━━━━━━━\u001b[0m\u001b[37m\u001b[0m \u001b[1m341s\u001b[0m 185ms/step - loss: 2.2639 - root_mean_squared_error: 1.5011 - val_loss: 2.2614 - val_root_mean_squared_error: 1.5002\n",
      "Epoch 5/10\n",
      "\u001b[1m1673/1673\u001b[0m \u001b[32m━━━━━━━━━━━━━━━━━━━━\u001b[0m\u001b[37m\u001b[0m \u001b[1m275s\u001b[0m 157ms/step - loss: 2.2591 - root_mean_squared_error: 1.4994 - val_loss: 2.2607 - val_root_mean_squared_error: 1.5000\n",
      "Epoch 6/10\n",
      "\u001b[1m1673/1673\u001b[0m \u001b[32m━━━━━━━━━━━━━━━━━━━━\u001b[0m\u001b[37m\u001b[0m \u001b[1m306s\u001b[0m 147ms/step - loss: 2.2514 - root_mean_squared_error: 1.4969 - val_loss: 2.2590 - val_root_mean_squared_error: 1.4994\n",
      "Epoch 7/10\n",
      "\u001b[1m1673/1673\u001b[0m \u001b[32m━━━━━━━━━━━━━━━━━━━━\u001b[0m\u001b[37m\u001b[0m \u001b[1m250s\u001b[0m 140ms/step - loss: 2.2587 - root_mean_squared_error: 1.4993 - val_loss: 2.2549 - val_root_mean_squared_error: 1.4980\n",
      "Epoch 8/10\n",
      "\u001b[1m1673/1673\u001b[0m \u001b[32m━━━━━━━━━━━━━━━━━━━━\u001b[0m\u001b[37m\u001b[0m \u001b[1m275s\u001b[0m 148ms/step - loss: 2.2457 - root_mean_squared_error: 1.4950 - val_loss: 2.2322 - val_root_mean_squared_error: 1.4905\n",
      "Epoch 9/10\n",
      "\u001b[1m1673/1673\u001b[0m \u001b[32m━━━━━━━━━━━━━━━━━━━━\u001b[0m\u001b[37m\u001b[0m \u001b[1m315s\u001b[0m 180ms/step - loss: 2.1951 - root_mean_squared_error: 1.4780 - val_loss: 2.1834 - val_root_mean_squared_error: 1.4740\n",
      "Epoch 10/10\n",
      "\u001b[1m1673/1673\u001b[0m \u001b[32m━━━━━━━━━━━━━━━━━━━━\u001b[0m\u001b[37m\u001b[0m \u001b[1m334s\u001b[0m 187ms/step - loss: 2.0870 - root_mean_squared_error: 1.4409 - val_loss: 2.1166 - val_root_mean_squared_error: 1.4512\n"
     ]
    },
    {
     "data": {
      "text/plain": [
       "<keras.src.callbacks.history.History at 0x7f21fe2e3950>"
      ]
     },
     "execution_count": 48,
     "metadata": {},
     "output_type": "execute_result"
    }
   ],
   "source": [
    "\n",
    "# first dense layer of 30 nodes with relu activation\n",
    "rating = layers.Dense(30, activation='relu')(rating)\n",
    "\n",
    "# second dense layer of 15 nodes\n",
    "rating = layers.Dense(15, activation='relu')(rating)\n",
    "\n",
    "# output layer with one node that produces values between 0 and 1 due to the sigmoid activation\n",
    "rating = layers.Dense(1, activation='sigmoid')(rating)\n",
    "# rating= layers.Dense(5, activation='softmax')(rating)\n",
    "\n",
    "# Scales the predicted ratings to a range of 1 - 5\n",
    "rating = layers.Lambda(lambda x:x*(max_rating - min_rating) + min_rating)(rating)\n",
    "\n",
    "\n",
    "# Baseline Model \n",
    "baseline_model = models.Model([user, restaurant], rating)\n",
    "\n",
    "# Compile the model\n",
    "baseline_model.compile( optimizer='sgd', loss='mse',  metrics=[metrics.RootMeanSquaredError()])\n",
    "\n",
    "# training the model\n",
    "baseline_model .fit(x=[X_train[:,0], X_train[:,1]], y=y_train,\n",
    "                    batch_size=256, \n",
    "                    epochs=10, \n",
    "                    verbose=1,\n",
    "                    validation_data=([X_test[:,0], X_test[:,1]], y_test))"
   ]
  },
  {
   "cell_type": "markdown",
   "metadata": {},
   "source": [
    "> Our baseline model, does not overfit since the training RMSE score and the validation scores are not far off. We then proceed to tune the model in order to get better rmse scores, by reducing the model complexity."
   ]
  },
  {
   "cell_type": "code",
   "execution_count": 50,
   "metadata": {},
   "outputs": [
    {
     "name": "stdout",
     "output_type": "stream",
     "text": [
      "Epoch 1/20\n",
      "\u001b[1m1673/1673\u001b[0m \u001b[32m━━━━━━━━━━━━━━━━━━━━\u001b[0m\u001b[37m\u001b[0m \u001b[1m313s\u001b[0m 184ms/step - loss: 2.1169 - root_mean_squared_error: 1.4413 - val_loss: 2.0627 - val_root_mean_squared_error: 1.4232\n",
      "Epoch 2/20\n",
      "\u001b[1m1673/1673\u001b[0m \u001b[32m━━━━━━━━━━━━━━━━━━━━\u001b[0m\u001b[37m\u001b[0m \u001b[1m256s\u001b[0m 153ms/step - loss: 1.8676 - root_mean_squared_error: 1.3530 - val_loss: 2.0022 - val_root_mean_squared_error: 1.4022\n",
      "Epoch 3/20\n",
      "\u001b[1m1673/1673\u001b[0m \u001b[32m━━━━━━━━━━━━━━━━━━━━\u001b[0m\u001b[37m\u001b[0m \u001b[1m321s\u001b[0m 188ms/step - loss: 1.7143 - root_mean_squared_error: 1.2955 - val_loss: 1.9576 - val_root_mean_squared_error: 1.3865\n",
      "Epoch 4/20\n",
      "\u001b[1m1673/1673\u001b[0m \u001b[32m━━━━━━━━━━━━━━━━━━━━\u001b[0m\u001b[37m\u001b[0m \u001b[1m308s\u001b[0m 180ms/step - loss: 1.5578 - root_mean_squared_error: 1.2340 - val_loss: 1.9376 - val_root_mean_squared_error: 1.3795\n",
      "Epoch 5/20\n",
      "\u001b[1m1673/1673\u001b[0m \u001b[32m━━━━━━━━━━━━━━━━━━━━\u001b[0m\u001b[37m\u001b[0m \u001b[1m224s\u001b[0m 134ms/step - loss: 1.4274 - root_mean_squared_error: 1.1802 - val_loss: 1.9344 - val_root_mean_squared_error: 1.3785\n",
      "Epoch 6/20\n",
      "\u001b[1m1673/1673\u001b[0m \u001b[32m━━━━━━━━━━━━━━━━━━━━\u001b[0m\u001b[37m\u001b[0m \u001b[1m237s\u001b[0m 119ms/step - loss: 1.3002 - root_mean_squared_error: 1.1252 - val_loss: 1.9345 - val_root_mean_squared_error: 1.3787\n",
      "Epoch 7/20\n",
      "\u001b[1m1673/1673\u001b[0m \u001b[32m━━━━━━━━━━━━━━━━━━━━\u001b[0m\u001b[37m\u001b[0m \u001b[1m243s\u001b[0m 145ms/step - loss: 1.2128 - root_mean_squared_error: 1.0859 - val_loss: 1.9420 - val_root_mean_squared_error: 1.3817\n",
      "Epoch 8/20\n",
      "\u001b[1m1673/1673\u001b[0m \u001b[32m━━━━━━━━━━━━━━━━━━━━\u001b[0m\u001b[37m\u001b[0m \u001b[1m264s\u001b[0m 146ms/step - loss: 1.1415 - root_mean_squared_error: 1.0529 - val_loss: 1.9400 - val_root_mean_squared_error: 1.3812\n",
      "Epoch 9/20\n",
      "\u001b[1m1673/1673\u001b[0m \u001b[32m━━━━━━━━━━━━━━━━━━━━\u001b[0m\u001b[37m\u001b[0m \u001b[1m285s\u001b[0m 160ms/step - loss: 1.0845 - root_mean_squared_error: 1.0258 - val_loss: 1.9468 - val_root_mean_squared_error: 1.3839\n",
      "Epoch 10/20\n",
      "\u001b[1m1673/1673\u001b[0m \u001b[32m━━━━━━━━━━━━━━━━━━━━\u001b[0m\u001b[37m\u001b[0m \u001b[1m253s\u001b[0m 151ms/step - loss: 1.0464 - root_mean_squared_error: 1.0074 - val_loss: 1.9494 - val_root_mean_squared_error: 1.3851\n",
      "Epoch 11/20\n",
      "\u001b[1m1673/1673\u001b[0m \u001b[32m━━━━━━━━━━━━━━━━━━━━\u001b[0m\u001b[37m\u001b[0m \u001b[1m262s\u001b[0m 157ms/step - loss: 1.0143 - root_mean_squared_error: 0.9917 - val_loss: 1.9519 - val_root_mean_squared_error: 1.3863\n",
      "Epoch 12/20\n",
      "\u001b[1m1673/1673\u001b[0m \u001b[32m━━━━━━━━━━━━━━━━━━━━\u001b[0m\u001b[37m\u001b[0m \u001b[1m272s\u001b[0m 163ms/step - loss: 0.9740 - root_mean_squared_error: 0.9716 - val_loss: 1.9518 - val_root_mean_squared_error: 1.3865\n",
      "Epoch 13/20\n",
      "\u001b[1m1673/1673\u001b[0m \u001b[32m━━━━━━━━━━━━━━━━━━━━\u001b[0m\u001b[37m\u001b[0m \u001b[1m263s\u001b[0m 157ms/step - loss: 0.9467 - root_mean_squared_error: 0.9578 - val_loss: 1.9566 - val_root_mean_squared_error: 1.3885\n",
      "Epoch 14/20\n",
      "\u001b[1m1673/1673\u001b[0m \u001b[32m━━━━━━━━━━━━━━━━━━━━\u001b[0m\u001b[37m\u001b[0m \u001b[1m247s\u001b[0m 147ms/step - loss: 0.9188 - root_mean_squared_error: 0.9436 - val_loss: 1.9643 - val_root_mean_squared_error: 1.3915\n",
      "Epoch 15/20\n",
      "\u001b[1m1673/1673\u001b[0m \u001b[32m━━━━━━━━━━━━━━━━━━━━\u001b[0m\u001b[37m\u001b[0m \u001b[1m246s\u001b[0m 138ms/step - loss: 0.8866 - root_mean_squared_error: 0.9267 - val_loss: 1.9547 - val_root_mean_squared_error: 1.3883\n",
      "Epoch 16/20\n",
      "\u001b[1m1673/1673\u001b[0m \u001b[32m━━━━━━━━━━━━━━━━━━━━\u001b[0m\u001b[37m\u001b[0m \u001b[1m264s\u001b[0m 139ms/step - loss: 0.8685 - root_mean_squared_error: 0.9172 - val_loss: 1.9573 - val_root_mean_squared_error: 1.3895\n",
      "Epoch 17/20\n",
      "\u001b[1m1673/1673\u001b[0m \u001b[32m━━━━━━━━━━━━━━━━━━━━\u001b[0m\u001b[37m\u001b[0m \u001b[1m250s\u001b[0m 150ms/step - loss: 0.8411 - root_mean_squared_error: 0.9025 - val_loss: 1.9578 - val_root_mean_squared_error: 1.3899\n",
      "Epoch 18/20\n",
      "\u001b[1m1673/1673\u001b[0m \u001b[32m━━━━━━━━━━━━━━━━━━━━\u001b[0m\u001b[37m\u001b[0m \u001b[1m250s\u001b[0m 149ms/step - loss: 0.8167 - root_mean_squared_error: 0.8893 - val_loss: 1.9564 - val_root_mean_squared_error: 1.3896\n",
      "Epoch 19/20\n",
      "\u001b[1m1673/1673\u001b[0m \u001b[32m━━━━━━━━━━━━━━━━━━━━\u001b[0m\u001b[37m\u001b[0m \u001b[1m261s\u001b[0m 149ms/step - loss: 0.8051 - root_mean_squared_error: 0.8830 - val_loss: 1.9670 - val_root_mean_squared_error: 1.3936\n",
      "Epoch 20/20\n",
      "\u001b[1m1673/1673\u001b[0m \u001b[32m━━━━━━━━━━━━━━━━━━━━\u001b[0m\u001b[37m\u001b[0m \u001b[1m264s\u001b[0m 150ms/step - loss: 0.7822 - root_mean_squared_error: 0.8703 - val_loss: 1.9675 - val_root_mean_squared_error: 1.3940\n"
     ]
    },
    {
     "data": {
      "text/plain": [
       "<keras.src.callbacks.history.History at 0x7f21f98c1b50>"
      ]
     },
     "execution_count": 50,
     "metadata": {},
     "output_type": "execute_result"
    }
   ],
   "source": [
    "\n",
    "rating = layers.Concatenate()([user_emb, rest_emb])\n",
    "rating = layers.Add()([rating, user_bias, rest_bias])\n",
    "\n",
    "# redusing the first dense layer into 15 neurons and adding a l2 regularization\n",
    "rating = layers.Dense(15, activation='relu',kernel_regularizer=regularizers.l2(1e-3))(rating)\n",
    "# creating a dropout layer\n",
    "rating = layers.Dropout(0.3)(rating)\n",
    "# output layer\n",
    "rating = layers.Dense(1, activation='sigmoid')(rating)\n",
    "#convertion of output rating\n",
    "rating = layers.Lambda(lambda x:x*(max_rating - min_rating) + min_rating)(rating)\n",
    "\n",
    "model_1 = models.Model([user, restaurant], rating)\n",
    "\n",
    "# Compile the model\n",
    "model_1.compile( optimizer='sgd', loss='mse',  metrics=[metrics.RootMeanSquaredError()])\n",
    "\n",
    "# Train the model\n",
    "model_1.fit(x=[X_train[:,0], X_train[:,1]], y=y_train,\n",
    "            batch_size=256,\n",
    "            epochs=20, \n",
    "            verbose=1,\n",
    "            validation_data=([X_test[:,0], X_test[:,1]], y_test))"
   ]
  },
  {
   "cell_type": "markdown",
   "metadata": {},
   "source": [
    "> The second model has performed worse than the first with a higher rmse score and the model is overfitting the training data i.e it has a good train score but poor validation score.\n",
    "\n",
    "we will try and simplify the model further. "
   ]
  },
  {
   "cell_type": "code",
   "execution_count": 51,
   "metadata": {},
   "outputs": [
    {
     "name": "stdout",
     "output_type": "stream",
     "text": [
      "Epoch 1/20\n",
      "\u001b[1m1673/1673\u001b[0m \u001b[32m━━━━━━━━━━━━━━━━━━━━\u001b[0m\u001b[37m\u001b[0m \u001b[1m237s\u001b[0m 141ms/step - loss: 1.6052 - root_mean_squared_error: 1.2586 - val_loss: 1.9195 - val_root_mean_squared_error: 1.3816\n",
      "Epoch 2/20\n",
      "\u001b[1m1673/1673\u001b[0m \u001b[32m━━━━━━━━━━━━━━━━━━━━\u001b[0m\u001b[37m\u001b[0m \u001b[1m250s\u001b[0m 133ms/step - loss: 1.1682 - root_mean_squared_error: 1.0758 - val_loss: 1.9942 - val_root_mean_squared_error: 1.4083\n",
      "Epoch 3/20\n",
      "\u001b[1m1673/1673\u001b[0m \u001b[32m━━━━━━━━━━━━━━━━━━━━\u001b[0m\u001b[37m\u001b[0m \u001b[1m263s\u001b[0m 134ms/step - loss: 1.1277 - root_mean_squared_error: 1.0568 - val_loss: 2.0187 - val_root_mean_squared_error: 1.4170\n",
      "Epoch 4/20\n",
      "\u001b[1m1673/1673\u001b[0m \u001b[32m━━━━━━━━━━━━━━━━━━━━\u001b[0m\u001b[37m\u001b[0m \u001b[1m261s\u001b[0m 133ms/step - loss: 1.0749 - root_mean_squared_error: 1.0315 - val_loss: 2.0266 - val_root_mean_squared_error: 1.4198\n",
      "Epoch 5/20\n",
      "\u001b[1m1673/1673\u001b[0m \u001b[32m━━━━━━━━━━━━━━━━━━━━\u001b[0m\u001b[37m\u001b[0m \u001b[1m262s\u001b[0m 133ms/step - loss: 1.0261 - root_mean_squared_error: 1.0076 - val_loss: 2.0196 - val_root_mean_squared_error: 1.4173\n",
      "Epoch 6/20\n",
      "\u001b[1m1673/1673\u001b[0m \u001b[32m━━━━━━━━━━━━━━━━━━━━\u001b[0m\u001b[37m\u001b[0m \u001b[1m258s\u001b[0m 131ms/step - loss: 0.9996 - root_mean_squared_error: 0.9943 - val_loss: 2.0127 - val_root_mean_squared_error: 1.4149\n",
      "Epoch 7/20\n",
      "\u001b[1m1673/1673\u001b[0m \u001b[32m━━━━━━━━━━━━━━━━━━━━\u001b[0m\u001b[37m\u001b[0m \u001b[1m261s\u001b[0m 131ms/step - loss: 0.9819 - root_mean_squared_error: 0.9854 - val_loss: 2.0153 - val_root_mean_squared_error: 1.4158\n",
      "Epoch 8/20\n",
      "\u001b[1m1673/1673\u001b[0m \u001b[32m━━━━━━━━━━━━━━━━━━━━\u001b[0m\u001b[37m\u001b[0m \u001b[1m263s\u001b[0m 132ms/step - loss: 0.9672 - root_mean_squared_error: 0.9779 - val_loss: 2.0235 - val_root_mean_squared_error: 1.4187\n",
      "Epoch 9/20\n",
      "\u001b[1m1673/1673\u001b[0m \u001b[32m━━━━━━━━━━━━━━━━━━━━\u001b[0m\u001b[37m\u001b[0m \u001b[1m218s\u001b[0m 130ms/step - loss: 0.9527 - root_mean_squared_error: 0.9705 - val_loss: 2.0196 - val_root_mean_squared_error: 1.4173\n",
      "Epoch 10/20\n",
      "\u001b[1m1673/1673\u001b[0m \u001b[32m━━━━━━━━━━━━━━━━━━━━\u001b[0m\u001b[37m\u001b[0m \u001b[1m263s\u001b[0m 131ms/step - loss: 0.9368 - root_mean_squared_error: 0.9622 - val_loss: 2.0274 - val_root_mean_squared_error: 1.4200\n",
      "Epoch 11/20\n",
      "\u001b[1m1673/1673\u001b[0m \u001b[32m━━━━━━━━━━━━━━━━━━━━\u001b[0m\u001b[37m\u001b[0m \u001b[1m265s\u001b[0m 132ms/step - loss: 0.9351 - root_mean_squared_error: 0.9614 - val_loss: 2.0260 - val_root_mean_squared_error: 1.4196\n",
      "Epoch 12/20\n",
      "\u001b[1m1673/1673\u001b[0m \u001b[32m━━━━━━━━━━━━━━━━━━━━\u001b[0m\u001b[37m\u001b[0m \u001b[1m260s\u001b[0m 131ms/step - loss: 0.9181 - root_mean_squared_error: 0.9525 - val_loss: 2.0289 - val_root_mean_squared_error: 1.4206\n",
      "Epoch 13/20\n",
      "\u001b[1m1673/1673\u001b[0m \u001b[32m━━━━━━━━━━━━━━━━━━━━\u001b[0m\u001b[37m\u001b[0m \u001b[1m221s\u001b[0m 132ms/step - loss: 0.9169 - root_mean_squared_error: 0.9519 - val_loss: 2.0294 - val_root_mean_squared_error: 1.4208\n",
      "Epoch 14/20\n",
      "\u001b[1m1673/1673\u001b[0m \u001b[32m━━━━━━━━━━━━━━━━━━━━\u001b[0m\u001b[37m\u001b[0m \u001b[1m262s\u001b[0m 132ms/step - loss: 0.9117 - root_mean_squared_error: 0.9491 - val_loss: 2.0364 - val_root_mean_squared_error: 1.4232\n",
      "Epoch 15/20\n",
      "\u001b[1m1673/1673\u001b[0m \u001b[32m━━━━━━━━━━━━━━━━━━━━\u001b[0m\u001b[37m\u001b[0m \u001b[1m270s\u001b[0m 137ms/step - loss: 0.9107 - root_mean_squared_error: 0.9486 - val_loss: 2.0373 - val_root_mean_squared_error: 1.4235\n",
      "Epoch 16/20\n",
      "\u001b[1m1673/1673\u001b[0m \u001b[32m━━━━━━━━━━━━━━━━━━━━\u001b[0m\u001b[37m\u001b[0m \u001b[1m251s\u001b[0m 130ms/step - loss: 0.8983 - root_mean_squared_error: 0.9420 - val_loss: 2.0377 - val_root_mean_squared_error: 1.4237\n",
      "Epoch 17/20\n",
      "\u001b[1m1673/1673\u001b[0m \u001b[32m━━━━━━━━━━━━━━━━━━━━\u001b[0m\u001b[37m\u001b[0m \u001b[1m219s\u001b[0m 131ms/step - loss: 0.8937 - root_mean_squared_error: 0.9396 - val_loss: 2.0325 - val_root_mean_squared_error: 1.4218\n",
      "Epoch 18/20\n",
      "\u001b[1m1673/1673\u001b[0m \u001b[32m━━━━━━━━━━━━━━━━━━━━\u001b[0m\u001b[37m\u001b[0m \u001b[1m220s\u001b[0m 131ms/step - loss: 0.8919 - root_mean_squared_error: 0.9386 - val_loss: 2.0342 - val_root_mean_squared_error: 1.4224\n",
      "Epoch 19/20\n",
      "\u001b[1m1673/1673\u001b[0m \u001b[32m━━━━━━━━━━━━━━━━━━━━\u001b[0m\u001b[37m\u001b[0m \u001b[1m222s\u001b[0m 133ms/step - loss: 0.8839 - root_mean_squared_error: 0.9343 - val_loss: 2.0392 - val_root_mean_squared_error: 1.4242\n",
      "Epoch 20/20\n",
      "\u001b[1m1673/1673\u001b[0m \u001b[32m━━━━━━━━━━━━━━━━━━━━\u001b[0m\u001b[37m\u001b[0m \u001b[1m221s\u001b[0m 132ms/step - loss: 0.8778 - root_mean_squared_error: 0.9310 - val_loss: 2.0367 - val_root_mean_squared_error: 1.4233\n"
     ]
    },
    {
     "data": {
      "text/plain": [
       "<keras.src.callbacks.history.History at 0x7f22018e22d0>"
      ]
     },
     "execution_count": 51,
     "metadata": {},
     "output_type": "execute_result"
    }
   ],
   "source": [
    "\n",
    "rating = layers.Concatenate()([user_emb, rest_emb])\n",
    "# Adds the user and restaurant embedding to the dot product of the embeddings\n",
    "rating = layers.Add()([rating, user_bias, rest_bias])\n",
    "\n",
    "# reducing the first layer further to 10 node\n",
    "rating = layers.Dense(10, activation='relu')(rating)\n",
    "# increasing the dropout rate to 0.2\n",
    "rating = layers.Dropout(0.6)(rating)\n",
    "# output layer\n",
    "rating = layers.Dense(1, activation='sigmoid')(rating)\n",
    "# conertion of output rating\n",
    "rating = layers.Lambda(lambda x:x*(max_rating - min_rating) + min_rating)(rating)\n",
    "\n",
    "model_2 = models.Model([user, restaurant], rating)\n",
    "\n",
    "# Compile the model\n",
    "model_2.compile( optimizer= 'sgd',\n",
    "                loss='mse', \n",
    "                metrics= [metrics.RootMeanSquaredError()])\n",
    "\n",
    "# Train the model\n",
    "model_2.fit(x=[X_train[:,0], X_train[:,1]], y=y_train,\n",
    "            batch_size=256, \n",
    "            epochs=20, \n",
    "            verbose=1,\n",
    "            validation_data=([X_test[:,0], X_test[:,1]], y_test))"
   ]
  },
  {
   "cell_type": "markdown",
   "metadata": {},
   "source": [
    "> The third model has further overfitted the training data as it has high validation score and low training score.\n",
    "Therefore our best neural model is baseline model which has a validation score of 1.3179."
   ]
  },
  {
   "cell_type": "code",
   "execution_count": 52,
   "metadata": {},
   "outputs": [
    {
     "name": "stdout",
     "output_type": "stream",
     "text": [
      "Training data: \n",
      "\u001b[1m13380/13380\u001b[0m \u001b[32m━━━━━━━━━━━━━━━━━━━━\u001b[0m\u001b[37m\u001b[0m \u001b[1m359s\u001b[0m 27ms/step - loss: 1.1958 - root_mean_squared_error: 1.0885\n",
      "[1.1989389657974243, 1.089964509010315]\n",
      "Testing data: \n",
      "\u001b[1m3345/3345\u001b[0m \u001b[32m━━━━━━━━━━━━━━━━━━━━\u001b[0m\u001b[37m\u001b[0m \u001b[1m90s\u001b[0m 27ms/step - loss: 1.7751 - root_mean_squared_error: 1.3282\n",
      "[1.779281497001648, 1.3298012018203735]\n"
     ]
    }
   ],
   "source": [
    "# evaluating the best model on the training data\n",
    "print(\"Training data: \")\n",
    "print(baseline_model.evaluate([X_train[:,0], X_train[:,1]], y_train))\n",
    "\n",
    "# evaluating the best model on the test data\n",
    "print(\"Testing data: \")\n",
    "print(baseline_model.evaluate([X_test[:,0], X_test[:,1]], y_test))"
   ]
  },
  {
   "cell_type": "markdown",
   "metadata": {},
   "source": [
    "**Observations:**\n",
    "***\n",
    "\n",
    "> The baseline model has a training RMSE of 1.1635 and a test RMSE of 1.302 hence being our better neural networks model with the lowest test scores.\n",
    "\n",
    "> In all the models SVD has emerged to be the best RMSE score of 0.068"
   ]
  },
  {
   "cell_type": "markdown",
   "metadata": {},
   "source": [
    "***\n",
    "## 5. EVALUATION\n",
    "***\n",
    "\n",
    "### FINDINGS AND EVALUATION BASED ON EDA\n",
    "***\n",
    "\n",
    "1) Most common ratings are 3.5 and 4.0 stars, indicating general satisfaction.Ratings below 2.5 stars are uncommon, showing few very poor experiences.\n",
    "\n",
    "2) Pennsylvania (PA), Florida (FL) and Tennessee (TN) boast the highest numbers of restaurants among the states, highlighting them as major markets for the restaurant industry.\n",
    "\n",
    "3) 66.9% Open Restaurants: A significant majority of the restaurants in our dataset are currently operational. This proportion suggests a robust industry where the majority of listed entities are active, presenting numerous options for recommendations.\n",
    "\n",
    "4) 33.1% Closed Restaurants: A substantial portion of the restaurants are no longer in operation. This data is crucial for ensuring accuracy in our recommendation system by filtering out closed establishments, thereby improving user experience and system reliability.\n",
    "\n",
    "5) McDonald's, Subway, and Taco Bell lead in frequency, indicating a high presence of these chains within the dataset. This suggests a dominance of fast-food chains in the restaurant landscape.\n",
    "\n",
    "6) The highest review counts appear at 4.0 and 5.0 star ratings, suggesting high customer engagement with top-rated restaurants and the opposite is true.\n",
    "\n",
    "7) Seasonal Trends: Frequent peaks between April and July, indicating increased customer engagement during this period.\n",
    "\n",
    "8) Decline in Engagement: Noticeable drops in reviews occur after July, particularly in September and December.\n",
    "\n",
    "9) **Covid Impact**: Evidence of declined restaurnat reviews in the year 2020 due to the COVID outbreak"
   ]
  },
  {
   "cell_type": "markdown",
   "metadata": {},
   "source": [
    "### MODEL FINDINGS AND EVALUATION\n",
    "***\n",
    "\n"
   ]
  },
  {
   "cell_type": "markdown",
   "metadata": {},
   "source": [
    "### 1) COLLABORATIVE  BASED MODELS\n",
    "\n",
    "##### i) BASELINE MODEL  - NORMAL PREDICTOR\n",
    "\n",
    "This model was initialized and evaluated using RMSE, yielding a poor performance with an RMSE of 0.8192.\n",
    "\n",
    "##### ii) NMF(Non-Negative Matrix Factorization) MODEL\n",
    "\n",
    "The NMF model had an RMSE of 0.3489 which shows improved model perfomance.\n",
    "\n",
    "##### iii) SVD (Single Value Decomposition) MODEL\n",
    "\n",
    "The vanilla SVD model had an RMSE of 0.1171, indicating good accuracy. Cross-validation further improved this to 0.1135. To enhance performance, hyperparameter tuning was performed using GridSearchCV to find the optimal parameters, improving the model further"
   ]
  },
  {
   "cell_type": "markdown",
   "metadata": {},
   "source": [
    "#### 2) DEEP NEURAL NETWORKS (DNN)\n",
    "\n",
    "The text outlines the development and evaluation of deep neural network (DNN) models for a recommendation system using Keras. Three models were tested:\n",
    "\n",
    "1. **Vanilla Model**: This model has a three-layer architecture and was trained for 10 epochs. RMSE improved gradually from 1.5015 to 1.4409, with a validation RMSE of 1.4512 by the end.\n",
    "\n",
    "2. **Tuned Model 1**: This model added user and restaurant embeddings, L2 regularization, and a dropout layer to reduce overfitting. After 20 epochs, it achieved a training RMSE of 0.8703 but showed signs of overfitting with a validation RMSE of 1.3940.\n",
    "\n",
    "3. **Tuned Model 2**: Similar to Model 1, but with a higher dropout rate. The training RMSE improved to 0.9310, but the validation RMSE remained high at 1.4233, indicating overfitting.\n",
    "\n",
    "**Conclusion**: The third model overfitted the training data, leading to poor generalization. The best performing model was the vanilla model with a validation RMSE of 1.3179, but it still performed worse than the optimized SVD model.\n",
    "\n"
   ]
  },
  {
   "cell_type": "markdown",
   "metadata": {},
   "source": [
    "### RECOMMENDATIONS\n",
    "***"
   ]
  },
  {
   "cell_type": "markdown",
   "metadata": {},
   "source": [
    "### FUTURE WORKS\n",
    "***\n",
    "\n",
    "1) **Expansion of Dataset** Eg Include More Cuisines,Crowdsourced Data\n",
    "\n",
    "2) **Enhanced User Interface and Experience** Eg Augmented Reality (AR), Voice Interaction\n",
    "3) **Integration with Other Services** Eg Reservation Systems\n",
    "\n",
    "4) **Feedback and Continuous Improvement** Eg User Feedback Loops, A/B Testing\n",
    "\n",
    "5) **Expanding Geographical Coverage for Data Collection**"
   ]
  },
  {
   "cell_type": "markdown",
   "metadata": {},
   "source": [
    "## REFERENCES\n",
    "***\n",
    "\n",
    "1) [YELP](https://www.yelp.com/dataset/download)\n",
    "\n",
    "2) [Streamlit](https://docs.streamlit.io/)"
   ]
  }
 ],
 "metadata": {
  "kernelspec": {
   "display_name": "python keras-env",
   "language": "python",
   "name": "keras-env"
  },
  "language_info": {
   "codemirror_mode": {
    "name": "ipython",
    "version": 3
   },
   "file_extension": ".py",
   "mimetype": "text/x-python",
   "name": "python",
   "nbconvert_exporter": "python",
   "pygments_lexer": "ipython3",
   "version": "3.11.5"
  }
 },
 "nbformat": 4,
 "nbformat_minor": 2
}
