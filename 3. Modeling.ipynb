{
 "cells": [
  {
   "cell_type": "markdown",
   "id": "7b0d7cb9-e692-4a60-bfbd-4a97c13ec140",
   "metadata": {},
   "source": [
    "***\n",
    "## 4. MODELLING\n",
    "***\n",
    "In this section we will create a system using the datasets to recommend restaurants based on different aspects. There are different types of recommentation models, in this project we will focus on three types of recommendation systems:\n",
    "\n",
    " > 1. Content-Based Filtering.\n",
    " > 2. Collaborative Filtering.\n",
    " > 3. Deep Neural Networks.\n",
    "\n",
    "### CONTENT BASED FILTERING\n",
    "\n",
    "By utilizing restaurant features such as types of cuisine they offer or if they have WiFi, Alcohol, Happy Hour, Noise Level, Restaurants Attire, Wheelchair Accessible, Restaurants TableService etc, we are able to use cosine similarity to recommend the  restaurants with the closest similarity."
   ]
  },
  {
   "cell_type": "code",
   "execution_count": 85,
   "id": "2ff0af6f-03e0-4c28-835d-dec31f8d4949",
   "metadata": {},
   "outputs": [],
   "source": [
    "# importing necessary libraries\n",
    "import requests\n",
    "import warnings\n",
    "import numpy as np\n",
    "import pandas as pd\n",
    "warnings.filterwarnings('ignore')\n",
    "from sklearn.metrics.pairwise import cosine_similarity\n",
    "from sklearn.feature_extraction.text import TfidfVectorizer"
   ]
  },
  {
   "cell_type": "code",
   "execution_count": 87,
   "id": "6f38baf0-9ce6-4f2b-9902-a09d11f3743f",
   "metadata": {},
   "outputs": [
    {
     "name": "stdout",
     "output_type": "stream",
     "text": [
      "<class 'pandas.core.frame.DataFrame'>\n",
      "RangeIndex: 38552 entries, 0 to 38551\n",
      "Data columns (total 16 columns):\n",
      " #   Column           Non-Null Count  Dtype  \n",
      "---  ------           --------------  -----  \n",
      " 0   business_id      38552 non-null  object \n",
      " 1   name             38552 non-null  object \n",
      " 2   address          38552 non-null  object \n",
      " 3   city             38552 non-null  object \n",
      " 4   state            38552 non-null  object \n",
      " 5   postal_code      38552 non-null  object \n",
      " 6   latitude         38552 non-null  float64\n",
      " 7   longitude        38552 non-null  float64\n",
      " 8   stars            38552 non-null  float64\n",
      " 9   review_count     38552 non-null  int64  \n",
      " 10  is_open          38552 non-null  int64  \n",
      " 11  attributes       38552 non-null  object \n",
      " 12  categories       38552 non-null  object \n",
      " 13  hours            38552 non-null  object \n",
      " 14  location         38552 non-null  object \n",
      " 15  attributes_true  38552 non-null  object \n",
      "dtypes: float64(3), int64(2), object(11)\n",
      "memory usage: 4.7+ MB\n"
     ]
    }
   ],
   "source": [
    "# Loading the restaurant data from the pickled file\n",
    "df = pd.read_pickle('pickled_files/restaurant_data.pkl')\n",
    "\n",
    "# Overview of dataset information to understand the features we require\n",
    "df.info()"
   ]
  },
  {
   "cell_type": "code",
   "execution_count": 89,
   "id": "d4d6e6e8-0048-4abc-8ed3-19bc551ee897",
   "metadata": {},
   "outputs": [],
   "source": [
    "# Preprocessing function\n",
    "def preprocess(df):\n",
    "    \"\"\"\n",
    "    Function to preprocess the data to combine the needed features into one column\n",
    "    Returns a dataframe with the combined_features columns\n",
    "    \"\"\"\n",
    "    filtered_df=df.copy()\n",
    "    # Combining the features into one column\n",
    "    filtered_df['combined_features'] = (\n",
    "                                        filtered_df['attributes'] + \" \" +\n",
    "                                        filtered_df['attributes_true'] \n",
    "                                        )\n",
    "    # resetting the index\n",
    "    filtered_df = filtered_df.reset_index(drop=True)\n",
    "\n",
    "    # Return turns the filtered df\n",
    "    return filtered_df"
   ]
  },
  {
   "cell_type": "code",
   "execution_count": 91,
   "id": "408ef963-b747-43ac-a813-e21c6b1f8c78",
   "metadata": {},
   "outputs": [],
   "source": [
    "# Vectorization function\n",
    "def create_feature_vectors(df):\n",
    "    \"\"\"\n",
    "    Performing vectorization of the preprocessed categorical features \n",
    "    and combining with the numerical features\n",
    "    \"\"\"\n",
    "    # Vectorize the combined text features\n",
    "    tfidf = TfidfVectorizer(stop_words='english')\n",
    "    tfidf_matrix = tfidf.fit_transform(df['combined_features'])\n",
    "    \n",
    "    # Combine the TF-IDF matrix with numerical columns\n",
    "    numerical_features = df[['stars']].values\n",
    "    combined_features = np.hstack((tfidf_matrix.toarray(), numerical_features))\n",
    "    \n",
    "    return combined_features"
   ]
  },
  {
   "cell_type": "code",
   "execution_count": 101,
   "id": "fde27954-c180-4657-ade6-aaa03ad030f9",
   "metadata": {},
   "outputs": [],
   "source": [
    "# Recommendation function\n",
    "def recommendation(df, state, name=None, category=None):\n",
    "    \"\"\"\n",
    "    Creates recommendation based on name or category/cuisine using cosine similarity and filtering\n",
    "    Returns a dataframe containing name, state, city, address, stars and categories\n",
    "    \"\"\"\n",
    "    preprocessed = preprocess(df)\n",
    "    \n",
    "    def cuisines(cuisine=None, state=state):\n",
    "        \"\"\"\n",
    "        Function to filter to get the recommendations based on cuisine input\n",
    "        \"\"\"\n",
    "        preprocessed=df[df[\"state\"]==state]\n",
    "        cuisine_df = preprocessed[preprocessed['categories'] == cuisine]\n",
    "        cuisine_df_sorted = cuisine_df.sort_values(by=[\"stars\", \"city\"], ascending=False)\n",
    "        return cuisine_df_sorted[['name', 'state', 'city', 'stars', 'address', 'categories']]\n",
    "    \n",
    "    if name:\n",
    "        if name not in preprocessed['name'].values:\n",
    "            raise ValueError(f\"Restaurant with name '{name}' not found in the filtered data.\")\n",
    "\n",
    "        # Finding the index of the restaurant name\n",
    "        idx = preprocessed[preprocessed['name'] == name].index[0]\n",
    "        exclude_names = [name]\n",
    "\n",
    "        # Locating the restaurant row in the preprocessed df \n",
    "        row_to_add = preprocessed.iloc[idx]\n",
    "        \n",
    "        # convering it to a df\n",
    "        row_to_add_df = pd.DataFrame([row_to_add])     \n",
    "        \n",
    "        #generating a df for only the state i want to recommend in\n",
    "        specific_state= preprocessed[preprocessed[\"state\"] == state]\n",
    "        \n",
    "        # concatinating it to the specific state df and reseting the index\n",
    "        specific_state = pd.concat([specific_state, row_to_add_df]).reset_index(drop=True)\n",
    "        \n",
    "        # Finding the new index for the restaurant name\n",
    "        idx = specific_state[specific_state['name'] == name].index[0]\n",
    "        \n",
    "        # Creating feature vectors\n",
    "        combined_features = create_feature_vectors(specific_state)\n",
    "\n",
    "        # Finding the cosine similarity\n",
    "        cosine_sim = cosine_similarity(combined_features, combined_features)\n",
    "\n",
    "        # Finding the top indices of the restaurants to recommend\n",
    "        sim_scores = list(enumerate(cosine_sim[idx]))\n",
    "        sim_scores = sorted(sim_scores, key=lambda x: x[1], reverse=True)\n",
    "        top_indices = [i[0] for i in sim_scores]  \n",
    "\n",
    "        # Finding the rows of the top recommended restaurants\n",
    "        recommended_restaurants = specific_state.iloc[top_indices]\n",
    "        recommended_restaurants = recommended_restaurants[~recommended_restaurants['name'].isin(exclude_names)]        \n",
    "\n",
    "        # Return a df with the required features\n",
    "        return recommended_restaurants[['name', 'state', 'city', 'stars', 'address','categories']].drop_duplicates(subset='name')[:20]\n",
    "    \n",
    "    elif category:\n",
    "        # Filter based on cuisine/cateogry\n",
    "        return cuisines(category)"
   ]
  },
  {
   "cell_type": "code",
   "execution_count": 111,
   "id": "83c5b3a8-2925-4855-a246-3111dda141ec",
   "metadata": {},
   "outputs": [
    {
     "data": {
      "text/html": [
       "<div>\n",
       "<style scoped>\n",
       "    .dataframe tbody tr th:only-of-type {\n",
       "        vertical-align: middle;\n",
       "    }\n",
       "\n",
       "    .dataframe tbody tr th {\n",
       "        vertical-align: top;\n",
       "    }\n",
       "\n",
       "    .dataframe thead th {\n",
       "        text-align: right;\n",
       "    }\n",
       "</style>\n",
       "<table border=\"1\" class=\"dataframe\">\n",
       "  <thead>\n",
       "    <tr style=\"text-align: right;\">\n",
       "      <th></th>\n",
       "      <th>name</th>\n",
       "      <th>state</th>\n",
       "      <th>city</th>\n",
       "      <th>stars</th>\n",
       "      <th>address</th>\n",
       "      <th>categories</th>\n",
       "    </tr>\n",
       "  </thead>\n",
       "  <tbody>\n",
       "    <tr>\n",
       "      <th>1785</th>\n",
       "      <td>El Torito Grill</td>\n",
       "      <td>Indiana</td>\n",
       "      <td>Indianapolis</td>\n",
       "      <td>4.5</td>\n",
       "      <td>8650 Keystone Crossing</td>\n",
       "      <td>Mexican</td>\n",
       "    </tr>\n",
       "    <tr>\n",
       "      <th>40</th>\n",
       "      <td>Taste of China</td>\n",
       "      <td>Indiana</td>\n",
       "      <td>Whiteland</td>\n",
       "      <td>4.0</td>\n",
       "      <td>989 N US 31</td>\n",
       "      <td>Chinese</td>\n",
       "    </tr>\n",
       "    <tr>\n",
       "      <th>2133</th>\n",
       "      <td>Hong Kong Inn</td>\n",
       "      <td>Indiana</td>\n",
       "      <td>Indianapolis</td>\n",
       "      <td>4.0</td>\n",
       "      <td>8079 E 38th St</td>\n",
       "      <td>Chinese</td>\n",
       "    </tr>\n",
       "    <tr>\n",
       "      <th>2062</th>\n",
       "      <td>Diarra's Cuisine</td>\n",
       "      <td>Indiana</td>\n",
       "      <td>Indianapolis</td>\n",
       "      <td>3.5</td>\n",
       "      <td>2989 W 71st St, Ste 3</td>\n",
       "      <td>African</td>\n",
       "    </tr>\n",
       "    <tr>\n",
       "      <th>458</th>\n",
       "      <td>WB Pizza</td>\n",
       "      <td>Indiana</td>\n",
       "      <td>Indianapolis</td>\n",
       "      <td>4.5</td>\n",
       "      <td>2290 W 86th St</td>\n",
       "      <td>American (Traditional)</td>\n",
       "    </tr>\n",
       "  </tbody>\n",
       "</table>\n",
       "</div>"
      ],
      "text/plain": [
       "                  name    state          city  stars                 address  \\\n",
       "1785   El Torito Grill  Indiana  Indianapolis    4.5  8650 Keystone Crossing   \n",
       "40      Taste of China  Indiana     Whiteland    4.0             989 N US 31   \n",
       "2133     Hong Kong Inn  Indiana  Indianapolis    4.0          8079 E 38th St   \n",
       "2062  Diarra's Cuisine  Indiana  Indianapolis    3.5   2989 W 71st St, Ste 3   \n",
       "458           WB Pizza  Indiana  Indianapolis    4.5          2290 W 86th St   \n",
       "\n",
       "                  categories  \n",
       "1785                 Mexican  \n",
       "40                   Chinese  \n",
       "2133                 Chinese  \n",
       "2062                 African  \n",
       "458   American (Traditional)  "
      ]
     },
     "execution_count": 111,
     "metadata": {},
     "output_type": "execute_result"
    }
   ],
   "source": [
    "# Example recommendations based on state, name\n",
    "restaurants = recommendation(df, state=\"Indiana\",  name=\"Coup de Taco\")\n",
    "restaurants.head()"
   ]
  },
  {
   "cell_type": "code",
   "execution_count": 113,
   "id": "da94f712-57ca-44ae-8cdf-0fb4e008f941",
   "metadata": {},
   "outputs": [
    {
     "data": {
      "text/html": [
       "<div>\n",
       "<style scoped>\n",
       "    .dataframe tbody tr th:only-of-type {\n",
       "        vertical-align: middle;\n",
       "    }\n",
       "\n",
       "    .dataframe tbody tr th {\n",
       "        vertical-align: top;\n",
       "    }\n",
       "\n",
       "    .dataframe thead th {\n",
       "        text-align: right;\n",
       "    }\n",
       "</style>\n",
       "<table border=\"1\" class=\"dataframe\">\n",
       "  <thead>\n",
       "    <tr style=\"text-align: right;\">\n",
       "      <th></th>\n",
       "      <th>name</th>\n",
       "      <th>state</th>\n",
       "      <th>city</th>\n",
       "      <th>stars</th>\n",
       "      <th>address</th>\n",
       "      <th>categories</th>\n",
       "    </tr>\n",
       "  </thead>\n",
       "  <tbody>\n",
       "    <tr>\n",
       "      <th>19189</th>\n",
       "      <td>Greek’s Pizzeria-  Indianapolis</td>\n",
       "      <td>Indiana</td>\n",
       "      <td>Indianapolis</td>\n",
       "      <td>5.0</td>\n",
       "      <td>1601 Columbia Ave</td>\n",
       "      <td>Italian</td>\n",
       "    </tr>\n",
       "    <tr>\n",
       "      <th>30169</th>\n",
       "      <td>I Tre Mori</td>\n",
       "      <td>Indiana</td>\n",
       "      <td>Indianapolis</td>\n",
       "      <td>5.0</td>\n",
       "      <td>8220 E 106th St, Ste 200</td>\n",
       "      <td>Italian</td>\n",
       "    </tr>\n",
       "    <tr>\n",
       "      <th>35845</th>\n",
       "      <td>The Twisted Sicilian</td>\n",
       "      <td>Indiana</td>\n",
       "      <td>Indianapolis</td>\n",
       "      <td>5.0</td>\n",
       "      <td>Unknown</td>\n",
       "      <td>Italian</td>\n",
       "    </tr>\n",
       "    <tr>\n",
       "      <th>12466</th>\n",
       "      <td>Ciao by Villaggio</td>\n",
       "      <td>Indiana</td>\n",
       "      <td>Zionsville</td>\n",
       "      <td>4.5</td>\n",
       "      <td>40 S Main St</td>\n",
       "      <td>Italian</td>\n",
       "    </tr>\n",
       "    <tr>\n",
       "      <th>21713</th>\n",
       "      <td>Convivio Italian Artisan Cuisine - Zionsville</td>\n",
       "      <td>Indiana</td>\n",
       "      <td>Zionsville</td>\n",
       "      <td>4.5</td>\n",
       "      <td>40 S Main St</td>\n",
       "      <td>Italian</td>\n",
       "    </tr>\n",
       "  </tbody>\n",
       "</table>\n",
       "</div>"
      ],
      "text/plain": [
       "                                                name    state          city  \\\n",
       "19189                Greek’s Pizzeria-  Indianapolis  Indiana  Indianapolis   \n",
       "30169                                     I Tre Mori  Indiana  Indianapolis   \n",
       "35845                           The Twisted Sicilian  Indiana  Indianapolis   \n",
       "12466                              Ciao by Villaggio  Indiana    Zionsville   \n",
       "21713  Convivio Italian Artisan Cuisine - Zionsville  Indiana    Zionsville   \n",
       "\n",
       "       stars                   address categories  \n",
       "19189    5.0         1601 Columbia Ave    Italian  \n",
       "30169    5.0  8220 E 106th St, Ste 200    Italian  \n",
       "35845    5.0                   Unknown    Italian  \n",
       "12466    4.5              40 S Main St    Italian  \n",
       "21713    4.5              40 S Main St    Italian  "
      ]
     },
     "execution_count": 113,
     "metadata": {},
     "output_type": "execute_result"
    }
   ],
   "source": [
    "# Example recommendations based on state, category/cuisine\n",
    "cuisines = recommendation(df, state=\"Indiana\",  category=\"Italian\")\n",
    "cuisines.head()"
   ]
  },
  {
   "cell_type": "code",
   "execution_count": null,
   "id": "794d1470-1184-4ebb-a2a5-afd131ec7689",
   "metadata": {},
   "outputs": [],
   "source": []
  },
  {
   "cell_type": "code",
   "execution_count": null,
   "id": "53ecdc86-249c-44fc-a76b-bba5d096b36a",
   "metadata": {},
   "outputs": [],
   "source": []
  },
  {
   "cell_type": "code",
   "execution_count": null,
   "id": "488f2935-997e-47ba-89fb-1cd81b6d43fe",
   "metadata": {},
   "outputs": [],
   "source": []
  },
  {
   "cell_type": "code",
   "execution_count": null,
   "id": "2a867342-ce54-4cd2-b164-5eed21d459a9",
   "metadata": {},
   "outputs": [],
   "source": []
  },
  {
   "cell_type": "code",
   "execution_count": 123,
   "id": "65b92838-7732-478e-85be-a3750cc27721",
   "metadata": {},
   "outputs": [],
   "source": []
  },
  {
   "cell_type": "code",
   "execution_count": null,
   "id": "1c77c9e4-64d3-47cd-9ff4-70ac5e1947a8",
   "metadata": {},
   "outputs": [],
   "source": []
  },
  {
   "cell_type": "code",
   "execution_count": null,
   "id": "f5d6eb34-3c51-4aff-8102-41ff9a508865",
   "metadata": {},
   "outputs": [],
   "source": []
  },
  {
   "cell_type": "code",
   "execution_count": null,
   "id": "3fb233c4-986e-42ab-b3b4-106b3ea8b7b0",
   "metadata": {},
   "outputs": [],
   "source": []
  },
  {
   "cell_type": "code",
   "execution_count": null,
   "id": "3276f639-ef24-4abc-a75b-e87e9f5ed9ee",
   "metadata": {},
   "outputs": [],
   "source": []
  },
  {
   "cell_type": "code",
   "execution_count": null,
   "id": "db8c5e13-f3cb-44d0-854a-04d20317d650",
   "metadata": {},
   "outputs": [],
   "source": []
  },
  {
   "cell_type": "code",
   "execution_count": null,
   "id": "5a6a536c-a8f9-4c45-81ce-908421013c2a",
   "metadata": {},
   "outputs": [],
   "source": []
  },
  {
   "cell_type": "code",
   "execution_count": null,
   "id": "66275f1e-1095-4cdc-901a-a881efeaaf9d",
   "metadata": {},
   "outputs": [],
   "source": []
  },
  {
   "cell_type": "markdown",
   "id": "afe8d07f-b114-4141-b3de-47f59f21c207",
   "metadata": {},
   "source": [
    "## COLLABORATIVE FILTERING"
   ]
  },
  {
   "cell_type": "code",
   "execution_count": 333,
   "id": "936b8d15-1661-48b6-96c1-2e5355e446fd",
   "metadata": {},
   "outputs": [],
   "source": [
    "import pandas as pd\n",
    "\n",
    "from surprise import Dataset, Reader, SVD\n",
    "from surprise.model_selection import train_test_split\n",
    "from surprise import accuracy\n",
    "from surprise.model_selection import cross_validate"
   ]
  },
  {
   "cell_type": "code",
   "execution_count": 335,
   "id": "c9c942a3-85ac-440e-9e2b-3b1257fc07e6",
   "metadata": {},
   "outputs": [],
   "source": [
    "df_collab=pd.read_csv(\"data/users.csv\")"
   ]
  },
  {
   "cell_type": "code",
   "execution_count": 341,
   "id": "0bb27308-9b69-4ed7-8701-6af6539bf151",
   "metadata": {},
   "outputs": [
    {
     "name": "stdout",
     "output_type": "stream",
     "text": [
      "<class 'pandas.core.frame.DataFrame'>\n",
      "RangeIndex: 429771 entries, 0 to 429770\n",
      "Data columns (total 9 columns):\n",
      " #   Column       Non-Null Count   Dtype \n",
      "---  ------       --------------   ----- \n",
      " 0   review_id    429771 non-null  object\n",
      " 1   user_id      429771 non-null  object\n",
      " 2   business_id  429771 non-null  object\n",
      " 3   stars        429771 non-null  int64 \n",
      " 4   useful       429771 non-null  int64 \n",
      " 5   funny        429771 non-null  int64 \n",
      " 6   cool         429771 non-null  int64 \n",
      " 7   text         429771 non-null  object\n",
      " 8   date         429771 non-null  object\n",
      "dtypes: int64(4), object(5)\n",
      "memory usage: 29.5+ MB\n"
     ]
    }
   ],
   "source": [
    "df_collab.info()"
   ]
  },
  {
   "cell_type": "code",
   "execution_count": 343,
   "id": "bdb2ef51-da3b-483b-bb0a-39f62f8f6ab2",
   "metadata": {},
   "outputs": [
    {
     "data": {
      "text/html": [
       "<div>\n",
       "<style scoped>\n",
       "    .dataframe tbody tr th:only-of-type {\n",
       "        vertical-align: middle;\n",
       "    }\n",
       "\n",
       "    .dataframe tbody tr th {\n",
       "        vertical-align: top;\n",
       "    }\n",
       "\n",
       "    .dataframe thead th {\n",
       "        text-align: right;\n",
       "    }\n",
       "</style>\n",
       "<table border=\"1\" class=\"dataframe\">\n",
       "  <thead>\n",
       "    <tr style=\"text-align: right;\">\n",
       "      <th></th>\n",
       "      <th>user_id</th>\n",
       "      <th>business_id</th>\n",
       "      <th>stars</th>\n",
       "    </tr>\n",
       "  </thead>\n",
       "  <tbody>\n",
       "    <tr>\n",
       "      <th>0</th>\n",
       "      <td>iAD32p6h32eKDVxsPHSRHA</td>\n",
       "      <td>YB26JvvGS2LgkxEKOObSAw</td>\n",
       "      <td>5</td>\n",
       "    </tr>\n",
       "    <tr>\n",
       "      <th>1</th>\n",
       "      <td>rYvWv-Ny16b1lMcw1IP7JQ</td>\n",
       "      <td>jfIwOEXcVRyhZjM4ISOh4g</td>\n",
       "      <td>1</td>\n",
       "    </tr>\n",
       "    <tr>\n",
       "      <th>2</th>\n",
       "      <td>2ntnbUia9Bna62W0fqNcxg</td>\n",
       "      <td>S-VD26LE_LeJNx5nASk_pw</td>\n",
       "      <td>5</td>\n",
       "    </tr>\n",
       "    <tr>\n",
       "      <th>3</th>\n",
       "      <td>j4qNLF-VNRF2DwBkUENW-w</td>\n",
       "      <td>yE1raqkLX7OZsjmX3qKIKg</td>\n",
       "      <td>5</td>\n",
       "    </tr>\n",
       "    <tr>\n",
       "      <th>4</th>\n",
       "      <td>H3P9EB7J9HP6PzkVjgFiOg</td>\n",
       "      <td>oQ5CPRt0R3AzFvcjNOqB1w</td>\n",
       "      <td>5</td>\n",
       "    </tr>\n",
       "    <tr>\n",
       "      <th>...</th>\n",
       "      <td>...</td>\n",
       "      <td>...</td>\n",
       "      <td>...</td>\n",
       "    </tr>\n",
       "    <tr>\n",
       "      <th>429766</th>\n",
       "      <td>JWhZs-vSggwN6WgxBHgIDw</td>\n",
       "      <td>B2xtWMBTyDtd-ndqqaIC1Q</td>\n",
       "      <td>1</td>\n",
       "    </tr>\n",
       "    <tr>\n",
       "      <th>429767</th>\n",
       "      <td>XJTO9x78TgWE94cmXqNduA</td>\n",
       "      <td>c3QxX3toWdqJnKQmmIliRQ</td>\n",
       "      <td>1</td>\n",
       "    </tr>\n",
       "    <tr>\n",
       "      <th>429768</th>\n",
       "      <td>cTozFTTWjlFYc3yusdbZmA</td>\n",
       "      <td>uMVOtr16r1ELu46pWr4HCQ</td>\n",
       "      <td>1</td>\n",
       "    </tr>\n",
       "    <tr>\n",
       "      <th>429769</th>\n",
       "      <td>7L7GL5Pi2cf8mbm2Dpw4zw</td>\n",
       "      <td>e_E-jq9mwm7wk75k7Yi-Xw</td>\n",
       "      <td>5</td>\n",
       "    </tr>\n",
       "    <tr>\n",
       "      <th>429770</th>\n",
       "      <td>YwAMC-jvZ1fvEUum6QkEkw</td>\n",
       "      <td>Rr9kKArrMhSLVE9a53q-aA</td>\n",
       "      <td>5</td>\n",
       "    </tr>\n",
       "  </tbody>\n",
       "</table>\n",
       "<p>429771 rows × 3 columns</p>\n",
       "</div>"
      ],
      "text/plain": [
       "                       user_id             business_id  stars\n",
       "0       iAD32p6h32eKDVxsPHSRHA  YB26JvvGS2LgkxEKOObSAw      5\n",
       "1       rYvWv-Ny16b1lMcw1IP7JQ  jfIwOEXcVRyhZjM4ISOh4g      1\n",
       "2       2ntnbUia9Bna62W0fqNcxg  S-VD26LE_LeJNx5nASk_pw      5\n",
       "3       j4qNLF-VNRF2DwBkUENW-w  yE1raqkLX7OZsjmX3qKIKg      5\n",
       "4       H3P9EB7J9HP6PzkVjgFiOg  oQ5CPRt0R3AzFvcjNOqB1w      5\n",
       "...                        ...                     ...    ...\n",
       "429766  JWhZs-vSggwN6WgxBHgIDw  B2xtWMBTyDtd-ndqqaIC1Q      1\n",
       "429767  XJTO9x78TgWE94cmXqNduA  c3QxX3toWdqJnKQmmIliRQ      1\n",
       "429768  cTozFTTWjlFYc3yusdbZmA  uMVOtr16r1ELu46pWr4HCQ      1\n",
       "429769  7L7GL5Pi2cf8mbm2Dpw4zw  e_E-jq9mwm7wk75k7Yi-Xw      5\n",
       "429770  YwAMC-jvZ1fvEUum6QkEkw  Rr9kKArrMhSLVE9a53q-aA      5\n",
       "\n",
       "[429771 rows x 3 columns]"
      ]
     },
     "execution_count": 343,
     "metadata": {},
     "output_type": "execute_result"
    }
   ],
   "source": [
    "users=df_collab[[\"user_id\",'business_id',\"stars\"]]\n",
    "users"
   ]
  },
  {
   "cell_type": "code",
   "execution_count": 353,
   "id": "58caa942-d5be-4535-9246-a49ad01392cf",
   "metadata": {},
   "outputs": [],
   "source": [
    "import pickle"
   ]
  },
  {
   "cell_type": "code",
   "execution_count": 355,
   "id": "9a844e36-da63-4ce6-964c-e98e08c09fa5",
   "metadata": {},
   "outputs": [],
   "source": [
    "with open('pickled_files/user_ratings.pkl', 'wb') as file:\n",
    "    pickle.dump(users, file)"
   ]
  },
  {
   "cell_type": "code",
   "execution_count": null,
   "id": "905363e9-3b29-4e7a-ae97-0bd3ac8669f0",
   "metadata": {},
   "outputs": [],
   "source": []
  },
  {
   "cell_type": "code",
   "execution_count": null,
   "id": "d381cce6-44c6-443c-a3cf-aaddc126320f",
   "metadata": {},
   "outputs": [],
   "source": []
  },
  {
   "cell_type": "code",
   "execution_count": null,
   "id": "59bdb06d-48ae-428d-8b46-fa85bd565098",
   "metadata": {},
   "outputs": [],
   "source": []
  },
  {
   "cell_type": "code",
   "execution_count": 336,
   "id": "1d1dc0ce-9393-4c26-b2d8-b316cb5e915b",
   "metadata": {},
   "outputs": [],
   "source": [
    "# Define a Reader object with the rating scale\n",
    "reader = Reader(rating_scale=(1, 5))\n",
    "\n",
    "# Load the data from the DataFrame\n",
    "data = Dataset.load_from_df(df_collab[['user_id', 'business_id', 'stars']], reader)\n",
    "\n",
    "trainset, testset = train_test_split(data, test_size=0.25)"
   ]
  },
  {
   "cell_type": "code",
   "execution_count": null,
   "id": "57024ecc-ee24-495a-9ac2-d79b6927ae6c",
   "metadata": {},
   "outputs": [],
   "source": [
    "uss"
   ]
  },
  {
   "cell_type": "code",
   "execution_count": 337,
   "id": "b63f7c39-c97f-4fa7-94a7-28e25d022d98",
   "metadata": {},
   "outputs": [
    {
     "name": "stdout",
     "output_type": "stream",
     "text": [
      "RMSE: 1.3685\n"
     ]
    },
    {
     "data": {
      "text/plain": [
       "1.3684877636798007"
      ]
     },
     "execution_count": 337,
     "metadata": {},
     "output_type": "execute_result"
    }
   ],
   "source": [
    "# Initialize the SVD algorithm\n",
    "model = SVD()\n",
    "\n",
    "# Train the model on the training set\n",
    "model.fit(trainset)\n",
    "\n",
    "# Predict ratings for the test set\n",
    "predictions = model.test(testset)\n",
    "\n",
    "# Compute RMSE\n",
    "accuracy.rmse(predictions)"
   ]
  },
  {
   "cell_type": "code",
   "execution_count": null,
   "id": "13a847b9-6fda-4ed9-81cc-3848371400f5",
   "metadata": {},
   "outputs": [],
   "source": []
  },
  {
   "cell_type": "code",
   "execution_count": null,
   "id": "fb191de9-c3f5-457a-99f5-81342298d87f",
   "metadata": {},
   "outputs": [],
   "source": []
  },
  {
   "cell_type": "code",
   "execution_count": null,
   "id": "1fbb56cc-9315-420a-9ade-b3d3dc25fd9d",
   "metadata": {},
   "outputs": [],
   "source": []
  },
  {
   "cell_type": "code",
   "execution_count": null,
   "id": "f968cabc-7405-457a-a940-34a6cff68eb9",
   "metadata": {},
   "outputs": [],
   "source": []
  },
  {
   "cell_type": "code",
   "execution_count": null,
   "id": "830207ca-d9c9-448a-826d-b4e1c1b86f71",
   "metadata": {},
   "outputs": [],
   "source": []
  },
  {
   "cell_type": "code",
   "execution_count": null,
   "id": "742c374f-9e05-47df-ac4a-e436a80f09e6",
   "metadata": {},
   "outputs": [],
   "source": []
  },
  {
   "cell_type": "code",
   "execution_count": null,
   "id": "52d8ba85-f107-4aef-984b-56c87c6d67e6",
   "metadata": {},
   "outputs": [],
   "source": []
  },
  {
   "cell_type": "code",
   "execution_count": null,
   "id": "475c7b6b-be8e-4396-a3fb-6d3a559ce863",
   "metadata": {},
   "outputs": [],
   "source": []
  },
  {
   "cell_type": "code",
   "execution_count": 110,
   "id": "f1bbaf2e-99e2-4232-b8d4-ef4143e3b558",
   "metadata": {},
   "outputs": [],
   "source": [
    "def recommend_businesses(user_id, n=5):\n",
    "    # Get all unique business IDs\n",
    "    all_business_ids = df_collab['business_id'].unique()\n",
    "    \n",
    "    # Predict ratings for all businesses the user hasn't rated yet\n",
    "    user_rated_businesses = df_collab[df_collab['user_id'] == user_id]['business_id']\n",
    "    recommendations = []\n",
    "    \n",
    "    for business_id in all_business_ids:\n",
    "        if business_id not in user_rated_businesses.values:\n",
    "            pred = model.predict(user_id, business_id)\n",
    "            recommendations.append((business_id, pred.est))\n",
    "    \n",
    "    # Sort by estimated rating and return top-n\n",
    "    recommendations = sorted(recommendations, key=lambda x: x[1], reverse=True)\n",
    "    return recommendations[:n]\n",
    "\n"
   ]
  },
  {
   "cell_type": "code",
   "execution_count": 207,
   "id": "9750fad5-77c8-4784-aa5b-5771628960e6",
   "metadata": {},
   "outputs": [
    {
     "data": {
      "text/plain": [
       "[('ts9aktMHX8OolHRByAcKBQ', 4.851068494046912),\n",
       " ('gP_oWJykA2RocIs_GurKWQ', 4.850111152275558),\n",
       " ('DVBJRvnCpkqaYl6nHroaMg', 4.828361413275356),\n",
       " ('vHqJerp8iZN1Lje3dLa4Eg', 4.827800620730559),\n",
       " ('yAEKaEvsCNxOYv1M1kiQhg', 4.826452753481822)]"
      ]
     },
     "execution_count": 207,
     "metadata": {},
     "output_type": "execute_result"
    }
   ],
   "source": [
    "recommend_businesses(user_id=1)"
   ]
  },
  {
   "cell_type": "code",
   "execution_count": 43,
   "id": "f6702a3d-b1c8-4394-90c2-03c6de62dee2",
   "metadata": {},
   "outputs": [],
   "source": [
    "import requests"
   ]
  },
  {
   "cell_type": "code",
   "execution_count": 44,
   "id": "f996d3d9-1697-4cba-8295-02db32442cf7",
   "metadata": {},
   "outputs": [],
   "source": [
    "# Load your restaurant data\n",
    "df = pd.read_csv('data/filtered_restaurants_data.csv')\n",
    "\n",
    "\n",
    "# Your Yelp API key\n",
    "API_KEY = 'QO9XAZfxn80KoHc2rPOj9iEhWK2r8EJXfLNH_Q1F2O04d3XpAvdxFiX0Bz1wKge_hR0IMLsbsn2-ObSe0uTx5EWttuS_Yy_6wYvew5D0GXBGru_BV2OkyQDUlQOyZnYx'\n",
    "\n",
    "# Yelp Business Endpoint\n",
    "YELP_BUSINESS_URL = \"https://api.yelp.com/v3/businesses/\"\n",
    "\n",
    "# Headers for the API request\n",
    "headers = {\n",
    "    'Authorization': f'Bearer {API_KEY}',\n",
    "}\n",
    "\n",
    "def get_business_image_urls(business_id):\n",
    "    response = requests.get(f'{YELP_BUSINESS_URL}{business_id}', headers=headers)\n",
    "    \n",
    "    if response.status_code == 200:\n",
    "        business_data = response.json()\n",
    "        # Extract the image URLs\n",
    "        image_urls = business_data.get('photos', [])\n",
    "        return image_urls\n",
    "    elif response.status_code == 429:\n",
    "        st.error(\"Rate limit exceeded. Please try again later.\")\n",
    "    else:\n",
    "        st.error(f\"Failed to retrieve data for Business ID: {business_id}, Status Code: {response.status_code}\")\n",
    "    \n",
    "    return []"
   ]
  },
  {
   "cell_type": "code",
   "execution_count": 45,
   "id": "a540f8ab-f189-44d4-b5a5-a19e5ea8be95",
   "metadata": {},
   "outputs": [
    {
     "data": {
      "text/plain": [
       "['https://s3-media2.fl.yelpcdn.com/bphoto/WwNo_cvEzBp0GBzLSbnuBw/o.jpg',\n",
       " 'https://s3-media1.fl.yelpcdn.com/bphoto/wg72_hzjKHZX2PKn5BwKOA/o.jpg',\n",
       " 'https://s3-media2.fl.yelpcdn.com/bphoto/AQT1ZqoUqIrAOd-lAjm_SQ/o.jpg']"
      ]
     },
     "execution_count": 45,
     "metadata": {},
     "output_type": "execute_result"
    }
   ],
   "source": [
    "get_business_image_urls('Ep_jh1Pt4Ggyla21f-BQcQ')"
   ]
  },
  {
   "cell_type": "code",
   "execution_count": null,
   "id": "b7e6f4b3-db92-4e77-82f8-eaf719ad41f6",
   "metadata": {},
   "outputs": [],
   "source": []
  }
 ],
 "metadata": {
  "kernelspec": {
   "display_name": "python keras-env",
   "language": "python",
   "name": "keras-env"
  },
  "language_info": {
   "codemirror_mode": {
    "name": "ipython",
    "version": 3
   },
   "file_extension": ".py",
   "mimetype": "text/x-python",
   "name": "python",
   "nbconvert_exporter": "python",
   "pygments_lexer": "ipython3",
   "version": "3.11.5"
  }
 },
 "nbformat": 4,
 "nbformat_minor": 5
}
