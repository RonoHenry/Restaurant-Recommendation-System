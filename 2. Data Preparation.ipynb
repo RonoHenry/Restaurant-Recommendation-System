{
 "cells": [
  {
   "cell_type": "markdown",
   "metadata": {},
   "source": [
    "***\n",
    "## 3.DATA PREPARATION\n",
    "\n",
    "We will clean, and transform diverse data sources, including restaurant attributes, cuisine, and historical interactions. Ensuring data quality and consistency is essential for accurate model training. The prepared dataset forms the foundation for building a robust and personalized recommendation engine.\"\n",
    "\n",
    "***"
   ]
  },
  {
   "cell_type": "code",
   "execution_count": 1,
   "metadata": {},
   "outputs": [],
   "source": [
    "# importing libraries\n",
    "import re\n",
    "import pickle\n",
    "import warnings \n",
    "import numpy as np\n",
    "import pandas as pd\n",
    "import os\n",
    "warnings.filterwarnings('ignore')\n",
    "from classes.understanding import DataLoader, DataChecks\n"
   ]
  },
  {
   "cell_type": "markdown",
   "metadata": {},
   "source": [
    "\n",
    "#### i) User Review Data\n",
    "***\n"
   ]
  },
  {
   "cell_type": "code",
   "execution_count": 2,
   "metadata": {},
   "outputs": [],
   "source": [
    "# Instantiate the DataLoader class\n",
    "loader= DataLoader()\n",
    "\n",
    "\n",
    "# Loading the users csv file\n",
    "users_data= loader.read_data(\"data/users.csv\")\n",
    "\n"
   ]
  },
  {
   "cell_type": "code",
   "execution_count": 3,
   "id": "da76ffa5",
   "metadata": {},
   "outputs": [
    {
     "data": {
      "text/html": [
       "<table border=\"1\" class=\"dataframe\">\n",
       "  <thead>\n",
       "    <tr style=\"text-align: right;\">\n",
       "      <th></th>\n",
       "      <th>user_id</th>\n",
       "      <th>business_id</th>\n",
       "      <th>stars</th>\n",
       "      <th>date</th>\n",
       "    </tr>\n",
       "  </thead>\n",
       "  <tbody>\n",
       "    <tr>\n",
       "      <th>988470</th>\n",
       "      <td>wAph_egpAXr9ic-A2vnINQ</td>\n",
       "      <td>fiGh8ctcvIRm4Ii2GOtoHQ</td>\n",
       "      <td>2</td>\n",
       "      <td>2018-07-23 21:43:33</td>\n",
       "    </tr>\n",
       "    <tr>\n",
       "      <th>997259</th>\n",
       "      <td>wAph_egpAXr9ic-A2vnINQ</td>\n",
       "      <td>fiGh8ctcvIRm4Ii2GOtoHQ</td>\n",
       "      <td>2</td>\n",
       "      <td>2018-07-23 21:43:33</td>\n",
       "    </tr>\n",
       "    <tr>\n",
       "      <th>1980862</th>\n",
       "      <td>xZ0ioQJ0Jyo_Uc0FzmyFQQ</td>\n",
       "      <td>O_kAd89gPls-dXda40NWzA</td>\n",
       "      <td>5</td>\n",
       "      <td>2019-11-22 07:18:46</td>\n",
       "    </tr>\n",
       "    <tr>\n",
       "      <th>2005725</th>\n",
       "      <td>xZ0ioQJ0Jyo_Uc0FzmyFQQ</td>\n",
       "      <td>O_kAd89gPls-dXda40NWzA</td>\n",
       "      <td>5</td>\n",
       "      <td>2019-11-22 07:18:46</td>\n",
       "    </tr>\n",
       "  </tbody>\n",
       "</table>"
      ],
      "text/plain": [
       "<IPython.core.display.HTML object>"
      ]
     },
     "metadata": {},
     "output_type": "display_data"
    }
   ],
   "source": [
    "# Checking the duplicates in the user data\n",
    "checks= DataChecks(users_data)\n",
    "checks.check_duplicates()"
   ]
  },
  {
   "cell_type": "code",
   "execution_count": 4,
   "id": "d2e5c431",
   "metadata": {},
   "outputs": [
    {
     "name": "stdout",
     "output_type": "stream",
     "text": [
      "NO DUPLICATES FOUND\n"
     ]
    }
   ],
   "source": [
    "# Dropping the duplicates\n",
    "users_data_cleaned= users_data.drop_duplicates()\n",
    "\n",
    "# Confirming the duplicates have been dropped\n",
    "checks= DataChecks(users_data_cleaned)\n",
    "checks.check_duplicates()"
   ]
  },
  {
   "cell_type": "code",
   "execution_count": 5,
   "metadata": {},
   "outputs": [
    {
     "data": {
      "text/html": [
       "<div>\n",
       "<style scoped>\n",
       "    .dataframe tbody tr th:only-of-type {\n",
       "        vertical-align: middle;\n",
       "    }\n",
       "\n",
       "    .dataframe tbody tr th {\n",
       "        vertical-align: top;\n",
       "    }\n",
       "\n",
       "    .dataframe thead th {\n",
       "        text-align: right;\n",
       "    }\n",
       "</style>\n",
       "<table border=\"1\" class=\"dataframe\">\n",
       "  <thead>\n",
       "    <tr style=\"text-align: right;\">\n",
       "      <th></th>\n",
       "      <th>user_id</th>\n",
       "      <th>business_id</th>\n",
       "      <th>stars</th>\n",
       "      <th>date</th>\n",
       "    </tr>\n",
       "  </thead>\n",
       "  <tbody>\n",
       "    <tr>\n",
       "      <th>0</th>\n",
       "      <td>mh_-eMZ6K5RLWhZyISBhwA</td>\n",
       "      <td>XQfwVwDr-v0ZS3_CbbE5Xw</td>\n",
       "      <td>3</td>\n",
       "      <td>2018-07-07 22:09:11</td>\n",
       "    </tr>\n",
       "    <tr>\n",
       "      <th>1</th>\n",
       "      <td>bcjbaE6dDog4jkNY91ncLQ</td>\n",
       "      <td>e4Vwtrqf-wpJfwesgvdgxQ</td>\n",
       "      <td>4</td>\n",
       "      <td>2017-01-14 20:54:15</td>\n",
       "    </tr>\n",
       "    <tr>\n",
       "      <th>2</th>\n",
       "      <td>RreNy--tOmXMl1en0wiBOg</td>\n",
       "      <td>cPepkJeRMtHapc_b2Oe_dw</td>\n",
       "      <td>4</td>\n",
       "      <td>2018-07-17 03:30:07</td>\n",
       "    </tr>\n",
       "    <tr>\n",
       "      <th>3</th>\n",
       "      <td>Jha0USGDMefGFRLik_xFQg</td>\n",
       "      <td>bMratNjTG5ZFEA6hVyr-xQ</td>\n",
       "      <td>5</td>\n",
       "      <td>2017-02-19 13:32:05</td>\n",
       "    </tr>\n",
       "    <tr>\n",
       "      <th>4</th>\n",
       "      <td>4hBhtCSgoxkrFgHa4YAD-w</td>\n",
       "      <td>bbEXAEFr4RYHLlZ-HFssTA</td>\n",
       "      <td>5</td>\n",
       "      <td>2017-01-02 03:17:34</td>\n",
       "    </tr>\n",
       "  </tbody>\n",
       "</table>\n",
       "</div>"
      ],
      "text/plain": [
       "                  user_id             business_id  stars                 date\n",
       "0  mh_-eMZ6K5RLWhZyISBhwA  XQfwVwDr-v0ZS3_CbbE5Xw      3  2018-07-07 22:09:11\n",
       "1  bcjbaE6dDog4jkNY91ncLQ  e4Vwtrqf-wpJfwesgvdgxQ      4  2017-01-14 20:54:15\n",
       "2  RreNy--tOmXMl1en0wiBOg  cPepkJeRMtHapc_b2Oe_dw      4  2018-07-17 03:30:07\n",
       "3  Jha0USGDMefGFRLik_xFQg  bMratNjTG5ZFEA6hVyr-xQ      5  2017-02-19 13:32:05\n",
       "4  4hBhtCSgoxkrFgHa4YAD-w  bbEXAEFr4RYHLlZ-HFssTA      5  2017-01-02 03:17:34"
      ]
     },
     "execution_count": 5,
     "metadata": {},
     "output_type": "execute_result"
    }
   ],
   "source": [
    "#Checking the first five rows fot the user_data\n",
    "users_data_cleaned.head()"
   ]
  },
  {
   "cell_type": "code",
   "execution_count": 6,
   "metadata": {},
   "outputs": [
    {
     "name": "stdout",
     "output_type": "stream",
     "text": [
      "<class 'pandas.core.frame.DataFrame'>\n",
      "Index: 2559584 entries, 0 to 2559585\n",
      "Data columns (total 4 columns):\n",
      " #   Column       Dtype \n",
      "---  ------       ----- \n",
      " 0   user_id      object\n",
      " 1   business_id  object\n",
      " 2   stars        int64 \n",
      " 3   date         object\n",
      "dtypes: int64(1), object(3)\n",
      "memory usage: 97.6+ MB\n"
     ]
    }
   ],
   "source": [
    "users_data_cleaned.info()"
   ]
  },
  {
   "cell_type": "markdown",
   "metadata": {},
   "source": [
    " **Observations**\n",
    " ***\n",
    " \n",
    "> The duplicated rows were dropped in preparation for modelling.\n",
    "\n",
    "> The data has 2,559,584 rows and 4 columns."
   ]
  },
  {
   "cell_type": "markdown",
   "metadata": {},
   "source": [
    "#### ii) Restaurant Informational Data\n",
    "***"
   ]
  },
  {
   "cell_type": "code",
   "execution_count": 7,
   "metadata": {},
   "outputs": [
    {
     "data": {
      "text/html": [
       "<div>\n",
       "<style scoped>\n",
       "    .dataframe tbody tr th:only-of-type {\n",
       "        vertical-align: middle;\n",
       "    }\n",
       "\n",
       "    .dataframe tbody tr th {\n",
       "        vertical-align: top;\n",
       "    }\n",
       "\n",
       "    .dataframe thead th {\n",
       "        text-align: right;\n",
       "    }\n",
       "</style>\n",
       "<table border=\"1\" class=\"dataframe\">\n",
       "  <thead>\n",
       "    <tr style=\"text-align: right;\">\n",
       "      <th></th>\n",
       "      <th>business_id</th>\n",
       "      <th>name</th>\n",
       "      <th>address</th>\n",
       "      <th>city</th>\n",
       "      <th>state</th>\n",
       "      <th>postal_code</th>\n",
       "      <th>latitude</th>\n",
       "      <th>longitude</th>\n",
       "      <th>stars</th>\n",
       "      <th>review_count</th>\n",
       "      <th>is_open</th>\n",
       "      <th>attributes</th>\n",
       "      <th>categories</th>\n",
       "      <th>hours</th>\n",
       "    </tr>\n",
       "  </thead>\n",
       "  <tbody>\n",
       "    <tr>\n",
       "      <th>0</th>\n",
       "      <td>MTSW4McQd7CbVtyjqoe9mw</td>\n",
       "      <td>St Honore Pastries</td>\n",
       "      <td>935 Race St</td>\n",
       "      <td>Philadelphia</td>\n",
       "      <td>PA</td>\n",
       "      <td>19107</td>\n",
       "      <td>39.955505</td>\n",
       "      <td>-75.155564</td>\n",
       "      <td>4.0</td>\n",
       "      <td>80</td>\n",
       "      <td>1</td>\n",
       "      <td>{'RestaurantsDelivery': 'False', 'OutdoorSeati...</td>\n",
       "      <td>Restaurants, Food, Bubble Tea, Coffee &amp; Tea, B...</td>\n",
       "      <td>{'Monday': '7:0-20:0', 'Tuesday': '7:0-20:0', ...</td>\n",
       "    </tr>\n",
       "    <tr>\n",
       "      <th>1</th>\n",
       "      <td>CF33F8-E6oudUQ46HnavjQ</td>\n",
       "      <td>Sonic Drive-In</td>\n",
       "      <td>615 S Main St</td>\n",
       "      <td>Ashland City</td>\n",
       "      <td>TN</td>\n",
       "      <td>37015</td>\n",
       "      <td>36.269593</td>\n",
       "      <td>-87.058943</td>\n",
       "      <td>2.0</td>\n",
       "      <td>6</td>\n",
       "      <td>1</td>\n",
       "      <td>{'BusinessParking': 'None', 'BusinessAcceptsCr...</td>\n",
       "      <td>Burgers, Fast Food, Sandwiches, Food, Ice Crea...</td>\n",
       "      <td>{'Monday': '0:0-0:0', 'Tuesday': '6:0-22:0', '...</td>\n",
       "    </tr>\n",
       "    <tr>\n",
       "      <th>2</th>\n",
       "      <td>k0hlBqXX-Bt0vf1op7Jr1w</td>\n",
       "      <td>Tsevi's Pub And Grill</td>\n",
       "      <td>8025 Mackenzie Rd</td>\n",
       "      <td>Affton</td>\n",
       "      <td>MO</td>\n",
       "      <td>63123</td>\n",
       "      <td>38.565165</td>\n",
       "      <td>-90.321087</td>\n",
       "      <td>3.0</td>\n",
       "      <td>19</td>\n",
       "      <td>0</td>\n",
       "      <td>{'Caters': 'True', 'Alcohol': \"u'full_bar'\", '...</td>\n",
       "      <td>Pubs, Restaurants, Italian, Bars, American (Tr...</td>\n",
       "      <td>NaN</td>\n",
       "    </tr>\n",
       "    <tr>\n",
       "      <th>3</th>\n",
       "      <td>bBDDEgkFA1Otx9Lfe7BZUQ</td>\n",
       "      <td>Sonic Drive-In</td>\n",
       "      <td>2312 Dickerson Pike</td>\n",
       "      <td>Nashville</td>\n",
       "      <td>TN</td>\n",
       "      <td>37207</td>\n",
       "      <td>36.208102</td>\n",
       "      <td>-86.768170</td>\n",
       "      <td>1.5</td>\n",
       "      <td>10</td>\n",
       "      <td>1</td>\n",
       "      <td>{'RestaurantsAttire': \"'casual'\", 'Restaurants...</td>\n",
       "      <td>Ice Cream &amp; Frozen Yogurt, Fast Food, Burgers,...</td>\n",
       "      <td>{'Monday': '0:0-0:0', 'Tuesday': '6:0-21:0', '...</td>\n",
       "    </tr>\n",
       "    <tr>\n",
       "      <th>4</th>\n",
       "      <td>eEOYSgkmpB90uNA7lDOMRA</td>\n",
       "      <td>Vietnamese Food Truck</td>\n",
       "      <td>NaN</td>\n",
       "      <td>Tampa Bay</td>\n",
       "      <td>FL</td>\n",
       "      <td>33602</td>\n",
       "      <td>27.955269</td>\n",
       "      <td>-82.456320</td>\n",
       "      <td>4.0</td>\n",
       "      <td>10</td>\n",
       "      <td>1</td>\n",
       "      <td>{'Alcohol': \"'none'\", 'OutdoorSeating': 'None'...</td>\n",
       "      <td>Vietnamese, Food, Restaurants, Food Trucks</td>\n",
       "      <td>{'Monday': '11:0-14:0', 'Tuesday': '11:0-14:0'...</td>\n",
       "    </tr>\n",
       "  </tbody>\n",
       "</table>\n",
       "</div>"
      ],
      "text/plain": [
       "              business_id                   name              address  \\\n",
       "0  MTSW4McQd7CbVtyjqoe9mw     St Honore Pastries          935 Race St   \n",
       "1  CF33F8-E6oudUQ46HnavjQ         Sonic Drive-In        615 S Main St   \n",
       "2  k0hlBqXX-Bt0vf1op7Jr1w  Tsevi's Pub And Grill    8025 Mackenzie Rd   \n",
       "3  bBDDEgkFA1Otx9Lfe7BZUQ         Sonic Drive-In  2312 Dickerson Pike   \n",
       "4  eEOYSgkmpB90uNA7lDOMRA  Vietnamese Food Truck                  NaN   \n",
       "\n",
       "           city state postal_code   latitude  longitude  stars  review_count  \\\n",
       "0  Philadelphia    PA       19107  39.955505 -75.155564    4.0            80   \n",
       "1  Ashland City    TN       37015  36.269593 -87.058943    2.0             6   \n",
       "2        Affton    MO       63123  38.565165 -90.321087    3.0            19   \n",
       "3     Nashville    TN       37207  36.208102 -86.768170    1.5            10   \n",
       "4     Tampa Bay    FL       33602  27.955269 -82.456320    4.0            10   \n",
       "\n",
       "   is_open                                         attributes  \\\n",
       "0        1  {'RestaurantsDelivery': 'False', 'OutdoorSeati...   \n",
       "1        1  {'BusinessParking': 'None', 'BusinessAcceptsCr...   \n",
       "2        0  {'Caters': 'True', 'Alcohol': \"u'full_bar'\", '...   \n",
       "3        1  {'RestaurantsAttire': \"'casual'\", 'Restaurants...   \n",
       "4        1  {'Alcohol': \"'none'\", 'OutdoorSeating': 'None'...   \n",
       "\n",
       "                                          categories  \\\n",
       "0  Restaurants, Food, Bubble Tea, Coffee & Tea, B...   \n",
       "1  Burgers, Fast Food, Sandwiches, Food, Ice Crea...   \n",
       "2  Pubs, Restaurants, Italian, Bars, American (Tr...   \n",
       "3  Ice Cream & Frozen Yogurt, Fast Food, Burgers,...   \n",
       "4         Vietnamese, Food, Restaurants, Food Trucks   \n",
       "\n",
       "                                               hours  \n",
       "0  {'Monday': '7:0-20:0', 'Tuesday': '7:0-20:0', ...  \n",
       "1  {'Monday': '0:0-0:0', 'Tuesday': '6:0-22:0', '...  \n",
       "2                                                NaN  \n",
       "3  {'Monday': '0:0-0:0', 'Tuesday': '6:0-21:0', '...  \n",
       "4  {'Monday': '11:0-14:0', 'Tuesday': '11:0-14:0'...  "
      ]
     },
     "execution_count": 7,
     "metadata": {},
     "output_type": "execute_result"
    }
   ],
   "source": [
    "# Reading the restaurants csv file\n",
    "restaurant_data= loader.read_data(\"data/restaurants.csv\")\n",
    "\n",
    "# Looking into the first five rows of the data frame\n",
    "restaurant_data.head()"
   ]
  },
  {
   "cell_type": "code",
   "execution_count": 8,
   "metadata": {},
   "outputs": [
    {
     "data": {
      "text/plain": [
       "business_id        0\n",
       "name               0\n",
       "address          443\n",
       "city               0\n",
       "state              0\n",
       "postal_code       21\n",
       "latitude           0\n",
       "longitude          0\n",
       "stars              0\n",
       "review_count       0\n",
       "is_open            0\n",
       "attributes       566\n",
       "categories         0\n",
       "hours           7279\n",
       "dtype: int64"
      ]
     },
     "execution_count": 8,
     "metadata": {},
     "output_type": "execute_result"
    }
   ],
   "source": [
    "# Checking for null values in the dataset\n",
    "restaurant_data.isna().sum()"
   ]
  },
  {
   "cell_type": "markdown",
   "metadata": {},
   "source": [
    "**Observation**\n",
    "***\n",
    "\n",
    "The dataset contains null values in the columns: address, postal code, attributes and hours"
   ]
  },
  {
   "cell_type": "code",
   "execution_count": 9,
   "metadata": {},
   "outputs": [],
   "source": [
    "# Dropping null values\n",
    "restaurant_data = restaurant_data.dropna(subset=['attributes'])"
   ]
  },
  {
   "cell_type": "code",
   "execution_count": 10,
   "metadata": {},
   "outputs": [
    {
     "data": {
      "text/plain": [
       "business_id     0\n",
       "name            0\n",
       "address         0\n",
       "city            0\n",
       "state           0\n",
       "postal_code     0\n",
       "latitude        0\n",
       "longitude       0\n",
       "stars           0\n",
       "review_count    0\n",
       "is_open         0\n",
       "attributes      0\n",
       "categories      0\n",
       "hours           0\n",
       "dtype: int64"
      ]
     },
     "execution_count": 10,
     "metadata": {},
     "output_type": "execute_result"
    }
   ],
   "source": [
    "# Filling missing values in the 'attributes' column with 'Unknown'\n",
    "restaurant_data[['address','postal_code','hours']]=restaurant_data[['address','postal_code','hours']].fillna('Unknown')\n",
    "\n",
    "# Verifying that all missing values have been handled\n",
    "restaurant_data.isnull().sum()\n"
   ]
  },
  {
   "cell_type": "markdown",
   "metadata": {},
   "source": [
    "**Observations**\n",
    "***\n",
    " There were some missing values in the `attributes`, `address`, `postal_code`, and `hours` columns.\n",
    " \n",
    " We handled the missing data in two ways:\n",
    " \n",
    " 1) **Dropping the records with null values**\n",
    "\n",
    "- Rows with missing `attributes` were removed as this column is critical for analysis.\n",
    "\n",
    "2) **Imputation**\n",
    "\n",
    "- Missing values in `address`, `postal_code`, and `hours` were imputed  with 'Unknown' to maintain data integrity."
   ]
  },
  {
   "cell_type": "code",
   "execution_count": 11,
   "metadata": {},
   "outputs": [
    {
     "data": {
      "text/plain": [
       "state\n",
       "PA     12538\n",
       "FL      8632\n",
       "TN      4297\n",
       "MO      4219\n",
       "IN      4119\n",
       "LA      3596\n",
       "NJ      3302\n",
       "AZ      2635\n",
       "AB      2355\n",
       "NV      1657\n",
       "ID      1290\n",
       "CA      1151\n",
       "IL       975\n",
       "DE       949\n",
       "NC         1\n",
       "CO         1\n",
       "HI         1\n",
       "MT         1\n",
       "XMS        1\n",
       "Name: count, dtype: int64"
      ]
     },
     "execution_count": 11,
     "metadata": {},
     "output_type": "execute_result"
    }
   ],
   "source": [
    "# Checking the value counts for the states\n",
    "restaurant_data.state.value_counts()"
   ]
  },
  {
   "cell_type": "code",
   "execution_count": 12,
   "metadata": {},
   "outputs": [],
   "source": [
    "# States labeled `XMS` will be filtered out, as they do not seem valid\n",
    "valid_states = ['XMS','MT','NC','HI','CO',]\n",
    "restaurant_data_filtered = restaurant_data[~restaurant_data['state'].isin(valid_states)]\n"
   ]
  },
  {
   "cell_type": "code",
   "execution_count": 13,
   "metadata": {},
   "outputs": [],
   "source": [
    "# Map state abbreviations to full state names\n",
    "state_abbreviations = {\n",
    "    'AB': 'Alberta', 'AZ': 'Arizona', 'CA': 'California', 'DE': 'Delaware', 'FL': 'Florida', 'ID': 'Idaho','IL': 'Illinois',\n",
    "    'IN': 'Indiana','LA': 'Louisiana',  'MO': 'Missouri','NV': 'Nevada', 'NJ': 'New Jersey','PA': 'Pennsylvania',  'TN': 'Tennessee', \n",
    "}\n",
    "# Replace state initials with full names\n",
    "restaurant_data_filtered['state'] = restaurant_data_filtered['state'].map(state_abbreviations)\n",
    "\n"
   ]
  },
  {
   "cell_type": "markdown",
   "metadata": {},
   "source": [
    "**Observation**\n",
    "***\n",
    "\n",
    "- States labeled XMS,MT,NC,HI and Co were noted in the EDA for having unusually small restaurant counts, upon confirmation, they have been filtered  out as they contain only a value of one restaurant per state therefore not statistically relevant to our project.\n",
    "\n",
    "- The state abbreviations have been successfully mapped to their corresponding full state names, providing more clarity,simplicity,coherence and consistency in the data."
   ]
  },
  {
   "cell_type": "markdown",
   "metadata": {},
   "source": [
    "### FEATURE ENGINEERING\n",
    "***"
   ]
  },
  {
   "cell_type": "markdown",
   "metadata": {},
   "source": [
    "We will continue with feature engineering with the following steps\n",
    "1. Exploding the categories to refine out cuisine list.\n",
    "2. Elimiating spaces that arise from the splits.\n",
    "3. Engineering a Location column that is a combination of various features.\n",
    "4. Filtering the attributes column to keep only attributes that are true.\n",
    " "
   ]
  },
  {
   "cell_type": "code",
   "execution_count": 14,
   "metadata": {},
   "outputs": [
    {
     "data": {
      "text/html": [
       "<div>\n",
       "<style scoped>\n",
       "    .dataframe tbody tr th:only-of-type {\n",
       "        vertical-align: middle;\n",
       "    }\n",
       "\n",
       "    .dataframe tbody tr th {\n",
       "        vertical-align: top;\n",
       "    }\n",
       "\n",
       "    .dataframe thead th {\n",
       "        text-align: right;\n",
       "    }\n",
       "</style>\n",
       "<table border=\"1\" class=\"dataframe\">\n",
       "  <thead>\n",
       "    <tr style=\"text-align: right;\">\n",
       "      <th></th>\n",
       "      <th>business_id</th>\n",
       "      <th>name</th>\n",
       "      <th>address</th>\n",
       "      <th>city</th>\n",
       "      <th>state</th>\n",
       "      <th>postal_code</th>\n",
       "      <th>latitude</th>\n",
       "      <th>longitude</th>\n",
       "      <th>stars</th>\n",
       "      <th>review_count</th>\n",
       "      <th>is_open</th>\n",
       "      <th>attributes</th>\n",
       "      <th>categories</th>\n",
       "      <th>hours</th>\n",
       "    </tr>\n",
       "  </thead>\n",
       "  <tbody>\n",
       "    <tr>\n",
       "      <th>0</th>\n",
       "      <td>MTSW4McQd7CbVtyjqoe9mw</td>\n",
       "      <td>St Honore Pastries</td>\n",
       "      <td>935 Race St</td>\n",
       "      <td>Philadelphia</td>\n",
       "      <td>Pennsylvania</td>\n",
       "      <td>19107</td>\n",
       "      <td>39.955505</td>\n",
       "      <td>-75.155564</td>\n",
       "      <td>4.0</td>\n",
       "      <td>80</td>\n",
       "      <td>1</td>\n",
       "      <td>{'RestaurantsDelivery': 'False', 'OutdoorSeati...</td>\n",
       "      <td>Restaurants</td>\n",
       "      <td>{'Monday': '7:0-20:0', 'Tuesday': '7:0-20:0', ...</td>\n",
       "    </tr>\n",
       "    <tr>\n",
       "      <th>0</th>\n",
       "      <td>MTSW4McQd7CbVtyjqoe9mw</td>\n",
       "      <td>St Honore Pastries</td>\n",
       "      <td>935 Race St</td>\n",
       "      <td>Philadelphia</td>\n",
       "      <td>Pennsylvania</td>\n",
       "      <td>19107</td>\n",
       "      <td>39.955505</td>\n",
       "      <td>-75.155564</td>\n",
       "      <td>4.0</td>\n",
       "      <td>80</td>\n",
       "      <td>1</td>\n",
       "      <td>{'RestaurantsDelivery': 'False', 'OutdoorSeati...</td>\n",
       "      <td>Food</td>\n",
       "      <td>{'Monday': '7:0-20:0', 'Tuesday': '7:0-20:0', ...</td>\n",
       "    </tr>\n",
       "    <tr>\n",
       "      <th>0</th>\n",
       "      <td>MTSW4McQd7CbVtyjqoe9mw</td>\n",
       "      <td>St Honore Pastries</td>\n",
       "      <td>935 Race St</td>\n",
       "      <td>Philadelphia</td>\n",
       "      <td>Pennsylvania</td>\n",
       "      <td>19107</td>\n",
       "      <td>39.955505</td>\n",
       "      <td>-75.155564</td>\n",
       "      <td>4.0</td>\n",
       "      <td>80</td>\n",
       "      <td>1</td>\n",
       "      <td>{'RestaurantsDelivery': 'False', 'OutdoorSeati...</td>\n",
       "      <td>Bubble Tea</td>\n",
       "      <td>{'Monday': '7:0-20:0', 'Tuesday': '7:0-20:0', ...</td>\n",
       "    </tr>\n",
       "    <tr>\n",
       "      <th>0</th>\n",
       "      <td>MTSW4McQd7CbVtyjqoe9mw</td>\n",
       "      <td>St Honore Pastries</td>\n",
       "      <td>935 Race St</td>\n",
       "      <td>Philadelphia</td>\n",
       "      <td>Pennsylvania</td>\n",
       "      <td>19107</td>\n",
       "      <td>39.955505</td>\n",
       "      <td>-75.155564</td>\n",
       "      <td>4.0</td>\n",
       "      <td>80</td>\n",
       "      <td>1</td>\n",
       "      <td>{'RestaurantsDelivery': 'False', 'OutdoorSeati...</td>\n",
       "      <td>Coffee &amp; Tea</td>\n",
       "      <td>{'Monday': '7:0-20:0', 'Tuesday': '7:0-20:0', ...</td>\n",
       "    </tr>\n",
       "    <tr>\n",
       "      <th>0</th>\n",
       "      <td>MTSW4McQd7CbVtyjqoe9mw</td>\n",
       "      <td>St Honore Pastries</td>\n",
       "      <td>935 Race St</td>\n",
       "      <td>Philadelphia</td>\n",
       "      <td>Pennsylvania</td>\n",
       "      <td>19107</td>\n",
       "      <td>39.955505</td>\n",
       "      <td>-75.155564</td>\n",
       "      <td>4.0</td>\n",
       "      <td>80</td>\n",
       "      <td>1</td>\n",
       "      <td>{'RestaurantsDelivery': 'False', 'OutdoorSeati...</td>\n",
       "      <td>Bakeries</td>\n",
       "      <td>{'Monday': '7:0-20:0', 'Tuesday': '7:0-20:0', ...</td>\n",
       "    </tr>\n",
       "  </tbody>\n",
       "</table>\n",
       "</div>"
      ],
      "text/plain": [
       "              business_id                name      address          city  \\\n",
       "0  MTSW4McQd7CbVtyjqoe9mw  St Honore Pastries  935 Race St  Philadelphia   \n",
       "0  MTSW4McQd7CbVtyjqoe9mw  St Honore Pastries  935 Race St  Philadelphia   \n",
       "0  MTSW4McQd7CbVtyjqoe9mw  St Honore Pastries  935 Race St  Philadelphia   \n",
       "0  MTSW4McQd7CbVtyjqoe9mw  St Honore Pastries  935 Race St  Philadelphia   \n",
       "0  MTSW4McQd7CbVtyjqoe9mw  St Honore Pastries  935 Race St  Philadelphia   \n",
       "\n",
       "          state postal_code   latitude  longitude  stars  review_count  \\\n",
       "0  Pennsylvania       19107  39.955505 -75.155564    4.0            80   \n",
       "0  Pennsylvania       19107  39.955505 -75.155564    4.0            80   \n",
       "0  Pennsylvania       19107  39.955505 -75.155564    4.0            80   \n",
       "0  Pennsylvania       19107  39.955505 -75.155564    4.0            80   \n",
       "0  Pennsylvania       19107  39.955505 -75.155564    4.0            80   \n",
       "\n",
       "   is_open                                         attributes     categories  \\\n",
       "0        1  {'RestaurantsDelivery': 'False', 'OutdoorSeati...    Restaurants   \n",
       "0        1  {'RestaurantsDelivery': 'False', 'OutdoorSeati...           Food   \n",
       "0        1  {'RestaurantsDelivery': 'False', 'OutdoorSeati...     Bubble Tea   \n",
       "0        1  {'RestaurantsDelivery': 'False', 'OutdoorSeati...   Coffee & Tea   \n",
       "0        1  {'RestaurantsDelivery': 'False', 'OutdoorSeati...       Bakeries   \n",
       "\n",
       "                                               hours  \n",
       "0  {'Monday': '7:0-20:0', 'Tuesday': '7:0-20:0', ...  \n",
       "0  {'Monday': '7:0-20:0', 'Tuesday': '7:0-20:0', ...  \n",
       "0  {'Monday': '7:0-20:0', 'Tuesday': '7:0-20:0', ...  \n",
       "0  {'Monday': '7:0-20:0', 'Tuesday': '7:0-20:0', ...  \n",
       "0  {'Monday': '7:0-20:0', 'Tuesday': '7:0-20:0', ...  "
      ]
     },
     "execution_count": 14,
     "metadata": {},
     "output_type": "execute_result"
    }
   ],
   "source": [
    "# Exploding the categories column to ensure each category is handled separately\n",
    "df_exploded = restaurant_data_filtered.assign(categories=restaurant_data_filtered['categories'].str.split(',')).explode('categories')\n",
    "\n",
    "df_exploded.head()"
   ]
  },
  {
   "cell_type": "code",
   "execution_count": 15,
   "id": "98ed4c06",
   "metadata": {},
   "outputs": [],
   "source": [
    "# Function to standardize spacing\n",
    "def standardize_spacing(x):\n",
    "    if isinstance(x, str):\n",
    "        return re.sub(r'\\s+', ' ', x.strip())\n",
    "    return x\n",
    "\n",
    "# Apply the function to all elements in the DataFrame\n",
    "df_exploded = df_exploded.applymap(standardize_spacing)"
   ]
  },
  {
   "cell_type": "code",
   "execution_count": 16,
   "metadata": {},
   "outputs": [],
   "source": [
    "# List of all the Cuisine in the categories\n",
    "cuisine=[\"American(New)\", \"Mexican\",'American (Traditional)','Italian','Chinese',\n",
    "         'Japanese','Asian Fusion','Mediterranean','Southern','Cajun/Creole','Tex-Mex',\n",
    "         'Thai','Latin American','Indian','Vietnamese','Greek','Caribbean','Middle Eastern',\n",
    "         'French','Korean','Halal','Spanish','Canadian (New)','Irish','Pakistani','Hawaiian',\n",
    "         'Soul Food','German','Szechuan','African','Filipino','Lebanese','Puerto Rican','Turkish',\n",
    "         'Cantonese','British','Peruvian','Kosher','Brazilian','Pan Asian','Taiwanese','Cuban','Colombian',\n",
    "         'Ethiopian','Venezuelan','Salvadoran','Laotian','Polish','Dominican','Russian','Persian/Iranian',\n",
    "         'Afghan','Moroccan','Arabic','Portuguese','Mongolian','Argentine','Malaysian','Belgian',\n",
    "         'Honduran','Himalayan/Nepalese','Armenian','Trinidadian','Ukrainian','Australian','Egyptian']\n",
    "\n",
    "# Filtering to get restaurants with cuisine\n",
    "restaurant_exploded = df_exploded[df_exploded.categories.isin(cuisine)]"
   ]
  },
  {
   "cell_type": "code",
   "execution_count": 17,
   "metadata": {},
   "outputs": [
    {
     "data": {
      "text/html": [
       "<div>\n",
       "<style scoped>\n",
       "    .dataframe tbody tr th:only-of-type {\n",
       "        vertical-align: middle;\n",
       "    }\n",
       "\n",
       "    .dataframe tbody tr th {\n",
       "        vertical-align: top;\n",
       "    }\n",
       "\n",
       "    .dataframe thead th {\n",
       "        text-align: right;\n",
       "    }\n",
       "</style>\n",
       "<table border=\"1\" class=\"dataframe\">\n",
       "  <thead>\n",
       "    <tr style=\"text-align: right;\">\n",
       "      <th></th>\n",
       "      <th>business_id</th>\n",
       "      <th>name</th>\n",
       "      <th>address</th>\n",
       "      <th>city</th>\n",
       "      <th>state</th>\n",
       "      <th>postal_code</th>\n",
       "      <th>latitude</th>\n",
       "      <th>longitude</th>\n",
       "      <th>stars</th>\n",
       "      <th>review_count</th>\n",
       "      <th>is_open</th>\n",
       "      <th>attributes</th>\n",
       "      <th>categories</th>\n",
       "      <th>hours</th>\n",
       "    </tr>\n",
       "  </thead>\n",
       "  <tbody>\n",
       "    <tr>\n",
       "      <th>2</th>\n",
       "      <td>k0hlBqXX-Bt0vf1op7Jr1w</td>\n",
       "      <td>Tsevi's Pub And Grill</td>\n",
       "      <td>8025 Mackenzie Rd</td>\n",
       "      <td>Affton</td>\n",
       "      <td>Missouri</td>\n",
       "      <td>63123</td>\n",
       "      <td>38.565165</td>\n",
       "      <td>-90.321087</td>\n",
       "      <td>3.0</td>\n",
       "      <td>19</td>\n",
       "      <td>0</td>\n",
       "      <td>{'Caters': 'True', 'Alcohol': \"u'full_bar'\", '...</td>\n",
       "      <td>Italian</td>\n",
       "      <td>Unknown</td>\n",
       "    </tr>\n",
       "    <tr>\n",
       "      <th>2</th>\n",
       "      <td>k0hlBqXX-Bt0vf1op7Jr1w</td>\n",
       "      <td>Tsevi's Pub And Grill</td>\n",
       "      <td>8025 Mackenzie Rd</td>\n",
       "      <td>Affton</td>\n",
       "      <td>Missouri</td>\n",
       "      <td>63123</td>\n",
       "      <td>38.565165</td>\n",
       "      <td>-90.321087</td>\n",
       "      <td>3.0</td>\n",
       "      <td>19</td>\n",
       "      <td>0</td>\n",
       "      <td>{'Caters': 'True', 'Alcohol': \"u'full_bar'\", '...</td>\n",
       "      <td>American (Traditional)</td>\n",
       "      <td>Unknown</td>\n",
       "    </tr>\n",
       "    <tr>\n",
       "      <th>2</th>\n",
       "      <td>k0hlBqXX-Bt0vf1op7Jr1w</td>\n",
       "      <td>Tsevi's Pub And Grill</td>\n",
       "      <td>8025 Mackenzie Rd</td>\n",
       "      <td>Affton</td>\n",
       "      <td>Missouri</td>\n",
       "      <td>63123</td>\n",
       "      <td>38.565165</td>\n",
       "      <td>-90.321087</td>\n",
       "      <td>3.0</td>\n",
       "      <td>19</td>\n",
       "      <td>0</td>\n",
       "      <td>{'Caters': 'True', 'Alcohol': \"u'full_bar'\", '...</td>\n",
       "      <td>Greek</td>\n",
       "      <td>Unknown</td>\n",
       "    </tr>\n",
       "    <tr>\n",
       "      <th>4</th>\n",
       "      <td>eEOYSgkmpB90uNA7lDOMRA</td>\n",
       "      <td>Vietnamese Food Truck</td>\n",
       "      <td>Unknown</td>\n",
       "      <td>Tampa Bay</td>\n",
       "      <td>Florida</td>\n",
       "      <td>33602</td>\n",
       "      <td>27.955269</td>\n",
       "      <td>-82.456320</td>\n",
       "      <td>4.0</td>\n",
       "      <td>10</td>\n",
       "      <td>1</td>\n",
       "      <td>{'Alcohol': \"'none'\", 'OutdoorSeating': 'None'...</td>\n",
       "      <td>Vietnamese</td>\n",
       "      <td>{'Monday': '11:0-14:0', 'Tuesday': '11:0-14:0'...</td>\n",
       "    </tr>\n",
       "    <tr>\n",
       "      <th>5</th>\n",
       "      <td>il_Ro8jwPlHresjw9EGmBg</td>\n",
       "      <td>Denny's</td>\n",
       "      <td>8901 US 31 S</td>\n",
       "      <td>Indianapolis</td>\n",
       "      <td>Indiana</td>\n",
       "      <td>46227</td>\n",
       "      <td>39.637133</td>\n",
       "      <td>-86.127217</td>\n",
       "      <td>2.5</td>\n",
       "      <td>28</td>\n",
       "      <td>1</td>\n",
       "      <td>{'RestaurantsReservations': 'False', 'Restaura...</td>\n",
       "      <td>American (Traditional)</td>\n",
       "      <td>{'Monday': '6:0-22:0', 'Tuesday': '6:0-22:0', ...</td>\n",
       "    </tr>\n",
       "  </tbody>\n",
       "</table>\n",
       "</div>"
      ],
      "text/plain": [
       "              business_id                   name            address  \\\n",
       "2  k0hlBqXX-Bt0vf1op7Jr1w  Tsevi's Pub And Grill  8025 Mackenzie Rd   \n",
       "2  k0hlBqXX-Bt0vf1op7Jr1w  Tsevi's Pub And Grill  8025 Mackenzie Rd   \n",
       "2  k0hlBqXX-Bt0vf1op7Jr1w  Tsevi's Pub And Grill  8025 Mackenzie Rd   \n",
       "4  eEOYSgkmpB90uNA7lDOMRA  Vietnamese Food Truck            Unknown   \n",
       "5  il_Ro8jwPlHresjw9EGmBg                Denny's       8901 US 31 S   \n",
       "\n",
       "           city     state postal_code   latitude  longitude  stars  \\\n",
       "2        Affton  Missouri       63123  38.565165 -90.321087    3.0   \n",
       "2        Affton  Missouri       63123  38.565165 -90.321087    3.0   \n",
       "2        Affton  Missouri       63123  38.565165 -90.321087    3.0   \n",
       "4     Tampa Bay   Florida       33602  27.955269 -82.456320    4.0   \n",
       "5  Indianapolis   Indiana       46227  39.637133 -86.127217    2.5   \n",
       "\n",
       "   review_count  is_open                                         attributes  \\\n",
       "2            19        0  {'Caters': 'True', 'Alcohol': \"u'full_bar'\", '...   \n",
       "2            19        0  {'Caters': 'True', 'Alcohol': \"u'full_bar'\", '...   \n",
       "2            19        0  {'Caters': 'True', 'Alcohol': \"u'full_bar'\", '...   \n",
       "4            10        1  {'Alcohol': \"'none'\", 'OutdoorSeating': 'None'...   \n",
       "5            28        1  {'RestaurantsReservations': 'False', 'Restaura...   \n",
       "\n",
       "               categories                                              hours  \n",
       "2                 Italian                                            Unknown  \n",
       "2  American (Traditional)                                            Unknown  \n",
       "2                   Greek                                            Unknown  \n",
       "4              Vietnamese  {'Monday': '11:0-14:0', 'Tuesday': '11:0-14:0'...  \n",
       "5  American (Traditional)  {'Monday': '6:0-22:0', 'Tuesday': '6:0-22:0', ...  "
      ]
     },
     "execution_count": 17,
     "metadata": {},
     "output_type": "execute_result"
    }
   ],
   "source": [
    "# Display the 'location' column to check the combined addresses\n",
    "restaurant_exploded.head()"
   ]
  },
  {
   "cell_type": "code",
   "execution_count": 18,
   "metadata": {},
   "outputs": [
    {
     "name": "stdout",
     "output_type": "stream",
     "text": [
      "<class 'pandas.core.frame.DataFrame'>\n",
      "Index: 38528 entries, 2 to 52285\n",
      "Data columns (total 15 columns):\n",
      " #   Column        Non-Null Count  Dtype  \n",
      "---  ------        --------------  -----  \n",
      " 0   business_id   38528 non-null  object \n",
      " 1   name          38528 non-null  object \n",
      " 2   address       38528 non-null  object \n",
      " 3   city          38528 non-null  object \n",
      " 4   state         38528 non-null  object \n",
      " 5   postal_code   38528 non-null  object \n",
      " 6   latitude      38528 non-null  float64\n",
      " 7   longitude     38528 non-null  float64\n",
      " 8   stars         38528 non-null  float64\n",
      " 9   review_count  38528 non-null  int64  \n",
      " 10  is_open       38528 non-null  int64  \n",
      " 11  attributes    38528 non-null  object \n",
      " 12  categories    38528 non-null  object \n",
      " 13  hours         38528 non-null  object \n",
      " 14  location      38528 non-null  object \n",
      "dtypes: float64(3), int64(2), object(10)\n",
      "memory usage: 4.7+ MB\n"
     ]
    }
   ],
   "source": [
    "# combining the address columns into a location column\n",
    "restaurant_exploded['location']=restaurant_exploded[['city','state','address']]\\\n",
    "            .apply( lambda x: f\"State:{x['state']}, City:{x['city']}, Address:{x['address']} \", axis=1)\n",
    "\n",
    "\n",
    "# viewing the restaurant_exploded dataset information\n",
    "restaurant_exploded.info()"
   ]
  },
  {
   "cell_type": "markdown",
   "id": "c1657a74",
   "metadata": {},
   "source": [
    "**Observations**\n",
    "***\n",
    " \n",
    "- The `categories` column have been standardized and exploded to handle multiple categories per restaurant. This transformation is necessary to accurately categorize each restaurant's offerings, which is essential for matching user preferences with the right restaurants.\n",
    "\n",
    "- The exploded DataFrame has been filtered to include only rows with specified cuisines. By narrowing down to specific cuisines, we ensure that the recommender system focuses on the most relevant restaurant types. This helps in improving precision\n",
    "\n",
    "- Combining the `state`, `city`, and `address` columns is vital for geographic-based recommendations, enabling the system to suggest restaurants within a user’s preferred or current location.\n",
    "\n",
    "- This results in a dataset with 38,528 rows of restaurants with their cuisine types and 15 columns"
   ]
  },
  {
   "cell_type": "code",
   "execution_count": 19,
   "metadata": {},
   "outputs": [],
   "source": [
    "def decompress(x):\n",
    "    \"\"\"\n",
    "    The function takes in a dictionary and returns only the keys that have their values not being False   \n",
    "    \"\"\"\n",
    "      \n",
    "    list_ = []\n",
    "    \n",
    "    # Check if x is a string\n",
    "    if not isinstance(x, str):\n",
    "        return ' '\n",
    "    \n",
    "    # evaluate the attributes column to convert it from a string to a dictionary\n",
    "    try:\n",
    "        data_dict = eval(x)\n",
    "    except Exception as e:\n",
    "        print(f\"Error evaluating {x}: {str(e)}\")\n",
    "        return ' '\n",
    "    \n",
    "    # iterate through the key-value pairs in the dictionary\n",
    "    for key, val in data_dict.items():\n",
    "        # check if the key is in the specified categories and if the value is not \"None\"\n",
    "        if (key in ['Ambience', 'GoodForMeal', 'BusinessParking']) and (val != \"None\"):\n",
    "            # if conditions are met, further iterate through sub-dictionary\n",
    "            try:\n",
    "                sub_dict = eval(val)\n",
    "                for key_, val_ in sub_dict.items():\n",
    "                    # if the sub-dictionary value is true, append it to the list\n",
    "                    if val_:\n",
    "                        list_.append(f'{key}{key}')\n",
    "            except Exception as e:\n",
    "                print(f\"Error evaluating {val}: {str(e)}\")\n",
    "        else:\n",
    "            # if the value is not false, append the key to the list\n",
    "            if val != 'False':\n",
    "                list_.append(key)\n",
    "    \n",
    "    # join the list of selected attribute names into a space-separated string\n",
    "    return \" \".join(list_)\n",
    "\n",
    "# create a new column 'attributes_true' in the df by applying the decompress function\n",
    "# include a condition to handle cases where attributes is 'Not-Available'\n",
    "restaurant_exploded['attributes_true'] = restaurant_exploded.attributes.apply(lambda x: decompress(x) if x != 'Not-Available' else ' ')"
   ]
  },
  {
   "cell_type": "code",
   "execution_count": 20,
   "id": "63a61962",
   "metadata": {},
   "outputs": [
    {
     "name": "stdout",
     "output_type": "stream",
     "text": [
      "Original Attributes Column 2    {'Caters': 'True', 'Alcohol': \"u'full_bar'\", 'RestaurantsAttire': \"u'casual'\", 'RestaurantsDelivery': 'False', 'RestaurantsTakeOut': 'True', 'HasTV': 'True', 'NoiseLevel': \"u'average'\", 'BusinessAcceptsCreditCards': 'True', 'OutdoorSeating': 'True', 'BusinessParking': \"{'garage': False, 'street': False, 'validated': False, 'lot': True, 'valet': False}\", 'Ambience': \"{'romantic': False, 'intimate': False, 'touristy': False, 'hipster': False, 'divey': False, 'classy': False, 'trendy': False, 'upscale': False, 'casual': False}\", 'RestaurantsPriceRange2': '1', 'GoodForKids': 'True', 'WiFi': \"u'free'\", 'RestaurantsReservations': 'False', 'RestaurantsGoodForGroups': 'True'}\n",
      "Name: attributes, dtype: object\n",
      "Attributes_true Column 2    Caters Alcohol RestaurantsAttire RestaurantsTakeOut HasTV NoiseLevel BusinessAcceptsCreditCards OutdoorSeating BusinessParkingBusinessParking RestaurantsPriceRange2 GoodForKids WiFi RestaurantsGoodForGroups\n",
      "Name: attributes_true, dtype: object\n"
     ]
    }
   ],
   "source": [
    "# Example to show the new column generated using a sample business_id\n",
    "# Temporarily set display options\n",
    "pd.set_option('display.max_colwidth', None)  \n",
    "\n",
    "# Display the attributes sections\n",
    "print(\"Original Attributes Column\",restaurant_data[restaurant_data.business_id=='k0hlBqXX-Bt0vf1op7Jr1w'].attributes[:1])\n",
    "print(\"Attributes_true Column\",restaurant_exploded[restaurant_exploded.business_id=='k0hlBqXX-Bt0vf1op7Jr1w'].attributes_true[:1])\n",
    "\n",
    "# Reset display options to default after viewing\n",
    "pd.reset_option('display.max_colwidth')\n"
   ]
  },
  {
   "cell_type": "code",
   "execution_count": 23,
   "id": "de55b07a",
   "metadata": {},
   "outputs": [
    {
     "data": {
      "text/plain": [
       "(38528, 16)"
      ]
     },
     "execution_count": 23,
     "metadata": {},
     "output_type": "execute_result"
    }
   ],
   "source": [
    "restaurant_exploded.shape"
   ]
  },
  {
   "cell_type": "markdown",
   "id": "f8fb6804",
   "metadata": {},
   "source": [
    "**Observations:**\n",
    "***\n",
    "- By using the compress function, the attributes column was stripped of any attributes that were False and a new column attributes true was created that only had the true attributes of each restaurant\n",
    "\n",
    "- This results in a dataset with 38,528 rows of restaurants with their cuisine types and 16 columns"
   ]
  },
  {
   "cell_type": "code",
   "execution_count": 21,
   "metadata": {},
   "outputs": [],
   "source": [
    "# Save the cleaned user review data to a new CSV file\n",
    "users_data_cleaned.to_csv('data/cleaned_users_data.csv', index=False)"
   ]
  },
  {
   "cell_type": "code",
   "execution_count": 22,
   "metadata": {},
   "outputs": [],
   "source": [
    "\n",
    "# Save the filtered and transformed restaurant data to a new CSV file\n",
    "with open('Pickled_files/restaurants_data.pkl','wb')as file:\n",
    "    pickle.dump(restaurant_exploded, file)\n"
   ]
  }
 ],
 "metadata": {
  "kernelspec": {
   "display_name": "python keras-env",
   "language": "python",
   "name": "keras-env"
  },
  "language_info": {
   "codemirror_mode": {
    "name": "ipython",
    "version": 3
   },
   "file_extension": ".py",
   "mimetype": "text/x-python",
   "name": "python",
   "nbconvert_exporter": "python",
   "pygments_lexer": "ipython3",
   "version": "3.11.5"
  }
 },
 "nbformat": 4,
 "nbformat_minor": 5
}
