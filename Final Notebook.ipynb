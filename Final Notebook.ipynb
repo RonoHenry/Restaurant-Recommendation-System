{
 "cells": [
  {
   "cell_type": "markdown",
   "metadata": {},
   "source": [
    "\n",
    "\n",
    "# GOURMET GURU RESTAURANT RECOMMENDER SYSTEM\n",
    "***\n",
    "\n",
    "## 1. BUSINESS UNDERSTANDING\n",
    "***\n",
    "\n",
    "### 1.1 Overview\n",
    "\n",
    "The U.S. dining industry is rich and varied, yet locals and tourists often find it difficult to discover restaurants that meet their specific preferences. The abundance of options, without a centralized platform for personalized recommendations, complicates the decision-making process. Our system addresses this by offering tailored dining suggestions, enhancing user experience and supporting local businesses.\n",
    "\n",
    "\n",
    "### 1.2 Stakeholder Definition\n",
    "\n",
    "- The main stakeholder in this project is Gourmet Guru,a start up aiming to venture into the restaurant recommendation business.\n",
    "\n",
    "They have contracted us,Digital Delight to handle the tech part of things and build a recommender app.\n",
    "\n",
    "Other indirect stakeholers who will benefit from this project are:\n",
    "\n",
    "•\tUsers: Individuals seeking personalized dining recommendations based on their unique preferences.\n",
    "\n",
    "•\tRestaurant Owners: Local businesses aiming to attract targeted customers and increase foot traffic.\n",
    "\n",
    "\n",
    "\n",
    "### 1.3 PROBLEM STATEMENT\n",
    "\n",
    "As the dining industry expands, consumers are overwhelmed by the numerous restaurant options, making it difficult to find establishments that match their preferences. The absence of a centralized platform for personalized recommendations complicates decision-making, especially for those in unfamiliar areas. Existing solutions are too generalized and lack real-time, location-based suggestions. As the dining scene diversifies, there's an urgent need for an intelligent recommender system to provide tailored, real-time dining suggestions, enhancing the overall experience.\n",
    "\n",
    "\n",
    "### 1.4 OBJECTIVES\n",
    "\n",
    "#### 1.4.1 Main Objective\n",
    "\n",
    "Develop a user-friendly restaurant recommender system that provides personalized, real-time suggestions based on user location and cuisine preferences. The system will utilize various data sources to ensure accurate and relevant recommendations.\n",
    "\n",
    "\n",
    "#### 1.4.2 Specific Objectives\n",
    "\n",
    "\n",
    "- **Optimize Recommendations for Popular Ratings**\n",
    "\n",
    " Focus on recommending restaurants with ratings around 4.0 and 5.0 stars, and ensure that recommendations highlight top-rated restaurants to leverage high review counts and positive experiences.\n",
    " \n",
    " \n",
    "- **Filter Out Closed Restaurants**\n",
    "\n",
    "Implement robust filtering mechanisms to exclude closed restaurants from recommendationsand ensure that the system only recommends active, operational establishments to improve reliability and user satisfaction.\n",
    "\n",
    "- **Leverage Seasonal Trends in Recommendations**\n",
    "\n",
    "Objective: Adjust recommendations and promotional activities to align with seasonal peaks in customer engagement,\n",
    "\n",
    "\n",
    "- **Target Major Restaurant Markets**\n",
    "\n",
    "Objective: Prioritize data and recommendations for states with the highest numbers of restaurants\n",
    "\n",
    "\n",
    "- **Create an intuitive, responsive web and mobile application.**\n",
    "\n",
    "\n",
    "### 1.5 Proposed Solution\n",
    "\n",
    "We propose developing a Restaurant Recommender System specifically for the United States.This system will help with:\n",
    "\n",
    "•\tComprehensive Categorization: Systematically  categorize restaurants in the United States, grouping them by cuisine type, location, and other relevant factors.\n",
    "\n",
    "•\tPersonalized Recommendations: Enable users to input their current location and preferred cuisine type, delivering a ranked list of nearby restaurants based on their ratings and proximity.\n",
    "\n",
    "•\tEnhanced User Experience: Offer an intuitive, user-friendly interface with integrated map features to simplify navigation and help users easily explore and select dining options.\n",
    "\n",
    "\n",
    "### 1.6 Metrics of success\n",
    "\n",
    "Metrics of Success will include:\n",
    "\n",
    "- RMSE : This will  measure the average magnitude of the errors between predicted values and actual values, providing an indication of how well a model performs. \n",
    "\n",
    "•\tUser Engagement: Measured by the number of active users, frequency of use, and user retention rates.\n",
    "\n",
    "•\tRecommendation Accuracy: Evaluated through user feedback and satisfaction scores, focusing on how well the recommendations match user preferences.\n",
    "\n",
    "\n",
    "\n",
    "### 1.7 Challenges\n",
    "\n",
    "Some of the challenges we may experience during this project include:\n",
    "\n",
    "- Data Collection and Quality: Ensuring the platform has access to accurate and up-to-date restaurant data is crucial, as incomplete or outdated information can lead to poor recommendations and user dissatisfaction.\n",
    "\n",
    "\n",
    "- Scalability: As the user base and the number of restaurants grow, the platform must efficiently handle increased data processing and maintain real-time performance across various states, ensuring a seamless user experience.\n",
    "\n",
    "\n",
    "- Competition: Differentiating the platform from established competitors like Yelp and TripAdvisor is essential. The platform needs to offer unique value propositions to attract users in a crowded market.\n",
    "\n",
    "\n",
    "- Privacy and Data Security: Protecting user data and ensuring compliance with privacy regulations is a significant challenge. Building trust with users regarding data usage is vital to maintaining their engagement and loyalty.\n",
    "\n",
    "\n"
   ]
  },
  {
   "cell_type": "markdown",
   "metadata": {},
   "source": [
    "***\n",
    "## 2. DATA UNDERSTANDING\n",
    "***\n",
    "The data used in this project was sourced by the stakeholders from [YELP](https://www.yelp.com/dataset/download). It is a collective dataset of various businesses and user information gotten from Yelp's website. It contains 6,990,280 reviews, 150,346 businesses, 200,100 pictures across 11 metropolitan areas and 19 states. \n",
    "The original data was filtered by concentrating only on restaurant businesses and on reviews made within the year and split into two datasets as shown \n",
    "[here](Preliminary_notebook.ipynb).\n",
    "\n",
    "The two datasets have information on \n",
    "> 1. Restaurant Informational Data\n",
    "> 2. User Review Data\n",
    "\n",
    "Data Understanding on the two datasets are as follows::"
   ]
  },
  {
   "cell_type": "code",
   "execution_count": 1,
   "metadata": {},
   "outputs": [],
   "source": [
    "# importing libraries\n",
    "import os\n",
    "import re\n",
    "import sys\n",
    "import pickle\n",
    "import numpy as np\n",
    "import pandas as pd\n",
    "from classes.understanding import DataLoader, DataChecks, DataInfo\n",
    "from classes.EDA import UnivariateAnalysis, BivariateAnalysis, ComprehensiveEDA, UserEDA\n",
    "\n",
    "# Suppressing warnings\n",
    "import warnings\n",
    "warnings.filterwarnings('ignore')\n",
    "\n",
    "# Text processing \n",
    "from sklearn.feature_extraction.text import TfidfVectorizer\n",
    "\n",
    "# Machine learning and model selection\n",
    "from sklearn.metrics.pairwise import cosine_similarity\n",
    "from sklearn.model_selection import train_test_split\n",
    "from sklearn.preprocessing import LabelEncoder\n",
    "from surprise import Dataset, Reader, SVD, accuracy, NormalPredictor,NMF\n",
    "from surprise.model_selection import GridSearchCV, cross_validate, train_test_split \n",
    "\n",
    "# Deep learning with TensorFlow\n",
    "from tensorflow.keras import models, layers, optimizers, losses, regularizers, metrics\n"
   ]
  },
  {
   "cell_type": "markdown",
   "metadata": {},
   "source": [
    "#### i) Restaurant Informational Data"
   ]
  },
  {
   "cell_type": "code",
   "execution_count": 2,
   "metadata": {},
   "outputs": [],
   "source": [
    "# Instantiate the DataLoader class\n",
    "loader= DataLoader()\n",
    "\n",
    "# Instantiate the DataInfo class\n",
    "summary= DataInfo()"
   ]
  },
  {
   "cell_type": "code",
   "execution_count": 3,
   "metadata": {},
   "outputs": [
    {
     "name": "stdout",
     "output_type": "stream",
     "text": [
      "\n",
      "RESTAURANT DATASET INFORMATION\n",
      "========================================\n",
      "\n",
      "========================================\n",
      "Shape of the dataset : (52286, 14) \n",
      "========================================\n",
      "\n",
      "========================================\n",
      "Column Names\n",
      "========================================\n",
      "Index(['business_id', 'name', 'address', 'city', 'state', 'postal_code',\n",
      "       'latitude', 'longitude', 'stars', 'review_count', 'is_open',\n",
      "       'attributes', 'categories', 'hours'],\n",
      "      dtype='object') \n",
      " \n",
      "\n",
      "========================================\n",
      "Data Summary\n",
      "========================================\n",
      "<class 'pandas.core.frame.DataFrame'>\n",
      "RangeIndex: 52286 entries, 0 to 52285\n",
      "Data columns (total 14 columns):\n",
      " #   Column        Non-Null Count  Dtype  \n",
      "---  ------        --------------  -----  \n",
      " 0   business_id   52286 non-null  object \n",
      " 1   name          52286 non-null  object \n",
      " 2   address       51843 non-null  object \n",
      " 3   city          52286 non-null  object \n",
      " 4   state         52286 non-null  object \n",
      " 5   postal_code   52265 non-null  object \n",
      " 6   latitude      52286 non-null  float64\n",
      " 7   longitude     52286 non-null  float64\n",
      " 8   stars         52286 non-null  float64\n",
      " 9   review_count  52286 non-null  int64  \n",
      " 10  is_open       52286 non-null  int64  \n",
      " 11  attributes    51720 non-null  object \n",
      " 12  categories    52286 non-null  object \n",
      " 13  hours         45007 non-null  object \n",
      "dtypes: float64(3), int64(2), object(9)\n",
      "memory usage: 5.6+ MB\n",
      "========================================\n",
      "\n",
      "========================================\n",
      "Descriptive Statistics\n",
      "========================================\n"
     ]
    },
    {
     "data": {
      "text/html": [
       "<div>\n",
       "<style scoped>\n",
       "    .dataframe tbody tr th:only-of-type {\n",
       "        vertical-align: middle;\n",
       "    }\n",
       "\n",
       "    .dataframe tbody tr th {\n",
       "        vertical-align: top;\n",
       "    }\n",
       "\n",
       "    .dataframe thead th {\n",
       "        text-align: right;\n",
       "    }\n",
       "</style>\n",
       "<table border=\"1\" class=\"dataframe\">\n",
       "  <thead>\n",
       "    <tr style=\"text-align: right;\">\n",
       "      <th></th>\n",
       "      <th>latitude</th>\n",
       "      <th>longitude</th>\n",
       "      <th>stars</th>\n",
       "      <th>review_count</th>\n",
       "      <th>is_open</th>\n",
       "    </tr>\n",
       "  </thead>\n",
       "  <tbody>\n",
       "    <tr>\n",
       "      <th>count</th>\n",
       "      <td>52286.000000</td>\n",
       "      <td>52286.000000</td>\n",
       "      <td>52286.000000</td>\n",
       "      <td>52286.000000</td>\n",
       "      <td>52286.000000</td>\n",
       "    </tr>\n",
       "    <tr>\n",
       "      <th>mean</th>\n",
       "      <td>36.997663</td>\n",
       "      <td>-87.845038</td>\n",
       "      <td>3.515234</td>\n",
       "      <td>87.241078</td>\n",
       "      <td>0.669472</td>\n",
       "    </tr>\n",
       "    <tr>\n",
       "      <th>std</th>\n",
       "      <td>6.010943</td>\n",
       "      <td>13.813532</td>\n",
       "      <td>0.829585</td>\n",
       "      <td>188.912445</td>\n",
       "      <td>0.470408</td>\n",
       "    </tr>\n",
       "    <tr>\n",
       "      <th>min</th>\n",
       "      <td>27.564457</td>\n",
       "      <td>-120.083748</td>\n",
       "      <td>1.000000</td>\n",
       "      <td>5.000000</td>\n",
       "      <td>0.000000</td>\n",
       "    </tr>\n",
       "    <tr>\n",
       "      <th>25%</th>\n",
       "      <td>32.217586</td>\n",
       "      <td>-90.233506</td>\n",
       "      <td>3.000000</td>\n",
       "      <td>13.000000</td>\n",
       "      <td>0.000000</td>\n",
       "    </tr>\n",
       "    <tr>\n",
       "      <th>50%</th>\n",
       "      <td>39.484140</td>\n",
       "      <td>-86.035621</td>\n",
       "      <td>3.500000</td>\n",
       "      <td>33.000000</td>\n",
       "      <td>1.000000</td>\n",
       "    </tr>\n",
       "    <tr>\n",
       "      <th>75%</th>\n",
       "      <td>39.958370</td>\n",
       "      <td>-75.337533</td>\n",
       "      <td>4.000000</td>\n",
       "      <td>89.000000</td>\n",
       "      <td>1.000000</td>\n",
       "    </tr>\n",
       "    <tr>\n",
       "      <th>max</th>\n",
       "      <td>53.679197</td>\n",
       "      <td>-74.664459</td>\n",
       "      <td>5.000000</td>\n",
       "      <td>7568.000000</td>\n",
       "      <td>1.000000</td>\n",
       "    </tr>\n",
       "  </tbody>\n",
       "</table>\n",
       "</div>"
      ],
      "text/plain": [
       "           latitude     longitude         stars  review_count       is_open\n",
       "count  52286.000000  52286.000000  52286.000000  52286.000000  52286.000000\n",
       "mean      36.997663    -87.845038      3.515234     87.241078      0.669472\n",
       "std        6.010943     13.813532      0.829585    188.912445      0.470408\n",
       "min       27.564457   -120.083748      1.000000      5.000000      0.000000\n",
       "25%       32.217586    -90.233506      3.000000     13.000000      0.000000\n",
       "50%       39.484140    -86.035621      3.500000     33.000000      1.000000\n",
       "75%       39.958370    -75.337533      4.000000     89.000000      1.000000\n",
       "max       53.679197    -74.664459      5.000000   7568.000000      1.000000"
      ]
     },
     "metadata": {},
     "output_type": "display_data"
    },
    {
     "name": "stdout",
     "output_type": "stream",
     "text": [
      "========================================\n",
      "Dataset Overview\n",
      "========================================\n"
     ]
    },
    {
     "data": {
      "text/html": [
       "<div>\n",
       "<style scoped>\n",
       "    .dataframe tbody tr th:only-of-type {\n",
       "        vertical-align: middle;\n",
       "    }\n",
       "\n",
       "    .dataframe tbody tr th {\n",
       "        vertical-align: top;\n",
       "    }\n",
       "\n",
       "    .dataframe thead th {\n",
       "        text-align: right;\n",
       "    }\n",
       "</style>\n",
       "<table border=\"1\" class=\"dataframe\">\n",
       "  <thead>\n",
       "    <tr style=\"text-align: right;\">\n",
       "      <th></th>\n",
       "      <th>business_id</th>\n",
       "      <th>name</th>\n",
       "      <th>address</th>\n",
       "      <th>city</th>\n",
       "      <th>state</th>\n",
       "      <th>postal_code</th>\n",
       "      <th>latitude</th>\n",
       "      <th>longitude</th>\n",
       "      <th>stars</th>\n",
       "      <th>review_count</th>\n",
       "      <th>is_open</th>\n",
       "      <th>attributes</th>\n",
       "      <th>categories</th>\n",
       "      <th>hours</th>\n",
       "    </tr>\n",
       "  </thead>\n",
       "  <tbody>\n",
       "    <tr>\n",
       "      <th>0</th>\n",
       "      <td>MTSW4McQd7CbVtyjqoe9mw</td>\n",
       "      <td>St Honore Pastries</td>\n",
       "      <td>935 Race St</td>\n",
       "      <td>Philadelphia</td>\n",
       "      <td>PA</td>\n",
       "      <td>19107</td>\n",
       "      <td>39.955505</td>\n",
       "      <td>-75.155564</td>\n",
       "      <td>4.0</td>\n",
       "      <td>80</td>\n",
       "      <td>1</td>\n",
       "      <td>{'RestaurantsDelivery': 'False', 'OutdoorSeati...</td>\n",
       "      <td>Restaurants, Food, Bubble Tea, Coffee &amp; Tea, B...</td>\n",
       "      <td>{'Monday': '7:0-20:0', 'Tuesday': '7:0-20:0', ...</td>\n",
       "    </tr>\n",
       "    <tr>\n",
       "      <th>1</th>\n",
       "      <td>CF33F8-E6oudUQ46HnavjQ</td>\n",
       "      <td>Sonic Drive-In</td>\n",
       "      <td>615 S Main St</td>\n",
       "      <td>Ashland City</td>\n",
       "      <td>TN</td>\n",
       "      <td>37015</td>\n",
       "      <td>36.269593</td>\n",
       "      <td>-87.058943</td>\n",
       "      <td>2.0</td>\n",
       "      <td>6</td>\n",
       "      <td>1</td>\n",
       "      <td>{'BusinessParking': 'None', 'BusinessAcceptsCr...</td>\n",
       "      <td>Burgers, Fast Food, Sandwiches, Food, Ice Crea...</td>\n",
       "      <td>{'Monday': '0:0-0:0', 'Tuesday': '6:0-22:0', '...</td>\n",
       "    </tr>\n",
       "    <tr>\n",
       "      <th>2</th>\n",
       "      <td>k0hlBqXX-Bt0vf1op7Jr1w</td>\n",
       "      <td>Tsevi's Pub And Grill</td>\n",
       "      <td>8025 Mackenzie Rd</td>\n",
       "      <td>Affton</td>\n",
       "      <td>MO</td>\n",
       "      <td>63123</td>\n",
       "      <td>38.565165</td>\n",
       "      <td>-90.321087</td>\n",
       "      <td>3.0</td>\n",
       "      <td>19</td>\n",
       "      <td>0</td>\n",
       "      <td>{'Caters': 'True', 'Alcohol': \"u'full_bar'\", '...</td>\n",
       "      <td>Pubs, Restaurants, Italian, Bars, American (Tr...</td>\n",
       "      <td>NaN</td>\n",
       "    </tr>\n",
       "  </tbody>\n",
       "</table>\n",
       "</div>"
      ],
      "text/plain": [
       "              business_id                   name            address  \\\n",
       "0  MTSW4McQd7CbVtyjqoe9mw     St Honore Pastries        935 Race St   \n",
       "1  CF33F8-E6oudUQ46HnavjQ         Sonic Drive-In      615 S Main St   \n",
       "2  k0hlBqXX-Bt0vf1op7Jr1w  Tsevi's Pub And Grill  8025 Mackenzie Rd   \n",
       "\n",
       "           city state postal_code   latitude  longitude  stars  review_count  \\\n",
       "0  Philadelphia    PA       19107  39.955505 -75.155564    4.0            80   \n",
       "1  Ashland City    TN       37015  36.269593 -87.058943    2.0             6   \n",
       "2        Affton    MO       63123  38.565165 -90.321087    3.0            19   \n",
       "\n",
       "   is_open                                         attributes  \\\n",
       "0        1  {'RestaurantsDelivery': 'False', 'OutdoorSeati...   \n",
       "1        1  {'BusinessParking': 'None', 'BusinessAcceptsCr...   \n",
       "2        0  {'Caters': 'True', 'Alcohol': \"u'full_bar'\", '...   \n",
       "\n",
       "                                          categories  \\\n",
       "0  Restaurants, Food, Bubble Tea, Coffee & Tea, B...   \n",
       "1  Burgers, Fast Food, Sandwiches, Food, Ice Crea...   \n",
       "2  Pubs, Restaurants, Italian, Bars, American (Tr...   \n",
       "\n",
       "                                               hours  \n",
       "0  {'Monday': '7:0-20:0', 'Tuesday': '7:0-20:0', ...  \n",
       "1  {'Monday': '0:0-0:0', 'Tuesday': '6:0-22:0', '...  \n",
       "2                                                NaN  "
      ]
     },
     "execution_count": 3,
     "metadata": {},
     "output_type": "execute_result"
    }
   ],
   "source": [
    "# Reading the restaurants csv file\n",
    "restaurant_data= loader.read_data(\"data/restaurants.csv\")\n",
    "\n",
    "# Summary information on the restaurant df\n",
    "print(f'\\nRESTAURANT DATASET INFORMATION\\n' + '=='*20 + '\\n')\n",
    "summary.info(restaurant_data)"
   ]
  },
  {
   "cell_type": "markdown",
   "metadata": {},
   "source": [
    "### Restaurant Dataset Column Descriptions\n",
    "***\n",
    "\n",
    "| Column Name     | Description                                                                 |\n",
    "|-----------------|-----------------------------------------------------------------------------|\n",
    "| business_id     | Unique identifier for the business.                                         |\n",
    "| name            | Name of the business.                                                       |\n",
    "| address         | Street address of the business.                                             |\n",
    "| city            | City where the business is located.                                         |\n",
    "| state           | State where the business is located.                                        |\n",
    "| postal_code     | Postal code (ZIP code) of the business location.                            |\n",
    "| latitude        | Latitude coordinate of the business location.                               |\n",
    "| longitude       | Longitude coordinate of the business location.                              |\n",
    "| stars           | Average star rating of the (typically on a scale of 1 to 5).       |\n",
    "| review_count    | Number of reviews the business has received.                                |\n",
    "| is_open         | Indicator of whether the business is currently open (1 = open, 0 = closed). |\n",
    "| attributes      | Additional attributes of the business (e.g., \"WiFi: free\", \"HasTV: true\").  |\n",
    "| categories      | List of categories the business belongs to (e.g., \"Restaurants\", \"Bars\").   |\n",
    "| hours           | Business hours (e.g., \"Monday: 8am-5pm, Tuesday: 8am-5pm\").                 |\n"
   ]
  },
  {
   "cell_type": "code",
   "execution_count": 4,
   "metadata": {},
   "outputs": [
    {
     "name": "stdout",
     "output_type": "stream",
     "text": [
      "NO DUPLICATES FOUND\n"
     ]
    }
   ],
   "source": [
    "# Instantiating Datachecks for restaurant df\n",
    "checks= DataChecks(restaurant_data)\n",
    "\n",
    "# Checking for duplicates\n",
    "checks.check_duplicates()"
   ]
  },
  {
   "cell_type": "code",
   "execution_count": 5,
   "metadata": {},
   "outputs": [
    {
     "data": {
      "text/html": [
       "<div>\n",
       "<style scoped>\n",
       "    .dataframe tbody tr th:only-of-type {\n",
       "        vertical-align: middle;\n",
       "    }\n",
       "\n",
       "    .dataframe tbody tr th {\n",
       "        vertical-align: top;\n",
       "    }\n",
       "\n",
       "    .dataframe thead th {\n",
       "        text-align: right;\n",
       "    }\n",
       "</style>\n",
       "<table border=\"1\" class=\"dataframe\">\n",
       "  <thead>\n",
       "    <tr style=\"text-align: right;\">\n",
       "      <th></th>\n",
       "      <th>Column Names</th>\n",
       "      <th>Missing Values</th>\n",
       "      <th>Percentage Missing</th>\n",
       "    </tr>\n",
       "  </thead>\n",
       "  <tbody>\n",
       "    <tr>\n",
       "      <th>0</th>\n",
       "      <td>address</td>\n",
       "      <td>443</td>\n",
       "      <td>0.847263</td>\n",
       "    </tr>\n",
       "    <tr>\n",
       "      <th>1</th>\n",
       "      <td>postal_code</td>\n",
       "      <td>21</td>\n",
       "      <td>0.040164</td>\n",
       "    </tr>\n",
       "    <tr>\n",
       "      <th>2</th>\n",
       "      <td>attributes</td>\n",
       "      <td>566</td>\n",
       "      <td>1.082508</td>\n",
       "    </tr>\n",
       "    <tr>\n",
       "      <th>3</th>\n",
       "      <td>hours</td>\n",
       "      <td>7279</td>\n",
       "      <td>13.921509</td>\n",
       "    </tr>\n",
       "  </tbody>\n",
       "</table>\n",
       "</div>"
      ],
      "text/plain": [
       "  Column Names  Missing Values  Percentage Missing\n",
       "0      address             443            0.847263\n",
       "1  postal_code              21            0.040164\n",
       "2   attributes             566            1.082508\n",
       "3        hours            7279           13.921509"
      ]
     },
     "metadata": {},
     "output_type": "display_data"
    }
   ],
   "source": [
    "# Checking for null values in restaurant dataset\n",
    "checks.check_missing()"
   ]
  },
  {
   "cell_type": "code",
   "execution_count": 6,
   "metadata": {},
   "outputs": [
    {
     "data": {
      "image/png": "[encoded data removed]",
      "text/plain": [
       "<Figure size 2000x800 with 4 Axes>"
      ]
     },
     "metadata": {},
     "output_type": "display_data"
    }
   ],
   "source": [
    "# check for outliers in restaurant dataset\n",
    "checks.check_outliers_and_plot()"
   ]
  },
  {
   "cell_type": "markdown",
   "metadata": {},
   "source": [
    "***\n",
    "**Initial Observations on restaurant information data**\n",
    "***\n",
    "- > Restaurant information dataset has 52286 rows and 14 columns.\n",
    "- > All business locations are in the North West hemisphere i.e. USA based on min and max latitude and longitude.\n",
    "- > The address, \tpostalcode, attributes and hours columns contain missing values and will be addressed.\n",
    "- > There are no duplicated rows.\n",
    "- > Majority of the businesses receive between 3-4 stars on average.\n",
    "- > No significant outliers can be seen.urs"
   ]
  },
  {
   "cell_type": "markdown",
   "metadata": {},
   "source": [
    "#### ii) User Review Data"
   ]
  },
  {
   "cell_type": "code",
   "execution_count": 7,
   "metadata": {},
   "outputs": [
    {
     "name": "stdout",
     "output_type": "stream",
     "text": [
      "\n",
      "USER DATASET INFORMATION\n",
      "========================================\n",
      "\n",
      "========================================\n",
      "Shape of the dataset : (2559586, 4) \n",
      "========================================\n",
      "\n",
      "========================================\n",
      "Column Names\n",
      "========================================\n",
      "Index(['user_id', 'business_id', 'stars', 'date'], dtype='object') \n",
      " \n",
      "\n",
      "========================================\n",
      "Data Summary\n",
      "========================================\n",
      "<class 'pandas.core.frame.DataFrame'>\n",
      "RangeIndex: 2559586 entries, 0 to 2559585\n",
      "Data columns (total 4 columns):\n",
      " #   Column       Dtype \n",
      "---  ------       ----- \n",
      " 0   user_id      object\n",
      " 1   business_id  object\n",
      " 2   stars        int64 \n",
      " 3   date         object\n",
      "dtypes: int64(1), object(3)\n",
      "memory usage: 78.1+ MB\n",
      "========================================\n",
      "\n",
      "========================================\n",
      "Descriptive Statistics\n",
      "========================================\n"
     ]
    },
    {
     "data": {
      "text/html": [
       "<div>\n",
       "<style scoped>\n",
       "    .dataframe tbody tr th:only-of-type {\n",
       "        vertical-align: middle;\n",
       "    }\n",
       "\n",
       "    .dataframe tbody tr th {\n",
       "        vertical-align: top;\n",
       "    }\n",
       "\n",
       "    .dataframe thead th {\n",
       "        text-align: right;\n",
       "    }\n",
       "</style>\n",
       "<table border=\"1\" class=\"dataframe\">\n",
       "  <thead>\n",
       "    <tr style=\"text-align: right;\">\n",
       "      <th></th>\n",
       "      <th>stars</th>\n",
       "    </tr>\n",
       "  </thead>\n",
       "  <tbody>\n",
       "    <tr>\n",
       "      <th>count</th>\n",
       "      <td>2.559586e+06</td>\n",
       "    </tr>\n",
       "    <tr>\n",
       "      <th>mean</th>\n",
       "      <td>3.837496e+00</td>\n",
       "    </tr>\n",
       "    <tr>\n",
       "      <th>std</th>\n",
       "      <td>1.450423e+00</td>\n",
       "    </tr>\n",
       "    <tr>\n",
       "      <th>min</th>\n",
       "      <td>1.000000e+00</td>\n",
       "    </tr>\n",
       "    <tr>\n",
       "      <th>25%</th>\n",
       "      <td>3.000000e+00</td>\n",
       "    </tr>\n",
       "    <tr>\n",
       "      <th>50%</th>\n",
       "      <td>4.000000e+00</td>\n",
       "    </tr>\n",
       "    <tr>\n",
       "      <th>75%</th>\n",
       "      <td>5.000000e+00</td>\n",
       "    </tr>\n",
       "    <tr>\n",
       "      <th>max</th>\n",
       "      <td>5.000000e+00</td>\n",
       "    </tr>\n",
       "  </tbody>\n",
       "</table>\n",
       "</div>"
      ],
      "text/plain": [
       "              stars\n",
       "count  2.559586e+06\n",
       "mean   3.837496e+00\n",
       "std    1.450423e+00\n",
       "min    1.000000e+00\n",
       "25%    3.000000e+00\n",
       "50%    4.000000e+00\n",
       "75%    5.000000e+00\n",
       "max    5.000000e+00"
      ]
     },
     "metadata": {},
     "output_type": "display_data"
    },
    {
     "name": "stdout",
     "output_type": "stream",
     "text": [
      "========================================\n",
      "Dataset Overview\n",
      "========================================\n"
     ]
    },
    {
     "data": {
      "text/html": [
       "<div>\n",
       "<style scoped>\n",
       "    .dataframe tbody tr th:only-of-type {\n",
       "        vertical-align: middle;\n",
       "    }\n",
       "\n",
       "    .dataframe tbody tr th {\n",
       "        vertical-align: top;\n",
       "    }\n",
       "\n",
       "    .dataframe thead th {\n",
       "        text-align: right;\n",
       "    }\n",
       "</style>\n",
       "<table border=\"1\" class=\"dataframe\">\n",
       "  <thead>\n",
       "    <tr style=\"text-align: right;\">\n",
       "      <th></th>\n",
       "      <th>user_id</th>\n",
       "      <th>business_id</th>\n",
       "      <th>stars</th>\n",
       "      <th>date</th>\n",
       "    </tr>\n",
       "  </thead>\n",
       "  <tbody>\n",
       "    <tr>\n",
       "      <th>0</th>\n",
       "      <td>mh_-eMZ6K5RLWhZyISBhwA</td>\n",
       "      <td>XQfwVwDr-v0ZS3_CbbE5Xw</td>\n",
       "      <td>3</td>\n",
       "      <td>2018-07-07 22:09:11</td>\n",
       "    </tr>\n",
       "    <tr>\n",
       "      <th>1</th>\n",
       "      <td>bcjbaE6dDog4jkNY91ncLQ</td>\n",
       "      <td>e4Vwtrqf-wpJfwesgvdgxQ</td>\n",
       "      <td>4</td>\n",
       "      <td>2017-01-14 20:54:15</td>\n",
       "    </tr>\n",
       "    <tr>\n",
       "      <th>2</th>\n",
       "      <td>RreNy--tOmXMl1en0wiBOg</td>\n",
       "      <td>cPepkJeRMtHapc_b2Oe_dw</td>\n",
       "      <td>4</td>\n",
       "      <td>2018-07-17 03:30:07</td>\n",
       "    </tr>\n",
       "  </tbody>\n",
       "</table>\n",
       "</div>"
      ],
      "text/plain": [
       "                  user_id             business_id  stars                 date\n",
       "0  mh_-eMZ6K5RLWhZyISBhwA  XQfwVwDr-v0ZS3_CbbE5Xw      3  2018-07-07 22:09:11\n",
       "1  bcjbaE6dDog4jkNY91ncLQ  e4Vwtrqf-wpJfwesgvdgxQ      4  2017-01-14 20:54:15\n",
       "2  RreNy--tOmXMl1en0wiBOg  cPepkJeRMtHapc_b2Oe_dw      4  2018-07-17 03:30:07"
      ]
     },
     "execution_count": 7,
     "metadata": {},
     "output_type": "execute_result"
    }
   ],
   "source": [
    "# Loading the users csv file\n",
    "users_data= loader.read_data(\"data/users.csv\")\n",
    "\n",
    "# Summary information on the user review data\n",
    "print(f'\\nUSER DATASET INFORMATION\\n' + '=='*20 + '\\n')\n",
    "summary.info(users_data)"
   ]
  },
  {
   "cell_type": "markdown",
   "metadata": {},
   "source": [
    "### Users Reviews Dataset Column Descriptions\n",
    "***\n",
    "| Column Name  | Description                                                                 |\n",
    "|--------------|-----------------------------------------------------------------------------|\n",
    "| review_id    | Unique identifier for the review.                                           |\n",
    "| user_id      | Unique identifier for the user who wrote the review.                        |\n",
    "| business_id  | Unique identifier for the business that the review is associated with.      |\n",
    "| stars        | Star rating given by the user in the review (on a scale of 1 to 5).         |\n",
    "| useful       | Count of how many users found the review useful.                            |\n",
    "| funny        | Count of how many users found the review funny.                             |\n",
    "| cool         | Count of how many users found the review cool.                              |\n",
    "| text         | The content of the review written by the user.                              |\n",
    "| date         | Date when the review was written.                                           |\n"
   ]
  },
  {
   "cell_type": "code",
   "execution_count": 8,
   "metadata": {},
   "outputs": [
    {
     "data": {
      "text/html": [
       "<table border=\"1\" class=\"dataframe\">\n",
       "  <thead>\n",
       "    <tr style=\"text-align: right;\">\n",
       "      <th></th>\n",
       "      <th>user_id</th>\n",
       "      <th>business_id</th>\n",
       "      <th>stars</th>\n",
       "      <th>date</th>\n",
       "    </tr>\n",
       "  </thead>\n",
       "  <tbody>\n",
       "    <tr>\n",
       "      <th>988470</th>\n",
       "      <td>wAph_egpAXr9ic-A2vnINQ</td>\n",
       "      <td>fiGh8ctcvIRm4Ii2GOtoHQ</td>\n",
       "      <td>2</td>\n",
       "      <td>2018-07-23 21:43:33</td>\n",
       "    </tr>\n",
       "    <tr>\n",
       "      <th>997259</th>\n",
       "      <td>wAph_egpAXr9ic-A2vnINQ</td>\n",
       "      <td>fiGh8ctcvIRm4Ii2GOtoHQ</td>\n",
       "      <td>2</td>\n",
       "      <td>2018-07-23 21:43:33</td>\n",
       "    </tr>\n",
       "    <tr>\n",
       "      <th>1980862</th>\n",
       "      <td>xZ0ioQJ0Jyo_Uc0FzmyFQQ</td>\n",
       "      <td>O_kAd89gPls-dXda40NWzA</td>\n",
       "      <td>5</td>\n",
       "      <td>2019-11-22 07:18:46</td>\n",
       "    </tr>\n",
       "    <tr>\n",
       "      <th>2005725</th>\n",
       "      <td>xZ0ioQJ0Jyo_Uc0FzmyFQQ</td>\n",
       "      <td>O_kAd89gPls-dXda40NWzA</td>\n",
       "      <td>5</td>\n",
       "      <td>2019-11-22 07:18:46</td>\n",
       "    </tr>\n",
       "  </tbody>\n",
       "</table>"
      ],
      "text/plain": [
       "<IPython.core.display.HTML object>"
      ]
     },
     "metadata": {},
     "output_type": "display_data"
    }
   ],
   "source": [
    "# Instantiating Datachecks for users df\n",
    "checks= DataChecks(users_data)\n",
    "\n",
    "# Checking for duplicates for users df\n",
    "checks.check_duplicates()\n"
   ]
  },
  {
   "cell_type": "code",
   "execution_count": 9,
   "metadata": {},
   "outputs": [
    {
     "name": "stdout",
     "output_type": "stream",
     "text": [
      "NO NULL VALUES FOUND\n"
     ]
    }
   ],
   "source": [
    "# Checking for null values in users df\n",
    "checks.check_missing()"
   ]
  },
  {
   "cell_type": "code",
   "execution_count": 10,
   "metadata": {},
   "outputs": [
    {
     "name": "stdout",
     "output_type": "stream",
     "text": [
      "NO OUTLIERS FOUND\n"
     ]
    }
   ],
   "source": [
    "# check for outliers in users df\n",
    "checks.check_outliers_and_plot()"
   ]
  },
  {
   "cell_type": "markdown",
   "metadata": {},
   "source": [
    "***\n",
    "**Initial Observations on user review data**\n",
    "***\n",
    "> The user review dataset contains 2559586 rows and 4 columns\n",
    "\n",
    "> There is evidence of duplicated data and would require cleaning\n",
    "\n",
    "> There are no null values in the dataset.\n",
    "\n",
    "> Majority of users rate restaurants between 3 and 4 stars\n",
    "\n",
    "> useful, funny and cool columns do not seem to show any relevant information"
   ]
  },
  {
   "cell_type": "markdown",
   "metadata": {},
   "source": [
    "***\n",
    "## Exploratory Data Analysis Using `EDA.py` Classes\n",
    "***\n",
    "\n",
    "In this section of the notebook, we will initiate the exploratory data analysis by instantiating the classes defined in our `EDA.py` script. These classes are designed to facilitate the visualization of various features within the `restaurants.csv` dataset, aiding in our understanding of the data's structure and trends.\n",
    "\n",
    "The analysis is split between:\n",
    "\n",
    "    i)  Univartiate Analysis of restaurant data\n",
    "    \n",
    "    ii) Bivariate analysis  of restaurant data\n",
    "\n",
    "    iii) Analysis on User Reviews data"
   ]
  },
  {
   "cell_type": "code",
   "execution_count": 11,
   "metadata": {},
   "outputs": [],
   "source": [
    "# Append the path where the EDA modules are located to sys.path\n",
    "sys.path.append(os.path.abspath('EDA'))"
   ]
  },
  {
   "cell_type": "markdown",
   "metadata": {},
   "source": [
    "\n",
    "### i) Univariate Analysis of Restaurant data\n",
    "***\n",
    "\n",
    "We first perform our univariate EDA on the `restaurants.csv` dataset to examine each variable independently. \n",
    "\n",
    "\n",
    "- **Star Ratings (`stars`)**: Histogram of star ratings offer insights into the overall quality as perceived by customers, helping identify general satisfaction levels.\n",
    "- **State Distribution (`state`)**: Bar charts showing the number of restaurants per state reveal geographical market saturation and potential areas for business expansion.\n",
    "- **Operational Status (`is_open`)**: Pie charts of open vs closed status provide a snapshot of the business landscape, indicating the proportion of actively operating restaurants.\n"
   ]
  },
  {
   "cell_type": "code",
   "execution_count": 12,
   "metadata": {},
   "outputs": [
    {
     "data": {
      "image/png": "[encoded data removed]",
      "text/plain": [
       "<Figure size 1000x600 with 1 Axes>"
      ]
     },
     "metadata": {},
     "output_type": "display_data"
    }
   ],
   "source": [
    "# Instantiate the UnivariateAnalysis class with the DataFrame\n",
    "uni_analysis = UnivariateAnalysis(restaurant_data)\n",
    "\n",
    "# Plotting the histogram of review counts\n",
    "uni_analysis.plot_histogram('stars', 'Distribution of Star Ratings')"
   ]
  },
  {
   "cell_type": "markdown",
   "metadata": {},
   "source": [
    "**Observations**\n",
    "***\n",
    "\n",
    "Most common ratings are 4.0 and 3.5 stars, indicating general satisfaction.\n",
    "\n",
    "Ratings below 2.5 stars are uncommon, showing few very poor experiences."
   ]
  },
  {
   "cell_type": "code",
   "execution_count": 13,
   "metadata": {},
   "outputs": [
    {
     "data": {
      "image/png": "[encoded data removed]",
      "text/plain": [
       "<Figure size 1000x600 with 1 Axes>"
      ]
     },
     "metadata": {},
     "output_type": "display_data"
    }
   ],
   "source": [
    "# Plotting the bar chart for the number of restaurants by state\n",
    "uni_analysis.plot_bar_chart('state', 'Number of Restaurants by State')"
   ]
  },
  {
   "cell_type": "markdown",
   "metadata": {},
   "source": [
    "**Observations**\n",
    "***\n",
    "\n",
    "Pennsylvania (PA), Florida (FL) and Tennessee (TN) boast the highest numbers of restaurants among the states, highlighting them as major markets for the restaurant industry. \n",
    "\n",
    "Conversely, there is a noticeable decrease in restaurant counts moving from left to right in the graph. States like North Carolina (NC), Colorado (CO), Hawaii (HI), and Montana (MT) demonstrate lack of a complete dataset in these regions. \n",
    "\n",
    "Understanding these patterns can help tailor location-based strategies in the restaurant recommendation system to optimize user experiences and business growth."
   ]
  },
  {
   "cell_type": "code",
   "execution_count": 14,
   "metadata": {},
   "outputs": [
    {
     "data": {
      "image/png": "[encoded data removed]",
      "text/plain": [
       "<Figure size 800x800 with 1 Axes>"
      ]
     },
     "metadata": {},
     "output_type": "display_data"
    }
   ],
   "source": [
    "# Plotting the pie chart for the proportion of open vs closed restaurants\n",
    "uni_analysis.plot_pie_chart('is_open', 'Proportion of Open vs Closed Restaurants')"
   ]
  },
  {
   "cell_type": "markdown",
   "metadata": {},
   "source": [
    "**Observations**\n",
    "***\n",
    "\n",
    "- **66.9% Open Restaurants**: A significant majority of the restaurants in our dataset are currently operational. This proportion suggests a robust industry where the majority of listed entities are active, presenting numerous options for recommendations.\n",
    "\n",
    "- **33.1% Closed Restaurants**: A substantial portion of the restaurants are no longer in operation. This data is crucial for ensuring accuracy in our recommendation system by filtering out closed establishments, thereby improving user experience and system reliability.\n",
    "\n",
    "**Strategic Recommendations:**\n",
    "***\n",
    " Regular updates and verification processes are necessary to maintain the accuracy of the system, ensuring that closed restaurants are removed from active recommendation lists.\n"
   ]
  },
  {
   "cell_type": "code",
   "execution_count": 15,
   "metadata": {},
   "outputs": [
    {
     "data": {
      "image/png": "[encoded data removed]",
      "text/plain": [
       "<Figure size 1000x600 with 1 Axes>"
      ]
     },
     "metadata": {},
     "output_type": "display_data"
    }
   ],
   "source": [
    "# Plot on most common restaurant names in dataset\n",
    "uni_analysis.plot_bar_chart('name', 'Frequency of Restaurant Names', limit=20)"
   ]
  },
  {
   "cell_type": "markdown",
   "metadata": {},
   "source": [
    "**Observations**\n",
    "***\n",
    "\n",
    "McDonald's, Subway, and Taco Bell lead in frequency, indicating a high presence of these chains within the dataset. This suggests a dominance of fast-food chains in the restaurant landscape.\n",
    "\n",
    "The frequency of well-known names like Wendy's, Domino's Pizza, and Pizza Hut reflects their popularity, which can be leveraged in recommending familiar choices to users of the recommendation system.\n",
    "\n",
    "**Strategic Implications**: \n",
    "***\n",
    "\n",
    "Understanding which brands are most common can help tailor marketing strategies within the recommendation system, highlighting promotions, deals, or new menu items from these popular chains."
   ]
  },
  {
   "cell_type": "markdown",
   "metadata": {},
   "source": [
    "\n",
    "### ii) Bivariate Analysis of the Restaurant Data\n",
    "***\n",
    "\n",
    "In this section, we use the `BivariateAnalysis` class to explore relationships between pairs of variables in the `restaurants.csv` dataset. By examining these relationships, we aim to uncover patterns and correlations that can inform better decision-making for restaurant recommendations and business strategies.\n",
    "\n"
   ]
  },
  {
   "cell_type": "code",
   "execution_count": 16,
   "metadata": {},
   "outputs": [
    {
     "data": {
      "image/png": "[encoded data removed]",
      "text/plain": [
       "<Figure size 1000x600 with 1 Axes>"
      ]
     },
     "metadata": {},
     "output_type": "display_data"
    }
   ],
   "source": [
    "# Instantiate the BivariateAnalysis class with the DataFrame\n",
    "bi_analysis = BivariateAnalysis(restaurant_data)\n",
    "\n",
    "# Plotting the scatter plot to explore correlations between review counts and star ratings\n",
    "bi_analysis.plot_scatter('review_count', 'stars', 'Review Count vs Star Rating')"
   ]
  },
  {
   "cell_type": "markdown",
   "metadata": {},
   "source": [
    "**Observations**\n",
    "***\n",
    "\n",
    " Higher review counts are more commonly associated with mid to high ratings (3.0 to 5.0 stars).\n",
    "\n",
    "The highest review counts appear at 4.0 and 5.0 star ratings, suggesting high customer engagement with top-rated restaurants.\n",
    "\n",
    "Restaurants with ratings between 1.0 and 2.5 stars tend to have fewer reviews, indicating less engagement or fewer customers.\n",
    "\n",
    "The vertical spread at each rating level, especially at high ratings, indicates variability in the popularity of restaurants with similar ratings.\n"
   ]
  },
  {
   "cell_type": "code",
   "execution_count": 17,
   "metadata": {},
   "outputs": [
    {
     "data": {
      "image/png": "[encoded data removed]",
      "text/plain": [
       "<Figure size 1000x600 with 1 Axes>"
      ]
     },
     "metadata": {},
     "output_type": "display_data"
    }
   ],
   "source": [
    "# Plotting the boxplot to analyze how star ratings vary across different states\n",
    "bi_analysis.plot_boxplot('state', 'stars', 'Star Rating Distribution by State')"
   ]
  },
  {
   "cell_type": "markdown",
   "metadata": {},
   "source": [
    "**Observations**\n",
    "***\n",
    "Most states, including Pennsylvania (PA), Tennessee (TN), Missouri (MO), Florida (FL), and New York (NY), show a tight clustering around the median star rating (between 3.5 and 4.0), suggesting a general consistency in customer satisfaction.\n",
    "  \n",
    "\n",
    "States like California (CA), Idaho (ID), North Carolina (NC), and Colorado (CO) display significant variability in their ratings with outliers indicating both exceptionally high and low ratings. This suggests a diverse range of restaurant experiences.\n",
    "\n",
    "Hawaii (HI) and Montana (MT) show a broader spread in ratings, which could indicate inconsistency in restaurant quality or varied customer expectations.\n",
    "\n",
    "\n"
   ]
  },
  {
   "cell_type": "markdown",
   "metadata": {},
   "source": [
    "\n",
    "### iii) Analysis on User Reviews data\n",
    "***\n",
    "\n",
    "Next, we'll perform EDA on the users.csv dataset. The analysis will help in enhancing our understanding of the user dynamics within our platform, guiding strategic decisions and improvements.\n",
    "This analysis centered on the distribution of ratings across users and a trend analysis on frequency of reviews"
   ]
  },
  {
   "cell_type": "code",
   "execution_count": 18,
   "metadata": {},
   "outputs": [],
   "source": [
    "# Instantiate the ComprehensiveEDA class with the users DataFrame\n",
    "eda_users = ComprehensiveEDA(users_data)\n",
    "\n",
    "# Instantiate the UserEDA class specifically designed for user-related data analysis\n",
    "user_eda = UserEDA(users_data)"
   ]
  },
  {
   "cell_type": "code",
   "execution_count": 19,
   "metadata": {},
   "outputs": [
    {
     "data": {
      "image/png": "[encoded data removed]",
      "text/plain": [
       "<Figure size 1000x600 with 1 Axes>"
      ]
     },
     "metadata": {},
     "output_type": "display_data"
    }
   ],
   "source": [
    "# plotting the rating distribution\n",
    "user_eda.plot_rating_distribution()"
   ]
  },
  {
   "cell_type": "markdown",
   "metadata": {},
   "source": [
    "**Observations**\n",
    "***\n",
    "The distribution of ratings from the users.csv dataset reveals a notable preference for higher ratings, with 5-star ratings significantly more frequent than others. "
   ]
  },
  {
   "cell_type": "code",
   "execution_count": 20,
   "metadata": {},
   "outputs": [
    {
     "data": {
      "image/png": "[encoded data removed]",
      "text/plain": [
       "<Figure size 1200x600 with 1 Axes>"
      ]
     },
     "metadata": {},
     "output_type": "display_data"
    }
   ],
   "source": [
    "# Plotting reviews over time\n",
    "user_eda.plot_reviews_over_time()"
   ]
  },
  {
   "cell_type": "markdown",
   "metadata": {},
   "source": [
    "**Observations**\n",
    "***\n",
    "\n",
    "- **Seasonal Trends**: Frequent peaks between April and July, indicating increased customer engagement during this period.\n",
    "- **Decline in Engagement**: Noticeable drops in reviews occur after July, particularly in September and December.\n",
    "- **Covid Impact**: Evidence of declined restaurnat reviews in the year 2020 due to the COVID outbreak\n",
    "- **Impact on our Recommender System**:\n",
    "  - Incorporate seasonality into recommendations.\n",
    "  - Optimize timing for promotional activities based on review trends.\n",
    "  \n"
   ]
  },
  {
   "cell_type": "markdown",
   "metadata": {},
   "source": [
    "***\n",
    "## 3.DATA PREPARATION\n",
    "***\n",
    "\n",
    "We will clean, and transform diverse data sources, including restaurant attributes, cuisine, and historical interactions. Ensuring data quality and consistency is essential for accurate model training. The prepared dataset forms the foundation for building a robust and personalized recommendation engine.\"\n",
    "\n"
   ]
  },
  {
   "cell_type": "markdown",
   "metadata": {},
   "source": [
    "\n",
    "#### i) User Review Data\n",
    "***\n"
   ]
  },
  {
   "cell_type": "code",
   "execution_count": 21,
   "metadata": {},
   "outputs": [
    {
     "data": {
      "text/html": [
       "<table border=\"1\" class=\"dataframe\">\n",
       "  <thead>\n",
       "    <tr style=\"text-align: right;\">\n",
       "      <th></th>\n",
       "      <th>user_id</th>\n",
       "      <th>business_id</th>\n",
       "      <th>stars</th>\n",
       "      <th>date</th>\n",
       "    </tr>\n",
       "  </thead>\n",
       "  <tbody>\n",
       "    <tr>\n",
       "      <th>988470</th>\n",
       "      <td>wAph_egpAXr9ic-A2vnINQ</td>\n",
       "      <td>fiGh8ctcvIRm4Ii2GOtoHQ</td>\n",
       "      <td>2</td>\n",
       "      <td>2018-07-23 21:43:33</td>\n",
       "    </tr>\n",
       "    <tr>\n",
       "      <th>997259</th>\n",
       "      <td>wAph_egpAXr9ic-A2vnINQ</td>\n",
       "      <td>fiGh8ctcvIRm4Ii2GOtoHQ</td>\n",
       "      <td>2</td>\n",
       "      <td>2018-07-23 21:43:33</td>\n",
       "    </tr>\n",
       "    <tr>\n",
       "      <th>1980862</th>\n",
       "      <td>xZ0ioQJ0Jyo_Uc0FzmyFQQ</td>\n",
       "      <td>O_kAd89gPls-dXda40NWzA</td>\n",
       "      <td>5</td>\n",
       "      <td>2019-11-22 07:18:46</td>\n",
       "    </tr>\n",
       "    <tr>\n",
       "      <th>2005725</th>\n",
       "      <td>xZ0ioQJ0Jyo_Uc0FzmyFQQ</td>\n",
       "      <td>O_kAd89gPls-dXda40NWzA</td>\n",
       "      <td>5</td>\n",
       "      <td>2019-11-22 07:18:46</td>\n",
       "    </tr>\n",
       "  </tbody>\n",
       "</table>"
      ],
      "text/plain": [
       "<IPython.core.display.HTML object>"
      ]
     },
     "metadata": {},
     "output_type": "display_data"
    }
   ],
   "source": [
    "# Checking the duplicates in the user data\n",
    "checks= DataChecks(users_data)\n",
    "checks.check_duplicates()"
   ]
  },
  {
   "cell_type": "code",
   "execution_count": 22,
   "metadata": {},
   "outputs": [
    {
     "name": "stdout",
     "output_type": "stream",
     "text": [
      "NO DUPLICATES FOUND\n"
     ]
    }
   ],
   "source": [
    "# Dropping the duplicates\n",
    "users_data_cleaned= users_data.drop_duplicates()\n",
    "\n",
    "# Confirming the duplicates have been dropped\n",
    "checks= DataChecks(users_data_cleaned)\n",
    "checks.check_duplicates()"
   ]
  },
  {
   "cell_type": "code",
   "execution_count": 23,
   "metadata": {},
   "outputs": [
    {
     "data": {
      "text/html": [
       "<div>\n",
       "<style scoped>\n",
       "    .dataframe tbody tr th:only-of-type {\n",
       "        vertical-align: middle;\n",
       "    }\n",
       "\n",
       "    .dataframe tbody tr th {\n",
       "        vertical-align: top;\n",
       "    }\n",
       "\n",
       "    .dataframe thead th {\n",
       "        text-align: right;\n",
       "    }\n",
       "</style>\n",
       "<table border=\"1\" class=\"dataframe\">\n",
       "  <thead>\n",
       "    <tr style=\"text-align: right;\">\n",
       "      <th></th>\n",
       "      <th>user_id</th>\n",
       "      <th>business_id</th>\n",
       "      <th>stars</th>\n",
       "      <th>date</th>\n",
       "    </tr>\n",
       "  </thead>\n",
       "  <tbody>\n",
       "    <tr>\n",
       "      <th>0</th>\n",
       "      <td>mh_-eMZ6K5RLWhZyISBhwA</td>\n",
       "      <td>XQfwVwDr-v0ZS3_CbbE5Xw</td>\n",
       "      <td>3</td>\n",
       "      <td>2018-07-07 22:09:11</td>\n",
       "    </tr>\n",
       "    <tr>\n",
       "      <th>1</th>\n",
       "      <td>bcjbaE6dDog4jkNY91ncLQ</td>\n",
       "      <td>e4Vwtrqf-wpJfwesgvdgxQ</td>\n",
       "      <td>4</td>\n",
       "      <td>2017-01-14 20:54:15</td>\n",
       "    </tr>\n",
       "    <tr>\n",
       "      <th>2</th>\n",
       "      <td>RreNy--tOmXMl1en0wiBOg</td>\n",
       "      <td>cPepkJeRMtHapc_b2Oe_dw</td>\n",
       "      <td>4</td>\n",
       "      <td>2018-07-17 03:30:07</td>\n",
       "    </tr>\n",
       "    <tr>\n",
       "      <th>3</th>\n",
       "      <td>Jha0USGDMefGFRLik_xFQg</td>\n",
       "      <td>bMratNjTG5ZFEA6hVyr-xQ</td>\n",
       "      <td>5</td>\n",
       "      <td>2017-02-19 13:32:05</td>\n",
       "    </tr>\n",
       "    <tr>\n",
       "      <th>4</th>\n",
       "      <td>4hBhtCSgoxkrFgHa4YAD-w</td>\n",
       "      <td>bbEXAEFr4RYHLlZ-HFssTA</td>\n",
       "      <td>5</td>\n",
       "      <td>2017-01-02 03:17:34</td>\n",
       "    </tr>\n",
       "  </tbody>\n",
       "</table>\n",
       "</div>"
      ],
      "text/plain": [
       "                  user_id             business_id  stars                date\n",
       "0  mh_-eMZ6K5RLWhZyISBhwA  XQfwVwDr-v0ZS3_CbbE5Xw      3 2018-07-07 22:09:11\n",
       "1  bcjbaE6dDog4jkNY91ncLQ  e4Vwtrqf-wpJfwesgvdgxQ      4 2017-01-14 20:54:15\n",
       "2  RreNy--tOmXMl1en0wiBOg  cPepkJeRMtHapc_b2Oe_dw      4 2018-07-17 03:30:07\n",
       "3  Jha0USGDMefGFRLik_xFQg  bMratNjTG5ZFEA6hVyr-xQ      5 2017-02-19 13:32:05\n",
       "4  4hBhtCSgoxkrFgHa4YAD-w  bbEXAEFr4RYHLlZ-HFssTA      5 2017-01-02 03:17:34"
      ]
     },
     "execution_count": 23,
     "metadata": {},
     "output_type": "execute_result"
    }
   ],
   "source": [
    "#Checking the first five rows fot the user_data\n",
    "users_data_cleaned.head()"
   ]
  },
  {
   "cell_type": "code",
   "execution_count": 24,
   "metadata": {},
   "outputs": [
    {
     "name": "stdout",
     "output_type": "stream",
     "text": [
      "<class 'pandas.core.frame.DataFrame'>\n",
      "Index: 2559584 entries, 0 to 2559585\n",
      "Data columns (total 4 columns):\n",
      " #   Column       Dtype         \n",
      "---  ------       -----         \n",
      " 0   user_id      object        \n",
      " 1   business_id  object        \n",
      " 2   stars        int64         \n",
      " 3   date         datetime64[ns]\n",
      "dtypes: datetime64[ns](1), int64(1), object(2)\n",
      "memory usage: 97.6+ MB\n"
     ]
    }
   ],
   "source": [
    "# Checking information\n",
    "users_data_cleaned.info()"
   ]
  },
  {
   "cell_type": "markdown",
   "metadata": {},
   "source": [
    " **Observations**\n",
    " ***\n",
    " \n",
    "> The duplicated rows were dropped in preparation for modelling.\n",
    "\n",
    "> The data has 2,559,584 rows and 4 columns."
   ]
  },
  {
   "cell_type": "markdown",
   "metadata": {},
   "source": [
    "#### ii) Restaurant Informational Data\n",
    "***"
   ]
  },
  {
   "cell_type": "code",
   "execution_count": 25,
   "metadata": {},
   "outputs": [
    {
     "data": {
      "text/html": [
       "<div>\n",
       "<style scoped>\n",
       "    .dataframe tbody tr th:only-of-type {\n",
       "        vertical-align: middle;\n",
       "    }\n",
       "\n",
       "    .dataframe tbody tr th {\n",
       "        vertical-align: top;\n",
       "    }\n",
       "\n",
       "    .dataframe thead th {\n",
       "        text-align: right;\n",
       "    }\n",
       "</style>\n",
       "<table border=\"1\" class=\"dataframe\">\n",
       "  <thead>\n",
       "    <tr style=\"text-align: right;\">\n",
       "      <th></th>\n",
       "      <th>business_id</th>\n",
       "      <th>name</th>\n",
       "      <th>address</th>\n",
       "      <th>city</th>\n",
       "      <th>state</th>\n",
       "      <th>postal_code</th>\n",
       "      <th>latitude</th>\n",
       "      <th>longitude</th>\n",
       "      <th>stars</th>\n",
       "      <th>review_count</th>\n",
       "      <th>is_open</th>\n",
       "      <th>attributes</th>\n",
       "      <th>categories</th>\n",
       "      <th>hours</th>\n",
       "    </tr>\n",
       "  </thead>\n",
       "  <tbody>\n",
       "    <tr>\n",
       "      <th>0</th>\n",
       "      <td>MTSW4McQd7CbVtyjqoe9mw</td>\n",
       "      <td>St Honore Pastries</td>\n",
       "      <td>935 Race St</td>\n",
       "      <td>Philadelphia</td>\n",
       "      <td>PA</td>\n",
       "      <td>19107</td>\n",
       "      <td>39.955505</td>\n",
       "      <td>-75.155564</td>\n",
       "      <td>4.0</td>\n",
       "      <td>80</td>\n",
       "      <td>1</td>\n",
       "      <td>{'RestaurantsDelivery': 'False', 'OutdoorSeati...</td>\n",
       "      <td>Restaurants, Food, Bubble Tea, Coffee &amp; Tea, B...</td>\n",
       "      <td>{'Monday': '7:0-20:0', 'Tuesday': '7:0-20:0', ...</td>\n",
       "    </tr>\n",
       "    <tr>\n",
       "      <th>1</th>\n",
       "      <td>CF33F8-E6oudUQ46HnavjQ</td>\n",
       "      <td>Sonic Drive-In</td>\n",
       "      <td>615 S Main St</td>\n",
       "      <td>Ashland City</td>\n",
       "      <td>TN</td>\n",
       "      <td>37015</td>\n",
       "      <td>36.269593</td>\n",
       "      <td>-87.058943</td>\n",
       "      <td>2.0</td>\n",
       "      <td>6</td>\n",
       "      <td>1</td>\n",
       "      <td>{'BusinessParking': 'None', 'BusinessAcceptsCr...</td>\n",
       "      <td>Burgers, Fast Food, Sandwiches, Food, Ice Crea...</td>\n",
       "      <td>{'Monday': '0:0-0:0', 'Tuesday': '6:0-22:0', '...</td>\n",
       "    </tr>\n",
       "    <tr>\n",
       "      <th>2</th>\n",
       "      <td>k0hlBqXX-Bt0vf1op7Jr1w</td>\n",
       "      <td>Tsevi's Pub And Grill</td>\n",
       "      <td>8025 Mackenzie Rd</td>\n",
       "      <td>Affton</td>\n",
       "      <td>MO</td>\n",
       "      <td>63123</td>\n",
       "      <td>38.565165</td>\n",
       "      <td>-90.321087</td>\n",
       "      <td>3.0</td>\n",
       "      <td>19</td>\n",
       "      <td>0</td>\n",
       "      <td>{'Caters': 'True', 'Alcohol': \"u'full_bar'\", '...</td>\n",
       "      <td>Pubs, Restaurants, Italian, Bars, American (Tr...</td>\n",
       "      <td>NaN</td>\n",
       "    </tr>\n",
       "    <tr>\n",
       "      <th>3</th>\n",
       "      <td>bBDDEgkFA1Otx9Lfe7BZUQ</td>\n",
       "      <td>Sonic Drive-In</td>\n",
       "      <td>2312 Dickerson Pike</td>\n",
       "      <td>Nashville</td>\n",
       "      <td>TN</td>\n",
       "      <td>37207</td>\n",
       "      <td>36.208102</td>\n",
       "      <td>-86.768170</td>\n",
       "      <td>1.5</td>\n",
       "      <td>10</td>\n",
       "      <td>1</td>\n",
       "      <td>{'RestaurantsAttire': \"'casual'\", 'Restaurants...</td>\n",
       "      <td>Ice Cream &amp; Frozen Yogurt, Fast Food, Burgers,...</td>\n",
       "      <td>{'Monday': '0:0-0:0', 'Tuesday': '6:0-21:0', '...</td>\n",
       "    </tr>\n",
       "    <tr>\n",
       "      <th>4</th>\n",
       "      <td>eEOYSgkmpB90uNA7lDOMRA</td>\n",
       "      <td>Vietnamese Food Truck</td>\n",
       "      <td>NaN</td>\n",
       "      <td>Tampa Bay</td>\n",
       "      <td>FL</td>\n",
       "      <td>33602</td>\n",
       "      <td>27.955269</td>\n",
       "      <td>-82.456320</td>\n",
       "      <td>4.0</td>\n",
       "      <td>10</td>\n",
       "      <td>1</td>\n",
       "      <td>{'Alcohol': \"'none'\", 'OutdoorSeating': 'None'...</td>\n",
       "      <td>Vietnamese, Food, Restaurants, Food Trucks</td>\n",
       "      <td>{'Monday': '11:0-14:0', 'Tuesday': '11:0-14:0'...</td>\n",
       "    </tr>\n",
       "  </tbody>\n",
       "</table>\n",
       "</div>"
      ],
      "text/plain": [
       "              business_id                   name              address  \\\n",
       "0  MTSW4McQd7CbVtyjqoe9mw     St Honore Pastries          935 Race St   \n",
       "1  CF33F8-E6oudUQ46HnavjQ         Sonic Drive-In        615 S Main St   \n",
       "2  k0hlBqXX-Bt0vf1op7Jr1w  Tsevi's Pub And Grill    8025 Mackenzie Rd   \n",
       "3  bBDDEgkFA1Otx9Lfe7BZUQ         Sonic Drive-In  2312 Dickerson Pike   \n",
       "4  eEOYSgkmpB90uNA7lDOMRA  Vietnamese Food Truck                  NaN   \n",
       "\n",
       "           city state postal_code   latitude  longitude  stars  review_count  \\\n",
       "0  Philadelphia    PA       19107  39.955505 -75.155564    4.0            80   \n",
       "1  Ashland City    TN       37015  36.269593 -87.058943    2.0             6   \n",
       "2        Affton    MO       63123  38.565165 -90.321087    3.0            19   \n",
       "3     Nashville    TN       37207  36.208102 -86.768170    1.5            10   \n",
       "4     Tampa Bay    FL       33602  27.955269 -82.456320    4.0            10   \n",
       "\n",
       "   is_open                                         attributes  \\\n",
       "0        1  {'RestaurantsDelivery': 'False', 'OutdoorSeati...   \n",
       "1        1  {'BusinessParking': 'None', 'BusinessAcceptsCr...   \n",
       "2        0  {'Caters': 'True', 'Alcohol': \"u'full_bar'\", '...   \n",
       "3        1  {'RestaurantsAttire': \"'casual'\", 'Restaurants...   \n",
       "4        1  {'Alcohol': \"'none'\", 'OutdoorSeating': 'None'...   \n",
       "\n",
       "                                          categories  \\\n",
       "0  Restaurants, Food, Bubble Tea, Coffee & Tea, B...   \n",
       "1  Burgers, Fast Food, Sandwiches, Food, Ice Crea...   \n",
       "2  Pubs, Restaurants, Italian, Bars, American (Tr...   \n",
       "3  Ice Cream & Frozen Yogurt, Fast Food, Burgers,...   \n",
       "4         Vietnamese, Food, Restaurants, Food Trucks   \n",
       "\n",
       "                                               hours  \n",
       "0  {'Monday': '7:0-20:0', 'Tuesday': '7:0-20:0', ...  \n",
       "1  {'Monday': '0:0-0:0', 'Tuesday': '6:0-22:0', '...  \n",
       "2                                                NaN  \n",
       "3  {'Monday': '0:0-0:0', 'Tuesday': '6:0-21:0', '...  \n",
       "4  {'Monday': '11:0-14:0', 'Tuesday': '11:0-14:0'...  "
      ]
     },
     "execution_count": 25,
     "metadata": {},
     "output_type": "execute_result"
    }
   ],
   "source": [
    "# Looking into the first five rows of the data frame\n",
    "restaurant_data.head()"
   ]
  },
  {
   "cell_type": "code",
   "execution_count": 26,
   "metadata": {},
   "outputs": [
    {
     "data": {
      "text/plain": [
       "business_id        0\n",
       "name               0\n",
       "address          443\n",
       "city               0\n",
       "state              0\n",
       "postal_code       21\n",
       "latitude           0\n",
       "longitude          0\n",
       "stars              0\n",
       "review_count       0\n",
       "is_open            0\n",
       "attributes       566\n",
       "categories         0\n",
       "hours           7279\n",
       "dtype: int64"
      ]
     },
     "execution_count": 26,
     "metadata": {},
     "output_type": "execute_result"
    }
   ],
   "source": [
    "# Checking for null values in the dataset\n",
    "restaurant_data.isna().sum()"
   ]
  },
  {
   "cell_type": "markdown",
   "metadata": {},
   "source": [
    "**Observation**\n",
    "***\n",
    "\n",
    "The dataset contains null values in the columns: address, postal code, attributes and hours"
   ]
  },
  {
   "cell_type": "code",
   "execution_count": 27,
   "metadata": {},
   "outputs": [],
   "source": [
    "# Dropping null values\n",
    "restaurant_data = restaurant_data.dropna(subset=['attributes'])"
   ]
  },
  {
   "cell_type": "code",
   "execution_count": 28,
   "metadata": {},
   "outputs": [
    {
     "data": {
      "text/plain": [
       "business_id     0\n",
       "name            0\n",
       "address         0\n",
       "city            0\n",
       "state           0\n",
       "postal_code     0\n",
       "latitude        0\n",
       "longitude       0\n",
       "stars           0\n",
       "review_count    0\n",
       "is_open         0\n",
       "attributes      0\n",
       "categories      0\n",
       "hours           0\n",
       "dtype: int64"
      ]
     },
     "execution_count": 28,
     "metadata": {},
     "output_type": "execute_result"
    }
   ],
   "source": [
    "# Filling missing values in the 'attributes' column with 'Unknown'\n",
    "restaurant_data[['address','postal_code','hours']]=restaurant_data[['address','postal_code','hours']].fillna('Unknown')\n",
    "\n",
    "# Verifying that all missing values have been handled\n",
    "restaurant_data.isnull().sum()\n"
   ]
  },
  {
   "cell_type": "markdown",
   "metadata": {},
   "source": [
    "**Observations**\n",
    "***\n",
    " There were some missing values in the `attributes`, `address`, `postal_code`, and `hours` columns.\n",
    " \n",
    " We handled the missing data in two ways:\n",
    " \n",
    " 1) **Dropping the records with null values**\n",
    "\n",
    "- Rows with missing `attributes` were removed as this column is critical for analysis.\n",
    "\n",
    "2) **Imputation**\n",
    "\n",
    "- Missing values in `address`, `postal_code`, and `hours` were imputed  with 'Unknown' to maintain data integrity."
   ]
  },
  {
   "cell_type": "code",
   "execution_count": 29,
   "metadata": {},
   "outputs": [
    {
     "data": {
      "text/plain": [
       "state\n",
       "PA     12538\n",
       "FL      8632\n",
       "TN      4297\n",
       "MO      4219\n",
       "IN      4119\n",
       "LA      3596\n",
       "NJ      3302\n",
       "AZ      2635\n",
       "AB      2355\n",
       "NV      1657\n",
       "ID      1290\n",
       "CA      1151\n",
       "IL       975\n",
       "DE       949\n",
       "NC         1\n",
       "CO         1\n",
       "HI         1\n",
       "MT         1\n",
       "XMS        1\n",
       "Name: count, dtype: int64"
      ]
     },
     "execution_count": 29,
     "metadata": {},
     "output_type": "execute_result"
    }
   ],
   "source": [
    "# Checking the value counts for the states\n",
    "restaurant_data.state.value_counts()"
   ]
  },
  {
   "cell_type": "code",
   "execution_count": 30,
   "metadata": {},
   "outputs": [],
   "source": [
    "# States labeled `XMS` will be filtered out, as they do not seem valid\n",
    "valid_states = ['XMS','MT','NC','HI','CO',]\n",
    "restaurant_data_filtered = restaurant_data[~restaurant_data['state'].isin(valid_states)]\n"
   ]
  },
  {
   "cell_type": "code",
   "execution_count": 31,
   "metadata": {},
   "outputs": [],
   "source": [
    "# Map state abbreviations to full state names\n",
    "state_abbreviations = {\n",
    "    'AB': 'Alberta', 'AZ': 'Arizona', 'CA': 'California', 'DE': 'Delaware', 'FL': 'Florida', 'ID': 'Idaho','IL': 'Illinois',\n",
    "    'IN': 'Indiana','LA': 'Louisiana',  'MO': 'Missouri','NV': 'Nevada', 'NJ': 'New Jersey','PA': 'Pennsylvania',  'TN': 'Tennessee', \n",
    "}\n",
    "# Replace state initials with full names\n",
    "restaurant_data_filtered['state'] = restaurant_data_filtered['state'].map(state_abbreviations)\n",
    "\n"
   ]
  },
  {
   "cell_type": "markdown",
   "metadata": {},
   "source": [
    "**Observation**\n",
    "***\n",
    "\n",
    "- States labeled XMS,MT,NC,HI and Co were noted in the EDA for having unusually small restaurant counts, upon confirmation, they have been filtered  out as they contain only a value of one restaurant per state therefore not statistically relevant to our project.\n",
    "\n",
    "- The state abbreviations have been successfully mapped to their corresponding full state names, providing more clarity,simplicity,coherence and consistency in the data."
   ]
  },
  {
   "cell_type": "markdown",
   "metadata": {},
   "source": [
    "### FEATURE ENGINEERING\n",
    "***"
   ]
  },
  {
   "cell_type": "markdown",
   "metadata": {},
   "source": [
    "We will continue with feature engineering with the following steps\n",
    "1. Exploding the categories to refine out cuisine list.\n",
    "2. Elimiating spaces that arise from the splits.\n",
    "3. Engineering a Location column that is a combination of various features.\n",
    "4. Filtering the attributes column to keep only attributes that are true.\n",
    " "
   ]
  },
  {
   "cell_type": "code",
   "execution_count": 32,
   "metadata": {},
   "outputs": [
    {
     "data": {
      "text/html": [
       "<div>\n",
       "<style scoped>\n",
       "    .dataframe tbody tr th:only-of-type {\n",
       "        vertical-align: middle;\n",
       "    }\n",
       "\n",
       "    .dataframe tbody tr th {\n",
       "        vertical-align: top;\n",
       "    }\n",
       "\n",
       "    .dataframe thead th {\n",
       "        text-align: right;\n",
       "    }\n",
       "</style>\n",
       "<table border=\"1\" class=\"dataframe\">\n",
       "  <thead>\n",
       "    <tr style=\"text-align: right;\">\n",
       "      <th></th>\n",
       "      <th>business_id</th>\n",
       "      <th>name</th>\n",
       "      <th>address</th>\n",
       "      <th>city</th>\n",
       "      <th>state</th>\n",
       "      <th>postal_code</th>\n",
       "      <th>latitude</th>\n",
       "      <th>longitude</th>\n",
       "      <th>stars</th>\n",
       "      <th>review_count</th>\n",
       "      <th>is_open</th>\n",
       "      <th>attributes</th>\n",
       "      <th>categories</th>\n",
       "      <th>hours</th>\n",
       "    </tr>\n",
       "  </thead>\n",
       "  <tbody>\n",
       "    <tr>\n",
       "      <th>0</th>\n",
       "      <td>MTSW4McQd7CbVtyjqoe9mw</td>\n",
       "      <td>St Honore Pastries</td>\n",
       "      <td>935 Race St</td>\n",
       "      <td>Philadelphia</td>\n",
       "      <td>Pennsylvania</td>\n",
       "      <td>19107</td>\n",
       "      <td>39.955505</td>\n",
       "      <td>-75.155564</td>\n",
       "      <td>4.0</td>\n",
       "      <td>80</td>\n",
       "      <td>1</td>\n",
       "      <td>{'RestaurantsDelivery': 'False', 'OutdoorSeati...</td>\n",
       "      <td>Restaurants</td>\n",
       "      <td>{'Monday': '7:0-20:0', 'Tuesday': '7:0-20:0', ...</td>\n",
       "    </tr>\n",
       "    <tr>\n",
       "      <th>0</th>\n",
       "      <td>MTSW4McQd7CbVtyjqoe9mw</td>\n",
       "      <td>St Honore Pastries</td>\n",
       "      <td>935 Race St</td>\n",
       "      <td>Philadelphia</td>\n",
       "      <td>Pennsylvania</td>\n",
       "      <td>19107</td>\n",
       "      <td>39.955505</td>\n",
       "      <td>-75.155564</td>\n",
       "      <td>4.0</td>\n",
       "      <td>80</td>\n",
       "      <td>1</td>\n",
       "      <td>{'RestaurantsDelivery': 'False', 'OutdoorSeati...</td>\n",
       "      <td>Food</td>\n",
       "      <td>{'Monday': '7:0-20:0', 'Tuesday': '7:0-20:0', ...</td>\n",
       "    </tr>\n",
       "    <tr>\n",
       "      <th>0</th>\n",
       "      <td>MTSW4McQd7CbVtyjqoe9mw</td>\n",
       "      <td>St Honore Pastries</td>\n",
       "      <td>935 Race St</td>\n",
       "      <td>Philadelphia</td>\n",
       "      <td>Pennsylvania</td>\n",
       "      <td>19107</td>\n",
       "      <td>39.955505</td>\n",
       "      <td>-75.155564</td>\n",
       "      <td>4.0</td>\n",
       "      <td>80</td>\n",
       "      <td>1</td>\n",
       "      <td>{'RestaurantsDelivery': 'False', 'OutdoorSeati...</td>\n",
       "      <td>Bubble Tea</td>\n",
       "      <td>{'Monday': '7:0-20:0', 'Tuesday': '7:0-20:0', ...</td>\n",
       "    </tr>\n",
       "    <tr>\n",
       "      <th>0</th>\n",
       "      <td>MTSW4McQd7CbVtyjqoe9mw</td>\n",
       "      <td>St Honore Pastries</td>\n",
       "      <td>935 Race St</td>\n",
       "      <td>Philadelphia</td>\n",
       "      <td>Pennsylvania</td>\n",
       "      <td>19107</td>\n",
       "      <td>39.955505</td>\n",
       "      <td>-75.155564</td>\n",
       "      <td>4.0</td>\n",
       "      <td>80</td>\n",
       "      <td>1</td>\n",
       "      <td>{'RestaurantsDelivery': 'False', 'OutdoorSeati...</td>\n",
       "      <td>Coffee &amp; Tea</td>\n",
       "      <td>{'Monday': '7:0-20:0', 'Tuesday': '7:0-20:0', ...</td>\n",
       "    </tr>\n",
       "    <tr>\n",
       "      <th>0</th>\n",
       "      <td>MTSW4McQd7CbVtyjqoe9mw</td>\n",
       "      <td>St Honore Pastries</td>\n",
       "      <td>935 Race St</td>\n",
       "      <td>Philadelphia</td>\n",
       "      <td>Pennsylvania</td>\n",
       "      <td>19107</td>\n",
       "      <td>39.955505</td>\n",
       "      <td>-75.155564</td>\n",
       "      <td>4.0</td>\n",
       "      <td>80</td>\n",
       "      <td>1</td>\n",
       "      <td>{'RestaurantsDelivery': 'False', 'OutdoorSeati...</td>\n",
       "      <td>Bakeries</td>\n",
       "      <td>{'Monday': '7:0-20:0', 'Tuesday': '7:0-20:0', ...</td>\n",
       "    </tr>\n",
       "  </tbody>\n",
       "</table>\n",
       "</div>"
      ],
      "text/plain": [
       "              business_id                name      address          city  \\\n",
       "0  MTSW4McQd7CbVtyjqoe9mw  St Honore Pastries  935 Race St  Philadelphia   \n",
       "0  MTSW4McQd7CbVtyjqoe9mw  St Honore Pastries  935 Race St  Philadelphia   \n",
       "0  MTSW4McQd7CbVtyjqoe9mw  St Honore Pastries  935 Race St  Philadelphia   \n",
       "0  MTSW4McQd7CbVtyjqoe9mw  St Honore Pastries  935 Race St  Philadelphia   \n",
       "0  MTSW4McQd7CbVtyjqoe9mw  St Honore Pastries  935 Race St  Philadelphia   \n",
       "\n",
       "          state postal_code   latitude  longitude  stars  review_count  \\\n",
       "0  Pennsylvania       19107  39.955505 -75.155564    4.0            80   \n",
       "0  Pennsylvania       19107  39.955505 -75.155564    4.0            80   \n",
       "0  Pennsylvania       19107  39.955505 -75.155564    4.0            80   \n",
       "0  Pennsylvania       19107  39.955505 -75.155564    4.0            80   \n",
       "0  Pennsylvania       19107  39.955505 -75.155564    4.0            80   \n",
       "\n",
       "   is_open                                         attributes     categories  \\\n",
       "0        1  {'RestaurantsDelivery': 'False', 'OutdoorSeati...    Restaurants   \n",
       "0        1  {'RestaurantsDelivery': 'False', 'OutdoorSeati...           Food   \n",
       "0        1  {'RestaurantsDelivery': 'False', 'OutdoorSeati...     Bubble Tea   \n",
       "0        1  {'RestaurantsDelivery': 'False', 'OutdoorSeati...   Coffee & Tea   \n",
       "0        1  {'RestaurantsDelivery': 'False', 'OutdoorSeati...       Bakeries   \n",
       "\n",
       "                                               hours  \n",
       "0  {'Monday': '7:0-20:0', 'Tuesday': '7:0-20:0', ...  \n",
       "0  {'Monday': '7:0-20:0', 'Tuesday': '7:0-20:0', ...  \n",
       "0  {'Monday': '7:0-20:0', 'Tuesday': '7:0-20:0', ...  \n",
       "0  {'Monday': '7:0-20:0', 'Tuesday': '7:0-20:0', ...  \n",
       "0  {'Monday': '7:0-20:0', 'Tuesday': '7:0-20:0', ...  "
      ]
     },
     "execution_count": 32,
     "metadata": {},
     "output_type": "execute_result"
    }
   ],
   "source": [
    "# Exploding the categories column to ensure each category is handled separately\n",
    "df_exploded = restaurant_data_filtered.assign(categories=restaurant_data_filtered['categories'].str.split(',')).explode('categories')\n",
    "\n",
    "df_exploded.head()"
   ]
  },
  {
   "cell_type": "code",
   "execution_count": 33,
   "metadata": {},
   "outputs": [],
   "source": [
    "# Function to standardize spacing\n",
    "def standardize_spacing(x):\n",
    "    if isinstance(x, str):\n",
    "        return re.sub(r'\\s+', ' ', x.strip())\n",
    "    return x\n",
    "\n",
    "# Apply the function to all elements in the DataFrame\n",
    "df_exploded = df_exploded.applymap(standardize_spacing)"
   ]
  },
  {
   "cell_type": "code",
   "execution_count": 34,
   "metadata": {},
   "outputs": [],
   "source": [
    "# List of all the Cuisine in the categories\n",
    "cuisine=[\"American(New)\", \"Mexican\",'American (Traditional)','Italian','Chinese',\n",
    "         'Japanese','Asian Fusion','Mediterranean','Southern','Cajun/Creole','Tex-Mex',\n",
    "         'Thai','Latin American','Indian','Vietnamese','Greek','Caribbean','Middle Eastern',\n",
    "         'French','Korean','Halal','Spanish','Canadian (New)','Irish','Pakistani','Hawaiian',\n",
    "         'Soul Food','German','Szechuan','African','Filipino','Lebanese','Puerto Rican','Turkish',\n",
    "         'Cantonese','British','Peruvian','Kosher','Brazilian','Pan Asian','Taiwanese','Cuban','Colombian',\n",
    "         'Ethiopian','Venezuelan','Salvadoran','Laotian','Polish','Dominican','Russian','Persian/Iranian',\n",
    "         'Afghan','Moroccan','Arabic','Portuguese','Mongolian','Argentine','Malaysian','Belgian',\n",
    "         'Honduran','Himalayan/Nepalese','Armenian','Trinidadian','Ukrainian','Australian','Egyptian']\n",
    "\n",
    "# Filtering to get restaurants with cuisine\n",
    "restaurant_exploded = df_exploded[df_exploded.categories.isin(cuisine)]"
   ]
  },
  {
   "cell_type": "code",
   "execution_count": 35,
   "metadata": {},
   "outputs": [
    {
     "data": {
      "text/html": [
       "<div>\n",
       "<style scoped>\n",
       "    .dataframe tbody tr th:only-of-type {\n",
       "        vertical-align: middle;\n",
       "    }\n",
       "\n",
       "    .dataframe tbody tr th {\n",
       "        vertical-align: top;\n",
       "    }\n",
       "\n",
       "    .dataframe thead th {\n",
       "        text-align: right;\n",
       "    }\n",
       "</style>\n",
       "<table border=\"1\" class=\"dataframe\">\n",
       "  <thead>\n",
       "    <tr style=\"text-align: right;\">\n",
       "      <th></th>\n",
       "      <th>business_id</th>\n",
       "      <th>name</th>\n",
       "      <th>address</th>\n",
       "      <th>city</th>\n",
       "      <th>state</th>\n",
       "      <th>postal_code</th>\n",
       "      <th>latitude</th>\n",
       "      <th>longitude</th>\n",
       "      <th>stars</th>\n",
       "      <th>review_count</th>\n",
       "      <th>is_open</th>\n",
       "      <th>attributes</th>\n",
       "      <th>categories</th>\n",
       "      <th>hours</th>\n",
       "    </tr>\n",
       "  </thead>\n",
       "  <tbody>\n",
       "    <tr>\n",
       "      <th>2</th>\n",
       "      <td>k0hlBqXX-Bt0vf1op7Jr1w</td>\n",
       "      <td>Tsevi's Pub And Grill</td>\n",
       "      <td>8025 Mackenzie Rd</td>\n",
       "      <td>Affton</td>\n",
       "      <td>Missouri</td>\n",
       "      <td>63123</td>\n",
       "      <td>38.565165</td>\n",
       "      <td>-90.321087</td>\n",
       "      <td>3.0</td>\n",
       "      <td>19</td>\n",
       "      <td>0</td>\n",
       "      <td>{'Caters': 'True', 'Alcohol': \"u'full_bar'\", '...</td>\n",
       "      <td>Italian</td>\n",
       "      <td>Unknown</td>\n",
       "    </tr>\n",
       "    <tr>\n",
       "      <th>2</th>\n",
       "      <td>k0hlBqXX-Bt0vf1op7Jr1w</td>\n",
       "      <td>Tsevi's Pub And Grill</td>\n",
       "      <td>8025 Mackenzie Rd</td>\n",
       "      <td>Affton</td>\n",
       "      <td>Missouri</td>\n",
       "      <td>63123</td>\n",
       "      <td>38.565165</td>\n",
       "      <td>-90.321087</td>\n",
       "      <td>3.0</td>\n",
       "      <td>19</td>\n",
       "      <td>0</td>\n",
       "      <td>{'Caters': 'True', 'Alcohol': \"u'full_bar'\", '...</td>\n",
       "      <td>American (Traditional)</td>\n",
       "      <td>Unknown</td>\n",
       "    </tr>\n",
       "    <tr>\n",
       "      <th>2</th>\n",
       "      <td>k0hlBqXX-Bt0vf1op7Jr1w</td>\n",
       "      <td>Tsevi's Pub And Grill</td>\n",
       "      <td>8025 Mackenzie Rd</td>\n",
       "      <td>Affton</td>\n",
       "      <td>Missouri</td>\n",
       "      <td>63123</td>\n",
       "      <td>38.565165</td>\n",
       "      <td>-90.321087</td>\n",
       "      <td>3.0</td>\n",
       "      <td>19</td>\n",
       "      <td>0</td>\n",
       "      <td>{'Caters': 'True', 'Alcohol': \"u'full_bar'\", '...</td>\n",
       "      <td>Greek</td>\n",
       "      <td>Unknown</td>\n",
       "    </tr>\n",
       "    <tr>\n",
       "      <th>4</th>\n",
       "      <td>eEOYSgkmpB90uNA7lDOMRA</td>\n",
       "      <td>Vietnamese Food Truck</td>\n",
       "      <td>Unknown</td>\n",
       "      <td>Tampa Bay</td>\n",
       "      <td>Florida</td>\n",
       "      <td>33602</td>\n",
       "      <td>27.955269</td>\n",
       "      <td>-82.456320</td>\n",
       "      <td>4.0</td>\n",
       "      <td>10</td>\n",
       "      <td>1</td>\n",
       "      <td>{'Alcohol': \"'none'\", 'OutdoorSeating': 'None'...</td>\n",
       "      <td>Vietnamese</td>\n",
       "      <td>{'Monday': '11:0-14:0', 'Tuesday': '11:0-14:0'...</td>\n",
       "    </tr>\n",
       "    <tr>\n",
       "      <th>5</th>\n",
       "      <td>il_Ro8jwPlHresjw9EGmBg</td>\n",
       "      <td>Denny's</td>\n",
       "      <td>8901 US 31 S</td>\n",
       "      <td>Indianapolis</td>\n",
       "      <td>Indiana</td>\n",
       "      <td>46227</td>\n",
       "      <td>39.637133</td>\n",
       "      <td>-86.127217</td>\n",
       "      <td>2.5</td>\n",
       "      <td>28</td>\n",
       "      <td>1</td>\n",
       "      <td>{'RestaurantsReservations': 'False', 'Restaura...</td>\n",
       "      <td>American (Traditional)</td>\n",
       "      <td>{'Monday': '6:0-22:0', 'Tuesday': '6:0-22:0', ...</td>\n",
       "    </tr>\n",
       "  </tbody>\n",
       "</table>\n",
       "</div>"
      ],
      "text/plain": [
       "              business_id                   name            address  \\\n",
       "2  k0hlBqXX-Bt0vf1op7Jr1w  Tsevi's Pub And Grill  8025 Mackenzie Rd   \n",
       "2  k0hlBqXX-Bt0vf1op7Jr1w  Tsevi's Pub And Grill  8025 Mackenzie Rd   \n",
       "2  k0hlBqXX-Bt0vf1op7Jr1w  Tsevi's Pub And Grill  8025 Mackenzie Rd   \n",
       "4  eEOYSgkmpB90uNA7lDOMRA  Vietnamese Food Truck            Unknown   \n",
       "5  il_Ro8jwPlHresjw9EGmBg                Denny's       8901 US 31 S   \n",
       "\n",
       "           city     state postal_code   latitude  longitude  stars  \\\n",
       "2        Affton  Missouri       63123  38.565165 -90.321087    3.0   \n",
       "2        Affton  Missouri       63123  38.565165 -90.321087    3.0   \n",
       "2        Affton  Missouri       63123  38.565165 -90.321087    3.0   \n",
       "4     Tampa Bay   Florida       33602  27.955269 -82.456320    4.0   \n",
       "5  Indianapolis   Indiana       46227  39.637133 -86.127217    2.5   \n",
       "\n",
       "   review_count  is_open                                         attributes  \\\n",
       "2            19        0  {'Caters': 'True', 'Alcohol': \"u'full_bar'\", '...   \n",
       "2            19        0  {'Caters': 'True', 'Alcohol': \"u'full_bar'\", '...   \n",
       "2            19        0  {'Caters': 'True', 'Alcohol': \"u'full_bar'\", '...   \n",
       "4            10        1  {'Alcohol': \"'none'\", 'OutdoorSeating': 'None'...   \n",
       "5            28        1  {'RestaurantsReservations': 'False', 'Restaura...   \n",
       "\n",
       "               categories                                              hours  \n",
       "2                 Italian                                            Unknown  \n",
       "2  American (Traditional)                                            Unknown  \n",
       "2                   Greek                                            Unknown  \n",
       "4              Vietnamese  {'Monday': '11:0-14:0', 'Tuesday': '11:0-14:0'...  \n",
       "5  American (Traditional)  {'Monday': '6:0-22:0', 'Tuesday': '6:0-22:0', ...  "
      ]
     },
     "execution_count": 35,
     "metadata": {},
     "output_type": "execute_result"
    }
   ],
   "source": [
    "# Display the 'location' column to check the combined addresses\n",
    "restaurant_exploded.head()"
   ]
  },
  {
   "cell_type": "code",
   "execution_count": 36,
   "metadata": {},
   "outputs": [
    {
     "name": "stdout",
     "output_type": "stream",
     "text": [
      "<class 'pandas.core.frame.DataFrame'>\n",
      "Index: 38528 entries, 2 to 52285\n",
      "Data columns (total 15 columns):\n",
      " #   Column        Non-Null Count  Dtype  \n",
      "---  ------        --------------  -----  \n",
      " 0   business_id   38528 non-null  object \n",
      " 1   name          38528 non-null  object \n",
      " 2   address       38528 non-null  object \n",
      " 3   city          38528 non-null  object \n",
      " 4   state         38528 non-null  object \n",
      " 5   postal_code   38528 non-null  object \n",
      " 6   latitude      38528 non-null  float64\n",
      " 7   longitude     38528 non-null  float64\n",
      " 8   stars         38528 non-null  float64\n",
      " 9   review_count  38528 non-null  int64  \n",
      " 10  is_open       38528 non-null  int64  \n",
      " 11  attributes    38528 non-null  object \n",
      " 12  categories    38528 non-null  object \n",
      " 13  hours         38528 non-null  object \n",
      " 14  location      38528 non-null  object \n",
      "dtypes: float64(3), int64(2), object(10)\n",
      "memory usage: 4.7+ MB\n"
     ]
    }
   ],
   "source": [
    "# combining the address columns into a location column\n",
    "restaurant_exploded['location']=restaurant_exploded[['city','state','address']]\\\n",
    "            .apply( lambda x: f\"State:{x['state']}, City:{x['city']}, Address:{x['address']} \", axis=1)\n",
    "\n",
    "\n",
    "# viewing the restaurant_exploded dataset information\n",
    "restaurant_exploded.info()"
   ]
  },
  {
   "cell_type": "markdown",
   "metadata": {},
   "source": [
    "**Observations**\n",
    "***\n",
    " \n",
    "- The `categories` column have been standardized and exploded to handle multiple categories per restaurant. This transformation is necessary to accurately categorize each restaurant's offerings, which is essential for matching user preferences with the right restaurants.\n",
    "\n",
    "- The exploded DataFrame has been filtered to include only rows with specified cuisines. By narrowing down to specific cuisines, we ensure that the recommender system focuses on the most relevant restaurant types. This helps in improving precision\n",
    "\n",
    "- Combining the `state`, `city`, and `address` columns is vital for geographic-based recommendations, enabling the system to suggest restaurants within a user’s preferred or current location.\n",
    "\n",
    "- This results in a dataset with 38,528 rows of restaurants with their cuisine types and 15 columns"
   ]
  },
  {
   "cell_type": "code",
   "execution_count": 37,
   "metadata": {},
   "outputs": [],
   "source": [
    "def decompress(x):\n",
    "    \"\"\"\n",
    "    The function takes in a dictionary and returns only the keys that have their values not being False   \n",
    "    \"\"\"\n",
    "      \n",
    "    list_ = []\n",
    "    \n",
    "    # Check if x is a string\n",
    "    if not isinstance(x, str):\n",
    "        return ' '\n",
    "    \n",
    "    # evaluate the attributes column to convert it from a string to a dictionary\n",
    "    try:\n",
    "        data_dict = eval(x)\n",
    "    except Exception as e:\n",
    "        print(f\"Error evaluating {x}: {str(e)}\")\n",
    "        return ' '\n",
    "    \n",
    "    # iterate through the key-value pairs in the dictionary\n",
    "    for key, val in data_dict.items():\n",
    "        # check if the key is in the specified categories and if the value is not \"None\"\n",
    "        if (key in ['Ambience', 'GoodForMeal', 'BusinessParking']) and (val != \"None\"):\n",
    "            # if conditions are met, further iterate through sub-dictionary\n",
    "            try:\n",
    "                sub_dict = eval(val)\n",
    "                for key_, val_ in sub_dict.items():\n",
    "                    # if the sub-dictionary value is true, append it to the list\n",
    "                    if val_:\n",
    "                        list_.append(f'{key}{key}')\n",
    "            except Exception as e:\n",
    "                print(f\"Error evaluating {val}: {str(e)}\")\n",
    "        else:\n",
    "            # if the value is not false, append the key to the list\n",
    "            if val != 'False':\n",
    "                list_.append(key)\n",
    "    \n",
    "    # join the list of selected attribute names into a space-separated string\n",
    "    return \" \".join(list_)\n",
    "\n",
    "# create a new column 'attributes_true' in the df by applying the decompress function\n",
    "# include a condition to handle cases where attributes is 'Not-Available'\n",
    "restaurant_exploded['attributes_true'] = restaurant_exploded.attributes.apply(lambda x: decompress(x) if x != 'Not-Available' else ' ')"
   ]
  },
  {
   "cell_type": "code",
   "execution_count": 38,
   "metadata": {},
   "outputs": [
    {
     "name": "stdout",
     "output_type": "stream",
     "text": [
      "Original Attributes Column 2    {'Caters': 'True', 'Alcohol': \"u'full_bar'\", 'RestaurantsAttire': \"u'casual'\", 'RestaurantsDelivery': 'False', 'RestaurantsTakeOut': 'True', 'HasTV': 'True', 'NoiseLevel': \"u'average'\", 'BusinessAcceptsCreditCards': 'True', 'OutdoorSeating': 'True', 'BusinessParking': \"{'garage': False, 'street': False, 'validated': False, 'lot': True, 'valet': False}\", 'Ambience': \"{'romantic': False, 'intimate': False, 'touristy': False, 'hipster': False, 'divey': False, 'classy': False, 'trendy': False, 'upscale': False, 'casual': False}\", 'RestaurantsPriceRange2': '1', 'GoodForKids': 'True', 'WiFi': \"u'free'\", 'RestaurantsReservations': 'False', 'RestaurantsGoodForGroups': 'True'}\n",
      "Name: attributes, dtype: object\n",
      "Attributes_true Column 2    Caters Alcohol RestaurantsAttire RestaurantsTakeOut HasTV NoiseLevel BusinessAcceptsCreditCards OutdoorSeating BusinessParkingBusinessParking RestaurantsPriceRange2 GoodForKids WiFi RestaurantsGoodForGroups\n",
      "Name: attributes_true, dtype: object\n"
     ]
    }
   ],
   "source": [
    "# Example to show the new column generated using a sample business_id\n",
    "# Temporarily set display options\n",
    "pd.set_option('display.max_colwidth', None)  \n",
    "\n",
    "# Display the attributes sections\n",
    "print(\"Original Attributes Column\",restaurant_data[restaurant_data.business_id=='k0hlBqXX-Bt0vf1op7Jr1w'].attributes[:1])\n",
    "print(\"Attributes_true Column\",restaurant_exploded[restaurant_exploded.business_id=='k0hlBqXX-Bt0vf1op7Jr1w'].attributes_true[:1])\n",
    "\n",
    "# Reset display options to default after viewing\n",
    "pd.reset_option('display.max_colwidth')\n"
   ]
  },
  {
   "cell_type": "code",
   "execution_count": 39,
   "metadata": {},
   "outputs": [
    {
     "data": {
      "text/plain": [
       "(38528, 16)"
      ]
     },
     "execution_count": 39,
     "metadata": {},
     "output_type": "execute_result"
    }
   ],
   "source": [
    "# Checking the shape of the dataset\n",
    "restaurant_exploded.shape"
   ]
  },
  {
   "cell_type": "markdown",
   "metadata": {},
   "source": [
    "**Observations:**\n",
    "***\n",
    "- By using the compress function, the attributes column was stripped of any attributes that were False and a new column attributes true was created that only had the true attributes of each restaurant\n",
    "\n",
    "- This results in a dataset with 38,528 rows of restaurants with their cuisine types and 16 columns"
   ]
  },
  {
   "cell_type": "code",
   "execution_count": 72,
   "metadata": {},
   "outputs": [
    {
     "data": {
      "image/png": "[encoded data removed]",
      "text/plain": [
       "<Figure size 1000x600 with 1 Axes>"
      ]
     },
     "metadata": {},
     "output_type": "display_data"
    }
   ],
   "source": [
    "# Instantiate the UnivariateAnalysis class with the DataFrame\n",
    "uni_analysis = UnivariateAnalysis(restaurant_exploded)\n",
    "uni_analysis.plot_bar_chart('categories', 'Number of Cuisine Counts', limit=20)"
   ]
  },
  {
   "cell_type": "markdown",
   "metadata": {},
   "source": [
    "**Observations:**\n",
    "***\n",
    "\n",
    "- The majority of the restaurants mainly fall within American(Traditional), Italian, Mexican, Chinese, Japanese\n",
    "- American(Traditional) was largely dominant in the dataset after splitting\n"
   ]
  },
  {
   "cell_type": "code",
   "execution_count": 40,
   "metadata": {},
   "outputs": [],
   "source": [
    "# Save the cleaned user review data to a new CSV file\n",
    "users_data_cleaned.to_csv('data/cleaned_users_data.csv', index=False)"
   ]
  },
  {
   "cell_type": "code",
   "execution_count": 41,
   "metadata": {},
   "outputs": [],
   "source": [
    "\n",
    "# Save the filtered and transformed restaurant data to a new CSV file\n",
    "with open('Pickled_files/restaurants_data.pkl','wb')as file:\n",
    "    pickle.dump(restaurant_exploded, file)\n"
   ]
  },
  {
   "cell_type": "markdown",
   "metadata": {},
   "source": [
    "***\n",
    "## 4. MODELLING\n",
    "***\n",
    "\n",
    "In this section we will create a recommendation system using the datasets to solve our main problem.\n",
    "There are different types of recomentation models, in this project we will focus on three types of recommentation systems\n",
    "\n",
    "* 1. Content-Based Recommender systems\n",
    "* 2. Collaborative Filtering Systems\n",
    "* 3. Deep Neural Networks\n",
    "\n",
    "Now, in each of these categories we will compare the different models and see which ones perform best. For validation and comparison we will use the RMSE (root mean squared error) metric, that is how far is the prediction from the true value."
   ]
  },
  {
   "cell_type": "markdown",
   "metadata": {},
   "source": [
    "***\n",
    "##### 1. CONTENT BASED FILTERING\n",
    "***\n",
    "To perfrom the content based filtering, we utilized the restaurant data dataset.\n",
    "\n",
    "The restaurant's features such as types of cuisine they offer and attribues such as WiFi, Alcohol, Happy Hour, Noise Level, Restaurants Attire, Wheelchair Accessible, Restaurants TableService etc, were able to provide information to use cosine similarity to recommend the restaurants with the closest similarity."
   ]
  },
  {
   "cell_type": "code",
   "execution_count": 42,
   "metadata": {},
   "outputs": [
    {
     "name": "stdout",
     "output_type": "stream",
     "text": [
      "<class 'pandas.core.frame.DataFrame'>\n",
      "Index: 38528 entries, 2 to 52285\n",
      "Data columns (total 16 columns):\n",
      " #   Column           Non-Null Count  Dtype  \n",
      "---  ------           --------------  -----  \n",
      " 0   business_id      38528 non-null  object \n",
      " 1   name             38528 non-null  object \n",
      " 2   address          38528 non-null  object \n",
      " 3   city             38528 non-null  object \n",
      " 4   state            38528 non-null  object \n",
      " 5   postal_code      38528 non-null  object \n",
      " 6   latitude         38528 non-null  float64\n",
      " 7   longitude        38528 non-null  float64\n",
      " 8   stars            38528 non-null  float64\n",
      " 9   review_count     38528 non-null  int64  \n",
      " 10  is_open          38528 non-null  int64  \n",
      " 11  attributes       38528 non-null  object \n",
      " 12  categories       38528 non-null  object \n",
      " 13  hours            38528 non-null  object \n",
      " 14  location         38528 non-null  object \n",
      " 15  attributes_true  38528 non-null  object \n",
      "dtypes: float64(3), int64(2), object(11)\n",
      "memory usage: 5.0+ MB\n"
     ]
    }
   ],
   "source": [
    "# Loading the restaurant data from the pickled file\n",
    "df = pd.read_pickle('pickled_files/restaurants_data.pkl')\n",
    "\n",
    "# Overview of dataset information to understand the features we require\n",
    "df.info()"
   ]
  },
  {
   "cell_type": "code",
   "execution_count": 43,
   "metadata": {},
   "outputs": [],
   "source": [
    "# Preprocessing function\n",
    "def preprocess(df):\n",
    "    \"\"\"\n",
    "    Function to preprocess the data to combine the needed features into one column\n",
    "    Returns a dataframe with the combined_features columns\n",
    "    \"\"\"\n",
    "    filtered_df=df.copy()\n",
    "    # Combining the features into one column\n",
    "    filtered_df['combined_features'] = (\n",
    "                                        filtered_df['categories'] + \" \" +\n",
    "                                        filtered_df['attributes_true'] \n",
    "                                        )\n",
    "    # resetting the index\n",
    "    filtered_df = filtered_df.reset_index(drop=True)\n",
    "\n",
    "    # Return turns the filtered df\n",
    "    return filtered_df"
   ]
  },
  {
   "cell_type": "code",
   "execution_count": 44,
   "metadata": {},
   "outputs": [],
   "source": [
    "# Vectorization function\n",
    "def create_feature_vectors(df):\n",
    "    \"\"\"\n",
    "    Performing vectorization of the preprocessed categorical features \n",
    "    and combining with the numerical features\n",
    "    \"\"\"\n",
    "    # Vectorize the combined text features\n",
    "    tfidf = TfidfVectorizer(stop_words='english')\n",
    "    tfidf_matrix = tfidf.fit_transform(df['combined_features'])\n",
    "    \n",
    "    # Combine the TF-IDF matrix with numerical columns\n",
    "    numerical_features = df[['stars']].values\n",
    "    combined_features = np.hstack((tfidf_matrix.toarray(), numerical_features))\n",
    "    \n",
    "    return combined_features"
   ]
  },
  {
   "cell_type": "markdown",
   "metadata": {},
   "source": [
    "\n",
    "Using the cosine similarity matrix we will now create a content-based recommendation system that offers recommendations to users based on the restaurant names or text words representing the specifications of their desired restaurant and attributes.\n",
    "\n",
    "We use the cosine similarity matrix to compare similarities between different restaurants and the customer's preferences, then pick the top n similar restaurants to recommend based on his/her input."
   ]
  },
  {
   "cell_type": "code",
   "execution_count": 45,
   "metadata": {},
   "outputs": [],
   "source": [
    "# Recommendation function\n",
    "def recommendation(df, state, name=None, category=None):\n",
    "    \"\"\"\n",
    "    Creates recommendation based on name or category/cuisine using cosine similarity and filtering\n",
    "    Returns a dataframe containing name, state, city, address, stars and categories\n",
    "    \"\"\"\n",
    "    preprocessed = preprocess(df)\n",
    "    \n",
    "    def cuisines(cuisine=None, state=state):\n",
    "        \"\"\"\n",
    "        Function to filter to get the recommendations based on cuisine input\n",
    "        \"\"\"\n",
    "        preprocessed=df[df[\"state\"]==state]\n",
    "        cuisine_df = preprocessed[preprocessed['categories'] == cuisine]\n",
    "        cuisine_df_sorted = cuisine_df.sort_values(by=[\"stars\", \"city\"], ascending=False)\n",
    "        return cuisine_df_sorted[['name', 'state', 'city', 'stars', 'address', 'categories']]\n",
    "    \n",
    "    if name:\n",
    "        if name not in preprocessed['name'].values:\n",
    "            raise ValueError(f\"Restaurant with name '{name}' not found in the filtered data.\")\n",
    "\n",
    "        # Finding the index of the restaurant name\n",
    "        idx = preprocessed[preprocessed['name'] == name].index[0]\n",
    "        exclude_names = [name]\n",
    "\n",
    "        # Locating the restaurant row in the preprocessed df \n",
    "        row_to_add = preprocessed.iloc[idx]\n",
    "        \n",
    "        # convering it to a df\n",
    "        row_to_add_df = pd.DataFrame([row_to_add])     \n",
    "        \n",
    "        #generating a df for only the state i want to recommend in\n",
    "        specific_state= preprocessed[preprocessed[\"state\"] == state]\n",
    "        \n",
    "        # concatinating it to the specific state df and reseting the index\n",
    "        specific_state = pd.concat([specific_state, row_to_add_df]).reset_index(drop=True)\n",
    "        \n",
    "        # Finding the new index for the restaurant name\n",
    "        idx = specific_state[specific_state['name'] == name].index[0]\n",
    "        \n",
    "        # Creating feature vectors\n",
    "        combined_features = create_feature_vectors(specific_state)\n",
    "\n",
    "        # Finding the cosine similarity\n",
    "        cosine_sim = cosine_similarity(combined_features, combined_features)\n",
    "\n",
    "        # Finding the top indices of the restaurants to recommend\n",
    "        sim_scores = list(enumerate(cosine_sim[idx]))\n",
    "        sim_scores = sorted(sim_scores, key=lambda x: x[1], reverse=True)\n",
    "        top_indices = [i[0] for i in sim_scores]  \n",
    "\n",
    "        # Finding the rows of the top recommended restaurants\n",
    "        recommended_restaurants = specific_state.iloc[top_indices]\n",
    "        recommended_restaurants = recommended_restaurants[~recommended_restaurants['name'].isin(exclude_names)]        \n",
    "\n",
    "        # Return a df with the required features\n",
    "        return recommended_restaurants[['name', 'state', 'city', 'stars', 'address','categories']].drop_duplicates(subset='name')[:20]\n",
    "    \n",
    "    elif category:\n",
    "        # Filter based on cuisine/cateogry\n",
    "        return cuisines(category)"
   ]
  },
  {
   "cell_type": "markdown",
   "metadata": {},
   "source": [
    "The content_based function uses content-based recommendation techniques to provide restaurant recommendations based on user input preferences, restaurant names, or cuisine choice. "
   ]
  },
  {
   "cell_type": "code",
   "execution_count": 46,
   "metadata": {},
   "outputs": [
    {
     "name": "stdout",
     "output_type": "stream",
     "text": [
      "Random Restaurant Name: Sacred Pepper\n"
     ]
    },
    {
     "data": {
      "text/html": [
       "<div>\n",
       "<style scoped>\n",
       "    .dataframe tbody tr th:only-of-type {\n",
       "        vertical-align: middle;\n",
       "    }\n",
       "\n",
       "    .dataframe tbody tr th {\n",
       "        vertical-align: top;\n",
       "    }\n",
       "\n",
       "    .dataframe thead th {\n",
       "        text-align: right;\n",
       "    }\n",
       "</style>\n",
       "<table border=\"1\" class=\"dataframe\">\n",
       "  <thead>\n",
       "    <tr style=\"text-align: right;\">\n",
       "      <th></th>\n",
       "      <th>business_id</th>\n",
       "      <th>name</th>\n",
       "      <th>address</th>\n",
       "      <th>city</th>\n",
       "      <th>state</th>\n",
       "      <th>postal_code</th>\n",
       "      <th>latitude</th>\n",
       "      <th>longitude</th>\n",
       "      <th>stars</th>\n",
       "      <th>review_count</th>\n",
       "      <th>is_open</th>\n",
       "      <th>attributes</th>\n",
       "      <th>categories</th>\n",
       "      <th>hours</th>\n",
       "      <th>location</th>\n",
       "      <th>attributes_true</th>\n",
       "    </tr>\n",
       "  </thead>\n",
       "  <tbody>\n",
       "    <tr>\n",
       "      <th>15810</th>\n",
       "      <td>j4KA-BujEH7xmG6bD5E-gQ</td>\n",
       "      <td>Sacred Pepper</td>\n",
       "      <td>15405 N Dale Mabry Hwy</td>\n",
       "      <td>Tampa</td>\n",
       "      <td>Florida</td>\n",
       "      <td>33618</td>\n",
       "      <td>28.092106</td>\n",
       "      <td>-82.501806</td>\n",
       "      <td>4.0</td>\n",
       "      <td>548</td>\n",
       "      <td>1</td>\n",
       "      <td>{'RestaurantsReservations': 'True', 'GoodForKi...</td>\n",
       "      <td>American (Traditional)</td>\n",
       "      <td>{'Monday': '16:0-22:0', 'Tuesday': '16:0-22:0'...</td>\n",
       "      <td>State:Florida, City:Tampa, Address:15405 N Dal...</td>\n",
       "      <td>RestaurantsReservations Caters BusinessAccepts...</td>\n",
       "    </tr>\n",
       "  </tbody>\n",
       "</table>\n",
       "</div>"
      ],
      "text/plain": [
       "                  business_id           name                 address   city  \\\n",
       "15810  j4KA-BujEH7xmG6bD5E-gQ  Sacred Pepper  15405 N Dale Mabry Hwy  Tampa   \n",
       "\n",
       "         state postal_code   latitude  longitude  stars  review_count  \\\n",
       "15810  Florida       33618  28.092106 -82.501806    4.0           548   \n",
       "\n",
       "       is_open                                         attributes  \\\n",
       "15810        1  {'RestaurantsReservations': 'True', 'GoodForKi...   \n",
       "\n",
       "                   categories  \\\n",
       "15810  American (Traditional)   \n",
       "\n",
       "                                                   hours  \\\n",
       "15810  {'Monday': '16:0-22:0', 'Tuesday': '16:0-22:0'...   \n",
       "\n",
       "                                                location  \\\n",
       "15810  State:Florida, City:Tampa, Address:15405 N Dal...   \n",
       "\n",
       "                                         attributes_true  \n",
       "15810  RestaurantsReservations Caters BusinessAccepts...  "
      ]
     },
     "execution_count": 46,
     "metadata": {},
     "output_type": "execute_result"
    }
   ],
   "source": [
    "# Getting a random restaurant name\n",
    "random_name = df['name'].sample(n=1).values[0]\n",
    "print(\"Random Restaurant Name:\", random_name)\n",
    "\n",
    "# Information on sampled restaurant\n",
    "df[df.name==random_name]"
   ]
  },
  {
   "cell_type": "code",
   "execution_count": 47,
   "metadata": {},
   "outputs": [
    {
     "name": "stdout",
     "output_type": "stream",
     "text": [
      "Random State: Arizona\n"
     ]
    },
    {
     "data": {
      "text/html": [
       "<div>\n",
       "<style scoped>\n",
       "    .dataframe tbody tr th:only-of-type {\n",
       "        vertical-align: middle;\n",
       "    }\n",
       "\n",
       "    .dataframe tbody tr th {\n",
       "        vertical-align: top;\n",
       "    }\n",
       "\n",
       "    .dataframe thead th {\n",
       "        text-align: right;\n",
       "    }\n",
       "</style>\n",
       "<table border=\"1\" class=\"dataframe\">\n",
       "  <thead>\n",
       "    <tr style=\"text-align: right;\">\n",
       "      <th></th>\n",
       "      <th>name</th>\n",
       "      <th>state</th>\n",
       "      <th>city</th>\n",
       "      <th>stars</th>\n",
       "      <th>address</th>\n",
       "      <th>categories</th>\n",
       "    </tr>\n",
       "  </thead>\n",
       "  <tbody>\n",
       "    <tr>\n",
       "      <th>1191</th>\n",
       "      <td>Snooze An AM Eatery</td>\n",
       "      <td>Arizona</td>\n",
       "      <td>Tucson</td>\n",
       "      <td>4.5</td>\n",
       "      <td>2500 E Grant Rd, Ste 182</td>\n",
       "      <td>American (Traditional)</td>\n",
       "    </tr>\n",
       "    <tr>\n",
       "      <th>1679</th>\n",
       "      <td>Gentle Ben’s Brewery</td>\n",
       "      <td>Arizona</td>\n",
       "      <td>Tucson</td>\n",
       "      <td>3.5</td>\n",
       "      <td>865 E University Blvd</td>\n",
       "      <td>American (Traditional)</td>\n",
       "    </tr>\n",
       "    <tr>\n",
       "      <th>1074</th>\n",
       "      <td>Agave</td>\n",
       "      <td>Arizona</td>\n",
       "      <td>Sahuarita</td>\n",
       "      <td>3.5</td>\n",
       "      <td>1100 W Pima Mine Rd</td>\n",
       "      <td>American (Traditional)</td>\n",
       "    </tr>\n",
       "    <tr>\n",
       "      <th>1190</th>\n",
       "      <td>CORE Kitchen &amp; Wine Bar</td>\n",
       "      <td>Arizona</td>\n",
       "      <td>Marana</td>\n",
       "      <td>4.5</td>\n",
       "      <td>15000 North Secret Springs Dr, The Ritz-Carlto...</td>\n",
       "      <td>American (Traditional)</td>\n",
       "    </tr>\n",
       "    <tr>\n",
       "      <th>614</th>\n",
       "      <td>Holy Smokin Butts BBQ</td>\n",
       "      <td>Arizona</td>\n",
       "      <td>Tucson</td>\n",
       "      <td>4.5</td>\n",
       "      <td>6940 E Broadway Blvd</td>\n",
       "      <td>American (Traditional)</td>\n",
       "    </tr>\n",
       "    <tr>\n",
       "      <th>1202</th>\n",
       "      <td>Sunny Daze Cafe</td>\n",
       "      <td>Arizona</td>\n",
       "      <td>Tucson</td>\n",
       "      <td>4.5</td>\n",
       "      <td>4980 S Campbell Ave</td>\n",
       "      <td>American (Traditional)</td>\n",
       "    </tr>\n",
       "    <tr>\n",
       "      <th>1632</th>\n",
       "      <td>Lindy's On 4th</td>\n",
       "      <td>Arizona</td>\n",
       "      <td>Tucson</td>\n",
       "      <td>4.0</td>\n",
       "      <td>500 N 4th Ave</td>\n",
       "      <td>American (Traditional)</td>\n",
       "    </tr>\n",
       "    <tr>\n",
       "      <th>1020</th>\n",
       "      <td>Cafe Santa Rosa</td>\n",
       "      <td>Arizona</td>\n",
       "      <td>Tucson</td>\n",
       "      <td>4.0</td>\n",
       "      <td>2615 S 6th Ave</td>\n",
       "      <td>American (Traditional)</td>\n",
       "    </tr>\n",
       "    <tr>\n",
       "      <th>219</th>\n",
       "      <td>First Watch</td>\n",
       "      <td>Arizona</td>\n",
       "      <td>Tucson</td>\n",
       "      <td>4.5</td>\n",
       "      <td>4775 E Grant Rd</td>\n",
       "      <td>American (Traditional)</td>\n",
       "    </tr>\n",
       "    <tr>\n",
       "      <th>541</th>\n",
       "      <td>The Fix</td>\n",
       "      <td>Arizona</td>\n",
       "      <td>Tucson</td>\n",
       "      <td>4.0</td>\n",
       "      <td>943 E University Blvd, Ste 115</td>\n",
       "      <td>American (Traditional)</td>\n",
       "    </tr>\n",
       "  </tbody>\n",
       "</table>\n",
       "</div>"
      ],
      "text/plain": [
       "                         name    state       city  stars  \\\n",
       "1191      Snooze An AM Eatery  Arizona     Tucson    4.5   \n",
       "1679     Gentle Ben’s Brewery  Arizona     Tucson    3.5   \n",
       "1074                    Agave  Arizona  Sahuarita    3.5   \n",
       "1190  CORE Kitchen & Wine Bar  Arizona     Marana    4.5   \n",
       "614     Holy Smokin Butts BBQ  Arizona     Tucson    4.5   \n",
       "1202          Sunny Daze Cafe  Arizona     Tucson    4.5   \n",
       "1632           Lindy's On 4th  Arizona     Tucson    4.0   \n",
       "1020          Cafe Santa Rosa  Arizona     Tucson    4.0   \n",
       "219               First Watch  Arizona     Tucson    4.5   \n",
       "541                   The Fix  Arizona     Tucson    4.0   \n",
       "\n",
       "                                                address  \\\n",
       "1191                           2500 E Grant Rd, Ste 182   \n",
       "1679                              865 E University Blvd   \n",
       "1074                                1100 W Pima Mine Rd   \n",
       "1190  15000 North Secret Springs Dr, The Ritz-Carlto...   \n",
       "614                                6940 E Broadway Blvd   \n",
       "1202                                4980 S Campbell Ave   \n",
       "1632                                      500 N 4th Ave   \n",
       "1020                                     2615 S 6th Ave   \n",
       "219                                     4775 E Grant Rd   \n",
       "541                      943 E University Blvd, Ste 115   \n",
       "\n",
       "                  categories  \n",
       "1191  American (Traditional)  \n",
       "1679  American (Traditional)  \n",
       "1074  American (Traditional)  \n",
       "1190  American (Traditional)  \n",
       "614   American (Traditional)  \n",
       "1202  American (Traditional)  \n",
       "1632  American (Traditional)  \n",
       "1020  American (Traditional)  \n",
       "219   American (Traditional)  \n",
       "541   American (Traditional)  "
      ]
     },
     "execution_count": 47,
     "metadata": {},
     "output_type": "execute_result"
    }
   ],
   "source": [
    "# Randomly chosen state\n",
    "random_state = df['state'].sample(n=1).values[0]\n",
    "print(\"Random State:\", random_state)\n",
    "\n",
    "# recommendations based on random state and random restaurant name\n",
    "restaurants = recommendation(df, state=random_state,  name=random_name)\n",
    "restaurants.head(10)"
   ]
  },
  {
   "cell_type": "code",
   "execution_count": 48,
   "metadata": {},
   "outputs": [
    {
     "name": "stdout",
     "output_type": "stream",
     "text": [
      "Random State: Florida\n"
     ]
    },
    {
     "data": {
      "text/html": [
       "<div>\n",
       "<style scoped>\n",
       "    .dataframe tbody tr th:only-of-type {\n",
       "        vertical-align: middle;\n",
       "    }\n",
       "\n",
       "    .dataframe tbody tr th {\n",
       "        vertical-align: top;\n",
       "    }\n",
       "\n",
       "    .dataframe thead th {\n",
       "        text-align: right;\n",
       "    }\n",
       "</style>\n",
       "<table border=\"1\" class=\"dataframe\">\n",
       "  <thead>\n",
       "    <tr style=\"text-align: right;\">\n",
       "      <th></th>\n",
       "      <th>name</th>\n",
       "      <th>state</th>\n",
       "      <th>city</th>\n",
       "      <th>stars</th>\n",
       "      <th>address</th>\n",
       "      <th>categories</th>\n",
       "    </tr>\n",
       "  </thead>\n",
       "  <tbody>\n",
       "    <tr>\n",
       "      <th>5013</th>\n",
       "      <td>Grillsmith - Midtown South Tampa</td>\n",
       "      <td>Florida</td>\n",
       "      <td>Tampa</td>\n",
       "      <td>4.5</td>\n",
       "      <td>612 N Dale Mabry Hwy</td>\n",
       "      <td>American (Traditional)</td>\n",
       "    </tr>\n",
       "    <tr>\n",
       "      <th>5827</th>\n",
       "      <td>Marina Cantina</td>\n",
       "      <td>Florida</td>\n",
       "      <td>Clearwater Beach</td>\n",
       "      <td>4.0</td>\n",
       "      <td>25 Causeway Blvd</td>\n",
       "      <td>American (Traditional)</td>\n",
       "    </tr>\n",
       "    <tr>\n",
       "      <th>4418</th>\n",
       "      <td>The Queenshead Eurobar</td>\n",
       "      <td>Florida</td>\n",
       "      <td>Saint Petersburg</td>\n",
       "      <td>4.0</td>\n",
       "      <td>2501 Central Ave</td>\n",
       "      <td>American (Traditional)</td>\n",
       "    </tr>\n",
       "    <tr>\n",
       "      <th>2164</th>\n",
       "      <td>Grillsmith - Countryside</td>\n",
       "      <td>Florida</td>\n",
       "      <td>Clearwater</td>\n",
       "      <td>4.0</td>\n",
       "      <td>2539 Countryside Blvd, Ste 6</td>\n",
       "      <td>American (Traditional)</td>\n",
       "    </tr>\n",
       "    <tr>\n",
       "      <th>2467</th>\n",
       "      <td>Isabelle's Restaurant Gulfport</td>\n",
       "      <td>Florida</td>\n",
       "      <td>Gulfport</td>\n",
       "      <td>4.0</td>\n",
       "      <td>2937 Beach Blvd</td>\n",
       "      <td>American (Traditional)</td>\n",
       "    </tr>\n",
       "    <tr>\n",
       "      <th>5062</th>\n",
       "      <td>Mother's</td>\n",
       "      <td>Florida</td>\n",
       "      <td>Tampa</td>\n",
       "      <td>4.0</td>\n",
       "      <td>12227 W Linebaugh Ave</td>\n",
       "      <td>American (Traditional)</td>\n",
       "    </tr>\n",
       "    <tr>\n",
       "      <th>5385</th>\n",
       "      <td>Grille One Sixteen</td>\n",
       "      <td>Florida</td>\n",
       "      <td>Tampa</td>\n",
       "      <td>4.0</td>\n",
       "      <td>15405 N Dale Mabry</td>\n",
       "      <td>American (Traditional)</td>\n",
       "    </tr>\n",
       "    <tr>\n",
       "      <th>6388</th>\n",
       "      <td>Sea Hags Bar and Grill</td>\n",
       "      <td>Florida</td>\n",
       "      <td>St. Pete Beach</td>\n",
       "      <td>4.0</td>\n",
       "      <td>9555 Blind Pass Rd</td>\n",
       "      <td>American (Traditional)</td>\n",
       "    </tr>\n",
       "    <tr>\n",
       "      <th>6391</th>\n",
       "      <td>Tampa Bay Brewing Company</td>\n",
       "      <td>Florida</td>\n",
       "      <td>Tampa</td>\n",
       "      <td>4.0</td>\n",
       "      <td>1600 E 8th Ave</td>\n",
       "      <td>American (Traditional)</td>\n",
       "    </tr>\n",
       "    <tr>\n",
       "      <th>5981</th>\n",
       "      <td>Shelly's Cafe</td>\n",
       "      <td>Florida</td>\n",
       "      <td>Tampa</td>\n",
       "      <td>4.5</td>\n",
       "      <td>14837 N Florida Ave</td>\n",
       "      <td>American (Traditional)</td>\n",
       "    </tr>\n",
       "  </tbody>\n",
       "</table>\n",
       "</div>"
      ],
      "text/plain": [
       "                                  name    state              city  stars  \\\n",
       "5013  Grillsmith - Midtown South Tampa  Florida             Tampa    4.5   \n",
       "5827                    Marina Cantina  Florida  Clearwater Beach    4.0   \n",
       "4418            The Queenshead Eurobar  Florida  Saint Petersburg    4.0   \n",
       "2164          Grillsmith - Countryside  Florida        Clearwater    4.0   \n",
       "2467    Isabelle's Restaurant Gulfport  Florida          Gulfport    4.0   \n",
       "5062                          Mother's  Florida             Tampa    4.0   \n",
       "5385                Grille One Sixteen  Florida             Tampa    4.0   \n",
       "6388            Sea Hags Bar and Grill  Florida    St. Pete Beach    4.0   \n",
       "6391         Tampa Bay Brewing Company  Florida             Tampa    4.0   \n",
       "5981                     Shelly's Cafe  Florida             Tampa    4.5   \n",
       "\n",
       "                           address              categories  \n",
       "5013          612 N Dale Mabry Hwy  American (Traditional)  \n",
       "5827              25 Causeway Blvd  American (Traditional)  \n",
       "4418              2501 Central Ave  American (Traditional)  \n",
       "2164  2539 Countryside Blvd, Ste 6  American (Traditional)  \n",
       "2467               2937 Beach Blvd  American (Traditional)  \n",
       "5062         12227 W Linebaugh Ave  American (Traditional)  \n",
       "5385            15405 N Dale Mabry  American (Traditional)  \n",
       "6388            9555 Blind Pass Rd  American (Traditional)  \n",
       "6391                1600 E 8th Ave  American (Traditional)  \n",
       "5981           14837 N Florida Ave  American (Traditional)  "
      ]
     },
     "execution_count": 48,
     "metadata": {},
     "output_type": "execute_result"
    }
   ],
   "source": [
    "# Randomly chosen state\n",
    "random_state = df['state'].sample(n=1).values[0]\n",
    "print(\"Random State:\", random_state)\n",
    "\n",
    "# recommendations based on random state and random restaurant name\n",
    "restaurants = recommendation(df, state=random_state,  name=random_name)\n",
    "restaurants.head(10)"
   ]
  },
  {
   "cell_type": "markdown",
   "metadata": {},
   "source": [
    "**Observations**\n",
    "***\n",
    "\n",
    "- A randomly sampled restaurant name and a randomly sampled state were chosen for demostrational purposes.\n",
    "- It can be noted that, recommendation locations are accurate in that the restaurant may not be from that state but recommendations are given for the state in question.\n",
    "- We can also see that majority of the cuisines/categories match the restaurant in question.\n",
    "- Other attributes_true features contribute to the recommendations\n"
   ]
  },
  {
   "cell_type": "code",
   "execution_count": 49,
   "metadata": {},
   "outputs": [
    {
     "name": "stdout",
     "output_type": "stream",
     "text": [
      "Random State: Pennsylvania\n",
      "Random Cuisine: Italian\n"
     ]
    },
    {
     "data": {
      "text/html": [
       "<div>\n",
       "<style scoped>\n",
       "    .dataframe tbody tr th:only-of-type {\n",
       "        vertical-align: middle;\n",
       "    }\n",
       "\n",
       "    .dataframe tbody tr th {\n",
       "        vertical-align: top;\n",
       "    }\n",
       "\n",
       "    .dataframe thead th {\n",
       "        text-align: right;\n",
       "    }\n",
       "</style>\n",
       "<table border=\"1\" class=\"dataframe\">\n",
       "  <thead>\n",
       "    <tr style=\"text-align: right;\">\n",
       "      <th></th>\n",
       "      <th>name</th>\n",
       "      <th>state</th>\n",
       "      <th>city</th>\n",
       "      <th>stars</th>\n",
       "      <th>address</th>\n",
       "      <th>categories</th>\n",
       "    </tr>\n",
       "  </thead>\n",
       "  <tbody>\n",
       "    <tr>\n",
       "      <th>11527</th>\n",
       "      <td>Tredici</td>\n",
       "      <td>Pennsylvania</td>\n",
       "      <td>Wayne</td>\n",
       "      <td>5.0</td>\n",
       "      <td>185 E Lancaster Ave</td>\n",
       "      <td>Italian</td>\n",
       "    </tr>\n",
       "    <tr>\n",
       "      <th>44819</th>\n",
       "      <td>Napoletano Brothers</td>\n",
       "      <td>Pennsylvania</td>\n",
       "      <td>Springfield</td>\n",
       "      <td>5.0</td>\n",
       "      <td>186 Saxer Ave</td>\n",
       "      <td>Italian</td>\n",
       "    </tr>\n",
       "    <tr>\n",
       "      <th>3922</th>\n",
       "      <td>Lucatelli's</td>\n",
       "      <td>Pennsylvania</td>\n",
       "      <td>Philadelphia</td>\n",
       "      <td>5.0</td>\n",
       "      <td>1709 Chestnut St</td>\n",
       "      <td>Italian</td>\n",
       "    </tr>\n",
       "    <tr>\n",
       "      <th>5271</th>\n",
       "      <td>Mediterranean Banquet Hall</td>\n",
       "      <td>Pennsylvania</td>\n",
       "      <td>Philadelphia</td>\n",
       "      <td>5.0</td>\n",
       "      <td>2033 S Bancroft St</td>\n",
       "      <td>Italian</td>\n",
       "    </tr>\n",
       "    <tr>\n",
       "      <th>5588</th>\n",
       "      <td>Fiorella's Sausage</td>\n",
       "      <td>Pennsylvania</td>\n",
       "      <td>Philadelphia</td>\n",
       "      <td>5.0</td>\n",
       "      <td>817 Christian St</td>\n",
       "      <td>Italian</td>\n",
       "    </tr>\n",
       "  </tbody>\n",
       "</table>\n",
       "</div>"
      ],
      "text/plain": [
       "                             name         state          city  stars  \\\n",
       "11527                     Tredici  Pennsylvania         Wayne    5.0   \n",
       "44819         Napoletano Brothers  Pennsylvania   Springfield    5.0   \n",
       "3922                  Lucatelli's  Pennsylvania  Philadelphia    5.0   \n",
       "5271   Mediterranean Banquet Hall  Pennsylvania  Philadelphia    5.0   \n",
       "5588           Fiorella's Sausage  Pennsylvania  Philadelphia    5.0   \n",
       "\n",
       "                   address categories  \n",
       "11527  185 E Lancaster Ave    Italian  \n",
       "44819        186 Saxer Ave    Italian  \n",
       "3922      1709 Chestnut St    Italian  \n",
       "5271    2033 S Bancroft St    Italian  \n",
       "5588      817 Christian St    Italian  "
      ]
     },
     "execution_count": 49,
     "metadata": {},
     "output_type": "execute_result"
    }
   ],
   "source": [
    "random_state = df['state'].sample(n=1).values[0]\n",
    "print(\"Random State:\", random_state)\n",
    "\n",
    "random_cuisine = df['categories'].sample(n=1).values[0]\n",
    "print(\"Random Cuisine:\", random_cuisine)\n",
    "\n",
    "# Example recommendations based on state, category/cuisine\n",
    "cuisines = recommendation(df, state=random_state,  category=random_cuisine)\n",
    "cuisines.head()"
   ]
  },
  {
   "cell_type": "markdown",
   "metadata": {},
   "source": [
    "**Observations**\n",
    "***\n",
    "- A randomly sampled state and a randomly sampled cuisine was used for demostration puposes\n",
    "- It can be seen that the system recommends the cuisine desired \n",
    "- As well as recommending specifically in the state desired."
   ]
  },
  {
   "cell_type": "markdown",
   "metadata": {},
   "source": [
    "***\n",
    "##### 2. COLLABORATIVE FILTERING MODELS\n",
    "***\n",
    "\n",
    "Here the tasks related to building a collaborative filtering recommendation system using the Surprise library are undertaken for collaborative filtering by selecting the relevant columns, importing the Surprise library, initializing a Reader object to specify the data format, and then loading the data into a Surprise Dataset object for further analysis and model building."
   ]
  },
  {
   "cell_type": "code",
   "execution_count": 50,
   "metadata": {},
   "outputs": [
    {
     "name": "stdout",
     "output_type": "stream",
     "text": [
      "<class 'pandas.core.frame.DataFrame'>\n",
      "RangeIndex: 2559584 entries, 0 to 2559583\n",
      "Data columns (total 4 columns):\n",
      " #   Column       Dtype \n",
      "---  ------       ----- \n",
      " 0   user_id      object\n",
      " 1   business_id  object\n",
      " 2   stars        int64 \n",
      " 3   date         object\n",
      "dtypes: int64(1), object(3)\n",
      "memory usage: 78.1+ MB\n"
     ]
    }
   ],
   "source": [
    "# Loading the users csv file\n",
    "users_data= pd.read_csv(\"data/cleaned_users_data.csv\")\n",
    "\n",
    "# summary information on data\n",
    "users_data.info()"
   ]
  },
  {
   "cell_type": "code",
   "execution_count": 51,
   "metadata": {},
   "outputs": [
    {
     "data": {
      "text/html": [
       "<div>\n",
       "<style scoped>\n",
       "    .dataframe tbody tr th:only-of-type {\n",
       "        vertical-align: middle;\n",
       "    }\n",
       "\n",
       "    .dataframe tbody tr th {\n",
       "        vertical-align: top;\n",
       "    }\n",
       "\n",
       "    .dataframe thead th {\n",
       "        text-align: right;\n",
       "    }\n",
       "</style>\n",
       "<table border=\"1\" class=\"dataframe\">\n",
       "  <thead>\n",
       "    <tr style=\"text-align: right;\">\n",
       "      <th></th>\n",
       "      <th>user_id</th>\n",
       "      <th>business_id</th>\n",
       "      <th>stars_x</th>\n",
       "      <th>date</th>\n",
       "      <th>name</th>\n",
       "      <th>address</th>\n",
       "      <th>city</th>\n",
       "      <th>state</th>\n",
       "      <th>postal_code</th>\n",
       "      <th>latitude</th>\n",
       "      <th>longitude</th>\n",
       "      <th>stars_y</th>\n",
       "      <th>review_count</th>\n",
       "      <th>is_open</th>\n",
       "      <th>attributes</th>\n",
       "      <th>categories</th>\n",
       "      <th>hours</th>\n",
       "      <th>location</th>\n",
       "      <th>attributes_true</th>\n",
       "    </tr>\n",
       "  </thead>\n",
       "  <tbody>\n",
       "    <tr>\n",
       "      <th>0</th>\n",
       "      <td>bcjbaE6dDog4jkNY91ncLQ</td>\n",
       "      <td>e4Vwtrqf-wpJfwesgvdgxQ</td>\n",
       "      <td>4</td>\n",
       "      <td>2017-01-14 20:54:15</td>\n",
       "      <td>Melt</td>\n",
       "      <td>2549 Banks St</td>\n",
       "      <td>New Orleans</td>\n",
       "      <td>Louisiana</td>\n",
       "      <td>70119</td>\n",
       "      <td>29.962102</td>\n",
       "      <td>-90.087958</td>\n",
       "      <td>4.0</td>\n",
       "      <td>32</td>\n",
       "      <td>0</td>\n",
       "      <td>{'BusinessParking': \"{'garage': False, 'street...</td>\n",
       "      <td>American (Traditional)</td>\n",
       "      <td>{'Monday': '0:0-0:0', 'Friday': '11:0-17:0', '...</td>\n",
       "      <td>State:Louisiana, City:New Orleans, Address:254...</td>\n",
       "      <td>BusinessParkingBusinessParking GoodForMealGood...</td>\n",
       "    </tr>\n",
       "    <tr>\n",
       "      <th>1</th>\n",
       "      <td>RreNy--tOmXMl1en0wiBOg</td>\n",
       "      <td>cPepkJeRMtHapc_b2Oe_dw</td>\n",
       "      <td>4</td>\n",
       "      <td>2018-07-17 03:30:07</td>\n",
       "      <td>Naked Tchopstix Express</td>\n",
       "      <td>2902 W 86th St, Ste 70</td>\n",
       "      <td>Indianapolis</td>\n",
       "      <td>Indiana</td>\n",
       "      <td>46268</td>\n",
       "      <td>39.912505</td>\n",
       "      <td>-86.211285</td>\n",
       "      <td>3.5</td>\n",
       "      <td>33</td>\n",
       "      <td>0</td>\n",
       "      <td>{'GoodForMeal': \"{'dessert': False, 'latenight...</td>\n",
       "      <td>Hawaiian</td>\n",
       "      <td>{'Monday': '11:0-21:0', 'Tuesday': '11:0-21:0'...</td>\n",
       "      <td>State:Indiana, City:Indianapolis, Address:2902...</td>\n",
       "      <td>OutdoorSeating RestaurantsTakeOut RestaurantsG...</td>\n",
       "    </tr>\n",
       "    <tr>\n",
       "      <th>2</th>\n",
       "      <td>Jha0USGDMefGFRLik_xFQg</td>\n",
       "      <td>bMratNjTG5ZFEA6hVyr-xQ</td>\n",
       "      <td>5</td>\n",
       "      <td>2017-02-19 13:32:05</td>\n",
       "      <td>Portobello Cafe</td>\n",
       "      <td>1423 Chester Pike</td>\n",
       "      <td>Eddystone</td>\n",
       "      <td>Pennsylvania</td>\n",
       "      <td>19022</td>\n",
       "      <td>39.865032</td>\n",
       "      <td>-75.344051</td>\n",
       "      <td>4.0</td>\n",
       "      <td>137</td>\n",
       "      <td>1</td>\n",
       "      <td>{'BikeParking': 'True', 'RestaurantsReservatio...</td>\n",
       "      <td>Italian</td>\n",
       "      <td>{'Monday': '16:30-21:0', 'Tuesday': '16:30-21:...</td>\n",
       "      <td>State:Pennsylvania, City:Eddystone, Address:14...</td>\n",
       "      <td>BikeParking RestaurantsReservations HasTV Rest...</td>\n",
       "    </tr>\n",
       "    <tr>\n",
       "      <th>3</th>\n",
       "      <td>iYY5Ii1LGpZCpXFkHlMefw</td>\n",
       "      <td>Zx7n8mdt8OzLRXVzolXNhQ</td>\n",
       "      <td>5</td>\n",
       "      <td>2018-04-27 23:03:21</td>\n",
       "      <td>Milk and Honey Nashville</td>\n",
       "      <td>214 11th Ave S</td>\n",
       "      <td>Nashville</td>\n",
       "      <td>Tennessee</td>\n",
       "      <td>37203</td>\n",
       "      <td>36.154702</td>\n",
       "      <td>-86.784541</td>\n",
       "      <td>4.0</td>\n",
       "      <td>1725</td>\n",
       "      <td>1</td>\n",
       "      <td>{'WheelchairAccessible': 'True', 'RestaurantsP...</td>\n",
       "      <td>American (Traditional)</td>\n",
       "      <td>{'Monday': '0:0-0:0', 'Thursday': '6:30-15:0',...</td>\n",
       "      <td>State:Tennessee, City:Nashville, Address:214 1...</td>\n",
       "      <td>WheelchairAccessible RestaurantsPriceRange2 Bu...</td>\n",
       "    </tr>\n",
       "    <tr>\n",
       "      <th>4</th>\n",
       "      <td>S7bjj-L07JuRr-tpX1UZLw</td>\n",
       "      <td>I6L0Zxi5Ww0zEWSAVgngeQ</td>\n",
       "      <td>4</td>\n",
       "      <td>2018-07-07 20:50:12</td>\n",
       "      <td>Cafe Beignet on Bourbon Street</td>\n",
       "      <td>311 Bourbon St</td>\n",
       "      <td>New Orleans</td>\n",
       "      <td>Louisiana</td>\n",
       "      <td>70130</td>\n",
       "      <td>29.955845</td>\n",
       "      <td>-90.068436</td>\n",
       "      <td>3.5</td>\n",
       "      <td>1066</td>\n",
       "      <td>1</td>\n",
       "      <td>{'GoodForKids': 'True', 'OutdoorSeating': 'Tru...</td>\n",
       "      <td>Cajun/Creole</td>\n",
       "      <td>{'Monday': '0:0-0:0', 'Tuesday': '8:0-15:0', '...</td>\n",
       "      <td>State:Louisiana, City:New Orleans, Address:311...</td>\n",
       "      <td>GoodForKids OutdoorSeating BusinessAcceptsCred...</td>\n",
       "    </tr>\n",
       "  </tbody>\n",
       "</table>\n",
       "</div>"
      ],
      "text/plain": [
       "                  user_id             business_id  stars_x  \\\n",
       "0  bcjbaE6dDog4jkNY91ncLQ  e4Vwtrqf-wpJfwesgvdgxQ        4   \n",
       "1  RreNy--tOmXMl1en0wiBOg  cPepkJeRMtHapc_b2Oe_dw        4   \n",
       "2  Jha0USGDMefGFRLik_xFQg  bMratNjTG5ZFEA6hVyr-xQ        5   \n",
       "3  iYY5Ii1LGpZCpXFkHlMefw  Zx7n8mdt8OzLRXVzolXNhQ        5   \n",
       "4  S7bjj-L07JuRr-tpX1UZLw  I6L0Zxi5Ww0zEWSAVgngeQ        4   \n",
       "\n",
       "                  date                            name  \\\n",
       "0  2017-01-14 20:54:15                            Melt   \n",
       "1  2018-07-17 03:30:07         Naked Tchopstix Express   \n",
       "2  2017-02-19 13:32:05                 Portobello Cafe   \n",
       "3  2018-04-27 23:03:21        Milk and Honey Nashville   \n",
       "4  2018-07-07 20:50:12  Cafe Beignet on Bourbon Street   \n",
       "\n",
       "                  address          city         state postal_code   latitude  \\\n",
       "0           2549 Banks St   New Orleans     Louisiana       70119  29.962102   \n",
       "1  2902 W 86th St, Ste 70  Indianapolis       Indiana       46268  39.912505   \n",
       "2       1423 Chester Pike     Eddystone  Pennsylvania       19022  39.865032   \n",
       "3          214 11th Ave S     Nashville     Tennessee       37203  36.154702   \n",
       "4          311 Bourbon St   New Orleans     Louisiana       70130  29.955845   \n",
       "\n",
       "   longitude  stars_y  review_count  is_open  \\\n",
       "0 -90.087958      4.0            32        0   \n",
       "1 -86.211285      3.5            33        0   \n",
       "2 -75.344051      4.0           137        1   \n",
       "3 -86.784541      4.0          1725        1   \n",
       "4 -90.068436      3.5          1066        1   \n",
       "\n",
       "                                          attributes              categories  \\\n",
       "0  {'BusinessParking': \"{'garage': False, 'street...  American (Traditional)   \n",
       "1  {'GoodForMeal': \"{'dessert': False, 'latenight...                Hawaiian   \n",
       "2  {'BikeParking': 'True', 'RestaurantsReservatio...                 Italian   \n",
       "3  {'WheelchairAccessible': 'True', 'RestaurantsP...  American (Traditional)   \n",
       "4  {'GoodForKids': 'True', 'OutdoorSeating': 'Tru...            Cajun/Creole   \n",
       "\n",
       "                                               hours  \\\n",
       "0  {'Monday': '0:0-0:0', 'Friday': '11:0-17:0', '...   \n",
       "1  {'Monday': '11:0-21:0', 'Tuesday': '11:0-21:0'...   \n",
       "2  {'Monday': '16:30-21:0', 'Tuesday': '16:30-21:...   \n",
       "3  {'Monday': '0:0-0:0', 'Thursday': '6:30-15:0',...   \n",
       "4  {'Monday': '0:0-0:0', 'Tuesday': '8:0-15:0', '...   \n",
       "\n",
       "                                            location  \\\n",
       "0  State:Louisiana, City:New Orleans, Address:254...   \n",
       "1  State:Indiana, City:Indianapolis, Address:2902...   \n",
       "2  State:Pennsylvania, City:Eddystone, Address:14...   \n",
       "3  State:Tennessee, City:Nashville, Address:214 1...   \n",
       "4  State:Louisiana, City:New Orleans, Address:311...   \n",
       "\n",
       "                                     attributes_true  \n",
       "0  BusinessParkingBusinessParking GoodForMealGood...  \n",
       "1  OutdoorSeating RestaurantsTakeOut RestaurantsG...  \n",
       "2  BikeParking RestaurantsReservations HasTV Rest...  \n",
       "3  WheelchairAccessible RestaurantsPriceRange2 Bu...  \n",
       "4  GoodForKids OutdoorSeating BusinessAcceptsCred...  "
      ]
     },
     "execution_count": 51,
     "metadata": {},
     "output_type": "execute_result"
    }
   ],
   "source": [
    "# merging the two datasets into one using the business_id primary key\n",
    "data=pd.merge(left=users_data, right=df, how='inner', on='business_id')\n",
    "\n",
    "# previewing the new merge dataset\n",
    "data.head()"
   ]
  },
  {
   "cell_type": "code",
   "execution_count": 52,
   "metadata": {},
   "outputs": [
    {
     "name": "stdout",
     "output_type": "stream",
     "text": [
      "<class 'pandas.core.frame.DataFrame'>\n",
      "RangeIndex: 2386717 entries, 0 to 2386716\n",
      "Data columns (total 19 columns):\n",
      " #   Column           Dtype  \n",
      "---  ------           -----  \n",
      " 0   user_id          object \n",
      " 1   business_id      object \n",
      " 2   b/s_rating       int64  \n",
      " 3   date             object \n",
      " 4   name             object \n",
      " 5   address          object \n",
      " 6   city             object \n",
      " 7   state            object \n",
      " 8   postal_code      object \n",
      " 9   latitude         float64\n",
      " 10  longitude        float64\n",
      " 11  rating           float64\n",
      " 12  review_count     int64  \n",
      " 13  is_open          int64  \n",
      " 14  attributes       object \n",
      " 15  categories       object \n",
      " 16  hours            object \n",
      " 17  location         object \n",
      " 18  attributes_true  object \n",
      "dtypes: float64(3), int64(3), object(13)\n",
      "memory usage: 346.0+ MB\n"
     ]
    }
   ],
   "source": [
    "# Renaming the **stars_x** and **stars_y** columns into **rating** and **b/s_rating** columns for better understanding\n",
    "data.rename(columns={'stars_x':'b/s_rating', 'stars_y':'rating'}, inplace=True)\n",
    "\n",
    "# previewing the data information\n",
    "data.info()"
   ]
  },
  {
   "cell_type": "markdown",
   "metadata": {},
   "source": [
    "#### **Preprocessing Data For Modeling**\n",
    "***"
   ]
  },
  {
   "cell_type": "code",
   "execution_count": 53,
   "metadata": {},
   "outputs": [
    {
     "name": "stdout",
     "output_type": "stream",
     "text": [
      "Number of users:  738495 \n",
      "\n",
      "Number of Restaurants:  24835\n"
     ]
    }
   ],
   "source": [
    "\n",
    "#selecting specific columns that are relevant for collaborative filtering models\n",
    "new_df = data[['user_id', 'business_id', 'rating']]\n",
    "\n",
    "# using Reader() from surprise module to convert dataframe into surprise dataformat\n",
    "# instantiating a reader object\n",
    "reader = Reader(rating_scale=(1, 5))\n",
    "\n",
    "# using the reader to read the trainset\n",
    "data_2 = Dataset.load_from_df(new_df,reader)\n",
    "\n",
    "# Creating a train set with all available data\n",
    "dataset = data_2.build_full_trainset()\n",
    "\n",
    "# Split the data into training and test sets\n",
    "trainset, testset = train_test_split(data_2, test_size=0.25)\n",
    "\n",
    "print('Number of users: ', dataset.n_users, '\\n')\n",
    "print('Number of Restaurants: ', dataset.n_items)"
   ]
  },
  {
   "cell_type": "code",
   "execution_count": 54,
   "metadata": {},
   "outputs": [],
   "source": [
    "# saving the data as a pickle\n",
    "\n",
    "with open('pickled_files/new_df.pkl','wb') as file:\n",
    "    pickle.dump(new_df, file)\n"
   ]
  },
  {
   "cell_type": "markdown",
   "metadata": {},
   "source": [
    "### **Baseline Model Using Normal Predictor**\n",
    "***"
   ]
  },
  {
   "cell_type": "code",
   "execution_count": 55,
   "metadata": {},
   "outputs": [
    {
     "name": "stdout",
     "output_type": "stream",
     "text": [
      "RMSE: 0.8201\n"
     ]
    },
    {
     "data": {
      "text/plain": [
       "0.8200931132756992"
      ]
     },
     "execution_count": 55,
     "metadata": {},
     "output_type": "execute_result"
    }
   ],
   "source": [
    "# Initialize the Normal Predictor algorithm\n",
    "model_1 = NormalPredictor()\n",
    "\n",
    "# Train the model on the training set\n",
    "model_1.fit(trainset)\n",
    "\n",
    "# Predict ratings for the test set\n",
    "predictions = model_1.test(testset)\n",
    "\n",
    "# Compute rmse\n",
    "accuracy.rmse(predictions)"
   ]
  },
  {
   "cell_type": "markdown",
   "metadata": {},
   "source": [
    "**Observations:**\n",
    "***\n",
    "- A normal predictor model from the surpise library was used as the initial dummy prediction model\n",
    "- The model was able to achieve an RMSE of 0.82"
   ]
  },
  {
   "cell_type": "markdown",
   "metadata": {},
   "source": [
    "### **NMF Model With Default Parameters**\n",
    "***"
   ]
  },
  {
   "cell_type": "code",
   "execution_count": 56,
   "metadata": {},
   "outputs": [
    {
     "name": "stdout",
     "output_type": "stream",
     "text": [
      "RMSE: 0.3479\n"
     ]
    },
    {
     "data": {
      "text/plain": [
       "0.3479329268051897"
      ]
     },
     "execution_count": 56,
     "metadata": {},
     "output_type": "execute_result"
    }
   ],
   "source": [
    "# Initialize the NMF algorithm\n",
    "model_2 = NMF(random_state=42)\n",
    "\n",
    "# Train the model on the training set\n",
    "model_2.fit(trainset)\n",
    "\n",
    "# Predict ratings for the test set\n",
    "predictions = model_2.test(testset)\n",
    "\n",
    "# Compute RMSE\n",
    "accuracy.rmse(predictions)"
   ]
  },
  {
   "cell_type": "markdown",
   "metadata": {},
   "source": [
    "**Observations:**\n",
    "***\n",
    "- A Non-Negative Matrix Factorization(NMF) model was used as it is ideal when ratings are non-negative (i.e., ratings from 1 to 5).\n",
    "- The model was able to achieve an RMSE of 0.3479 which was a great improvement on the Normal Predictor."
   ]
  },
  {
   "cell_type": "markdown",
   "metadata": {},
   "source": [
    "### **SVD Model With Default Parameters**\n",
    "***"
   ]
  },
  {
   "cell_type": "code",
   "execution_count": 57,
   "metadata": {},
   "outputs": [
    {
     "name": "stdout",
     "output_type": "stream",
     "text": [
      "RMSE: 0.1194\n"
     ]
    },
    {
     "data": {
      "text/plain": [
       "0.11941745799157445"
      ]
     },
     "execution_count": 57,
     "metadata": {},
     "output_type": "execute_result"
    }
   ],
   "source": [
    "# Initialize the SVD algorithm\n",
    "model_3 = SVD(random_state=42)\n",
    "\n",
    "# Train the model on the training set\n",
    "model_3.fit(trainset)\n",
    "\n",
    "# Predict ratings for the test set\n",
    "predictions = model_3.test(testset)\n",
    "\n",
    "# Compute RMSE\n",
    "accuracy.rmse(predictions)"
   ]
  },
  {
   "cell_type": "code",
   "execution_count": 58,
   "metadata": {},
   "outputs": [
    {
     "name": "stdout",
     "output_type": "stream",
     "text": [
      "('test_rmse', array([0.11388697, 0.11385811, 0.11401238, 0.11271292, 0.11303187]))\n",
      "('test_mae', array([0.05426671, 0.0543461 , 0.05436113, 0.05420301, 0.05429241]))\n",
      "('fit_time', (47.15068030357361, 53.74115061759949, 55.80449366569519, 52.29677605628967, 44.35997986793518))\n",
      "('test_time', (12.15089750289917, 10.390844583511353, 7.597814083099365, 6.631013870239258, 5.19765830039978))\n",
      "-------------------------\n",
      "Mean RMSE:  0.11350045092946788\n"
     ]
    }
   ],
   "source": [
    "# using cross-validate to get the test rmse scores for 5 splits\n",
    "results=cross_validate(model_3, data_2, cv=5, n_jobs=-1)\n",
    "\n",
    "\n",
    "for values in results.items():\n",
    "    print(values)\n",
    "print(\"-------------------------\")\n",
    "print(\"Mean RMSE: \",results['test_rmse'].mean())"
   ]
  },
  {
   "cell_type": "markdown",
   "metadata": {},
   "source": [
    "**Observations:**\n",
    "***\n",
    "- A Singe value Decomposition(SVD) model was used as it works well with explicit feedback (i.e. ratings)\n",
    "- The model was able to achieve an RMSE of 0.119 which further improved the RMSE\n",
    "- The model was then cross validated and ahcieved an RMSE mean of 0.113"
   ]
  },
  {
   "cell_type": "markdown",
   "metadata": {},
   "source": [
    "## "
   ]
  },
  {
   "cell_type": "markdown",
   "metadata": {},
   "source": [
    "### **Hyperparameter Tuning SVD model**\n",
    "***\n",
    "Hyperparameter tuning was carried out using grid search and cross-validation. It tests different values of the number of latent factors (n_factors),regularization term (reg_all) and the number of epochs (n_epochs) to find the combination that results in the best model performance. The final best hyperparameters can be accessed from the g_s_svd object for use in the model."
   ]
  },
  {
   "cell_type": "code",
   "execution_count": 59,
   "metadata": {},
   "outputs": [],
   "source": [
    "# define a dictionary params with hyperparameter values to be tested\n",
    "params = {'n_factors': [20, 50, 100], \n",
    "         'reg_all': [00.01, .02, 0.05],\n",
    "         'n_epochs':[20,30,40]} \n",
    "\n",
    "# create a GridSearchCV object 'g_s_svd' for hyperparameter tuning\n",
    "g_s_svd = GridSearchCV(SVD,param_grid=params,n_jobs=-1) \n",
    "\n",
    "# fit the GridSearchCV object to the data to find the best hyperparameters\n",
    "g_s_svd.fit(data_2)"
   ]
  },
  {
   "cell_type": "code",
   "execution_count": 60,
   "metadata": {},
   "outputs": [
    {
     "name": "stdout",
     "output_type": "stream",
     "text": [
      "{'rmse': 0.06590769803519636, 'mae': 0.02687237883365128}\n",
      "{'rmse': {'n_factors': 20, 'reg_all': 0.01, 'n_epochs': 40}, 'mae': {'n_factors': 20, 'reg_all': 0.01, 'n_epochs': 40}}\n"
     ]
    }
   ],
   "source": [
    "print(g_s_svd.best_score)\n",
    "print(g_s_svd.best_params)"
   ]
  },
  {
   "cell_type": "code",
   "execution_count": 74,
   "metadata": {},
   "outputs": [
    {
     "name": "stdout",
     "output_type": "stream",
     "text": [
      "RMSE: 0.0709\n"
     ]
    },
    {
     "data": {
      "text/plain": [
       "0.07088918487239984"
      ]
     },
     "execution_count": 74,
     "metadata": {},
     "output_type": "execute_result"
    }
   ],
   "source": [
    "# Fitting optimal parameters\n",
    "\n",
    "# Initialize the SVD algorithm\n",
    "model_4 = SVD(n_factors= 20, reg_all=0.01, n_epochs = 40,random_state=0)\n",
    "\n",
    "# Train the model on the training set\n",
    "model_4.fit(trainset)\n",
    "\n",
    "# Predict ratings for the test set\n",
    "predictions = model_4.test(testset)\n",
    "\n",
    "# Compute RMSE\n",
    "accuracy.rmse(predictions)"
   ]
  },
  {
   "cell_type": "code",
   "execution_count": 67,
   "metadata": {},
   "outputs": [
    {
     "name": "stdout",
     "output_type": "stream",
     "text": [
      "('test_rmse', array([0.06513394, 0.06643733, 0.06514964, 0.06658183, 0.06595623]))\n",
      "('test_mae', array([0.02672965, 0.02699132, 0.02680206, 0.02702771, 0.02696134]))\n",
      "('fit_time', (43.560943603515625, 50.73513913154602, 49.578089475631714, 42.3820915222168, 33.8181517124176))\n",
      "('test_time', (11.722263813018799, 7.895150661468506, 6.520659685134888, 5.259667158126831, 4.641919851303101))\n",
      "-------------------------\n",
      "Mean RMSE:  0.06585179559945789\n"
     ]
    }
   ],
   "source": [
    "# using cross-validate to get the test rmse scores for 5 splits\n",
    "results=cross_validate(model_4, data_2, cv=5, n_jobs=-1)\n",
    "\n",
    "\n",
    "for values in results.items():\n",
    "    print(values)\n",
    "print(\"-------------------------\")\n",
    "print(\"Mean RMSE: \",results['test_rmse'].mean())"
   ]
  },
  {
   "cell_type": "code",
   "execution_count": 62,
   "metadata": {},
   "outputs": [],
   "source": [
    "# Saving the model into a pickle\n",
    "with open('pickled_files/svd.pkl', 'wb') as file:\n",
    "    pickle.dump(model_4, file)"
   ]
  },
  {
   "cell_type": "markdown",
   "metadata": {},
   "source": [
    "**Observations:**\n",
    "***\n",
    "\n",
    "The RMSE value for the optimized SVD model is approximately 0.07, indicating the model's average prediction error in terms of user ratings. Lower RMSE values are desirable as they signify better predictive accuracy.                              \n",
    "                                           \n",
    "The best-performing hyperparameter values are as follows:                       \n",
    "For optimal RMSE, the optimal hyperparameters are 'n_factors' = 20,'reg_all' = 0.01 and 'n_epochs': 40.\n",
    "  \n",
    "These results indicate that the SVD collaborative filtering model, when configured with these hyperparameters, provides a relatively low prediction error and is well-suited for making personalized recommendations based on user ratings.\n",
    "\n",
    "This model was then saved in a pickle file for deployment"
   ]
  },
  {
   "cell_type": "markdown",
   "metadata": {},
   "source": [
    "**Collaborative filtering Intergration**\n",
    "***\n",
    "\n",
    "\n",
    "This below  allows a user to interactively rate restaurants by providing their ratings for a specified number of restaurants, and it collects this information in a list for further analysis or use in a recommendation system. The code also considers the restaurant category for selecting restaurants to rate if a category is provided."
   ]
  },
  {
   "cell_type": "code",
   "execution_count": 63,
   "metadata": {},
   "outputs": [],
   "source": [
    "def collect_ratings(df, state, num_samples=5, max_ratings=3):\n",
    "    \"\"\"\n",
    "    Function to collect ratings for a number of randomly sampled restaurants.\n",
    "    Allows users to skip restaurants they have never been to and limits the total number of final ratings to a specified maximum.\n",
    "    \"\"\"\n",
    "    ratings = []\n",
    "\n",
    "    while len(ratings) < max_ratings:\n",
    "        # Sampling the specified number of restaurants\n",
    "        filtered_df=df[df.state==state]\n",
    "\n",
    "        sampled_restaurants = filtered_df.sample(n=num_samples)\n",
    "        \n",
    "        for _, row in sampled_restaurants.iterrows():\n",
    "            restaurant_id = row['business_id']\n",
    "            restaurant_name = row['name']\n",
    "            restaurant_state=row[\"state\"]\n",
    "            restaurant_city =row[\"city\"]\n",
    "\n",
    "            while True:\n",
    "                # Ask if the user has been to the restaurant\n",
    "                been_to_restaurant = input(f\"Have you been to {restaurant_name}, {restaurant_state},{restaurant_city}? (y/n): \").strip().lower()\n",
    "                \n",
    "                if been_to_restaurant == 'n':\n",
    "                    print(f\"Skipping {restaurant_name}.\")\n",
    "                    break  \n",
    "                \n",
    "                elif been_to_restaurant == 'y':\n",
    "                    while True:\n",
    "                        try:\n",
    "                            # Prompt user for rating\n",
    "                            print(f\"Please rate {restaurant_name} on a scale of 1 to 5:\")\n",
    "                            rating = int(input())\n",
    "                            \n",
    "                            # Check if the rating is within the valid range\n",
    "                            if 1 <= rating <= 5:\n",
    "                                print(f\"Rating for {restaurant_name}: {rating}\")\n",
    "                                ratings.append((restaurant_id, rating))\n",
    "                                \n",
    "                                # Check if we have reached the maximum number of ratings\n",
    "                                if len(ratings) >= max_ratings:\n",
    "                                    print(\"Maximum number of ratings collected.\")\n",
    "                                    return ratings\n",
    "                                \n",
    "                                break  \n",
    "                            else:\n",
    "                                print(\"Rating must be between 1 and 5. Please try again.\")\n",
    "                        except ValueError:\n",
    "                            print(\"Invalid input. Please enter a number between 1 and 5.\")\n",
    "                    break  \n",
    "                \n",
    "                else:\n",
    "                    print(\"Please answer 'yes' or 'no'.\")\n",
    "                \n",
    "        # If not enough ratings are collected, continue sampling\n",
    "        print(f\"Collected {len(ratings)} ratings so far. Collecting more samples.\")\n",
    "\n",
    "    return ratings\n"
   ]
  },
  {
   "cell_type": "code",
   "execution_count": 64,
   "metadata": {},
   "outputs": [],
   "source": [
    "def recommend_restaurants(user_id, rated_restaurants, all_restaurants_df=df, state=None):\n",
    "\n",
    "    \"\"\"\n",
    "    Function to recommend restaurants based on state. the rated restaurnats are concatenated to the new_df dataframe, a model is created\n",
    "    the rated restaurants are filtered from the unrated restaurants and prediction is performed. the resulting dataframe is sorted by highest \n",
    "    predicted ratings \n",
    "    \"\"\"\n",
    "    # Filter by state if provided\n",
    "    all_restaurants_df = all_restaurants_df[all_restaurants_df[\"state\"] == state]\n",
    "\n",
    "    # Get all restaurant IDs\n",
    "    all_restaurant_ids = all_restaurants_df['business_id'].unique()\n",
    "\n",
    "    # Prepare the data for training the model\n",
    "    # Create DataFrame for the user's ratings\n",
    "    user_ratings_df = pd.DataFrame(rated_restaurants, columns=['business_id', 'rating'])\n",
    "    user_ratings_df['user_id'] = user_id  \n",
    "\n",
    "    # Combine user-specific ratings with the full dataset\n",
    "    combined_df = pd.concat([new_df, user_ratings_df])\n",
    "\n",
    "    # Filter combined_df to include only relevant restaurants\n",
    "    filtered_df = combined_df[combined_df['business_id'].isin(all_restaurant_ids)]\n",
    "\n",
    "    # Define the Reader and Dataset\n",
    "    reader = Reader(rating_scale=(1, 5))\n",
    "    data = Dataset.load_from_df(filtered_df[['user_id', 'business_id', 'rating']], reader)\n",
    "\n",
    "    # trainset, testset = train_test_split(data, test_size=0.2, random_state=42)\n",
    "    trainset = data.build_full_trainset()\n",
    "\n",
    "    # Retrain the model\n",
    "    model_4 = SVD(n_factors= 20, reg_all=0.01, n_epochs = 40, random_state=42)\n",
    "    model_4.fit(trainset)\n",
    "\n",
    "    # Filter out the restaurants that the user has already rated\n",
    "    rated_restaurant_ids = [rid for rid, _ in rated_restaurants]\n",
    "    unrated_restaurants = [rid for rid in all_restaurant_ids if rid not in rated_restaurant_ids]\n",
    "\n",
    "    # Predict ratings for all unrated restaurants\n",
    "    predictions = [model_4.predict(user_id, rid) for rid in unrated_restaurants]\n",
    "\n",
    "    # Create a DataFrame for the predictions\n",
    "    pred_df = pd.DataFrame({\n",
    "        'business_id': [pred.iid for pred in predictions],\n",
    "        'predicted_rating': [pred.est for pred in predictions]\n",
    "    })\n",
    "\n",
    "    # Merge with the original restaurants DataFrame to get more information\n",
    "    recommendations = pred_df.merge(all_restaurants_df, on='business_id', how='left')\n",
    "\n",
    "    # Sort by predicted rating and get top recommendations\n",
    "    recommendations = recommendations.sort_values(by='predicted_rating', ascending=False)\n",
    "\n",
    "    return recommendations"
   ]
  },
  {
   "cell_type": "code",
   "execution_count": 65,
   "metadata": {},
   "outputs": [
    {
     "name": "stdout",
     "output_type": "stream",
     "text": [
      "You will be asked to rate 5 random restaurants.\n",
      "Please rate Venuto's Old World Pizza on a scale of 1 to 5:\n",
      "Rating for Venuto's Old World Pizza: 5\n",
      "Please rate Eve's Lunch on a scale of 1 to 5:\n",
      "Rating for Eve's Lunch: 3\n",
      "Please rate Aksum Cafe on a scale of 1 to 5:\n",
      "Rating for Aksum Cafe: 4\n",
      "Maximum number of ratings collected.\n",
      "[('F1hbIYD1lNzbprtckd7bVg', 5), ('YZ0YVMdWUik8ukQp1CILtg', 3), ('XIKYdKWq72zUYsq8NBxcCQ', 4)]\n"
     ]
    }
   ],
   "source": [
    "# Collect ratings from the user\n",
    "print(\"You will be asked to rate 5 random restaurants.\")\n",
    "user_ratings = collect_ratings(df, state=\"Pennsylvania\")\n",
    "print(user_ratings)\n",
    "\n"
   ]
  },
  {
   "cell_type": "code",
   "execution_count": 66,
   "metadata": {},
   "outputs": [
    {
     "data": {
      "text/html": [
       "<div>\n",
       "<style scoped>\n",
       "    .dataframe tbody tr th:only-of-type {\n",
       "        vertical-align: middle;\n",
       "    }\n",
       "\n",
       "    .dataframe tbody tr th {\n",
       "        vertical-align: top;\n",
       "    }\n",
       "\n",
       "    .dataframe thead th {\n",
       "        text-align: right;\n",
       "    }\n",
       "</style>\n",
       "<table border=\"1\" class=\"dataframe\">\n",
       "  <thead>\n",
       "    <tr style=\"text-align: right;\">\n",
       "      <th></th>\n",
       "      <th>business_id</th>\n",
       "      <th>predicted_rating</th>\n",
       "      <th>name</th>\n",
       "      <th>address</th>\n",
       "      <th>city</th>\n",
       "      <th>state</th>\n",
       "      <th>postal_code</th>\n",
       "      <th>latitude</th>\n",
       "      <th>longitude</th>\n",
       "      <th>stars</th>\n",
       "      <th>review_count</th>\n",
       "      <th>is_open</th>\n",
       "      <th>attributes</th>\n",
       "      <th>categories</th>\n",
       "      <th>hours</th>\n",
       "      <th>location</th>\n",
       "      <th>attributes_true</th>\n",
       "    </tr>\n",
       "  </thead>\n",
       "  <tbody>\n",
       "    <tr>\n",
       "      <th>8597</th>\n",
       "      <td>trH0bWrq9kwLoLHbvlPKmw</td>\n",
       "      <td>5.0</td>\n",
       "      <td>Villekebabs and Platters</td>\n",
       "      <td>1722 Sansom St</td>\n",
       "      <td>Philadelphia</td>\n",
       "      <td>Pennsylvania</td>\n",
       "      <td>19103</td>\n",
       "      <td>39.950574</td>\n",
       "      <td>-75.169746</td>\n",
       "      <td>5.0</td>\n",
       "      <td>21</td>\n",
       "      <td>1</td>\n",
       "      <td>{'RestaurantsTableService': 'True', 'Restauran...</td>\n",
       "      <td>Afghan</td>\n",
       "      <td>{'Monday': '11:0-21:0', 'Tuesday': '11:0-21:0'...</td>\n",
       "      <td>State:Pennsylvania, City:Philadelphia, Address...</td>\n",
       "      <td>RestaurantsTableService RestaurantsDelivery Re...</td>\n",
       "    </tr>\n",
       "    <tr>\n",
       "      <th>1100</th>\n",
       "      <td>5css9Tl6TwMVe8GDLorJkQ</td>\n",
       "      <td>5.0</td>\n",
       "      <td>Maliwan</td>\n",
       "      <td>1700 S 6th St</td>\n",
       "      <td>Philadelphia</td>\n",
       "      <td>Pennsylvania</td>\n",
       "      <td>19148</td>\n",
       "      <td>39.927479</td>\n",
       "      <td>-75.155713</td>\n",
       "      <td>5.0</td>\n",
       "      <td>28</td>\n",
       "      <td>0</td>\n",
       "      <td>{'Ambience': \"{'touristy': False, 'hipster': F...</td>\n",
       "      <td>Laotian</td>\n",
       "      <td>Unknown</td>\n",
       "      <td>State:Pennsylvania, City:Philadelphia, Address...</td>\n",
       "      <td>BusinessAcceptsCreditCards HasTV RestaurantsDe...</td>\n",
       "    </tr>\n",
       "    <tr>\n",
       "      <th>1086</th>\n",
       "      <td>UnAvkWNib0F3lHtMwikt8Q</td>\n",
       "      <td>5.0</td>\n",
       "      <td>Poke It Up</td>\n",
       "      <td>160 N Gulph Rd</td>\n",
       "      <td>King of Prussia</td>\n",
       "      <td>Pennsylvania</td>\n",
       "      <td>19406</td>\n",
       "      <td>40.087884</td>\n",
       "      <td>-75.393308</td>\n",
       "      <td>5.0</td>\n",
       "      <td>49</td>\n",
       "      <td>1</td>\n",
       "      <td>{'WiFi': \"u'free'\", 'BusinessParking': \"{'gara...</td>\n",
       "      <td>Hawaiian</td>\n",
       "      <td>{'Monday': '10:0-21:0', 'Tuesday': '10:0-21:0'...</td>\n",
       "      <td>State:Pennsylvania, City:King of Prussia, Addr...</td>\n",
       "      <td>WiFi OutdoorSeating BikeParking Caters Wheelch...</td>\n",
       "    </tr>\n",
       "    <tr>\n",
       "      <th>6301</th>\n",
       "      <td>tUcZMaE2XPp6qJK5dbZlpg</td>\n",
       "      <td>5.0</td>\n",
       "      <td>El Molino Tortilleria and Restaurant</td>\n",
       "      <td>1739 W Ritner St</td>\n",
       "      <td>Philadelphia</td>\n",
       "      <td>Pennsylvania</td>\n",
       "      <td>19145</td>\n",
       "      <td>39.921592</td>\n",
       "      <td>-75.176768</td>\n",
       "      <td>5.0</td>\n",
       "      <td>20</td>\n",
       "      <td>1</td>\n",
       "      <td>{'RestaurantsTakeOut': 'True', 'BusinessAccept...</td>\n",
       "      <td>Mexican</td>\n",
       "      <td>{'Monday': '0:0-0:0', 'Tuesday': '13:0-21:0', ...</td>\n",
       "      <td>State:Pennsylvania, City:Philadelphia, Address...</td>\n",
       "      <td>RestaurantsTakeOut RestaurantsTableService Res...</td>\n",
       "    </tr>\n",
       "    <tr>\n",
       "      <th>1606</th>\n",
       "      <td>8OxOLZdINv7OtcZDDAsRCA</td>\n",
       "      <td>5.0</td>\n",
       "      <td>El Volcan cocina mexicana</td>\n",
       "      <td>2851 Ridge Pike</td>\n",
       "      <td>Eagleville</td>\n",
       "      <td>Pennsylvania</td>\n",
       "      <td>19403</td>\n",
       "      <td>40.150128</td>\n",
       "      <td>-75.397194</td>\n",
       "      <td>5.0</td>\n",
       "      <td>25</td>\n",
       "      <td>1</td>\n",
       "      <td>{'RestaurantsDelivery': 'True', 'BikeParking':...</td>\n",
       "      <td>Mexican</td>\n",
       "      <td>{'Monday': '0:0-0:0', 'Tuesday': '10:30-21:0',...</td>\n",
       "      <td>State:Pennsylvania, City:Eagleville, Address:2...</td>\n",
       "      <td>RestaurantsDelivery BikeParking BusinessAccept...</td>\n",
       "    </tr>\n",
       "  </tbody>\n",
       "</table>\n",
       "</div>"
      ],
      "text/plain": [
       "                 business_id  predicted_rating  \\\n",
       "8597  trH0bWrq9kwLoLHbvlPKmw               5.0   \n",
       "1100  5css9Tl6TwMVe8GDLorJkQ               5.0   \n",
       "1086  UnAvkWNib0F3lHtMwikt8Q               5.0   \n",
       "6301  tUcZMaE2XPp6qJK5dbZlpg               5.0   \n",
       "1606  8OxOLZdINv7OtcZDDAsRCA               5.0   \n",
       "\n",
       "                                      name           address             city  \\\n",
       "8597              Villekebabs and Platters    1722 Sansom St     Philadelphia   \n",
       "1100                               Maliwan     1700 S 6th St     Philadelphia   \n",
       "1086                            Poke It Up    160 N Gulph Rd  King of Prussia   \n",
       "6301  El Molino Tortilleria and Restaurant  1739 W Ritner St     Philadelphia   \n",
       "1606             El Volcan cocina mexicana   2851 Ridge Pike       Eagleville   \n",
       "\n",
       "             state postal_code   latitude  longitude  stars  review_count  \\\n",
       "8597  Pennsylvania       19103  39.950574 -75.169746    5.0            21   \n",
       "1100  Pennsylvania       19148  39.927479 -75.155713    5.0            28   \n",
       "1086  Pennsylvania       19406  40.087884 -75.393308    5.0            49   \n",
       "6301  Pennsylvania       19145  39.921592 -75.176768    5.0            20   \n",
       "1606  Pennsylvania       19403  40.150128 -75.397194    5.0            25   \n",
       "\n",
       "      is_open                                         attributes categories  \\\n",
       "8597        1  {'RestaurantsTableService': 'True', 'Restauran...     Afghan   \n",
       "1100        0  {'Ambience': \"{'touristy': False, 'hipster': F...    Laotian   \n",
       "1086        1  {'WiFi': \"u'free'\", 'BusinessParking': \"{'gara...   Hawaiian   \n",
       "6301        1  {'RestaurantsTakeOut': 'True', 'BusinessAccept...    Mexican   \n",
       "1606        1  {'RestaurantsDelivery': 'True', 'BikeParking':...    Mexican   \n",
       "\n",
       "                                                  hours  \\\n",
       "8597  {'Monday': '11:0-21:0', 'Tuesday': '11:0-21:0'...   \n",
       "1100                                            Unknown   \n",
       "1086  {'Monday': '10:0-21:0', 'Tuesday': '10:0-21:0'...   \n",
       "6301  {'Monday': '0:0-0:0', 'Tuesday': '13:0-21:0', ...   \n",
       "1606  {'Monday': '0:0-0:0', 'Tuesday': '10:30-21:0',...   \n",
       "\n",
       "                                               location  \\\n",
       "8597  State:Pennsylvania, City:Philadelphia, Address...   \n",
       "1100  State:Pennsylvania, City:Philadelphia, Address...   \n",
       "1086  State:Pennsylvania, City:King of Prussia, Addr...   \n",
       "6301  State:Pennsylvania, City:Philadelphia, Address...   \n",
       "1606  State:Pennsylvania, City:Eagleville, Address:2...   \n",
       "\n",
       "                                        attributes_true  \n",
       "8597  RestaurantsTableService RestaurantsDelivery Re...  \n",
       "1100  BusinessAcceptsCreditCards HasTV RestaurantsDe...  \n",
       "1086  WiFi OutdoorSeating BikeParking Caters Wheelch...  \n",
       "6301  RestaurantsTakeOut RestaurantsTableService Res...  \n",
       "1606  RestaurantsDelivery BikeParking BusinessAccept...  "
      ]
     },
     "execution_count": 66,
     "metadata": {},
     "output_type": "execute_result"
    }
   ],
   "source": [
    "# Entering user_id\n",
    "user_id = 'uu1651'\n",
    "\n",
    "# Recommendation based on state and ratings\n",
    "recommended_restaurants = recommend_restaurants(user_id=user_id, rated_restaurants=user_ratings, state= \"Pennsylvania\").drop_duplicates(subset='name')\n",
    "\n",
    "# Viewing the top 5 entries\n",
    "recommended_restaurants.head()\n"
   ]
  },
  {
   "cell_type": "markdown",
   "metadata": {},
   "source": [
    "**Observations:**\n",
    "***"
   ]
  },
  {
   "cell_type": "markdown",
   "metadata": {},
   "source": [
    "\n",
    "For the implementaion of collaborative filtering to be effective, it is highly dependent on the state from which you would choose to rate th restaurants. This is shown using the example above\n",
    "\n",
    "If you are from Pennsylvania state, Philadelphia city, you would receive rating requests for the state of Pennsylvania. It is possible to skip to only rate restaurants in Philadelphia city only.\n",
    "\n",
    "The user would have to rate at least 3 restaurants to be able to get recommendations\n",
    "\n",
    "These ratings would then be passed through an SVD model to predict all the unrated restaurants giving a predicted rating\n",
    "\n",
    "This predicted rating is then sorted in descending order and used to give a list of all recommendations"
   ]
  },
  {
   "cell_type": "markdown",
   "metadata": {},
   "source": [
    "***\n",
    "##### 3. NEURAL NETWORKS MODEL\n",
    "***"
   ]
  },
  {
   "cell_type": "markdown",
   "metadata": {},
   "source": [
    "We will run a Keras deep neural network to implement a recommendation system and try to improve our RMSE scores by using neural networks."
   ]
  },
  {
   "cell_type": "markdown",
   "metadata": {},
   "source": [
    "> We are going to encode the user_id and business_id features into numeric integers in preparation for the deep learning model."
   ]
  },
  {
   "cell_type": "code",
   "execution_count": 37,
   "metadata": {},
   "outputs": [
    {
     "name": "stdout",
     "output_type": "stream",
     "text": [
      "Number of Users:  220872\n",
      "Number of Restaurants:  31834\n"
     ]
    }
   ],
   "source": [
    "# Encoding the user_id column\n",
    "user_encoder = LabelEncoder()                                    # instantiating the encoder\n",
    "data['userId'] = user_encoder.fit_transform(data.user_id.values) # fitting and transforming the encoder to our column\n",
    "n_users=data['userId'].nunique()                                 # assigning the number of users to n_user vaiable\n",
    "print(\"Number of Users: \",n_users)\n",
    "\n",
    "# Encoding the business_id column\n",
    "item_encoder = LabelEncoder()                                          # instantiating the encoder\n",
    "data['restId'] = user_encoder.fit_transform(data.business_id.values)   # fitting and transforming the encoder to our column\n",
    "n_rests = data['restId'].nunique()                                  # assigning the number of restaurants to n_rests vaiable\n",
    "print(\"Number of Restaurants: \",n_rests)"
   ]
  },
  {
   "cell_type": "markdown",
   "metadata": {},
   "source": [
    "> Splitting the data into training and testing sets for model evaluation."
   ]
  },
  {
   "cell_type": "code",
   "execution_count": 38,
   "metadata": {},
   "outputs": [
    {
     "name": "stdout",
     "output_type": "stream",
     "text": [
      "(428157, 2) (428157,)\n",
      "(107040, 2) (107040,)\n"
     ]
    }
   ],
   "source": [
    "# subsetting the x variable\n",
    "X = data[['userId', 'restId']].values\n",
    "# subsetting the y variable\n",
    "y = data['rating'].values\n",
    "\n",
    "# creating the train test splits and stratifying on basis of the y values \n",
    "# because of the uneven nature of the rating counts\n",
    "X_train, X_test, y_train, y_test = train_test_split(X, y, test_size=0.2, random_state=42, stratify=y)\n",
    "\n",
    "print(X_train.shape, y_train.shape)\n",
    "print(X_test.shape, y_test.shape)"
   ]
  },
  {
   "cell_type": "markdown",
   "metadata": {},
   "source": [
    "> Calculate the minimum and maximum ratings, which will be used to scale the output of the neural network later."
   ]
  },
  {
   "cell_type": "code",
   "execution_count": 39,
   "metadata": {},
   "outputs": [],
   "source": [
    "# Find the minimum and maximum rating\n",
    "min_rating = min(data['rating'])\n",
    "max_rating = max(data['rating'])"
   ]
  },
  {
   "cell_type": "markdown",
   "metadata": {},
   "source": [
    "> The predicted ratings is calculated by multiplying the user and restaurant embeddings, then adding the user and restaurant bias. Therefore were are going to create user and restaurant embeddings together with bias."
   ]
  },
  {
   "cell_type": "code",
   "execution_count": 40,
   "metadata": {},
   "outputs": [],
   "source": [
    "# Number of latent factors\n",
    "embedding_size = 50"
   ]
  },
  {
   "cell_type": "markdown",
   "metadata": {},
   "source": [
    "> Defining user embedding"
   ]
  },
  {
   "cell_type": "code",
   "execution_count": 41,
   "metadata": {},
   "outputs": [],
   "source": [
    "# User embeddings\n",
    "\n",
    "# user input layer\n",
    "user = layers.Input(shape=(1,))\n",
    "\n",
    "# Embedding layer for calculating user latent factors of size 50\n",
    "user_emb = layers.Embedding(n_users, embedding_size, embeddings_regularizer=regularizers.l2(1e-6))(user)\n",
    "\n",
    "# Reshaping the layer to flatten the embedding vector.\n",
    "user_emb = layers.Reshape((embedding_size,))(user_emb)"
   ]
  },
  {
   "cell_type": "markdown",
   "metadata": {},
   "source": [
    "> Defining user bias, and reshape it."
   ]
  },
  {
   "cell_type": "code",
   "execution_count": 42,
   "metadata": {},
   "outputs": [],
   "source": [
    "# User bias\n",
    "\n",
    "# Embedding layer\n",
    "user_bias = layers.Embedding(n_users, 1, embeddings_regularizer=regularizers.l2(1e-6))(user)\n",
    "\n",
    "# Reshapin the user bias layer\n",
    "user_bias = layers.Reshape((1,))(user_bias)"
   ]
  },
  {
   "cell_type": "markdown",
   "metadata": {},
   "source": [
    "> Defining restaurants embeddings"
   ]
  },
  {
   "cell_type": "code",
   "execution_count": 43,
   "metadata": {},
   "outputs": [],
   "source": [
    "# restaurant embeddings\n",
    "\n",
    "# Input layer\n",
    "restaurant= layers.Input(shape=(1,))\n",
    "\n",
    "# Embedding layer\n",
    "rest_emb = layers.Embedding(n_rests, embedding_size, embeddings_regularizer=regularizers.l2(1e-6))(restaurant)\n",
    "\n",
    "# Reshape layer\n",
    "rest_emb = layers.Reshape((embedding_size,))(rest_emb)"
   ]
  },
  {
   "cell_type": "markdown",
   "metadata": {},
   "source": [
    "> Defining restaurant bias, and reshape it."
   ]
  },
  {
   "cell_type": "code",
   "execution_count": 44,
   "metadata": {},
   "outputs": [],
   "source": [
    "# Restaurant bias\n",
    "\n",
    "# Embedding layer\n",
    "rest_bias = layers.Embedding(n_rests, 1, embeddings_regularizer=regularizers.l2(1e-6))(restaurant)\n",
    "\n",
    "# Reshape layer\n",
    "rest_bias = layers.Reshape((1,))(rest_bias)"
   ]
  },
  {
   "cell_type": "markdown",
   "metadata": {},
   "source": [
    "> After defining the embedding and bias layers, the predicted rating is calculated by dot product of the user and restaurant embeddings and then adding the bias values in order to get more accurate ratings."
   ]
  },
  {
   "cell_type": "code",
   "execution_count": 45,
   "metadata": {},
   "outputs": [],
   "source": [
    "# Dot product of the user and restaurant embeddings\n",
    "rating = layers.Concatenate()([user_emb, rest_emb])\n",
    "\n",
    "# Add biases to the ratings\n",
    "# Adding the user and restaurant bias to the predicted rating\n",
    "rating = layers.Add()([rating, user_bias, rest_bias])"
   ]
  },
  {
   "cell_type": "markdown",
   "metadata": {},
   "source": [
    "> We move on to pass the calculated rating to layers of dense networks and finally converting the rating score from binary values into a range of 1-5. \n",
    "\n",
    "We create our baseline model."
   ]
  },
  {
   "cell_type": "code",
   "execution_count": 48,
   "metadata": {},
   "outputs": [
    {
     "name": "stdout",
     "output_type": "stream",
     "text": [
      "Epoch 1/10\n",
      "\u001b[1m1673/1673\u001b[0m \u001b[32m━━━━━━━━━━━━━━━━━━━━\u001b[0m\u001b[37m\u001b[0m \u001b[1m246s\u001b[0m 146ms/step - loss: 2.2653 - root_mean_squared_error: 1.5015 - val_loss: 2.2630 - val_root_mean_squared_error: 1.5007\n",
      "Epoch 2/10\n",
      "\u001b[1m1673/1673\u001b[0m \u001b[32m━━━━━━━━━━━━━━━━━━━━\u001b[0m\u001b[37m\u001b[0m \u001b[1m248s\u001b[0m 148ms/step - loss: 2.2557 - root_mean_squared_error: 1.4983 - val_loss: 2.2616 - val_root_mean_squared_error: 1.5003\n",
      "Epoch 3/10\n",
      "\u001b[1m1673/1673\u001b[0m \u001b[32m━━━━━━━━━━━━━━━━━━━━\u001b[0m\u001b[37m\u001b[0m \u001b[1m245s\u001b[0m 138ms/step - loss: 2.2602 - root_mean_squared_error: 1.4998 - val_loss: 2.2623 - val_root_mean_squared_error: 1.5005\n",
      "Epoch 4/10\n",
      "\u001b[1m1673/1673\u001b[0m \u001b[32m━━━━━━━━━━━━━━━━━━━━\u001b[0m\u001b[37m\u001b[0m \u001b[1m341s\u001b[0m 185ms/step - loss: 2.2639 - root_mean_squared_error: 1.5011 - val_loss: 2.2614 - val_root_mean_squared_error: 1.5002\n",
      "Epoch 5/10\n",
      "\u001b[1m1673/1673\u001b[0m \u001b[32m━━━━━━━━━━━━━━━━━━━━\u001b[0m\u001b[37m\u001b[0m \u001b[1m275s\u001b[0m 157ms/step - loss: 2.2591 - root_mean_squared_error: 1.4994 - val_loss: 2.2607 - val_root_mean_squared_error: 1.5000\n",
      "Epoch 6/10\n",
      "\u001b[1m1673/1673\u001b[0m \u001b[32m━━━━━━━━━━━━━━━━━━━━\u001b[0m\u001b[37m\u001b[0m \u001b[1m306s\u001b[0m 147ms/step - loss: 2.2514 - root_mean_squared_error: 1.4969 - val_loss: 2.2590 - val_root_mean_squared_error: 1.4994\n",
      "Epoch 7/10\n",
      "\u001b[1m1673/1673\u001b[0m \u001b[32m━━━━━━━━━━━━━━━━━━━━\u001b[0m\u001b[37m\u001b[0m \u001b[1m250s\u001b[0m 140ms/step - loss: 2.2587 - root_mean_squared_error: 1.4993 - val_loss: 2.2549 - val_root_mean_squared_error: 1.4980\n",
      "Epoch 8/10\n",
      "\u001b[1m1673/1673\u001b[0m \u001b[32m━━━━━━━━━━━━━━━━━━━━\u001b[0m\u001b[37m\u001b[0m \u001b[1m275s\u001b[0m 148ms/step - loss: 2.2457 - root_mean_squared_error: 1.4950 - val_loss: 2.2322 - val_root_mean_squared_error: 1.4905\n",
      "Epoch 9/10\n",
      "\u001b[1m1673/1673\u001b[0m \u001b[32m━━━━━━━━━━━━━━━━━━━━\u001b[0m\u001b[37m\u001b[0m \u001b[1m315s\u001b[0m 180ms/step - loss: 2.1951 - root_mean_squared_error: 1.4780 - val_loss: 2.1834 - val_root_mean_squared_error: 1.4740\n",
      "Epoch 10/10\n",
      "\u001b[1m1673/1673\u001b[0m \u001b[32m━━━━━━━━━━━━━━━━━━━━\u001b[0m\u001b[37m\u001b[0m \u001b[1m334s\u001b[0m 187ms/step - loss: 2.0870 - root_mean_squared_error: 1.4409 - val_loss: 2.1166 - val_root_mean_squared_error: 1.4512\n"
     ]
    },
    {
     "data": {
      "text/plain": [
       "<keras.src.callbacks.history.History at 0x7f21fe2e3950>"
      ]
     },
     "execution_count": 48,
     "metadata": {},
     "output_type": "execute_result"
    }
   ],
   "source": [
    "\n",
    "# first dense layer of 30 nodes with relu activation\n",
    "rating = layers.Dense(30, activation='relu')(rating)\n",
    "\n",
    "# second dense layer of 15 nodes\n",
    "rating = layers.Dense(15, activation='relu')(rating)\n",
    "\n",
    "# output layer with one node that produces values between 0 and 1 due to the sigmoid activation\n",
    "rating = layers.Dense(1, activation='sigmoid')(rating)\n",
    "# rating= layers.Dense(5, activation='softmax')(rating)\n",
    "\n",
    "# Scales the predicted ratings to a range of 1 - 5\n",
    "rating = layers.Lambda(lambda x:x*(max_rating - min_rating) + min_rating)(rating)\n",
    "\n",
    "\n",
    "# Baseline Model \n",
    "baseline_model = models.Model([user, restaurant], rating)\n",
    "\n",
    "# Compile the model\n",
    "baseline_model.compile( optimizer='sgd', loss='mse',  metrics=[metrics.RootMeanSquaredError()])\n",
    "\n",
    "# training the model\n",
    "baseline_model .fit(x=[X_train[:,0], X_train[:,1]], y=y_train,\n",
    "                    batch_size=256, \n",
    "                    epochs=10, \n",
    "                    verbose=1,\n",
    "                    validation_data=([X_test[:,0], X_test[:,1]], y_test))"
   ]
  },
  {
   "cell_type": "markdown",
   "metadata": {},
   "source": [
    "> Our baseline model, does not overfit since the training RMSE score and the validation scores are not far off. We then proceed to tune the model in order to get better rmse scores, by reducing the model complexity."
   ]
  },
  {
   "cell_type": "code",
   "execution_count": 50,
   "metadata": {},
   "outputs": [
    {
     "name": "stdout",
     "output_type": "stream",
     "text": [
      "Epoch 1/20\n",
      "\u001b[1m1673/1673\u001b[0m \u001b[32m━━━━━━━━━━━━━━━━━━━━\u001b[0m\u001b[37m\u001b[0m \u001b[1m313s\u001b[0m 184ms/step - loss: 2.1169 - root_mean_squared_error: 1.4413 - val_loss: 2.0627 - val_root_mean_squared_error: 1.4232\n",
      "Epoch 2/20\n",
      "\u001b[1m1673/1673\u001b[0m \u001b[32m━━━━━━━━━━━━━━━━━━━━\u001b[0m\u001b[37m\u001b[0m \u001b[1m256s\u001b[0m 153ms/step - loss: 1.8676 - root_mean_squared_error: 1.3530 - val_loss: 2.0022 - val_root_mean_squared_error: 1.4022\n",
      "Epoch 3/20\n",
      "\u001b[1m1673/1673\u001b[0m \u001b[32m━━━━━━━━━━━━━━━━━━━━\u001b[0m\u001b[37m\u001b[0m \u001b[1m321s\u001b[0m 188ms/step - loss: 1.7143 - root_mean_squared_error: 1.2955 - val_loss: 1.9576 - val_root_mean_squared_error: 1.3865\n",
      "Epoch 4/20\n",
      "\u001b[1m1673/1673\u001b[0m \u001b[32m━━━━━━━━━━━━━━━━━━━━\u001b[0m\u001b[37m\u001b[0m \u001b[1m308s\u001b[0m 180ms/step - loss: 1.5578 - root_mean_squared_error: 1.2340 - val_loss: 1.9376 - val_root_mean_squared_error: 1.3795\n",
      "Epoch 5/20\n",
      "\u001b[1m1673/1673\u001b[0m \u001b[32m━━━━━━━━━━━━━━━━━━━━\u001b[0m\u001b[37m\u001b[0m \u001b[1m224s\u001b[0m 134ms/step - loss: 1.4274 - root_mean_squared_error: 1.1802 - val_loss: 1.9344 - val_root_mean_squared_error: 1.3785\n",
      "Epoch 6/20\n",
      "\u001b[1m1673/1673\u001b[0m \u001b[32m━━━━━━━━━━━━━━━━━━━━\u001b[0m\u001b[37m\u001b[0m \u001b[1m237s\u001b[0m 119ms/step - loss: 1.3002 - root_mean_squared_error: 1.1252 - val_loss: 1.9345 - val_root_mean_squared_error: 1.3787\n",
      "Epoch 7/20\n",
      "\u001b[1m1673/1673\u001b[0m \u001b[32m━━━━━━━━━━━━━━━━━━━━\u001b[0m\u001b[37m\u001b[0m \u001b[1m243s\u001b[0m 145ms/step - loss: 1.2128 - root_mean_squared_error: 1.0859 - val_loss: 1.9420 - val_root_mean_squared_error: 1.3817\n",
      "Epoch 8/20\n",
      "\u001b[1m1673/1673\u001b[0m \u001b[32m━━━━━━━━━━━━━━━━━━━━\u001b[0m\u001b[37m\u001b[0m \u001b[1m264s\u001b[0m 146ms/step - loss: 1.1415 - root_mean_squared_error: 1.0529 - val_loss: 1.9400 - val_root_mean_squared_error: 1.3812\n",
      "Epoch 9/20\n",
      "\u001b[1m1673/1673\u001b[0m \u001b[32m━━━━━━━━━━━━━━━━━━━━\u001b[0m\u001b[37m\u001b[0m \u001b[1m285s\u001b[0m 160ms/step - loss: 1.0845 - root_mean_squared_error: 1.0258 - val_loss: 1.9468 - val_root_mean_squared_error: 1.3839\n",
      "Epoch 10/20\n",
      "\u001b[1m1673/1673\u001b[0m \u001b[32m━━━━━━━━━━━━━━━━━━━━\u001b[0m\u001b[37m\u001b[0m \u001b[1m253s\u001b[0m 151ms/step - loss: 1.0464 - root_mean_squared_error: 1.0074 - val_loss: 1.9494 - val_root_mean_squared_error: 1.3851\n",
      "Epoch 11/20\n",
      "\u001b[1m1673/1673\u001b[0m \u001b[32m━━━━━━━━━━━━━━━━━━━━\u001b[0m\u001b[37m\u001b[0m \u001b[1m262s\u001b[0m 157ms/step - loss: 1.0143 - root_mean_squared_error: 0.9917 - val_loss: 1.9519 - val_root_mean_squared_error: 1.3863\n",
      "Epoch 12/20\n",
      "\u001b[1m1673/1673\u001b[0m \u001b[32m━━━━━━━━━━━━━━━━━━━━\u001b[0m\u001b[37m\u001b[0m \u001b[1m272s\u001b[0m 163ms/step - loss: 0.9740 - root_mean_squared_error: 0.9716 - val_loss: 1.9518 - val_root_mean_squared_error: 1.3865\n",
      "Epoch 13/20\n",
      "\u001b[1m1673/1673\u001b[0m \u001b[32m━━━━━━━━━━━━━━━━━━━━\u001b[0m\u001b[37m\u001b[0m \u001b[1m263s\u001b[0m 157ms/step - loss: 0.9467 - root_mean_squared_error: 0.9578 - val_loss: 1.9566 - val_root_mean_squared_error: 1.3885\n",
      "Epoch 14/20\n",
      "\u001b[1m1673/1673\u001b[0m \u001b[32m━━━━━━━━━━━━━━━━━━━━\u001b[0m\u001b[37m\u001b[0m \u001b[1m247s\u001b[0m 147ms/step - loss: 0.9188 - root_mean_squared_error: 0.9436 - val_loss: 1.9643 - val_root_mean_squared_error: 1.3915\n",
      "Epoch 15/20\n",
      "\u001b[1m1673/1673\u001b[0m \u001b[32m━━━━━━━━━━━━━━━━━━━━\u001b[0m\u001b[37m\u001b[0m \u001b[1m246s\u001b[0m 138ms/step - loss: 0.8866 - root_mean_squared_error: 0.9267 - val_loss: 1.9547 - val_root_mean_squared_error: 1.3883\n",
      "Epoch 16/20\n",
      "\u001b[1m1673/1673\u001b[0m \u001b[32m━━━━━━━━━━━━━━━━━━━━\u001b[0m\u001b[37m\u001b[0m \u001b[1m264s\u001b[0m 139ms/step - loss: 0.8685 - root_mean_squared_error: 0.9172 - val_loss: 1.9573 - val_root_mean_squared_error: 1.3895\n",
      "Epoch 17/20\n",
      "\u001b[1m1673/1673\u001b[0m \u001b[32m━━━━━━━━━━━━━━━━━━━━\u001b[0m\u001b[37m\u001b[0m \u001b[1m250s\u001b[0m 150ms/step - loss: 0.8411 - root_mean_squared_error: 0.9025 - val_loss: 1.9578 - val_root_mean_squared_error: 1.3899\n",
      "Epoch 18/20\n",
      "\u001b[1m1673/1673\u001b[0m \u001b[32m━━━━━━━━━━━━━━━━━━━━\u001b[0m\u001b[37m\u001b[0m \u001b[1m250s\u001b[0m 149ms/step - loss: 0.8167 - root_mean_squared_error: 0.8893 - val_loss: 1.9564 - val_root_mean_squared_error: 1.3896\n",
      "Epoch 19/20\n",
      "\u001b[1m1673/1673\u001b[0m \u001b[32m━━━━━━━━━━━━━━━━━━━━\u001b[0m\u001b[37m\u001b[0m \u001b[1m261s\u001b[0m 149ms/step - loss: 0.8051 - root_mean_squared_error: 0.8830 - val_loss: 1.9670 - val_root_mean_squared_error: 1.3936\n",
      "Epoch 20/20\n",
      "\u001b[1m1673/1673\u001b[0m \u001b[32m━━━━━━━━━━━━━━━━━━━━\u001b[0m\u001b[37m\u001b[0m \u001b[1m264s\u001b[0m 150ms/step - loss: 0.7822 - root_mean_squared_error: 0.8703 - val_loss: 1.9675 - val_root_mean_squared_error: 1.3940\n"
     ]
    },
    {
     "data": {
      "text/plain": [
       "<keras.src.callbacks.history.History at 0x7f21f98c1b50>"
      ]
     },
     "execution_count": 50,
     "metadata": {},
     "output_type": "execute_result"
    }
   ],
   "source": [
    "\n",
    "rating = layers.Concatenate()([user_emb, rest_emb])\n",
    "rating = layers.Add()([rating, user_bias, rest_bias])\n",
    "\n",
    "# redusing the first dense layer into 15 neurons and adding a l2 regularization\n",
    "rating = layers.Dense(15, activation='relu',kernel_regularizer=regularizers.l2(1e-3))(rating)\n",
    "# creating a dropout layer\n",
    "rating = layers.Dropout(0.3)(rating)\n",
    "# output layer\n",
    "rating = layers.Dense(1, activation='sigmoid')(rating)\n",
    "#convertion of output rating\n",
    "rating = layers.Lambda(lambda x:x*(max_rating - min_rating) + min_rating)(rating)\n",
    "\n",
    "model_1 = models.Model([user, restaurant], rating)\n",
    "\n",
    "# Compile the model\n",
    "model_1.compile( optimizer='sgd', loss='mse',  metrics=[metrics.RootMeanSquaredError()])\n",
    "\n",
    "# Train the model\n",
    "model_1.fit(x=[X_train[:,0], X_train[:,1]], y=y_train,\n",
    "            batch_size=256,\n",
    "            epochs=20, \n",
    "            verbose=1,\n",
    "            validation_data=([X_test[:,0], X_test[:,1]], y_test))"
   ]
  },
  {
   "cell_type": "markdown",
   "metadata": {},
   "source": [
    "> The second model has performed worse than the first with a higher rmse score and the model is overfitting the training data i.e it has a good train score but poor validation score.\n",
    "\n",
    "we will try and simplify the model further. "
   ]
  },
  {
   "cell_type": "code",
   "execution_count": 51,
   "metadata": {},
   "outputs": [
    {
     "name": "stdout",
     "output_type": "stream",
     "text": [
      "Epoch 1/20\n",
      "\u001b[1m1673/1673\u001b[0m \u001b[32m━━━━━━━━━━━━━━━━━━━━\u001b[0m\u001b[37m\u001b[0m \u001b[1m237s\u001b[0m 141ms/step - loss: 1.6052 - root_mean_squared_error: 1.2586 - val_loss: 1.9195 - val_root_mean_squared_error: 1.3816\n",
      "Epoch 2/20\n",
      "\u001b[1m1673/1673\u001b[0m \u001b[32m━━━━━━━━━━━━━━━━━━━━\u001b[0m\u001b[37m\u001b[0m \u001b[1m250s\u001b[0m 133ms/step - loss: 1.1682 - root_mean_squared_error: 1.0758 - val_loss: 1.9942 - val_root_mean_squared_error: 1.4083\n",
      "Epoch 3/20\n",
      "\u001b[1m1673/1673\u001b[0m \u001b[32m━━━━━━━━━━━━━━━━━━━━\u001b[0m\u001b[37m\u001b[0m \u001b[1m263s\u001b[0m 134ms/step - loss: 1.1277 - root_mean_squared_error: 1.0568 - val_loss: 2.0187 - val_root_mean_squared_error: 1.4170\n",
      "Epoch 4/20\n",
      "\u001b[1m1673/1673\u001b[0m \u001b[32m━━━━━━━━━━━━━━━━━━━━\u001b[0m\u001b[37m\u001b[0m \u001b[1m261s\u001b[0m 133ms/step - loss: 1.0749 - root_mean_squared_error: 1.0315 - val_loss: 2.0266 - val_root_mean_squared_error: 1.4198\n",
      "Epoch 5/20\n",
      "\u001b[1m1673/1673\u001b[0m \u001b[32m━━━━━━━━━━━━━━━━━━━━\u001b[0m\u001b[37m\u001b[0m \u001b[1m262s\u001b[0m 133ms/step - loss: 1.0261 - root_mean_squared_error: 1.0076 - val_loss: 2.0196 - val_root_mean_squared_error: 1.4173\n",
      "Epoch 6/20\n",
      "\u001b[1m1673/1673\u001b[0m \u001b[32m━━━━━━━━━━━━━━━━━━━━\u001b[0m\u001b[37m\u001b[0m \u001b[1m258s\u001b[0m 131ms/step - loss: 0.9996 - root_mean_squared_error: 0.9943 - val_loss: 2.0127 - val_root_mean_squared_error: 1.4149\n",
      "Epoch 7/20\n",
      "\u001b[1m1673/1673\u001b[0m \u001b[32m━━━━━━━━━━━━━━━━━━━━\u001b[0m\u001b[37m\u001b[0m \u001b[1m261s\u001b[0m 131ms/step - loss: 0.9819 - root_mean_squared_error: 0.9854 - val_loss: 2.0153 - val_root_mean_squared_error: 1.4158\n",
      "Epoch 8/20\n",
      "\u001b[1m1673/1673\u001b[0m \u001b[32m━━━━━━━━━━━━━━━━━━━━\u001b[0m\u001b[37m\u001b[0m \u001b[1m263s\u001b[0m 132ms/step - loss: 0.9672 - root_mean_squared_error: 0.9779 - val_loss: 2.0235 - val_root_mean_squared_error: 1.4187\n",
      "Epoch 9/20\n",
      "\u001b[1m1673/1673\u001b[0m \u001b[32m━━━━━━━━━━━━━━━━━━━━\u001b[0m\u001b[37m\u001b[0m \u001b[1m218s\u001b[0m 130ms/step - loss: 0.9527 - root_mean_squared_error: 0.9705 - val_loss: 2.0196 - val_root_mean_squared_error: 1.4173\n",
      "Epoch 10/20\n",
      "\u001b[1m1673/1673\u001b[0m \u001b[32m━━━━━━━━━━━━━━━━━━━━\u001b[0m\u001b[37m\u001b[0m \u001b[1m263s\u001b[0m 131ms/step - loss: 0.9368 - root_mean_squared_error: 0.9622 - val_loss: 2.0274 - val_root_mean_squared_error: 1.4200\n",
      "Epoch 11/20\n",
      "\u001b[1m1673/1673\u001b[0m \u001b[32m━━━━━━━━━━━━━━━━━━━━\u001b[0m\u001b[37m\u001b[0m \u001b[1m265s\u001b[0m 132ms/step - loss: 0.9351 - root_mean_squared_error: 0.9614 - val_loss: 2.0260 - val_root_mean_squared_error: 1.4196\n",
      "Epoch 12/20\n",
      "\u001b[1m1673/1673\u001b[0m \u001b[32m━━━━━━━━━━━━━━━━━━━━\u001b[0m\u001b[37m\u001b[0m \u001b[1m260s\u001b[0m 131ms/step - loss: 0.9181 - root_mean_squared_error: 0.9525 - val_loss: 2.0289 - val_root_mean_squared_error: 1.4206\n",
      "Epoch 13/20\n",
      "\u001b[1m1673/1673\u001b[0m \u001b[32m━━━━━━━━━━━━━━━━━━━━\u001b[0m\u001b[37m\u001b[0m \u001b[1m221s\u001b[0m 132ms/step - loss: 0.9169 - root_mean_squared_error: 0.9519 - val_loss: 2.0294 - val_root_mean_squared_error: 1.4208\n",
      "Epoch 14/20\n",
      "\u001b[1m1673/1673\u001b[0m \u001b[32m━━━━━━━━━━━━━━━━━━━━\u001b[0m\u001b[37m\u001b[0m \u001b[1m262s\u001b[0m 132ms/step - loss: 0.9117 - root_mean_squared_error: 0.9491 - val_loss: 2.0364 - val_root_mean_squared_error: 1.4232\n",
      "Epoch 15/20\n",
      "\u001b[1m1673/1673\u001b[0m \u001b[32m━━━━━━━━━━━━━━━━━━━━\u001b[0m\u001b[37m\u001b[0m \u001b[1m270s\u001b[0m 137ms/step - loss: 0.9107 - root_mean_squared_error: 0.9486 - val_loss: 2.0373 - val_root_mean_squared_error: 1.4235\n",
      "Epoch 16/20\n",
      "\u001b[1m1673/1673\u001b[0m \u001b[32m━━━━━━━━━━━━━━━━━━━━\u001b[0m\u001b[37m\u001b[0m \u001b[1m251s\u001b[0m 130ms/step - loss: 0.8983 - root_mean_squared_error: 0.9420 - val_loss: 2.0377 - val_root_mean_squared_error: 1.4237\n",
      "Epoch 17/20\n",
      "\u001b[1m1673/1673\u001b[0m \u001b[32m━━━━━━━━━━━━━━━━━━━━\u001b[0m\u001b[37m\u001b[0m \u001b[1m219s\u001b[0m 131ms/step - loss: 0.8937 - root_mean_squared_error: 0.9396 - val_loss: 2.0325 - val_root_mean_squared_error: 1.4218\n",
      "Epoch 18/20\n",
      "\u001b[1m1673/1673\u001b[0m \u001b[32m━━━━━━━━━━━━━━━━━━━━\u001b[0m\u001b[37m\u001b[0m \u001b[1m220s\u001b[0m 131ms/step - loss: 0.8919 - root_mean_squared_error: 0.9386 - val_loss: 2.0342 - val_root_mean_squared_error: 1.4224\n",
      "Epoch 19/20\n",
      "\u001b[1m1673/1673\u001b[0m \u001b[32m━━━━━━━━━━━━━━━━━━━━\u001b[0m\u001b[37m\u001b[0m \u001b[1m222s\u001b[0m 133ms/step - loss: 0.8839 - root_mean_squared_error: 0.9343 - val_loss: 2.0392 - val_root_mean_squared_error: 1.4242\n",
      "Epoch 20/20\n",
      "\u001b[1m1673/1673\u001b[0m \u001b[32m━━━━━━━━━━━━━━━━━━━━\u001b[0m\u001b[37m\u001b[0m \u001b[1m221s\u001b[0m 132ms/step - loss: 0.8778 - root_mean_squared_error: 0.9310 - val_loss: 2.0367 - val_root_mean_squared_error: 1.4233\n"
     ]
    },
    {
     "data": {
      "text/plain": [
       "<keras.src.callbacks.history.History at 0x7f22018e22d0>"
      ]
     },
     "execution_count": 51,
     "metadata": {},
     "output_type": "execute_result"
    }
   ],
   "source": [
    "\n",
    "rating = layers.Concatenate()([user_emb, rest_emb])\n",
    "# Adds the user and restaurant embedding to the dot product of the embeddings\n",
    "rating = layers.Add()([rating, user_bias, rest_bias])\n",
    "\n",
    "# reducing the first layer further to 10 node\n",
    "rating = layers.Dense(10, activation='relu')(rating)\n",
    "# increasing the dropout rate to 0.2\n",
    "rating = layers.Dropout(0.6)(rating)\n",
    "# output layer\n",
    "rating = layers.Dense(1, activation='sigmoid')(rating)\n",
    "# conertion of output rating\n",
    "rating = layers.Lambda(lambda x:x*(max_rating - min_rating) + min_rating)(rating)\n",
    "\n",
    "model_2 = models.Model([user, restaurant], rating)\n",
    "\n",
    "# Compile the model\n",
    "model_2.compile( optimizer= 'sgd',\n",
    "                loss='mse', \n",
    "                metrics= [metrics.RootMeanSquaredError()])\n",
    "\n",
    "# Train the model\n",
    "model_2.fit(x=[X_train[:,0], X_train[:,1]], y=y_train,\n",
    "            batch_size=256, \n",
    "            epochs=20, \n",
    "            verbose=1,\n",
    "            validation_data=([X_test[:,0], X_test[:,1]], y_test))"
   ]
  },
  {
   "cell_type": "markdown",
   "metadata": {},
   "source": [
    "> The third model has further overfitted the training data as it has high validation score and low training score.\n",
    "Therefore our best neural model is baseline model which has a validation score of 1.3179."
   ]
  },
  {
   "cell_type": "code",
   "execution_count": 52,
   "metadata": {},
   "outputs": [
    {
     "name": "stdout",
     "output_type": "stream",
     "text": [
      "Training data: \n",
      "\u001b[1m13380/13380\u001b[0m \u001b[32m━━━━━━━━━━━━━━━━━━━━\u001b[0m\u001b[37m\u001b[0m \u001b[1m359s\u001b[0m 27ms/step - loss: 1.1958 - root_mean_squared_error: 1.0885\n",
      "[1.1989389657974243, 1.089964509010315]\n",
      "Testing data: \n",
      "\u001b[1m3345/3345\u001b[0m \u001b[32m━━━━━━━━━━━━━━━━━━━━\u001b[0m\u001b[37m\u001b[0m \u001b[1m90s\u001b[0m 27ms/step - loss: 1.7751 - root_mean_squared_error: 1.3282\n",
      "[1.779281497001648, 1.3298012018203735]\n"
     ]
    }
   ],
   "source": [
    "# evaluating the best model on the training data\n",
    "print(\"Training data: \")\n",
    "print(baseline_model.evaluate([X_train[:,0], X_train[:,1]], y_train))\n",
    "\n",
    "# evaluating the best model on the test data\n",
    "print(\"Testing data: \")\n",
    "print(baseline_model.evaluate([X_test[:,0], X_test[:,1]], y_test))"
   ]
  },
  {
   "cell_type": "markdown",
   "metadata": {},
   "source": [
    "**Observations:**\n",
    "***\n",
    "\n",
    "> The baseline model has a training RMSE of 1.1635 and a test RMSE of 1.302 hence being our better neural networks model with the lowest test scores.\n",
    "\n",
    "> In all the models SVD has emerged to be the best RMSE score of 0.068"
   ]
  },
  {
   "cell_type": "markdown",
   "metadata": {},
   "source": [
    "## EVALUATION\n",
    "\n",
    "\n",
    "## FINDINGS AND EVALUATION BASED ON EDA\n",
    "\n",
    "\n",
    "1) Most common ratings are 4.0 and 3.5 stars, indicating general satisfaction.Ratings below 2.5 stars are uncommon, showing few very poor experiences.\n",
    "\n",
    "2) Pennsylvania (PA), Florida (FL) and Tennessee (TN) boast the highest numbers of restaurants among the states, highlighting them as major markets for the restaurant industry.\n",
    "\n",
    "3) 66.9% Open Restaurants: A significant majority of the restaurants in our dataset are currently operational. This proportion suggests a robust industry where the majority of listed entities are active, presenting numerous options for recommendations.\n",
    "\n",
    "4) 33.1% Closed Restaurants: A substantial portion of the restaurants are no longer in operation. This data is crucial for ensuring accuracy in our recommendation system by filtering out closed establishments, thereby improving user experience and system reliability.\n",
    "\n",
    "5) McDonald's, Subway, and Taco Bell lead in frequency, indicating a high presence of these chains within the dataset. This suggests a dominance of fast-food chains in the restaurant landscape.\n",
    "\n",
    "6) The highest review counts appear at 4.0 and 5.0 star ratings, suggesting high customer engagement with top-rated restaurants and the opposite is true.\n",
    "\n",
    "7) Seasonal Trends: Frequent peaks between April and July, indicating increased customer engagement during this period.\n",
    "\n",
    "8) Decline in Engagement: Noticeable drops in reviews occur after July, particularly in September and December."
   ]
  },
  {
   "cell_type": "markdown",
   "metadata": {},
   "source": [
    "## MODEL FINDINGS AND EVALUATION\n",
    "\n",
    "\n",
    "### Overview\n",
    "\n",
    "This section provides a detailed comparative analysis of the models based on their performance metrics. The primary goal is to develop and deploy a robust restaurant recommender system to help customers find the best dining experience.\n",
    "\n",
    "\n",
    "In this project, we will concentrate on three specific types of recommendation models:\n",
    "\n",
    "- Content-Based Recommender Systems\n",
    "\n",
    "\n",
    "- Collaborative Filtering Systems\n",
    "\n",
    "\n",
    "- Deep Neural Networks\n",
    "\n",
    "\n",
    "Within each category, we will evaluate and compare different models to determine which performs the best. For validation and comparison, we will use the RMSE (root mean squared error) metric to measure how closely the predictions align with the actual values.\n"
   ]
  },
  {
   "cell_type": "markdown",
   "metadata": {},
   "source": [
    "### COLLABORATIVE  BASED MODELS\n",
    "\n",
    "#### 1) BASELINE MODEL  - NORMAL PREDICTOR\n",
    "\n",
    "We initialized a NormalPredictor model, trained it on a training dataset, and then used it to predict ratings for a test dataset. Finally, it computed the root mean square error (RMSE) to evaluate the prediction accuracy.\n",
    "\n",
    "RMSE value of 0.8192 shows a poor model perfomance,so we try model number 2\n",
    "\n",
    "\n",
    "#### MODEL 2 - NMF(Non-Negative Matrix Factorization) MODEL\n",
    "\n",
    "The NMF model had an RMSE of 0.3489 which shows improved model perfomance.\n",
    "\n",
    "\n",
    "#### MODEL 3 - SVD (Single Value Decomposition)\n",
    "\n",
    "**Vanilla model**\n",
    "\n",
    "The findings for the vanilla SVD include:\n",
    "\n",
    "\n",
    "- **Average Model Accuracy**: The mean RMSE of 0.1171 suggests that, on average, the model's predictions are approximately 0.1171 units away from the true values. While this provides a baseline for model accuracy, further tuning or alternative models might be explored to reduce this error.\n",
    "\n",
    "\n",
    "To adress these shortcomings,we carry out  hyperparameter tuning for the SVD model using GridSearchCV. It defines a parameter grid with different values for latent factors and regularization terms. GridSearchCV is then used to evaluate these parameters across the dataset to find the best combination. The model is fitted with the dataset to determine the optimal hyperparameters that yield the best performance.\n",
    "\n"
   ]
  },
  {
   "cell_type": "markdown",
   "metadata": {},
   "source": [
    "**Tuned SVD model 1**\n",
    "\n",
    "The observations for the tuned model include:\n",
    "\n",
    "- *Minimal Improvement*: The best RMSE after hyperparameter tuning (0.11368471505593795) is very close to the initial mean RMSE of 0.1171, indicating that the tuning provided only a slight improvement. This suggests that the model's performance might be close to its maximum potential for this specific dataset and approach.\n",
    "\n",
    "**Tuned SVD model 2**\n",
    "\n",
    "The observations include:\n",
    "\n",
    "- *Improvement in RMSE*: There is a significant improvement of RMSE from 0.11368471505593795 to 0.0683\n",
    "\n",
    "\n",
    "- *Higher Complexity*: The optimal number of factors (n_factors = 100) is on the higher end of the tested range, which could imply that the model benefits from increased complexity, capturing more intricate patterns in the data.\n",
    "\n",
    "\n",
    "- *Low Regularization*: The best regularization term (reg_all = 0.02) is relatively low, indicating that the model performs better with less penalty on the size of the coefficients. This may suggest that the model is less prone to overfitting on this dataset.\n",
    "\n",
    "In conclusion,The RMSE value for the optimized SVD model which is the best performing model so far, is approximately 0.0683, indicating the model's average prediction error in terms of user ratings. Lower RMSE values are desirable as they signify better predictive accuracy.                              \n",
    "\n"
   ]
  },
  {
   "cell_type": "markdown",
   "metadata": {},
   "source": [
    "#### 2) Deep Neural Networks (DNN)\n",
    "\n",
    "We will employ a Keras deep neural network to develop a recommendation system, aiming to enhance our RMSE scores through the use of neural network techniques.\n",
    "\n",
    "**Vanilla model**\n",
    "\n",
    "The Keras code defines a deep neural network for a recommendation system with a three-layer architecture: the first dense layer has 30 nodes with ReLU activation, the second dense layer has 15 nodes with ReLU activation, and the output layer has one node with a sigmoid activation to produce ratings between 0 and 1. A Lambda layer scales these predictions to a range of 1 to 5. The model is compiled using SGD optimizer, MSE loss function, and RMSE as a metric. It is trained on X_train and y_train, with validation on X_test and y_test, for 10 epochs with a batch size of 256.\n",
    "\n",
    "Here’s a summary of the model training results over 10 epochs:\n",
    "\n",
    "- Epoch 1: Initial RMSE is 1.5015 with a validation RMSE of 1.5007. The training loss is 2.2653.\n",
    "\n",
    "- Epoch 2-4: RMSE improves slightly to 1.4983 in epoch 2, and remains stable around 1.4998 to 1.5011 in subsequent epochs. The validation RMSE also stabilizes around 1.5002 to 1.5005.\n",
    "\n",
    "- Epoch 5-7: Further improvement is observed with RMSE decreasing to 1.4994 by epoch 5 and to 1.4993 by epoch 7. The validation RMSE decreases to 1.4980.\n",
    "\n",
    "- Epoch 8-10: Significant improvement is seen with RMSE dropping to 1.4950 by epoch 8, and further decreasing to 1.4780 by epoch 9. By epoch 10, RMSE reaches 1.4409, with the validation RMSE at 1.4512.\n",
    "\n",
    "In conclusion, the model shows a gradual improvement in RMSE and validation RMSE throughout the epochs, with the most significant gains occurring in the later epochs.\n",
    "\n",
    "\n",
    "**Tuned model 1**\n",
    "\n",
    "The model first concatenates user and restaurant embeddings, then adds bias terms before passing the result through a dense layer with 15 neurons and L2 regularization to help prevent overfitting. A dropout layer with a rate of 0.3 is applied to further mitigate overfitting. The output layer uses a sigmoid activation to generate ratings between 0 and 1, which are then scaled to the range between min_rating and max_rating. The model is compiled with the SGD optimizer and MSE loss, evaluating performance using RMSE. It is trained for 20 epochs with a batch size of 256, and validation is conducted on X_test and y_test.\n",
    "\n",
    "Here’s a summary of the training results for the deep neural network model over 20 epochs:\n",
    "\n",
    "- Epoch 1: The initial training RMSE is 1.4413, and validation RMSE is 1.4232, indicating the model is starting to learn.\n",
    "\n",
    "- Epoch 5: Training RMSE improves to 1.1802, while validation RMSE is 1.3785, showing progress in reducing error.\n",
    "\n",
    "- Epoch 10: The model's RMSE is 1.0074 for training and 1.3851 for validation, indicating a reduction in training error but some fluctuation in validation performance.\n",
    "\n",
    "- Epoch 15: Training RMSE reaches 0.9267, and validation RMSE is 1.3883, suggesting the model is learning well but validation error shows some instability.\n",
    "\n",
    "- Epoch 20: Final training RMSE is 0.8703, with a validation RMSE of 1.3940, reflecting a good fit on training data but slight overfitting or instability on validation data.\n",
    "\n",
    "\n",
    "**Tuned model 2**\n",
    "\n",
    "The model concatenates user and restaurant embeddings and adds bias terms before passing the result through a dense layer with 10 neurons and ReLU activation. A dropout layer with a 0.6 rate is used to prevent overfitting. The output layer, with a sigmoid activation, produces ratings between 0 and 1, which are then scaled to the desired rating range. The model is compiled using the SGD optimizer and MSE loss, and it is trained for 20 epochs with a batch size of 256, validated on X_test and y_test.\n",
    "\n",
    "Here’s a summary of the training results for the new model:\n",
    "\n",
    "- Initial Performance: At the beginning of training, the model had a root mean squared error (RMSE) of 1.2586 on the training set and 1.3816 on the validation set.\n",
    "\n",
    "- Improvement Trend: RMSE steadily improved over epochs, reaching 0.9310 on the training set by epoch 20, but the validation RMSE remained relatively high at 1.4233.\n",
    "\n",
    "- Validation Performance: The validation loss and RMSE showed less improvement compared to the training set, indicating potential overfitting or issues with generalization.\n",
    "\n",
    "- Dropout Effect: Despite increasing the dropout rate to 0.6, which typically helps with regularization, the model did not significantly outperform earlier versions, suggesting the need for additional tuning or adjustments.\n",
    "\n",
    "- Epoch Duration: Each epoch took around 220 to 270 seconds to complete, with a slight increase in training time towards the end, likely due to the model complexity and size of the dataset.\n",
    "\n",
    "In conclusion,the third model has further overfitted the training data as it has high validation score and low training score.\n",
    "Therefore our best neural model is baseline model which has a validation score of 1.3179.This is however still poor compared to the optimized SVD.\n",
    "\n"
   ]
  },
  {
   "cell_type": "markdown",
   "metadata": {},
   "source": [
    "### Comparing the SVD and the best peforming DNN\n",
    "\n",
    "1. Error Metrics\n",
    "\n",
    "The Singular Value Decomposition (SVD) model achieves a significantly lower RMSE of 0.0683, indicating superior accuracy in predicting ratings. In contrast, the Deep Neural Network (DNN) model has a much higher RMSE of 1.4409, suggesting that its predictions deviate more from the actual ratings. This substantial difference highlights SVD’s better performance in minimizing prediction error.\n",
    "\n",
    "\n",
    "\n",
    "2. Model Complexity\n",
    "\n",
    "SVD is relatively simple and requires fewer computational resources, as it involves basic matrix decomposition with fewer parameters and epochs. On the other hand, DNN is complex, requiring extensive training with multiple layers and hyperparameters, which increases computational cost and complexity. This makes SVD a more efficient choice in terms of model complexity and resource usage.\n",
    "\n",
    "\n",
    "\n",
    "3. Training and Validation Time\n",
    "\n",
    "Training the DNN model is time-consuming, with each epoch taking between 246 to 334 seconds, and requiring 10 epochs for completion. In contrast, SVD typically involves fewer epochs and is computationally less intensive, leading to faster training times. This efficiency in SVD makes it more practical for scenarios where quick model iteration is needed.\n",
    "\n",
    "\n",
    "\n",
    "4. Overfitting and Generalization\n",
    "\n",
    "The DNN model shows a higher RMSE on validation data compared to training data, which may indicate overfitting and reduced generalization. Conversely, the SVD model exhibits low and consistent RMSE values across both training and validation sets, suggesting better generalization and a lower risk of overfitting. This makes SVD a more reliable model for unseen data.\n",
    "\n",
    "\n",
    "\n",
    "5. Interpretability and Usability\n",
    "SVD is more interpretable, as it breaks down the user-item matrix into latent factors, making it easier to understand how recommendations are generated. The DNN model, with its complex architecture, functions more like a \"black box,\" making it harder to decipher the underlying decision-making process. This interpretability advantage of SVD provides clearer insights into the recommendation mechanics.\n",
    "\n",
    "\n",
    "\n",
    "**Conclusion**\n",
    "\n",
    "Despite improvements, the DNN’s final RMSE is higher than the SVD model's, suggesting that the SVD model performs better with this dataset and may require less tuning.\n",
    "\n",
    "We will deploy the optimized SVD."
   ]
  },
  {
   "cell_type": "markdown",
   "metadata": {},
   "source": [
    "## RECOMMENDATIONS\n",
    "\n",
    "1) *Finding: Most common ratings are 4.0 and 3.5 stars, indicating general satisfaction.*\n",
    "\n",
    "The recommendations based on this finding are:\n",
    "\n",
    "- **Filter Out Lower Ratings**\n",
    "\n",
    "Although very poor ratings are rare, consider implementing a filter or threshold that minimizes the visibility of restaurants with ratings below a certain level (e.g., 3.0 stars). This will help ensure users are less likely to encounter options with significant negative feedback.\n",
    "\n",
    "- **Include User Preferences**\n",
    "\n",
    "Allow users to set preferences for certain rating ranges, so they can prioritize restaurants that align with their expectations. For example, a user might prefer options that are rated above 3.5 stars.\n",
    "\n",
    "- **Feature High-Rated Restaurants Prominently**\n",
    " \n",
    "Highlight in Recommendations: Ensure that top-rated restaurants are prominently featured in recommendations, especially for users seeking highly-rated options.\n",
    "\n",
    "\n",
    "2) *Finding: Pennsylvania (PA), Florida (FL) and Tennessee (TN) boast the highest numbers of restaurants among the states*\n",
    "\n",
    "The recommendations based on this finding are:\n",
    "\n",
    "\n",
    "- **Prioritize Major Markets for Data**\n",
    "\n",
    "Focus on PA, FL, and TN: Since these states have the highest number of restaurants, ensure that your dataset is comprehensive and up-to-date for these regions. Consider implementing advanced filtering options and more detailed reviews for users in these states, as there’s likely to be higher demand and a wider variety of choices.\n",
    "\n",
    "\n",
    "- **Tailor Recommendations to Market Size**\n",
    "\n",
    "Adjust the depth of recommendations based on the density of restaurants in the region. For major markets (like PA, FL, TN), provide more granular and diverse recommendations. For regions with fewer options (like NC, CO, HI, MT), focus on quality over quantity and highlight the best available choices.\n",
    "\n",
    "\n",
    "- **Offer Diverse Data Insights**\n",
    "\n",
    "Highlight Popular and Hidden Gems: In high-density areas, showcase a mix of popular spots and lesser-known but highly rated restaurants. In less populated states, emphasize unique and standout options to ensure users still have great dining experiences despite fewer choices.\n",
    "\n",
    "3) *Finding: 66.9% are Open Restaurants and 33.1% are Closed Restaurants:*\n",
    "\n",
    "The recommendations based on this finding are:\n",
    "\n",
    "\n",
    "- **Prioritize Accuracy by Filtering Closed Restaurants**\n",
    "\n",
    "Implement Robust Filters: Ensure that your system rigorously filters out closed restaurants. Regularly update your dataset to reflect the current operational status of restaurants, maintaining accuracy in your recommendations.\n",
    "\n",
    "\n",
    "- **Automated Alerts**\n",
    "\n",
    "Set up automated systems to flag and remove listings of closed restaurants as soon as possible.\n",
    "\n",
    "4) *Finding: McDonald's, Subway,  Taco Bell,Wendy's, Domino's Pizza, and Pizza Hut lead in frequency. This suggests a dominance of fast-food chains in the restaurant landscape.*\n",
    "\n",
    "The recommendations based on this finding are:\n",
    "\n",
    "- **Leverage Popularity for Recommendations**\n",
    "\n",
    "Feature Popular Chains Prominently: Highlight McDonald's, Subway, Taco Bell, Wendy's, Domino's Pizza, and Pizza Hut in your recommendations. Users often seek familiar and reliable options, so showcasing these popular chains can enhance user satisfaction.\n",
    "\n",
    "\n",
    "- **Market and User Segmentation**\n",
    "\n",
    "Targeted Recommendations: Use segmentation to tailor recommendations based on user demographics or previous behavior. For example, users who frequently choose fast-food chains might see more recommendations for similar options.\n",
    "\n",
    "\n",
    "5) *Finding: Seasonal Trends: Frequent peaks between April and July, indicating increased customer engagement during this period.*\n",
    "\n",
    "The recommendations based on this finding are:\n",
    "\n",
    "- **Incorporate Seasonality into Recommendations** \n",
    "\n",
    "Highlight Seasonal Popularity: During peak periods (April to July), increase the visibility of restaurants that typically see higher engagement. You might feature seasonal promotions or highlight trending restaurants during these months.\n",
    "\n",
    "6)  *Finding: Not all popular cuisines are included in the list of options*\n",
    "\n",
    "The recommendations based on this finding are:\n",
    "\n",
    "- **Cuisine diversification**\n",
    "\n",
    "Feature variations of cuisines from different regions (e.g., Southern Italian vs. Northern Italian) to give users a more nuanced dining experience.\n",
    "\n",
    "- **Dietary Preferences**\n",
    "\n",
    "Include filters for dietary preferences and restrictions (e.g., vegetarian, vegan, gluten-free) to provide more personalized recommendations.\n",
    "\n",
    "- **Cuisine Exploration**\n",
    "\n",
    "Offer recommendations based on cuisine trends and new dining experiences. For example, feature emerging cuisines or new restaurant concepts that might interest adventurous diners.\n"
   ]
  },
  {
   "cell_type": "markdown",
   "metadata": {},
   "source": [
    "## FUTURE WORKS\n",
    "\n",
    "1) **Expansion of Dataset**\n",
    "\n",
    "- *Include More Cuisines*\n",
    "\n",
    "Expand the range of cuisines and restaurant types in your dataset to cover emerging culinary trends and global dining options.\n",
    "\n",
    "\n",
    "- *Crowdsourced Data*\n",
    "\n",
    "Integrate user-generated content and crowdsourced data to enrich your dataset with real-time insights and feedback.\n",
    "\n",
    "\n",
    "\n",
    "2) **Enhanced User Interface and Experience**\n",
    "\n",
    "- *Augmented Reality (AR)*\n",
    "\n",
    "Use AR to allow users to visualize restaurant interiors or dishes before visiting, enhancing their decision-making process.\n",
    "\n",
    "\n",
    "- *Voice Interaction*\n",
    "\n",
    "Develop voice-activated features for hands-free searching and interaction with the recommender system.\n",
    "\n",
    "\n",
    "\n",
    "3) Integration with Other Services\n",
    "\n",
    "*Reservation Systems*: Integrate with reservation platforms to allow users to book tables directly through your system.\n",
    "\n",
    "\n",
    "\n",
    "4) **Feedback and Continuous Improvement**\n",
    "\n",
    "- *User Feedback Loops*\n",
    "\n",
    "Create mechanisms for continuous user feedback to refine recommendations and improve system performance.\n",
    "\n",
    "\n",
    "- *A/B Testing*\n",
    "\n",
    "Regularly conduct A/B testing to evaluate the effectiveness of new features or recommendation algorithms and make data-driven improvements.\n",
    "\n",
    "5) **Expanding Geographical Coverage for Data Collection**\n",
    "\n",
    "By expanding geographical coverage for data collection, you can enhance the inclusivity and relevance of your recommender system, providing users with comprehensive dining options and improving the overall user experience.\n",
    "\n",
    "\n"
   ]
  },
  {
   "cell_type": "markdown",
   "metadata": {},
   "source": [
    "## REFERENCES\n",
    "\n",
    "1) [YELP](https://www.yelp.com/dataset/download)\n",
    "\n",
    "2) [Streamlit](https://docs.streamlit.io/)"
   ]
  }
 ],
 "metadata": {
  "kernelspec": {
   "display_name": "Python (learn-env)",
   "language": "python",
   "name": "learn-env"
  },
  "language_info": {
   "codemirror_mode": {
    "name": "ipython",
    "version": 3
   },
   "file_extension": ".py",
   "mimetype": "text/x-python",
   "name": "python",
   "nbconvert_exporter": "python",
   "pygments_lexer": "ipython3",
   "version": "3.8.5"
  }
 },
 "nbformat": 4,
 "nbformat_minor": 2
}
